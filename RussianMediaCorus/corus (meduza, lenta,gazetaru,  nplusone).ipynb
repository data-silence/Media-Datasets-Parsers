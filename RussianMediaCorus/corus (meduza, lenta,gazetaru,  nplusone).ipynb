{
 "cells": [
  {
   "cell_type": "code",
   "execution_count": 89,
   "id": "6e95dbee",
   "metadata": {},
   "outputs": [],
   "source": [
    "# Медузa: 2014.10.09 - 2019.08.06 (71 806)\n",
    "# Lenta:     1999.08.30 -  2018.12.15 (800 975)\n",
    "# Gazeta:   2008.11.21 -  (865 847)"
   ]
  },
  {
   "cell_type": "markdown",
   "id": "f3b20e96",
   "metadata": {},
   "source": [
    "### Медуза"
   ]
  },
  {
   "cell_type": "code",
   "execution_count": 1,
   "id": "29c377f3",
   "metadata": {},
   "outputs": [
    {
     "name": "stdout",
     "output_type": "stream",
     "text": [
      "Collecting psycopg2\r\n",
      "  Using cached psycopg2-2.9.5-cp310-cp310-linux_x86_64.whl\r\n",
      "Collecting fasttext\r\n",
      "  Using cached fasttext-0.9.2-cp310-cp310-linux_x86_64.whl\r\n",
      "Collecting pandas\r\n",
      "  Using cached pandas-1.5.2-cp310-cp310-manylinux_2_17_x86_64.manylinux2014_x86_64.whl (12.1 MB)\r\n",
      "Collecting sqlalchemy\r\n",
      "  Using cached SQLAlchemy-1.4.45-cp310-cp310-manylinux_2_5_x86_64.manylinux1_x86_64.manylinux_2_17_x86_64.manylinux2014_x86_64.whl (1.6 MB)\r\n",
      "Collecting corus\r\n",
      "  Using cached corus-0.9.0-py3-none-any.whl (83 kB)\r\n",
      "Collecting pybind11>=2.2\r\n",
      "  Using cached pybind11-2.10.1-py3-none-any.whl (216 kB)\r\n",
      "Requirement already satisfied: setuptools>=0.7.0 in ./venv/lib/python3.10/site-packages (from fasttext) (60.2.0)\r\n",
      "Collecting numpy\r\n",
      "  Using cached numpy-1.23.5-cp310-cp310-manylinux_2_17_x86_64.manylinux2014_x86_64.whl (17.1 MB)\r\n",
      "Requirement already satisfied: python-dateutil>=2.8.1 in ./venv/lib/python3.10/site-packages (from pandas) (2.8.2)\r\n",
      "Collecting pytz>=2020.1\r\n",
      "  Using cached pytz-2022.6-py2.py3-none-any.whl (498 kB)\r\n",
      "Collecting greenlet!=0.4.17\r\n",
      "  Using cached greenlet-2.0.1-cp310-cp310-manylinux_2_17_x86_64.manylinux2014_x86_64.whl (539 kB)\r\n",
      "Requirement already satisfied: six>=1.5 in ./venv/lib/python3.10/site-packages (from python-dateutil>=2.8.1->pandas) (1.16.0)\r\n",
      "Installing collected packages: pytz, pybind11, numpy, greenlet, sqlalchemy, psycopg2, pandas, fasttext, corus\r\n",
      "Successfully installed corus-0.9.0 fasttext-0.9.2 greenlet-2.0.1 numpy-1.23.5 pandas-1.5.2 psycopg2-2.9.5 pybind11-2.10.1 pytz-2022.6 sqlalchemy-1.4.45\r\n",
      "\u001B[33mWARNING: You are using pip version 21.3.1; however, version 22.3.1 is available.\r\n",
      "You should consider upgrading via the '/home/maxlethal/Yandex.Disk/IT/Projects/archiveSMI/venv/bin/python -m pip install --upgrade pip' command.\u001B[0m\r\n",
      "Note: you may need to restart the kernel to use updated packages.\n"
     ]
    }
   ],
   "source": [
    "pip install psycopg2 fasttext pandas sqlalchemy corus"
   ]
  },
  {
   "cell_type": "code",
   "execution_count": 1,
   "id": "2e86da09",
   "metadata": {},
   "outputs": [],
   "source": [
    "import fasttext\n",
    "import pandas as pd\n",
    "from sqlalchemy import create_engine\n",
    "import psycopg2"
   ]
  },
  {
   "cell_type": "code",
   "execution_count": 2,
   "outputs": [],
   "source": [
    "arh_engine = create_engine(f'postgresql+psycopg2://{db_user}:{db_pass}@{db_host}/{db_name}')"
   ],
   "metadata": {
    "collapsed": false
   },
   "id": "a3fbe958c9314ff4"
  },
  {
   "cell_type": "code",
   "execution_count": 3,
   "id": "b5dfadb5",
   "metadata": {},
   "outputs": [],
   "source": []
  },
  {
   "cell_type": "code",
   "execution_count": 3,
   "id": "270145bf",
   "metadata": {},
   "outputs": [
    {
     "name": "stderr",
     "output_type": "stream",
     "text": [
      "Warning : `load_model` does not return WordVectorModel or SupervisedModel any more, but a `FastText` object which is very similar.\n"
     ]
    }
   ],
   "source": [
    "model_fasttext = fasttext.load_model(\"models//ru_cat_v5.ftz\")"
   ]
  },
  {
   "cell_type": "code",
   "execution_count": 12,
   "id": "b971b580",
   "metadata": {},
   "outputs": [],
   "source": [
    "from corus import load_ods_meduza\n",
    "\n",
    "path = 'datasets/meduza.csv.gz'\n",
    "records = load_ods_meduza(path)"
   ]
  },
  {
   "cell_type": "code",
   "execution_count": 11,
   "id": "e0a6c690",
   "metadata": {},
   "outputs": [],
   "source": [
    "current_news = next(records)"
   ]
  },
  {
   "cell_type": "code",
   "execution_count": 8,
   "id": "5a4d4a8e",
   "metadata": {},
   "outputs": [
    {
     "data": {
      "text/plain": "NewsRecord(\n    timestamp=datetime.datetime(2019, 8, 6, 14, 15),\n    url='https://meduza.io/feature/2019/08/06/matros-razgovarival-v-kazarme-po-videosvyazi',\n    edition=None,\n    topics=None,\n    authors=None,\n    title='Матрос разговаривал в\\xa0казарме по\\xa0видеосвязи',\n    text='С\\xa0марта 2019 года российским военным запрещено пользоваться смартфонами и\\xa0публиковать в\\xa0интернете фотографии со\\xa0службы. Соответствующие поправки к\\xa0закону «О\\xa0статусе военнослужащих» правительство подготовило в\\xa0сентябре 2018 года, а\\xa0Госдума и\\xa0Совет Федерации одобрили их\\xa0в\\xa0феврале 2019-го. В\\xa0марте закон подписал президент России Владимир Путин, и\\xa017\\xa0марта онnвступилnв\\xa0силу. Российских военных сразу\\xa0же начали наказывать за\\xa0найденные у\\xa0них смартфоны и\\xa0фото в\\xa0социальных сетях: обычно им\\xa0дают от\\xa0пяти до\\xa015 суток ареста, выяснила «Медуза», изучив решения военных судов.nВ\\xa0пояснительной записке к\\xa0поправкам правительствоnсвязывалоnих\\xa0необходимость с\\xa0военной операцией в\\xa0Сирии: еще до\\xa0того, как Россия в\\xa0сентябре 2015 года официально объявила о\\xa0ее\\xa0начале, расследователи заявлялиnо\\xa0присутствии в\\xa0странеnроссийских военных\\xa0— в\\xa0том числе на\\xa0основании их\\xa0фотографий из\\xa0соцсетей. Ранее участникиnConflict Intelligence Teamnи\\xa0другие независимыеnрасследователиnпубликовали материалы о\\xa0том, что Россия воюет на\\xa0востоке Украины.nНовый закон не\\xa0только запретил военным и\\xa0призывникам рассказывать в\\xa0интернете о\\xa0своей службе, но\\xa0и\\xa0вообще иметь при себе смартфоны, планшеты и\\xa0другие гаджеты с\\xa0доступом в\\xa0интернет и/или возможностью съемки фото и\\xa0видео. Этот\\xa0же закон отнес найденные у\\xa0военных на\\xa0службе гаджеты к\\xa0грубым дисциплинарным проступкам, за\\xa0которыеnполагаетсяnдо\\xa030 суток ареста. Отправить под арест может только военный суд.nПри этом на\\xa0мобильные телефоны без камер и\\xa0интернета закон не\\xa0распространяется,nговорилnв\\xa0феврале первый заместитель председателя комитета Госдумы по\\xa0обороне Андрей Красов. В\\xa0быту военным разрешено пользоваться смартфонами.nВ\\xa0середине июля 2019 годаnсразу несколькоnизданийnобратили внимание, что принятием закона дело не\\xa0ограничилось\\xa0— аналогичные поправки Минобороны решило внести в\\xa0дисциплинарный устав Вооруженных\\xa0сил. Документ с\\xa0проектом соответствующего приказа президента РФ\\xa0былnопубликованnна\\xa0портале проектов нормативных актов. По\\xa0состоянию на\\xa06\\xa0августа документ все еще не\\xa0одобрен. Будущее принятие поправок в\\xa0уставnмногие сочлиnфактическим началом практики по\\xa0«приравниванию смартфонов к\\xa0дедовщине» в\\xa0российской армии.nНа\\xa0самом деле массово отправлять российских военнослужащих под арест за\\xa0смартфоны или за\\xa0публикации в\\xa0соцсетях начали почти одновременно с\\xa0принятием закона, свидетельствуют судебные решения, опубликованные на\\xa0портале ГАС «Правосудие». Военные суды уже приняли десятки решений по\\xa0таким делам.nНапример, 1\\xa0апреля, меньше чем через две недели после вступления закона в\\xa0силу, военнослужащий Андрей Тарханов, находясь на\\xa0боевом дежурстве «в\\xa0качестве механика-водителя», опубликовал фотографии «в\\xa0информационно- телекоммуникационную сеть „Интернет“, социальную сеть Instagram»,nговоритсяnв\\xa0решении\\xa0Саратовского гарнизонного военного суда от\\xa019\\xa0апреля. Тарханов получил 15 суток ареста на\\xa0гауптвахте.nУ\\xa0рядового Андрея Трубачева 20\\xa0апреля был обнаружен и\\xa0изъят «абонентский терминал с\\xa0расширенными мультимедийными возможностями\\xa0— iPhone 8, который он\\xa0использовал с\\xa0января 2019\\xa0г. в\\xa0личных нуждах после отбоя»,nсказаноnв\\xa0решении Челябинского военного суда от\\xa017\\xa0мая. Трубачев получил пять суток ареста. Матрос Магомед-Хусейн Демельханов 10\\xa0апреля разговаривал в\\xa0казарме «по\\xa0видеосвязи, используя смартфон». Севастопольский военный суд 24\\xa0апреляnсчелn, что Демельханову будет достаточно одних суток ареста.nИногда командиры пытаются отправить солдат под арест за\\xa0смартфоны, найденные еще до\\xa0вступления закона в\\xa0силу. Например, у\\xa0военнослужащего Сергея Черного телефон нашли в\\xa0январе 2019 года. Он\\xa0«делал на\\xa0нем фотографии и\\xa0записывал видео по\\xa0месту прохождения военной службы». Уссурийский военный судnотказалсяnарестовывать Черного задним числом\\xa0— при этом сам военнослужащий признал себя виновным.nНо\\xa0так бывает не\\xa0всегда. Например, военнослужащий Егор Круглов, находясь на\\xa0боевом дежурстве в\\xa0декабре 2018 года и\\xa0апреле 2019 года, взял сотовый телефон у\\xa0сослуживца, после чего «сделал несколько своих снимков и\\xa0отправил их\\xa0своей девушке при помощи социальной сети», говорится в\\xa0решении Саратовского военного суда от\\xa030\\xa0мая (название соцсети в\\xa0решении не\\xa0уточняется). Военнослужащий признал себя виновным по\\xa0обоим эпизодам, включая 2018 год, суд тоже не\\xa0стал исключать его из\\xa0решения. Кругловnполучилn15 суток ареста.nЮрист «Комитета солдатских матерей» Вадим Жернаков сказал «Медузе», что командирам и\\xa0судам действительно не\\xa0нужно было дожидаться принятия поправок в\\xa0дисциплинарный устав. «Если исходить из\\xa0принципа главенства нормативной базы, то\\xa0сначала идет Конституция, потом федеральные законы, потом подзаконные акты,\\xa0— объясняет юрист. —\\xa0А\\xa0поскольку уставы утверждаются указом президента\\xa0— это подзаконные акты. Даже если чего-то нет в\\xa0подзаконном акте\\xa0— а\\xa0они меняются медленнее, чем законы\\xa0— руководствоваться нужно федеральным законодательством».nПетр Лохов',\n    stats=Stats(\n        fb=None,\n        vk=None,\n        ok=None,\n        twitter=None,\n        lj=None,\n        tg=None,\n        likes=None,\n        views=None,\n        comments=None\n    )\n)"
     },
     "execution_count": 8,
     "metadata": {},
     "output_type": "execute_result"
    }
   ],
   "source": [
    "current_news"
   ]
  },
  {
   "cell_type": "code",
   "execution_count": 6,
   "id": "c34e7075",
   "metadata": {},
   "outputs": [],
   "source": [
    "index = current_news.url\n",
    "date = current_news.timestamp\n",
    "title = current_news.title.replace(\"\\xa0\", ' ').replace(\"\\n\", ' ')\n",
    "text = current_news.text.replace(\"\\xa0\", ' ').replace(\"\\n\", ' ')\n",
    "tags = current_news.topics\n",
    "category = model_fasttext.predict(title)[0][0].split('__')[-1]\n",
    "agency = 'meduzalive'"
   ]
  },
  {
   "cell_type": "code",
   "execution_count": 7,
   "id": "d7992b3f",
   "metadata": {},
   "outputs": [],
   "source": [
    "dict_news = {'url': index, 'date': date, 'title': title, 'news': text, 'tags': tags, 'category': category, 'agency': agency}"
   ]
  },
  {
   "cell_type": "code",
   "execution_count": 16,
   "outputs": [
    {
     "data": {
      "text/plain": "{'url': 'https://meduza.io/news/2019/08/06/umerla-feshn-direktor-tsuma-alla-verber',\n 'date': datetime.datetime(2019, 8, 6, 14, 20),\n 'title': 'Умерла фэшн-директор ЦУМа Алла Вербер',\n 'news': 'Умерла фэшн-директор московского ЦУМа, вице-президент ювелирной компании Mercury Алла Вербер. Эту информацию изданию Hello подтвердили в пресс-службе ЦУМа.nДруг Вербер, журналист Олег Шаранnнаписалnв фейсбуке, что Вербер умерла на курорте в Италии; причиной смерти стал инфаркт. Издание Super.runутверждаетn, что его спровоцировал анафилактический шок после ужина с блюдами из морепродуктов.nАлле Вербер был 61 год.nАлла Вербер родилась в Ленинграде. В 18 лет вместе с семьей уехала из СССР. Жила в Италии, США и Канаде, там же начала работу в фэшн-бизнесе. В 1989 году Вербер вернулась в СССР, а последующие годы стала одной из первых, кто привез в Россию западные модные бренды. В 1995 году Вербер начала сотрудничать с компанией Mercury, которая сейчасnявляетсяnединственным владельцем московского ЦУМа. Вербер была фэшн-директором универмага с 2004 года.',\n 'tags': None,\n 'category': 'society',\n 'agency': 'meduzalive'}"
     },
     "execution_count": 16,
     "metadata": {},
     "output_type": "execute_result"
    }
   ],
   "source": [
    "dict_news"
   ],
   "metadata": {
    "collapsed": false
   },
   "id": "5f88443a00a40709"
  },
  {
   "cell_type": "code",
   "execution_count": 22,
   "outputs": [
    {
     "ename": "ValueError",
     "evalue": "If using all scalar values, you must pass an index",
     "output_type": "error",
     "traceback": [
      "\u001B[0;31m---------------------------------------------------------------------------\u001B[0m",
      "\u001B[0;31mValueError\u001B[0m                                Traceback (most recent call last)",
      "Cell \u001B[0;32mIn[22], line 1\u001B[0m\n\u001B[0;32m----> 1\u001B[0m test_df \u001B[38;5;241m=\u001B[39m \u001B[43mpd\u001B[49m\u001B[38;5;241;43m.\u001B[39;49m\u001B[43mDataFrame\u001B[49m\u001B[38;5;241;43m.\u001B[39;49m\u001B[43mfrom_dict\u001B[49m\u001B[43m(\u001B[49m\u001B[43mdict_news\u001B[49m\u001B[43m,\u001B[49m\u001B[43m \u001B[49m\u001B[43morient\u001B[49m\u001B[38;5;241;43m=\u001B[39;49m\u001B[38;5;124;43m'\u001B[39;49m\u001B[38;5;124;43mcolumns\u001B[39;49m\u001B[38;5;124;43m'\u001B[39;49m\u001B[43m)\u001B[49m\n",
      "File \u001B[0;32m~/Yandex.Disk/IT/Projects/archiveSMI/venv/lib/python3.10/site-packages/pandas/core/frame.py:1763\u001B[0m, in \u001B[0;36mDataFrame.from_dict\u001B[0;34m(cls, data, orient, dtype, columns)\u001B[0m\n\u001B[1;32m   1757\u001B[0m     \u001B[38;5;28;01mraise\u001B[39;00m \u001B[38;5;167;01mValueError\u001B[39;00m(\n\u001B[1;32m   1758\u001B[0m         \u001B[38;5;124mf\u001B[39m\u001B[38;5;124m\"\u001B[39m\u001B[38;5;124mExpected \u001B[39m\u001B[38;5;124m'\u001B[39m\u001B[38;5;124mindex\u001B[39m\u001B[38;5;124m'\u001B[39m\u001B[38;5;124m, \u001B[39m\u001B[38;5;124m'\u001B[39m\u001B[38;5;124mcolumns\u001B[39m\u001B[38;5;124m'\u001B[39m\u001B[38;5;124m or \u001B[39m\u001B[38;5;124m'\u001B[39m\u001B[38;5;124mtight\u001B[39m\u001B[38;5;124m'\u001B[39m\u001B[38;5;124m for orient parameter. \u001B[39m\u001B[38;5;124m\"\u001B[39m\n\u001B[1;32m   1759\u001B[0m         \u001B[38;5;124mf\u001B[39m\u001B[38;5;124m\"\u001B[39m\u001B[38;5;124mGot \u001B[39m\u001B[38;5;124m'\u001B[39m\u001B[38;5;132;01m{\u001B[39;00morient\u001B[38;5;132;01m}\u001B[39;00m\u001B[38;5;124m'\u001B[39m\u001B[38;5;124m instead\u001B[39m\u001B[38;5;124m\"\u001B[39m\n\u001B[1;32m   1760\u001B[0m     )\n\u001B[1;32m   1762\u001B[0m \u001B[38;5;28;01mif\u001B[39;00m orient \u001B[38;5;241m!=\u001B[39m \u001B[38;5;124m\"\u001B[39m\u001B[38;5;124mtight\u001B[39m\u001B[38;5;124m\"\u001B[39m:\n\u001B[0;32m-> 1763\u001B[0m     \u001B[38;5;28;01mreturn\u001B[39;00m \u001B[38;5;28;43mcls\u001B[39;49m\u001B[43m(\u001B[49m\u001B[43mdata\u001B[49m\u001B[43m,\u001B[49m\u001B[43m \u001B[49m\u001B[43mindex\u001B[49m\u001B[38;5;241;43m=\u001B[39;49m\u001B[43mindex\u001B[49m\u001B[43m,\u001B[49m\u001B[43m \u001B[49m\u001B[43mcolumns\u001B[49m\u001B[38;5;241;43m=\u001B[39;49m\u001B[43mcolumns\u001B[49m\u001B[43m,\u001B[49m\u001B[43m \u001B[49m\u001B[43mdtype\u001B[49m\u001B[38;5;241;43m=\u001B[39;49m\u001B[43mdtype\u001B[49m\u001B[43m)\u001B[49m\n\u001B[1;32m   1764\u001B[0m \u001B[38;5;28;01melse\u001B[39;00m:\n\u001B[1;32m   1765\u001B[0m     realdata \u001B[38;5;241m=\u001B[39m data[\u001B[38;5;124m\"\u001B[39m\u001B[38;5;124mdata\u001B[39m\u001B[38;5;124m\"\u001B[39m]\n",
      "File \u001B[0;32m~/Yandex.Disk/IT/Projects/archiveSMI/venv/lib/python3.10/site-packages/pandas/core/frame.py:663\u001B[0m, in \u001B[0;36mDataFrame.__init__\u001B[0;34m(self, data, index, columns, dtype, copy)\u001B[0m\n\u001B[1;32m    657\u001B[0m     mgr \u001B[38;5;241m=\u001B[39m \u001B[38;5;28mself\u001B[39m\u001B[38;5;241m.\u001B[39m_init_mgr(\n\u001B[1;32m    658\u001B[0m         data, axes\u001B[38;5;241m=\u001B[39m{\u001B[38;5;124m\"\u001B[39m\u001B[38;5;124mindex\u001B[39m\u001B[38;5;124m\"\u001B[39m: index, \u001B[38;5;124m\"\u001B[39m\u001B[38;5;124mcolumns\u001B[39m\u001B[38;5;124m\"\u001B[39m: columns}, dtype\u001B[38;5;241m=\u001B[39mdtype, copy\u001B[38;5;241m=\u001B[39mcopy\n\u001B[1;32m    659\u001B[0m     )\n\u001B[1;32m    661\u001B[0m \u001B[38;5;28;01melif\u001B[39;00m \u001B[38;5;28misinstance\u001B[39m(data, \u001B[38;5;28mdict\u001B[39m):\n\u001B[1;32m    662\u001B[0m     \u001B[38;5;66;03m# GH#38939 de facto copy defaults to False only in non-dict cases\u001B[39;00m\n\u001B[0;32m--> 663\u001B[0m     mgr \u001B[38;5;241m=\u001B[39m \u001B[43mdict_to_mgr\u001B[49m\u001B[43m(\u001B[49m\u001B[43mdata\u001B[49m\u001B[43m,\u001B[49m\u001B[43m \u001B[49m\u001B[43mindex\u001B[49m\u001B[43m,\u001B[49m\u001B[43m \u001B[49m\u001B[43mcolumns\u001B[49m\u001B[43m,\u001B[49m\u001B[43m \u001B[49m\u001B[43mdtype\u001B[49m\u001B[38;5;241;43m=\u001B[39;49m\u001B[43mdtype\u001B[49m\u001B[43m,\u001B[49m\u001B[43m \u001B[49m\u001B[43mcopy\u001B[49m\u001B[38;5;241;43m=\u001B[39;49m\u001B[43mcopy\u001B[49m\u001B[43m,\u001B[49m\u001B[43m \u001B[49m\u001B[43mtyp\u001B[49m\u001B[38;5;241;43m=\u001B[39;49m\u001B[43mmanager\u001B[49m\u001B[43m)\u001B[49m\n\u001B[1;32m    664\u001B[0m \u001B[38;5;28;01melif\u001B[39;00m \u001B[38;5;28misinstance\u001B[39m(data, ma\u001B[38;5;241m.\u001B[39mMaskedArray):\n\u001B[1;32m    665\u001B[0m     \u001B[38;5;28;01mimport\u001B[39;00m \u001B[38;5;21;01mnumpy\u001B[39;00m\u001B[38;5;21;01m.\u001B[39;00m\u001B[38;5;21;01mma\u001B[39;00m\u001B[38;5;21;01m.\u001B[39;00m\u001B[38;5;21;01mmrecords\u001B[39;00m \u001B[38;5;28;01mas\u001B[39;00m \u001B[38;5;21;01mmrecords\u001B[39;00m\n",
      "File \u001B[0;32m~/Yandex.Disk/IT/Projects/archiveSMI/venv/lib/python3.10/site-packages/pandas/core/internals/construction.py:493\u001B[0m, in \u001B[0;36mdict_to_mgr\u001B[0;34m(data, index, columns, dtype, typ, copy)\u001B[0m\n\u001B[1;32m    489\u001B[0m     \u001B[38;5;28;01melse\u001B[39;00m:\n\u001B[1;32m    490\u001B[0m         \u001B[38;5;66;03m# dtype check to exclude e.g. range objects, scalars\u001B[39;00m\n\u001B[1;32m    491\u001B[0m         arrays \u001B[38;5;241m=\u001B[39m [x\u001B[38;5;241m.\u001B[39mcopy() \u001B[38;5;28;01mif\u001B[39;00m \u001B[38;5;28mhasattr\u001B[39m(x, \u001B[38;5;124m\"\u001B[39m\u001B[38;5;124mdtype\u001B[39m\u001B[38;5;124m\"\u001B[39m) \u001B[38;5;28;01melse\u001B[39;00m x \u001B[38;5;28;01mfor\u001B[39;00m x \u001B[38;5;129;01min\u001B[39;00m arrays]\n\u001B[0;32m--> 493\u001B[0m \u001B[38;5;28;01mreturn\u001B[39;00m \u001B[43marrays_to_mgr\u001B[49m\u001B[43m(\u001B[49m\u001B[43marrays\u001B[49m\u001B[43m,\u001B[49m\u001B[43m \u001B[49m\u001B[43mcolumns\u001B[49m\u001B[43m,\u001B[49m\u001B[43m \u001B[49m\u001B[43mindex\u001B[49m\u001B[43m,\u001B[49m\u001B[43m \u001B[49m\u001B[43mdtype\u001B[49m\u001B[38;5;241;43m=\u001B[39;49m\u001B[43mdtype\u001B[49m\u001B[43m,\u001B[49m\u001B[43m \u001B[49m\u001B[43mtyp\u001B[49m\u001B[38;5;241;43m=\u001B[39;49m\u001B[43mtyp\u001B[49m\u001B[43m,\u001B[49m\u001B[43m \u001B[49m\u001B[43mconsolidate\u001B[49m\u001B[38;5;241;43m=\u001B[39;49m\u001B[43mcopy\u001B[49m\u001B[43m)\u001B[49m\n",
      "File \u001B[0;32m~/Yandex.Disk/IT/Projects/archiveSMI/venv/lib/python3.10/site-packages/pandas/core/internals/construction.py:118\u001B[0m, in \u001B[0;36marrays_to_mgr\u001B[0;34m(arrays, columns, index, dtype, verify_integrity, typ, consolidate)\u001B[0m\n\u001B[1;32m    115\u001B[0m \u001B[38;5;28;01mif\u001B[39;00m verify_integrity:\n\u001B[1;32m    116\u001B[0m     \u001B[38;5;66;03m# figure out the index, if necessary\u001B[39;00m\n\u001B[1;32m    117\u001B[0m     \u001B[38;5;28;01mif\u001B[39;00m index \u001B[38;5;129;01mis\u001B[39;00m \u001B[38;5;28;01mNone\u001B[39;00m:\n\u001B[0;32m--> 118\u001B[0m         index \u001B[38;5;241m=\u001B[39m \u001B[43m_extract_index\u001B[49m\u001B[43m(\u001B[49m\u001B[43marrays\u001B[49m\u001B[43m)\u001B[49m\n\u001B[1;32m    119\u001B[0m     \u001B[38;5;28;01melse\u001B[39;00m:\n\u001B[1;32m    120\u001B[0m         index \u001B[38;5;241m=\u001B[39m ensure_index(index)\n",
      "File \u001B[0;32m~/Yandex.Disk/IT/Projects/archiveSMI/venv/lib/python3.10/site-packages/pandas/core/internals/construction.py:656\u001B[0m, in \u001B[0;36m_extract_index\u001B[0;34m(data)\u001B[0m\n\u001B[1;32m    653\u001B[0m         \u001B[38;5;28;01mraise\u001B[39;00m \u001B[38;5;167;01mValueError\u001B[39;00m(\u001B[38;5;124m\"\u001B[39m\u001B[38;5;124mPer-column arrays must each be 1-dimensional\u001B[39m\u001B[38;5;124m\"\u001B[39m)\n\u001B[1;32m    655\u001B[0m \u001B[38;5;28;01mif\u001B[39;00m \u001B[38;5;129;01mnot\u001B[39;00m indexes \u001B[38;5;129;01mand\u001B[39;00m \u001B[38;5;129;01mnot\u001B[39;00m raw_lengths:\n\u001B[0;32m--> 656\u001B[0m     \u001B[38;5;28;01mraise\u001B[39;00m \u001B[38;5;167;01mValueError\u001B[39;00m(\u001B[38;5;124m\"\u001B[39m\u001B[38;5;124mIf using all scalar values, you must pass an index\u001B[39m\u001B[38;5;124m\"\u001B[39m)\n\u001B[1;32m    658\u001B[0m \u001B[38;5;28;01melif\u001B[39;00m have_series:\n\u001B[1;32m    659\u001B[0m     index \u001B[38;5;241m=\u001B[39m union_indexes(indexes)\n",
      "\u001B[0;31mValueError\u001B[0m: If using all scalar values, you must pass an index"
     ]
    }
   ],
   "source": [
    "test_df = pd.DataFrame.from_dict(dict_news, orient='index').T"
   ],
   "metadata": {
    "collapsed": false
   },
   "id": "a7d4d7a2a9de0c3"
  },
  {
   "cell_type": "code",
   "execution_count": 19,
   "outputs": [
    {
     "data": {
      "text/plain": "                                                 url                date  \\\n0  https://meduza.io/news/2019/08/06/umerla-feshn... 2019-08-06 14:20:00   \n\n                                   title  \\\n0  Умерла фэшн-директор ЦУМа Алла Вербер   \n\n                                                news  tags category  \\\n0  Умерла фэшн-директор московского ЦУМа, вице-пр...  None  society   \n\n       agency  \n0  meduzalive  ",
      "text/html": "<div>\n<style scoped>\n    .dataframe tbody tr th:only-of-type {\n        vertical-align: middle;\n    }\n\n    .dataframe tbody tr th {\n        vertical-align: top;\n    }\n\n    .dataframe thead th {\n        text-align: right;\n    }\n</style>\n<table border=\"1\" class=\"dataframe\">\n  <thead>\n    <tr style=\"text-align: right;\">\n      <th></th>\n      <th>url</th>\n      <th>date</th>\n      <th>title</th>\n      <th>news</th>\n      <th>tags</th>\n      <th>category</th>\n      <th>agency</th>\n    </tr>\n  </thead>\n  <tbody>\n    <tr>\n      <th>0</th>\n      <td>https://meduza.io/news/2019/08/06/umerla-feshn...</td>\n      <td>2019-08-06 14:20:00</td>\n      <td>Умерла фэшн-директор ЦУМа Алла Вербер</td>\n      <td>Умерла фэшн-директор московского ЦУМа, вице-пр...</td>\n      <td>None</td>\n      <td>society</td>\n      <td>meduzalive</td>\n    </tr>\n  </tbody>\n</table>\n</div>"
     },
     "execution_count": 19,
     "metadata": {},
     "output_type": "execute_result"
    }
   ],
   "source": [
    "test_df"
   ],
   "metadata": {
    "collapsed": false
   },
   "id": "bbe921ee8d60e9fa"
  },
  {
   "cell_type": "code",
   "execution_count": 56,
   "id": "b5213b87",
   "metadata": {},
   "outputs": [],
   "source": [
    "date_df = pd.DataFrame.from_dict(dict_news, orient='index').T.set_index('index')"
   ]
  },
  {
   "cell_type": "code",
   "execution_count": 67,
   "id": "8ff40a0f",
   "metadata": {},
   "outputs": [
    {
     "data": {
      "text/plain": [
       "1"
      ]
     },
     "execution_count": 67,
     "metadata": {},
     "output_type": "execute_result"
    }
   ],
   "source": [
    "date_df.to_sql(name='news', con=engine, if_exists='append', index=True)"
   ]
  },
  {
   "cell_type": "code",
   "execution_count": 21,
   "id": "129d5183",
   "metadata": {},
   "outputs": [
    {
     "ename": "StopIteration",
     "evalue": "",
     "output_type": "error",
     "traceback": [
      "\u001B[0;31m---------------------------------------------------------------------------\u001B[0m",
      "\u001B[0;31mStopIteration\u001B[0m                             Traceback (most recent call last)",
      "Cell \u001B[0;32mIn[21], line 2\u001B[0m\n\u001B[1;32m      1\u001B[0m \u001B[38;5;28;01mwhile\u001B[39;00m \u001B[38;5;28;01mTrue\u001B[39;00m:\n\u001B[0;32m----> 2\u001B[0m     current_news \u001B[38;5;241m=\u001B[39m \u001B[38;5;28;43mnext\u001B[39;49m\u001B[43m(\u001B[49m\u001B[43mrecords\u001B[49m\u001B[43m)\u001B[49m\n\u001B[1;32m      3\u001B[0m     index \u001B[38;5;241m=\u001B[39m current_news\u001B[38;5;241m.\u001B[39murl\n\u001B[1;32m      4\u001B[0m     date \u001B[38;5;241m=\u001B[39m current_news\u001B[38;5;241m.\u001B[39mtimestamp\n",
      "\u001B[0;31mStopIteration\u001B[0m: "
     ]
    }
   ],
   "source": [
    "while True:\n",
    "    current_news = next(records)\n",
    "    index = current_news.url\n",
    "    date = current_news.timestamp\n",
    "    if current_news.title:\n",
    "        title = current_news.title.replace(\"\\xa0\", ' ').replace(\"\\n\", ' ')\n",
    "    else:\n",
    "        title = current_news.title\n",
    "    if current_news.text:\n",
    "        text = current_news.text.replace(\"\\xa0\", ' ').replace(\"\\n\", ' ')\n",
    "    else:\n",
    "        text = current_news.text\n",
    "    tags = current_news.topics\n",
    "    if current_news.title:\n",
    "        category = model_fasttext.predict(title)[0][0].split('__')[-1]\n",
    "    else:\n",
    "        category = 'NaN'\n",
    "    agency = 'meduzalive'\n",
    "    dict_news = {'url': index, 'date': date, 'title': title, 'news': text, 'tags': tags, 'category': category, 'agency': agency}\n",
    "    date_df = pd.DataFrame.from_dict(dict_news, orient='index').T\n",
    "    date_df.to_sql(name='news', con=arh_engine, if_exists='append', index=False)"
   ]
  },
  {
   "cell_type": "markdown",
   "id": "5dc1ccee",
   "metadata": {},
   "source": [
    "### Лента"
   ]
  },
  {
   "cell_type": "code",
   "execution_count": 23,
   "id": "4500d149",
   "metadata": {},
   "outputs": [],
   "source": [
    "from corus import load_lenta2\n",
    "\n",
    "path = 'datasets/lenta-ru-news.csv.bz2'\n",
    "records = load_lenta2(path)"
   ]
  },
  {
   "cell_type": "code",
   "execution_count": null,
   "outputs": [],
   "source": [],
   "metadata": {
    "collapsed": false
   },
   "id": "a76e22c119c7630d"
  },
  {
   "cell_type": "code",
   "execution_count": null,
   "id": "148d1974",
   "metadata": {
    "pycharm": {
     "is_executing": true
    }
   },
   "outputs": [],
   "source": [
    "while True:\n",
    "    current_news = next(records)\n",
    "    index = current_news.url\n",
    "    date = current_news.date\n",
    "    if current_news.title:\n",
    "        title = current_news.title.replace(\"\\xa0\", ' ').replace(\"\\n\", ' ')\n",
    "    else:\n",
    "        title = current_news.title\n",
    "    if current_news.text:\n",
    "        text = current_news.text.replace(\"\\xa0\", ' ').replace(\"\\n\", ' ')\n",
    "    else:\n",
    "        text = current_news.text\n",
    "    tags = current_news.tags\n",
    "    category = current_news.topic\n",
    "    agency = 'lenta'\n",
    "    dict_news = {'url': index, 'date': date, 'title': title, 'news': text, 'tags': tags, 'category': category, 'agency': agency}\n",
    "    date_df = pd.DataFrame.from_dict(dict_news, orient='index').T\n",
    "    date_df.to_sql(name='news', con=arh_engine, if_exists='append', index=False)"
   ]
  },
  {
   "cell_type": "markdown",
   "id": "50cedec9",
   "metadata": {},
   "source": [
    "### Gazeta"
   ]
  },
  {
   "cell_type": "code",
   "execution_count": 6,
   "id": "0a5fd27b",
   "metadata": {},
   "outputs": [],
   "source": [
    "from corus import load_ods_gazeta\n",
    "\n",
    "path = 'Datasets/gazeta.csv.gz'\n",
    "records = load_ods_gazeta(path)"
   ]
  },
  {
   "cell_type": "code",
   "execution_count": 7,
   "id": "c0c895d4",
   "metadata": {},
   "outputs": [
    {
     "ename": "StopIteration",
     "evalue": "",
     "output_type": "error",
     "traceback": [
      "\u001B[0;31m---------------------------------------------------------------------------\u001B[0m",
      "\u001B[0;31mStopIteration\u001B[0m                             Traceback (most recent call last)",
      "Cell \u001B[0;32mIn[7], line 2\u001B[0m\n\u001B[1;32m      1\u001B[0m \u001B[38;5;28;01mwhile\u001B[39;00m \u001B[38;5;28;01mTrue\u001B[39;00m:\n\u001B[0;32m----> 2\u001B[0m     current_news \u001B[38;5;241m=\u001B[39m \u001B[38;5;28;43mnext\u001B[39;49m\u001B[43m(\u001B[49m\u001B[43mrecords\u001B[49m\u001B[43m)\u001B[49m\n\u001B[1;32m      3\u001B[0m     index \u001B[38;5;241m=\u001B[39m current_news\u001B[38;5;241m.\u001B[39murl\n\u001B[1;32m      4\u001B[0m     date \u001B[38;5;241m=\u001B[39m current_news\u001B[38;5;241m.\u001B[39mtimestamp\n",
      "\u001B[0;31mStopIteration\u001B[0m: "
     ]
    }
   ],
   "source": [
    "while True:\n",
    "    current_news = next(records)\n",
    "    index = current_news.url\n",
    "    date = current_news.timestamp\n",
    "    if current_news.title:\n",
    "        title = current_news.title.replace(\"\\xa0\", ' ').replace(\"\\n\", ' ')\n",
    "    else:\n",
    "        title = current_news.title\n",
    "    if current_news.text:\n",
    "        text = current_news.text.replace(\"\\xa0\", ' ').replace(\"\\n\", ' ')\n",
    "    else:\n",
    "        text = current_news.text\n",
    "    tags = current_news.topics\n",
    "    if current_news.title:\n",
    "        category = model_fasttext.predict(title)[0][0].split('__')[-1]\n",
    "    else:\n",
    "        category = 'NaN'\n",
    "    agency = 'gazeta'\n",
    "    dict_news = {'url': index, 'date': date, 'title': title, 'news': text, 'tags': tags, 'category': category, 'agency': agency}\n",
    "    date_df = pd.DataFrame.from_dict(dict_news, orient='index').T\n",
    "    date_df.to_sql(name='news', con=arh_engine, if_exists='append', index=False)"
   ]
  },
  {
   "cell_type": "markdown",
   "id": "2d8268d4",
   "metadata": {},
   "source": [
    "### NPlusOne"
   ]
  },
  {
   "cell_type": "code",
   "execution_count": 12,
   "id": "2af6a8b9",
   "metadata": {
    "scrolled": true
   },
   "outputs": [],
   "source": [
    "from corus import load_taiga_nplus1_metas, load_taiga_nplus1\n",
    "\n",
    "path = 'Datasets/NPlus1.tar.gz'\n",
    "metas = load_taiga_nplus1_metas(path, offset=0, count=1)\n",
    "records = load_taiga_nplus1(path, metas, offset=0, count=7696)"
   ]
  },
  {
   "cell_type": "code",
   "execution_count": 137,
   "id": "407a495c",
   "metadata": {},
   "outputs": [],
   "source": [
    "current_news = next(records)"
   ]
  },
  {
   "cell_type": "code",
   "execution_count": 138,
   "id": "b363b45a",
   "metadata": {},
   "outputs": [
    {
     "data": {
      "text/plain": [
       "TaigaRecord(\n",
       "    id='20150302chaotic',\n",
       "    meta=Meta(\n",
       "        id='20150302chaotic',\n",
       "        timestamp=datetime.datetime(2015, 3, 2, 17, 53),\n",
       "        tags=None,\n",
       "        themes=None,\n",
       "        rubric='Наука',\n",
       "        genre=None,\n",
       "        topic=None,\n",
       "        author=Author(\n",
       "            name='AZ ZAZ',\n",
       "            readers=None,\n",
       "            texts=None,\n",
       "            profession=None,\n",
       "            about=None,\n",
       "            url=None\n",
       "        ),\n",
       "        lang=None,\n",
       "        title='Физики поделили экономики на «ламинарные» и «хаотические»',\n",
       "        url='https://nplus1.ru/news/2015/03/02/chaotic'\n",
       "    ),\n",
       "    text='\\nУченые из Университета Сапиенца в Риме предложили метод классификации стран в соответствии с типом их экономики. Метод позволяет сказать, насколько поведение страны поддается прогнозу и соответствует ли оно «ламинарному» или «хаотическому» типу развития. Работа опубликована\\xa0в журнале PLoS ONE, кратко о ней можнопрочитать\\xa0на сайте Nature. Главной задачей исследования был поиск метрики, которая максимально точно могла бы предсказать, как будет развиваться экономика данной страны в будущем. Ранее в качестве такой метрики была предложена\\xa0диверсифицированность экспорта — иными словами, то, насколько разные товары экспортирует страна. Эта метрика получила название индекса экономической сложности (ECI) и, несмотря на свою простоту, показала значительную предсказательную силу. Однако ECI, как выявили наблюдения, сама по себе способна сильно меняться с годами и для некоторых стран ведет себя аномально. Чтобы понять природу этого поведения, ученые занялись моделированием многолетней динамики экономики на двумерной диаграмме. По вертикальной оси на ней был отложен уровень подушевого ВВП, а по горизонтальной — «приспособленность» (упрощая, можно сказать, что это усовершенствованный вариант ECI с упором на нематериальные активы). \\n'\n",
       ")"
      ]
     },
     "execution_count": 138,
     "metadata": {},
     "output_type": "execute_result"
    }
   ],
   "source": [
    "current_news"
   ]
  },
  {
   "cell_type": "code",
   "execution_count": 13,
   "id": "a61d1b15",
   "metadata": {},
   "outputs": [
    {
     "ename": "StopIteration",
     "evalue": "",
     "output_type": "error",
     "traceback": [
      "\u001B[0;31m---------------------------------------------------------------------------\u001B[0m",
      "\u001B[0;31mStopIteration\u001B[0m                             Traceback (most recent call last)",
      "Cell \u001B[0;32mIn[13], line 2\u001B[0m\n\u001B[1;32m      1\u001B[0m \u001B[38;5;28;01mwhile\u001B[39;00m \u001B[38;5;28;01mTrue\u001B[39;00m:\n\u001B[0;32m----> 2\u001B[0m     current_news \u001B[38;5;241m=\u001B[39m \u001B[38;5;28;43mnext\u001B[39;49m\u001B[43m(\u001B[49m\u001B[43mrecords\u001B[49m\u001B[43m)\u001B[49m\n\u001B[1;32m      3\u001B[0m     index \u001B[38;5;241m=\u001B[39m current_news\u001B[38;5;241m.\u001B[39mmeta\u001B[38;5;241m.\u001B[39murl\n\u001B[1;32m      4\u001B[0m     date \u001B[38;5;241m=\u001B[39m current_news\u001B[38;5;241m.\u001B[39mmeta\u001B[38;5;241m.\u001B[39mtimestamp\n",
      "\u001B[0;31mStopIteration\u001B[0m: "
     ]
    }
   ],
   "source": [
    "while True:\n",
    "    current_news = next(records)\n",
    "    index = current_news.meta.url\n",
    "    date = current_news.meta.timestamp\n",
    "    if current_news.meta.title:\n",
    "        title = current_news.meta.title.replace(\"\\xa0\", ' ').replace(\"\\n\", ' ')\n",
    "    else:\n",
    "        title = current_news.meta.title\n",
    "    if current_news.text:\n",
    "        text = current_news.text.replace(\"\\xa0\", ' ').replace(\"\\n\", ' ')\n",
    "    else:\n",
    "        text = current_news.text\n",
    "    tags = current_news.meta.tags\n",
    "    category = 'science'\n",
    "    agency = 'nplusone'\n",
    "    dict_news = {'url': index, 'date': date, 'title': title, 'news': text, 'tags': tags, 'category': category, 'agency': agency}\n",
    "    date_df = pd.DataFrame.from_dict(dict_news, orient='index').T\n",
    "    date_df.to_sql(name='news', con=arh_engine, if_exists='append', index=False)"
   ]
  }
 ],
 "metadata": {
  "kernelspec": {
   "display_name": "Python 3 (ipykernel)",
   "language": "python",
   "name": "python3"
  },
  "language_info": {
   "codemirror_mode": {
    "name": "ipython",
    "version": 3
   },
   "file_extension": ".py",
   "mimetype": "text/x-python",
   "name": "python",
   "nbconvert_exporter": "python",
   "pygments_lexer": "ipython3",
   "version": "3.9.12"
  }
 },
 "nbformat": 4,
 "nbformat_minor": 5
}
