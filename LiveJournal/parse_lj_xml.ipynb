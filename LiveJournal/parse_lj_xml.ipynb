{
 "cells": [
  {
   "cell_type": "code",
   "execution_count": 9,
   "metadata": {
    "collapsed": true
   },
   "outputs": [],
   "source": [
    "import xml.etree.ElementTree as ET"
   ]
  },
  {
   "cell_type": "code",
   "execution_count": 104,
   "outputs": [],
   "source": [
    "import datetime as dt"
   ],
   "metadata": {
    "collapsed": false
   }
  },
  {
   "cell_type": "code",
   "execution_count": 10,
   "outputs": [],
   "source": [
    "tree = ET.parse('salfetki.xml')"
   ],
   "metadata": {
    "collapsed": false
   }
  },
  {
   "cell_type": "code",
   "execution_count": 12,
   "outputs": [],
   "source": [
    "root = tree.getroot()"
   ],
   "metadata": {
    "collapsed": false
   }
  },
  {
   "cell_type": "code",
   "execution_count": 81,
   "outputs": [
    {
     "name": "stdout",
     "output_type": "stream",
     "text": [
      "2\n",
      "2013-10-01 21:46:00\n",
      "<blockquote><i>Мы&nbsp;сидели на&nbsp;песчаном берегу Балтийского моря и&nbsp;я&nbsp;рассказывал о&nbsp;том, какое приятное чувство у&nbsp;меня вызвал по&nbsp;приезду в&nbsp;Россию факт наличия бумажных салфеток на&nbsp;столах в&nbsp;заведениях общепита: в&nbsp;Европе их&nbsp;либо не&nbsp;было вообще, либо предлагались тканевые, что не&nbsp;всегда удобно. Разговор переключился, кажется, на&nbsp;то, что счастье не&nbsp;ленточка, до&nbsp;которой нужно добежать, и&nbsp;не&nbsp;лотерейный билетик, доступный избранным; оно кроется в&nbsp;мгновениях. Тогда она произнесла: &quot; Хорошо уметь замечать салфетки&quot;</i> <a href=\"http://maxlethal.livejournal.com/285366.html\">&copy;</a></blockquote>\n",
      "\n",
      "Это не&nbsp;журнал. Здесь книга, написанная в&nbsp;форме дневника.\n",
      "\n",
      "<lj-cut text=\"Немного подробностей\">\n",
      "Лет в&nbsp;восемь, когда только начал читать, сильно захотелось писать. Кажется, это первое желание, которое отложил и&nbsp;которое сопровождало всю жизнь.\n",
      "\n",
      "Сегодня стараюсь не&nbsp;откладывать эти сильные желания&nbsp;&mdash; мне вредно и&nbsp;мешает жить. Нужно избавляться от&nbsp;того, что тормозит, цепляет, раздражает, путает ноги и&nbsp;не&nbsp;даёт дышать. Так чувствую.\n",
      "\n",
      "Начав писать, понял, что длинные художественные тексты&nbsp;&mdash; совершенно не&nbsp;моё. Только короткие философски-лирические мысли и&nbsp;небольшие рассказы разной степени художественности.\n",
      "\n",
      "Я&nbsp;думал, что чувствую и&nbsp;понимаю ритмы и&nbsp;основу мировосприятия стоящих людей своего времени&nbsp;&mdash; всех этих атеистов и&nbsp;верующих, флегматиков и&nbsp;холериков, интровертов и экстравертов, физиков, метафизиков и&nbsp;эзотериков.\n",
      "\n",
      "Хотел привести их&nbsp;подвешенные в&nbsp;воздухе базовые мысли и&nbsp;чувства, произносимые разными словами, но&nbsp;об&nbsp;одном и&nbsp;том&nbsp;же, к&nbsp;общему знаменателю.\n",
      "\n",
      "Хотел измерить алгеброй гармонию и&nbsp;прочувствовать математику мироздания россыпью слов.\n",
      "\n",
      "Незаканчивающаяся картина мира.\n",
      "\n",
      "Искусство замечать салфетки.\n",
      "\n",
      "\n",
      "А&nbsp;получилась книга о&nbsp;прошлом личном опыте, к&nbsp;которому не&nbsp;хочется больше возвращаться, но&nbsp;знать, что он&nbsp;есть.\n",
      "\n",
      "Эта книга-словарь, имеющая смысл лишь в&nbsp;сети. Здесь встречаются фотографии, музыка и&nbsp;видео, которые мне кажутся неотделимыми от&nbsp;текста.\n",
      "\n",
      "Прямой хронологический характер имеет значение лишь для меня.\n",
      "Вам есть смысл читать, пользуясь тегами, в&nbsp;удобном для себя порядке:\n",
      "\n",
      "<a href=\"http://salfetki.livejournal.com/tag/1\" target=\"_blank\">1</a> &mdash; художественный текст-эмоция\n",
      "<a href=\"http://salfetki.livejournal.com/tag/2\" target=\"_blank\">2</a> &mdash; короткий афоризм или мысль\n",
      "<a href=\"http://salfetki.livejournal.com/tag/3\" target=\"_blank\">3</a> &mdash; философский текст-размышление\n",
      "<a href=\"http://salfetki.livejournal.com/tag/new\" target=\"_blank\">new</a> &mdash; новый текст, который не публиковался в <a href=\"http://maxlethal.livejournal.com/\">основном</a> журнале.\n",
      "</lj-cut>\n",
      "private\n",
      "0\n"
     ]
    }
   ],
   "source": [
    "for elem in root[100]:\n",
    " print(elem.text)"
   ],
   "metadata": {
    "collapsed": false
   }
  },
  {
   "cell_type": "code",
   "execution_count": 89,
   "outputs": [
    {
     "ename": "SyntaxError",
     "evalue": "invalid syntax (837448635.py, line 1)",
     "output_type": "error",
     "traceback": [
      "\u001B[1;36m  Input \u001B[1;32mIn [89]\u001B[1;36m\u001B[0m\n\u001B[1;33m    for n, el in enumerate(root[:100::101:]):\u001B[0m\n\u001B[1;37m                                     ^\u001B[0m\n\u001B[1;31mSyntaxError\u001B[0m\u001B[1;31m:\u001B[0m invalid syntax\n"
     ]
    }
   ],
   "source": [
    "for n, el in enumerate(root[:100]):\n",
    "    print(n+1, el[6].text)"
   ],
   "metadata": {
    "collapsed": false
   }
  },
  {
   "cell_type": "code",
   "execution_count": 96,
   "outputs": [],
   "source": [
    "import pandas as pd"
   ],
   "metadata": {
    "collapsed": false
   }
  },
  {
   "cell_type": "code",
   "execution_count": 109,
   "outputs": [],
   "source": [
    "my_lj = {int(record[0].text) : {'date': dt.datetime.strptime(record[1].text, '%Y-%m-%d %H:%M:%S'), 'title': record[2].text.lower(), 'post': record[3].text} for record in root if record != root[100]}"
   ],
   "metadata": {
    "collapsed": false
   }
  },
  {
   "cell_type": "code",
   "execution_count": 123,
   "outputs": [
    {
     "data": {
      "text/plain": "{'date': datetime.datetime(2010, 3, 15, 20, 55),\n 'title': 'эссе',\n 'post': 'Какой&nbsp;же здоровский на&nbsp;улице снег пошёл: мягкий, пушистый, крупными хлопьями. Плавно и&nbsp;нехотя опускается на&nbsp;землю. Как&nbsp;же ты&nbsp;уже меня заебал, дружок.'}"
     },
     "execution_count": 123,
     "metadata": {},
     "output_type": "execute_result"
    }
   ],
   "source": [
    "my_lj[12]"
   ],
   "metadata": {
    "collapsed": false
   }
  },
  {
   "cell_type": "code",
   "execution_count": 119,
   "outputs": [],
   "source": [
    "lj_df = pd.DataFrame(my_lj).T.sort_values('date')"
   ],
   "metadata": {
    "collapsed": false
   }
  },
  {
   "cell_type": "code",
   "execution_count": 120,
   "outputs": [
    {
     "data": {
      "text/plain": "                   date                    title  \\\n20  2010-03-09 21:10:00    о вероятности событий   \n12  2010-03-15 20:55:00                     эссе   \n19  2010-03-20 00:12:00            разрыв шалона   \n18  2010-03-31 09:18:00                 отчаяние   \n30  2010-04-18 14:10:00                   эгоизм   \n..                  ...                      ...   \n42  2013-11-20 16:42:00               лучше всех   \n189 2013-11-25 19:48:00               расстояния   \n190 2013-12-01 18:42:00            это случилось   \n193 2014-01-25 20:39:00  падал прошлогодний снег   \n194 2014-02-23 20:25:00               ассиметрия   \n\n                                                  post  \n20   Есть банальная фраза&nbsp;&mdash; дескать мол,...  \n12   Какой&nbsp;же здоровский на&nbsp;улице снег по...  \n19   Эта безумная неделя просто обязана была законч...  \n18   Когда человек принимает решение, что уже пора ...  \n30   Писать о&nbsp;чем-то интересном хочется тогда,...  \n..                                                 ...  \n42   Просто оно так есть: уверенность в&nbsp;том, ч...  \n189  Ты&nbsp;не&nbsp;удаляешь это имя из&nbsp;телеф...  \n190  Я&nbsp;стою наверху, держась за&nbsp;поручень,...  \n193  <IMG title=\"\" src=\"http://farm3.staticflickr.c...  \n194  <p>80% женщин хотят 20% мужчин.\\n20% мужчин хо...  \n\n[188 rows x 3 columns]",
      "text/html": "<div>\n<style scoped>\n    .dataframe tbody tr th:only-of-type {\n        vertical-align: middle;\n    }\n\n    .dataframe tbody tr th {\n        vertical-align: top;\n    }\n\n    .dataframe thead th {\n        text-align: right;\n    }\n</style>\n<table border=\"1\" class=\"dataframe\">\n  <thead>\n    <tr style=\"text-align: right;\">\n      <th></th>\n      <th>date</th>\n      <th>title</th>\n      <th>post</th>\n    </tr>\n  </thead>\n  <tbody>\n    <tr>\n      <th>20</th>\n      <td>2010-03-09 21:10:00</td>\n      <td>о вероятности событий</td>\n      <td>Есть банальная фраза&amp;nbsp;&amp;mdash; дескать мол,...</td>\n    </tr>\n    <tr>\n      <th>12</th>\n      <td>2010-03-15 20:55:00</td>\n      <td>эссе</td>\n      <td>Какой&amp;nbsp;же здоровский на&amp;nbsp;улице снег по...</td>\n    </tr>\n    <tr>\n      <th>19</th>\n      <td>2010-03-20 00:12:00</td>\n      <td>разрыв шалона</td>\n      <td>Эта безумная неделя просто обязана была законч...</td>\n    </tr>\n    <tr>\n      <th>18</th>\n      <td>2010-03-31 09:18:00</td>\n      <td>отчаяние</td>\n      <td>Когда человек принимает решение, что уже пора ...</td>\n    </tr>\n    <tr>\n      <th>30</th>\n      <td>2010-04-18 14:10:00</td>\n      <td>эгоизм</td>\n      <td>Писать о&amp;nbsp;чем-то интересном хочется тогда,...</td>\n    </tr>\n    <tr>\n      <th>...</th>\n      <td>...</td>\n      <td>...</td>\n      <td>...</td>\n    </tr>\n    <tr>\n      <th>42</th>\n      <td>2013-11-20 16:42:00</td>\n      <td>лучше всех</td>\n      <td>Просто оно так есть: уверенность в&amp;nbsp;том, ч...</td>\n    </tr>\n    <tr>\n      <th>189</th>\n      <td>2013-11-25 19:48:00</td>\n      <td>расстояния</td>\n      <td>Ты&amp;nbsp;не&amp;nbsp;удаляешь это имя из&amp;nbsp;телеф...</td>\n    </tr>\n    <tr>\n      <th>190</th>\n      <td>2013-12-01 18:42:00</td>\n      <td>это случилось</td>\n      <td>Я&amp;nbsp;стою наверху, держась за&amp;nbsp;поручень,...</td>\n    </tr>\n    <tr>\n      <th>193</th>\n      <td>2014-01-25 20:39:00</td>\n      <td>падал прошлогодний снег</td>\n      <td>&lt;IMG title=\"\" src=\"http://farm3.staticflickr.c...</td>\n    </tr>\n    <tr>\n      <th>194</th>\n      <td>2014-02-23 20:25:00</td>\n      <td>ассиметрия</td>\n      <td>&lt;p&gt;80% женщин хотят 20% мужчин.\\n20% мужчин хо...</td>\n    </tr>\n  </tbody>\n</table>\n<p>188 rows × 3 columns</p>\n</div>"
     },
     "execution_count": 120,
     "metadata": {},
     "output_type": "execute_result"
    }
   ],
   "source": [
    "lj_df"
   ],
   "metadata": {
    "collapsed": false
   }
  },
  {
   "cell_type": "code",
   "execution_count": 128,
   "outputs": [],
   "source": [
    "lj_df.post = lj_df.post.apply(lambda x: x.replace('&nbsp;', ' '))"
   ],
   "metadata": {
    "collapsed": false
   }
  },
  {
   "cell_type": "code",
   "execution_count": 129,
   "outputs": [
    {
     "data": {
      "text/plain": "                   date                    title  \\\n20  2010-03-09 21:10:00    о вероятности событий   \n12  2010-03-15 20:55:00                     эссе   \n19  2010-03-20 00:12:00            разрыв шалона   \n18  2010-03-31 09:18:00                 отчаяние   \n30  2010-04-18 14:10:00                   эгоизм   \n..                  ...                      ...   \n42  2013-11-20 16:42:00               лучше всех   \n189 2013-11-25 19:48:00               расстояния   \n190 2013-12-01 18:42:00            это случилось   \n193 2014-01-25 20:39:00  падал прошлогодний снег   \n194 2014-02-23 20:25:00               ассиметрия   \n\n                                                  post  \n20   Есть банальная фраза &mdash; дескать мол, меня...  \n12   Какой же здоровский на улице снег пошёл: мягки...  \n19   Эта безумная неделя просто обязана была законч...  \n18   Когда человек принимает решение, что уже пора ...  \n30   Писать о чем-то интересном хочется тогда, когд...  \n..                                                 ...  \n42   Просто оно так есть: уверенность в том, что ты...  \n189  Ты не удаляешь это имя из телефона, потому что...  \n190  Я стою наверху, держась за поручень, и смотрю ...  \n193  <IMG title=\"\" src=\"http://farm3.staticflickr.c...  \n194  <p>80% женщин хотят 20% мужчин.\\n20% мужчин хо...  \n\n[188 rows x 3 columns]",
      "text/html": "<div>\n<style scoped>\n    .dataframe tbody tr th:only-of-type {\n        vertical-align: middle;\n    }\n\n    .dataframe tbody tr th {\n        vertical-align: top;\n    }\n\n    .dataframe thead th {\n        text-align: right;\n    }\n</style>\n<table border=\"1\" class=\"dataframe\">\n  <thead>\n    <tr style=\"text-align: right;\">\n      <th></th>\n      <th>date</th>\n      <th>title</th>\n      <th>post</th>\n    </tr>\n  </thead>\n  <tbody>\n    <tr>\n      <th>20</th>\n      <td>2010-03-09 21:10:00</td>\n      <td>о вероятности событий</td>\n      <td>Есть банальная фраза &amp;mdash; дескать мол, меня...</td>\n    </tr>\n    <tr>\n      <th>12</th>\n      <td>2010-03-15 20:55:00</td>\n      <td>эссе</td>\n      <td>Какой же здоровский на улице снег пошёл: мягки...</td>\n    </tr>\n    <tr>\n      <th>19</th>\n      <td>2010-03-20 00:12:00</td>\n      <td>разрыв шалона</td>\n      <td>Эта безумная неделя просто обязана была законч...</td>\n    </tr>\n    <tr>\n      <th>18</th>\n      <td>2010-03-31 09:18:00</td>\n      <td>отчаяние</td>\n      <td>Когда человек принимает решение, что уже пора ...</td>\n    </tr>\n    <tr>\n      <th>30</th>\n      <td>2010-04-18 14:10:00</td>\n      <td>эгоизм</td>\n      <td>Писать о чем-то интересном хочется тогда, когд...</td>\n    </tr>\n    <tr>\n      <th>...</th>\n      <td>...</td>\n      <td>...</td>\n      <td>...</td>\n    </tr>\n    <tr>\n      <th>42</th>\n      <td>2013-11-20 16:42:00</td>\n      <td>лучше всех</td>\n      <td>Просто оно так есть: уверенность в том, что ты...</td>\n    </tr>\n    <tr>\n      <th>189</th>\n      <td>2013-11-25 19:48:00</td>\n      <td>расстояния</td>\n      <td>Ты не удаляешь это имя из телефона, потому что...</td>\n    </tr>\n    <tr>\n      <th>190</th>\n      <td>2013-12-01 18:42:00</td>\n      <td>это случилось</td>\n      <td>Я стою наверху, держась за поручень, и смотрю ...</td>\n    </tr>\n    <tr>\n      <th>193</th>\n      <td>2014-01-25 20:39:00</td>\n      <td>падал прошлогодний снег</td>\n      <td>&lt;IMG title=\"\" src=\"http://farm3.staticflickr.c...</td>\n    </tr>\n    <tr>\n      <th>194</th>\n      <td>2014-02-23 20:25:00</td>\n      <td>ассиметрия</td>\n      <td>&lt;p&gt;80% женщин хотят 20% мужчин.\\n20% мужчин хо...</td>\n    </tr>\n  </tbody>\n</table>\n<p>188 rows × 3 columns</p>\n</div>"
     },
     "execution_count": 129,
     "metadata": {},
     "output_type": "execute_result"
    }
   ],
   "source": [
    "lj_df"
   ],
   "metadata": {
    "collapsed": false
   }
  },
  {
   "cell_type": "code",
   "execution_count": 130,
   "outputs": [],
   "source": [
    "import pickle as pkl"
   ],
   "metadata": {
    "collapsed": false
   }
  },
  {
   "cell_type": "code",
   "execution_count": 131,
   "outputs": [],
   "source": [
    "lj_df.to_pickle('lj_posts.df')"
   ],
   "metadata": {
    "collapsed": false
   }
  }
 ],
 "metadata": {
  "kernelspec": {
   "display_name": "Python 3",
   "language": "python",
   "name": "python3"
  },
  "language_info": {
   "codemirror_mode": {
    "name": "ipython",
    "version": 2
   },
   "file_extension": ".py",
   "mimetype": "text/x-python",
   "name": "python",
   "nbconvert_exporter": "python",
   "pygments_lexer": "ipython2",
   "version": "2.7.6"
  }
 },
 "nbformat": 4,
 "nbformat_minor": 0
}
