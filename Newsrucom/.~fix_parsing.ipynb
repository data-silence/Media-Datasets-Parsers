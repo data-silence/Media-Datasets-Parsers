{
 "cells": [
  {
   "cell_type": "markdown",
   "id": "18f67dd4",
   "metadata": {},
   "source": [
    "### Код для скачивания tumbnails новости"
   ]
  },
  {
   "cell_type": "code",
   "execution_count": 75,
   "outputs": [],
   "source": [
    "def get_img(photo_url):\n",
    "    if photo_url:\n",
    "        photo_filename = photo_url.split('/')[-1]\n",
    "        photo = requests.get(f\"{photo_url}\", headers=headers)\n",
    "        with open(f'news_photos/{photo_filename}', 'wb') as f:\n",
    "            f.write(photo.content)"
   ],
   "metadata": {
    "collapsed": false
   },
   "id": "74184aa48ea27f3c"
  },
  {
   "cell_type": "code",
   "execution_count": 76,
   "outputs": [],
   "source": [
    "get_img(test_logo)"
   ],
   "metadata": {
    "collapsed": false
   },
   "id": "a314b55dbbee64fc"
  },
  {
   "cell_type": "markdown",
   "source": [
    "### Код для получения даты новости"
   ],
   "metadata": {
    "collapsed": false
   },
   "id": "28b443c6ec6a9106"
  },
  {
   "cell_type": "code",
   "execution_count": 35,
   "outputs": [
    {
     "data": {
      "text/plain": "'https://txt.newsru.com/allnews/world/26jun2015/saakashvili.html'"
     },
     "execution_count": 35,
     "metadata": {},
     "output_type": "execute_result"
    }
   ],
   "source": [
    "test_news_url = news_df.iloc[0]['index']\n",
    "test_news_url"
   ],
   "metadata": {
    "collapsed": false
   },
   "id": "a3f11cb0468760a2"
  },
  {
   "cell_type": "code",
   "execution_count": 36,
   "outputs": [
    {
     "data": {
      "text/plain": "datetime.date(2015, 6, 26)"
     },
     "execution_count": 36,
     "metadata": {},
     "output_type": "execute_result"
    }
   ],
   "source": [
    "test_date = news_df.iloc[0]['date']\n",
    "test_date"
   ],
   "metadata": {
    "collapsed": false
   },
   "id": "ad71411b30157037"
  },
  {
   "cell_type": "code",
   "execution_count": null,
   "outputs": [],
   "source": [],
   "metadata": {
    "collapsed": false
   },
   "id": "af9d0101b905548c"
  },
  {
   "cell_type": "code",
   "execution_count": 8,
   "outputs": [
    {
     "data": {
      "text/plain": "769572"
     },
     "execution_count": 8,
     "metadata": {},
     "output_type": "execute_result"
    }
   ],
   "source": [
    "len(final_dict)"
   ],
   "metadata": {
    "collapsed": false
   },
   "id": "1b7e438c214dd2f8"
  },
  {
   "cell_type": "code",
   "execution_count": 9,
   "outputs": [],
   "source": [
    "df = pd.read_sql(f\"SELECT * FROM news\", arh_engine)"
   ],
   "metadata": {
    "collapsed": false
   },
   "id": "cb2558e16cb2706b"
  },
  {
   "cell_type": "code",
   "execution_count": 23,
   "outputs": [
    {
     "data": {
      "text/plain": "                                                    index   category  \\\n0       https://txt.newsru.com/allnews/world/26jun2015...     В мире   \n1       https://txt.newsru.com/allnews/russia/26jun201...   В России   \n2       https://txt.newsru.com/allnews/world/26jun2015...     В мире   \n3       https://txt.newsru.com/allnews/finance/26jun20...  Экономика   \n4       https://txt.newsru.com/allnews/russia/26jun201...   В России   \n...                                                   ...        ...   \n774349  https://www.inopressa.ru/article/08Apr2021/sue...  Инопресса   \n774350  https://txt.newsru.com/allnews/russia/08apr202...   В России   \n774351  https://txt.newsru.com/allnews/russia/08apr202...   В России   \n774352  https://txt.newsru.com/allnews/blog/08apr2021/...     Мнения   \n774353  https://txt.newsru.com/allnews/world/08apr2021...     В мире   \n\n                                                    title  \\\n0       Саакашвили устроил скандал на заседании комисс...   \n1       В Москве у станции метро \"Щелковская\" загорелс...   \n2       Дело российского солдата Пермякова, который уб...   \n3       В правительстве РФ допустили резкое повышение ...   \n4       МИД назвал действия НАТО в Европе \"неадекватны...   \n...                                                   ...   \n774349  Светлана Алексиевич: \"Может начаться гражданск...   \n774350  Четверо участников акции \"Альянса врачей\"* воз...   \n774351  Провокаторы пытались сорвать показ фильма о пе...   \n774352  Алексей Захаров: \"Влияние режима на умы ослабе...   \n774353  Bloomberg: США рассматривают возможность высыл...   \n\n                                               short_news  \\\n0       Губернатор Одесской области  обвинил главу вед...   \n1       Инцидент произошел на востоке столицы, рядом с...   \n2       Подследственность дела обсуждалась на встрече ...   \n3       Упоминание этой темы содержится в проекте Осно...   \n4       В четверг в Брюсселе завершилась встреча глав ...   \n...                                                   ...   \n774349  Революция в Белоруссии не закончилась, считает...   \n774350  Всем им вменяется ч.3 ст. 20.2.2 КоАП РФ - мас...   \n774351  Активисты SERB пытались сорвать показ фильма \"...   \n774352  Социолог обращает внимание на динамику отношен...   \n774353  В Белом доме запланирована встреча высокопоста...   \n\n                                                full_news        date  \\\n0       Экс-президент Грузии Михаил Саакашвили, которы...  2015-06-26   \n1       Необычный дорожный инцидент произошел в Москве...  2015-06-26   \n2       На фоне массовых акций против повышения тарифо...  2015-06-26   \n3       Правительство РФ продолжает обсуждать подходы ...  2015-06-26   \n4       В четверг в Брюсселе завершилась встреча глав ...  2015-06-26   \n...                                                   ...         ...   \n774349                                                NaN  2021-04-08   \n774350  Петушинский районный суд Владимирской области ...  2021-04-08   \n774351  Полицейские пришли в кинотеатр \"Октябрь\" в Мос...  2021-04-08   \n774352  \"Вот график (\"Левада-центра\"* - прим. NEWSru.c...  2021-04-08   \n774353  Администрация США закончила анализ \"российских...  2021-04-08   \n\n                                                 foto_url  \\\n0       https://image.newsru.com/pict/id/large/1749514...   \n1       https://image.newsru.com/pict/id/large/1749510...   \n2       https://image.newsru.com/pict/id/large/1749508...   \n3       https://image.newsru.com/pict/id/large/1749502...   \n4       https://image.newsru.com/pict/id/large/1749512...   \n...                                                   ...   \n774349                                                NaN   \n774350  https://image.newsru.com/v2/01/2021/04/0/01b2d...   \n774351  https://image.newsru.com/v2/01/2021/04/a/a4146...   \n774352  https://image.newsru.com/v2/61/2021/04/a/a6374...   \n774353  https://image.newsru.com/v2/02/2021/04/b/baca3...   \n\n                                                    links  \\\n0       (https://txt.newsru.com/allnews/world/12jun201...   \n1       https://txt.newsru.com/allnews/russia/25jun201...   \n2       (https://txt.newsru.com/allnews/world/21jan201...   \n3       (https://txt.newsru.com/allnews/finance/20may2...   \n4       (https://txt.newsru.com/allnews/russia/24jun20...   \n...                                                   ...   \n774349                                            (N,a,N)   \n774350  (https://newsru.com/russia/06apr2021/vasilieva...   \n774351  (https://newsru.com/russia/07apr2021/two_more....   \n774352    https://newsru.com/blog/17feb2021/soloviev.html   \n774353  (https://newsru.com/russia/17mar2021/siluanov....   \n\n                                                     tags  \n0                                    {СНГ,Украина,Одесса}  \n1                             {Москва,Транспорт,Инцидент}  \n2                                  {СНГ,Армения,Криминал}  \n3                              {Экономика,Пенсии,Реформа}  \n4                           {\"МИД России\",Заявление,НАТО}  \n...                                                   ...  \n774349                                                NaN  \n774350  {\"Партии и политики\",Общество,\"Навальный, Алек...  \n774351                       {Москва,Инцидент,Задержание}  \n774352  {\"Досье NEWSru.com\",Мнения,Авторы,\"Алексей Зах...  \n774353                   {США,\"Внешняя политика\",Санкции}  \n\n[774354 rows x 9 columns]",
      "text/html": "<div>\n<style scoped>\n    .dataframe tbody tr th:only-of-type {\n        vertical-align: middle;\n    }\n\n    .dataframe tbody tr th {\n        vertical-align: top;\n    }\n\n    .dataframe thead th {\n        text-align: right;\n    }\n</style>\n<table border=\"1\" class=\"dataframe\">\n  <thead>\n    <tr style=\"text-align: right;\">\n      <th></th>\n      <th>index</th>\n      <th>category</th>\n      <th>title</th>\n      <th>short_news</th>\n      <th>full_news</th>\n      <th>date</th>\n      <th>foto_url</th>\n      <th>links</th>\n      <th>tags</th>\n    </tr>\n  </thead>\n  <tbody>\n    <tr>\n      <th>0</th>\n      <td>https://txt.newsru.com/allnews/world/26jun2015...</td>\n      <td>В мире</td>\n      <td>Саакашвили устроил скандал на заседании комисс...</td>\n      <td>Губернатор Одесской области  обвинил главу вед...</td>\n      <td>Экс-президент Грузии Михаил Саакашвили, которы...</td>\n      <td>2015-06-26</td>\n      <td>https://image.newsru.com/pict/id/large/1749514...</td>\n      <td>(https://txt.newsru.com/allnews/world/12jun201...</td>\n      <td>{СНГ,Украина,Одесса}</td>\n    </tr>\n    <tr>\n      <th>1</th>\n      <td>https://txt.newsru.com/allnews/russia/26jun201...</td>\n      <td>В России</td>\n      <td>В Москве у станции метро \"Щелковская\" загорелс...</td>\n      <td>Инцидент произошел на востоке столицы, рядом с...</td>\n      <td>Необычный дорожный инцидент произошел в Москве...</td>\n      <td>2015-06-26</td>\n      <td>https://image.newsru.com/pict/id/large/1749510...</td>\n      <td>https://txt.newsru.com/allnews/russia/25jun201...</td>\n      <td>{Москва,Транспорт,Инцидент}</td>\n    </tr>\n    <tr>\n      <th>2</th>\n      <td>https://txt.newsru.com/allnews/world/26jun2015...</td>\n      <td>В мире</td>\n      <td>Дело российского солдата Пермякова, который уб...</td>\n      <td>Подследственность дела обсуждалась на встрече ...</td>\n      <td>На фоне массовых акций против повышения тарифо...</td>\n      <td>2015-06-26</td>\n      <td>https://image.newsru.com/pict/id/large/1749508...</td>\n      <td>(https://txt.newsru.com/allnews/world/21jan201...</td>\n      <td>{СНГ,Армения,Криминал}</td>\n    </tr>\n    <tr>\n      <th>3</th>\n      <td>https://txt.newsru.com/allnews/finance/26jun20...</td>\n      <td>Экономика</td>\n      <td>В правительстве РФ допустили резкое повышение ...</td>\n      <td>Упоминание этой темы содержится в проекте Осно...</td>\n      <td>Правительство РФ продолжает обсуждать подходы ...</td>\n      <td>2015-06-26</td>\n      <td>https://image.newsru.com/pict/id/large/1749502...</td>\n      <td>(https://txt.newsru.com/allnews/finance/20may2...</td>\n      <td>{Экономика,Пенсии,Реформа}</td>\n    </tr>\n    <tr>\n      <th>4</th>\n      <td>https://txt.newsru.com/allnews/russia/26jun201...</td>\n      <td>В России</td>\n      <td>МИД назвал действия НАТО в Европе \"неадекватны...</td>\n      <td>В четверг в Брюсселе завершилась встреча глав ...</td>\n      <td>В четверг в Брюсселе завершилась встреча глав ...</td>\n      <td>2015-06-26</td>\n      <td>https://image.newsru.com/pict/id/large/1749512...</td>\n      <td>(https://txt.newsru.com/allnews/russia/24jun20...</td>\n      <td>{\"МИД России\",Заявление,НАТО}</td>\n    </tr>\n    <tr>\n      <th>...</th>\n      <td>...</td>\n      <td>...</td>\n      <td>...</td>\n      <td>...</td>\n      <td>...</td>\n      <td>...</td>\n      <td>...</td>\n      <td>...</td>\n      <td>...</td>\n    </tr>\n    <tr>\n      <th>774349</th>\n      <td>https://www.inopressa.ru/article/08Apr2021/sue...</td>\n      <td>Инопресса</td>\n      <td>Светлана Алексиевич: \"Может начаться гражданск...</td>\n      <td>Революция в Белоруссии не закончилась, считает...</td>\n      <td>NaN</td>\n      <td>2021-04-08</td>\n      <td>NaN</td>\n      <td>(N,a,N)</td>\n      <td>NaN</td>\n    </tr>\n    <tr>\n      <th>774350</th>\n      <td>https://txt.newsru.com/allnews/russia/08apr202...</td>\n      <td>В России</td>\n      <td>Четверо участников акции \"Альянса врачей\"* воз...</td>\n      <td>Всем им вменяется ч.3 ст. 20.2.2 КоАП РФ - мас...</td>\n      <td>Петушинский районный суд Владимирской области ...</td>\n      <td>2021-04-08</td>\n      <td>https://image.newsru.com/v2/01/2021/04/0/01b2d...</td>\n      <td>(https://newsru.com/russia/06apr2021/vasilieva...</td>\n      <td>{\"Партии и политики\",Общество,\"Навальный, Алек...</td>\n    </tr>\n    <tr>\n      <th>774351</th>\n      <td>https://txt.newsru.com/allnews/russia/08apr202...</td>\n      <td>В России</td>\n      <td>Провокаторы пытались сорвать показ фильма о пе...</td>\n      <td>Активисты SERB пытались сорвать показ фильма \"...</td>\n      <td>Полицейские пришли в кинотеатр \"Октябрь\" в Мос...</td>\n      <td>2021-04-08</td>\n      <td>https://image.newsru.com/v2/01/2021/04/a/a4146...</td>\n      <td>(https://newsru.com/russia/07apr2021/two_more....</td>\n      <td>{Москва,Инцидент,Задержание}</td>\n    </tr>\n    <tr>\n      <th>774352</th>\n      <td>https://txt.newsru.com/allnews/blog/08apr2021/...</td>\n      <td>Мнения</td>\n      <td>Алексей Захаров: \"Влияние режима на умы ослабе...</td>\n      <td>Социолог обращает внимание на динамику отношен...</td>\n      <td>\"Вот график (\"Левада-центра\"* - прим. NEWSru.c...</td>\n      <td>2021-04-08</td>\n      <td>https://image.newsru.com/v2/61/2021/04/a/a6374...</td>\n      <td>https://newsru.com/blog/17feb2021/soloviev.html</td>\n      <td>{\"Досье NEWSru.com\",Мнения,Авторы,\"Алексей Зах...</td>\n    </tr>\n    <tr>\n      <th>774353</th>\n      <td>https://txt.newsru.com/allnews/world/08apr2021...</td>\n      <td>В мире</td>\n      <td>Bloomberg: США рассматривают возможность высыл...</td>\n      <td>В Белом доме запланирована встреча высокопоста...</td>\n      <td>Администрация США закончила анализ \"российских...</td>\n      <td>2021-04-08</td>\n      <td>https://image.newsru.com/v2/02/2021/04/b/baca3...</td>\n      <td>(https://newsru.com/russia/17mar2021/siluanov....</td>\n      <td>{США,\"Внешняя политика\",Санкции}</td>\n    </tr>\n  </tbody>\n</table>\n<p>774354 rows × 9 columns</p>\n</div>"
     },
     "execution_count": 23,
     "metadata": {},
     "output_type": "execute_result"
    }
   ],
   "source": [
    "df"
   ],
   "metadata": {
    "collapsed": false
   },
   "id": "9fe2d26f3f0eedd1"
  },
  {
   "cell_type": "code",
   "execution_count": 25,
   "outputs": [
    {
     "data": {
      "text/plain": "2000-07-05    9\n2000-07-03    9\n2015-06-16    8\n2014-12-12    6\n2000-07-04    5\n2015-11-03    4\n2015-02-09    4\n2015-04-15    4\n2016-02-29    2\n2016-03-16    2\n2017-01-05    2\n2015-02-03    2\n2014-05-10    2\n2015-10-09    1\nName: date, dtype: int64"
     },
     "execution_count": 25,
     "metadata": {},
     "output_type": "execute_result"
    }
   ],
   "source": [
    "df.date.value_counts()[df.date.value_counts()<10]"
   ],
   "metadata": {
    "collapsed": false
   },
   "id": "e064de17ad0aecad"
  },
  {
   "cell_type": "code",
   "execution_count": 12,
   "outputs": [
    {
     "data": {
      "text/plain": "                                                    index   category  \\\n0       https://txt.newsru.com/allnews/world/26jun2015...     В мире   \n1       https://txt.newsru.com/allnews/russia/26jun201...   В России   \n2       https://txt.newsru.com/allnews/world/26jun2015...     В мире   \n3       https://txt.newsru.com/allnews/finance/26jun20...  Экономика   \n4       https://txt.newsru.com/allnews/russia/26jun201...   В России   \n...                                                   ...        ...   \n774349  https://www.inopressa.ru/article/08Apr2021/sue...  Инопресса   \n774350  https://txt.newsru.com/allnews/russia/08apr202...   В России   \n774351  https://txt.newsru.com/allnews/russia/08apr202...   В России   \n774352  https://txt.newsru.com/allnews/blog/08apr2021/...     Мнения   \n774353  https://txt.newsru.com/allnews/world/08apr2021...     В мире   \n\n                                                    title  \\\n0       Саакашвили устроил скандал на заседании комисс...   \n1       В Москве у станции метро \"Щелковская\" загорелс...   \n2       Дело российского солдата Пермякова, который уб...   \n3       В правительстве РФ допустили резкое повышение ...   \n4       МИД назвал действия НАТО в Европе \"неадекватны...   \n...                                                   ...   \n774349  Светлана Алексиевич: \"Может начаться гражданск...   \n774350  Четверо участников акции \"Альянса врачей\"* воз...   \n774351  Провокаторы пытались сорвать показ фильма о пе...   \n774352  Алексей Захаров: \"Влияние режима на умы ослабе...   \n774353  Bloomberg: США рассматривают возможность высыл...   \n\n                                               short_news  \\\n0       Губернатор Одесской области  обвинил главу вед...   \n1       Инцидент произошел на востоке столицы, рядом с...   \n2       Подследственность дела обсуждалась на встрече ...   \n3       Упоминание этой темы содержится в проекте Осно...   \n4       В четверг в Брюсселе завершилась встреча глав ...   \n...                                                   ...   \n774349  Революция в Белоруссии не закончилась, считает...   \n774350  Всем им вменяется ч.3 ст. 20.2.2 КоАП РФ - мас...   \n774351  Активисты SERB пытались сорвать показ фильма \"...   \n774352  Социолог обращает внимание на динамику отношен...   \n774353  В Белом доме запланирована встреча высокопоста...   \n\n                                                full_news        date  \\\n0       Экс-президент Грузии Михаил Саакашвили, которы...  2015-06-26   \n1       Необычный дорожный инцидент произошел в Москве...  2015-06-26   \n2       На фоне массовых акций против повышения тарифо...  2015-06-26   \n3       Правительство РФ продолжает обсуждать подходы ...  2015-06-26   \n4       В четверг в Брюсселе завершилась встреча глав ...  2015-06-26   \n...                                                   ...         ...   \n774349                                                NaN  2021-04-08   \n774350  Петушинский районный суд Владимирской области ...  2021-04-08   \n774351  Полицейские пришли в кинотеатр \"Октябрь\" в Мос...  2021-04-08   \n774352  \"Вот график (\"Левада-центра\"* - прим. NEWSru.c...  2021-04-08   \n774353  Администрация США закончила анализ \"российских...  2021-04-08   \n\n                                                 foto_url  \\\n0       https://image.newsru.com/pict/id/large/1749514...   \n1       https://image.newsru.com/pict/id/large/1749510...   \n2       https://image.newsru.com/pict/id/large/1749508...   \n3       https://image.newsru.com/pict/id/large/1749502...   \n4       https://image.newsru.com/pict/id/large/1749512...   \n...                                                   ...   \n774349                                                NaN   \n774350  https://image.newsru.com/v2/01/2021/04/0/01b2d...   \n774351  https://image.newsru.com/v2/01/2021/04/a/a4146...   \n774352  https://image.newsru.com/v2/61/2021/04/a/a6374...   \n774353  https://image.newsru.com/v2/02/2021/04/b/baca3...   \n\n                                                    links  \\\n0       (https://txt.newsru.com/allnews/world/12jun201...   \n1       https://txt.newsru.com/allnews/russia/25jun201...   \n2       (https://txt.newsru.com/allnews/world/21jan201...   \n3       (https://txt.newsru.com/allnews/finance/20may2...   \n4       (https://txt.newsru.com/allnews/russia/24jun20...   \n...                                                   ...   \n774349                                            (N,a,N)   \n774350  (https://newsru.com/russia/06apr2021/vasilieva...   \n774351  (https://newsru.com/russia/07apr2021/two_more....   \n774352    https://newsru.com/blog/17feb2021/soloviev.html   \n774353  (https://newsru.com/russia/17mar2021/siluanov....   \n\n                                                     tags            full_date  \n0                                    {СНГ,Украина,Одесса}  2015-06-26 23:55:00  \n1                             {Москва,Транспорт,Инцидент}  2015-06-26 23:35:00  \n2                                  {СНГ,Армения,Криминал}  2015-06-26 22:39:00  \n3                              {Экономика,Пенсии,Реформа}  2015-06-26 22:32:00  \n4                           {\"МИД России\",Заявление,НАТО}  2015-06-26 22:30:00  \n...                                                   ...                  ...  \n774349                                                NaN  2021-04-08 12:00:00  \n774350  {\"Партии и политики\",Общество,\"Навальный, Алек...  2021-04-08 09:50:00  \n774351                       {Москва,Инцидент,Задержание}  2021-04-08 09:43:00  \n774352  {\"Досье NEWSru.com\",Мнения,Авторы,\"Алексей Зах...  2021-04-08 09:17:00  \n774353                   {США,\"Внешняя политика\",Санкции}  2021-04-08 08:49:00  \n\n[774354 rows x 10 columns]",
      "text/html": "<div>\n<style scoped>\n    .dataframe tbody tr th:only-of-type {\n        vertical-align: middle;\n    }\n\n    .dataframe tbody tr th {\n        vertical-align: top;\n    }\n\n    .dataframe thead th {\n        text-align: right;\n    }\n</style>\n<table border=\"1\" class=\"dataframe\">\n  <thead>\n    <tr style=\"text-align: right;\">\n      <th></th>\n      <th>index</th>\n      <th>category</th>\n      <th>title</th>\n      <th>short_news</th>\n      <th>full_news</th>\n      <th>date</th>\n      <th>foto_url</th>\n      <th>links</th>\n      <th>tags</th>\n      <th>full_date</th>\n    </tr>\n  </thead>\n  <tbody>\n    <tr>\n      <th>0</th>\n      <td>https://txt.newsru.com/allnews/world/26jun2015...</td>\n      <td>В мире</td>\n      <td>Саакашвили устроил скандал на заседании комисс...</td>\n      <td>Губернатор Одесской области  обвинил главу вед...</td>\n      <td>Экс-президент Грузии Михаил Саакашвили, которы...</td>\n      <td>2015-06-26</td>\n      <td>https://image.newsru.com/pict/id/large/1749514...</td>\n      <td>(https://txt.newsru.com/allnews/world/12jun201...</td>\n      <td>{СНГ,Украина,Одесса}</td>\n      <td>2015-06-26 23:55:00</td>\n    </tr>\n    <tr>\n      <th>1</th>\n      <td>https://txt.newsru.com/allnews/russia/26jun201...</td>\n      <td>В России</td>\n      <td>В Москве у станции метро \"Щелковская\" загорелс...</td>\n      <td>Инцидент произошел на востоке столицы, рядом с...</td>\n      <td>Необычный дорожный инцидент произошел в Москве...</td>\n      <td>2015-06-26</td>\n      <td>https://image.newsru.com/pict/id/large/1749510...</td>\n      <td>https://txt.newsru.com/allnews/russia/25jun201...</td>\n      <td>{Москва,Транспорт,Инцидент}</td>\n      <td>2015-06-26 23:35:00</td>\n    </tr>\n    <tr>\n      <th>2</th>\n      <td>https://txt.newsru.com/allnews/world/26jun2015...</td>\n      <td>В мире</td>\n      <td>Дело российского солдата Пермякова, который уб...</td>\n      <td>Подследственность дела обсуждалась на встрече ...</td>\n      <td>На фоне массовых акций против повышения тарифо...</td>\n      <td>2015-06-26</td>\n      <td>https://image.newsru.com/pict/id/large/1749508...</td>\n      <td>(https://txt.newsru.com/allnews/world/21jan201...</td>\n      <td>{СНГ,Армения,Криминал}</td>\n      <td>2015-06-26 22:39:00</td>\n    </tr>\n    <tr>\n      <th>3</th>\n      <td>https://txt.newsru.com/allnews/finance/26jun20...</td>\n      <td>Экономика</td>\n      <td>В правительстве РФ допустили резкое повышение ...</td>\n      <td>Упоминание этой темы содержится в проекте Осно...</td>\n      <td>Правительство РФ продолжает обсуждать подходы ...</td>\n      <td>2015-06-26</td>\n      <td>https://image.newsru.com/pict/id/large/1749502...</td>\n      <td>(https://txt.newsru.com/allnews/finance/20may2...</td>\n      <td>{Экономика,Пенсии,Реформа}</td>\n      <td>2015-06-26 22:32:00</td>\n    </tr>\n    <tr>\n      <th>4</th>\n      <td>https://txt.newsru.com/allnews/russia/26jun201...</td>\n      <td>В России</td>\n      <td>МИД назвал действия НАТО в Европе \"неадекватны...</td>\n      <td>В четверг в Брюсселе завершилась встреча глав ...</td>\n      <td>В четверг в Брюсселе завершилась встреча глав ...</td>\n      <td>2015-06-26</td>\n      <td>https://image.newsru.com/pict/id/large/1749512...</td>\n      <td>(https://txt.newsru.com/allnews/russia/24jun20...</td>\n      <td>{\"МИД России\",Заявление,НАТО}</td>\n      <td>2015-06-26 22:30:00</td>\n    </tr>\n    <tr>\n      <th>...</th>\n      <td>...</td>\n      <td>...</td>\n      <td>...</td>\n      <td>...</td>\n      <td>...</td>\n      <td>...</td>\n      <td>...</td>\n      <td>...</td>\n      <td>...</td>\n      <td>...</td>\n    </tr>\n    <tr>\n      <th>774349</th>\n      <td>https://www.inopressa.ru/article/08Apr2021/sue...</td>\n      <td>Инопресса</td>\n      <td>Светлана Алексиевич: \"Может начаться гражданск...</td>\n      <td>Революция в Белоруссии не закончилась, считает...</td>\n      <td>NaN</td>\n      <td>2021-04-08</td>\n      <td>NaN</td>\n      <td>(N,a,N)</td>\n      <td>NaN</td>\n      <td>2021-04-08 12:00:00</td>\n    </tr>\n    <tr>\n      <th>774350</th>\n      <td>https://txt.newsru.com/allnews/russia/08apr202...</td>\n      <td>В России</td>\n      <td>Четверо участников акции \"Альянса врачей\"* воз...</td>\n      <td>Всем им вменяется ч.3 ст. 20.2.2 КоАП РФ - мас...</td>\n      <td>Петушинский районный суд Владимирской области ...</td>\n      <td>2021-04-08</td>\n      <td>https://image.newsru.com/v2/01/2021/04/0/01b2d...</td>\n      <td>(https://newsru.com/russia/06apr2021/vasilieva...</td>\n      <td>{\"Партии и политики\",Общество,\"Навальный, Алек...</td>\n      <td>2021-04-08 09:50:00</td>\n    </tr>\n    <tr>\n      <th>774351</th>\n      <td>https://txt.newsru.com/allnews/russia/08apr202...</td>\n      <td>В России</td>\n      <td>Провокаторы пытались сорвать показ фильма о пе...</td>\n      <td>Активисты SERB пытались сорвать показ фильма \"...</td>\n      <td>Полицейские пришли в кинотеатр \"Октябрь\" в Мос...</td>\n      <td>2021-04-08</td>\n      <td>https://image.newsru.com/v2/01/2021/04/a/a4146...</td>\n      <td>(https://newsru.com/russia/07apr2021/two_more....</td>\n      <td>{Москва,Инцидент,Задержание}</td>\n      <td>2021-04-08 09:43:00</td>\n    </tr>\n    <tr>\n      <th>774352</th>\n      <td>https://txt.newsru.com/allnews/blog/08apr2021/...</td>\n      <td>Мнения</td>\n      <td>Алексей Захаров: \"Влияние режима на умы ослабе...</td>\n      <td>Социолог обращает внимание на динамику отношен...</td>\n      <td>\"Вот график (\"Левада-центра\"* - прим. NEWSru.c...</td>\n      <td>2021-04-08</td>\n      <td>https://image.newsru.com/v2/61/2021/04/a/a6374...</td>\n      <td>https://newsru.com/blog/17feb2021/soloviev.html</td>\n      <td>{\"Досье NEWSru.com\",Мнения,Авторы,\"Алексей Зах...</td>\n      <td>2021-04-08 09:17:00</td>\n    </tr>\n    <tr>\n      <th>774353</th>\n      <td>https://txt.newsru.com/allnews/world/08apr2021...</td>\n      <td>В мире</td>\n      <td>Bloomberg: США рассматривают возможность высыл...</td>\n      <td>В Белом доме запланирована встреча высокопоста...</td>\n      <td>Администрация США закончила анализ \"российских...</td>\n      <td>2021-04-08</td>\n      <td>https://image.newsru.com/v2/02/2021/04/b/baca3...</td>\n      <td>(https://newsru.com/russia/17mar2021/siluanov....</td>\n      <td>{США,\"Внешняя политика\",Санкции}</td>\n      <td>2021-04-08 08:49:00</td>\n    </tr>\n  </tbody>\n</table>\n<p>774354 rows × 10 columns</p>\n</div>"
     },
     "execution_count": 12,
     "metadata": {},
     "output_type": "execute_result"
    }
   ],
   "source": [
    "df"
   ],
   "metadata": {
    "collapsed": false
   },
   "id": "c190708f90eea47b"
  },
  {
   "cell_type": "code",
   "execution_count": null,
   "outputs": [],
   "source": [],
   "metadata": {
    "collapsed": false
   },
   "id": "1e525b9f6764f87e"
  },
  {
   "cell_type": "code",
   "execution_count": null,
   "outputs": [],
   "source": [],
   "metadata": {
    "collapsed": false
   },
   "id": "8fb9836817b1a1fa"
  },
  {
   "cell_type": "code",
   "execution_count": 16,
   "outputs": [
    {
     "data": {
      "text/plain": "                                                      url   category  \\\n0       https://txt.newsru.com/allnews/world/26jun2015...     В мире   \n1       https://txt.newsru.com/allnews/russia/26jun201...   В России   \n2       https://txt.newsru.com/allnews/world/26jun2015...     В мире   \n3       https://txt.newsru.com/allnews/finance/26jun20...  Экономика   \n4       https://txt.newsru.com/allnews/russia/26jun201...   В России   \n...                                                   ...        ...   \n774349  https://www.inopressa.ru/article/08Apr2021/sue...  Инопресса   \n774350  https://txt.newsru.com/allnews/russia/08apr202...   В России   \n774351  https://txt.newsru.com/allnews/russia/08apr202...   В России   \n774352  https://txt.newsru.com/allnews/blog/08apr2021/...     Мнения   \n774353  https://txt.newsru.com/allnews/world/08apr2021...     В мире   \n\n                                                    title  \\\n0       Саакашвили устроил скандал на заседании комисс...   \n1       В Москве у станции метро \"Щелковская\" загорелс...   \n2       Дело российского солдата Пермякова, который уб...   \n3       В правительстве РФ допустили резкое повышение ...   \n4       МИД назвал действия НАТО в Европе \"неадекватны...   \n...                                                   ...   \n774349  Светлана Алексиевич: \"Может начаться гражданск...   \n774350  Четверо участников акции \"Альянса врачей\"* воз...   \n774351  Провокаторы пытались сорвать показ фильма о пе...   \n774352  Алексей Захаров: \"Влияние режима на умы ослабе...   \n774353  Bloomberg: США рассматривают возможность высыл...   \n\n                                                   resume  \\\n0       Губернатор Одесской области  обвинил главу вед...   \n1       Инцидент произошел на востоке столицы, рядом с...   \n2       Подследственность дела обсуждалась на встрече ...   \n3       Упоминание этой темы содержится в проекте Осно...   \n4       В четверг в Брюсселе завершилась встреча глав ...   \n...                                                   ...   \n774349  Революция в Белоруссии не закончилась, считает...   \n774350  Всем им вменяется ч.3 ст. 20.2.2 КоАП РФ - мас...   \n774351  Активисты SERB пытались сорвать показ фильма \"...   \n774352  Социолог обращает внимание на динамику отношен...   \n774353  В Белом доме запланирована встреча высокопоста...   \n\n                                                     news  \\\n0       Экс-президент Грузии Михаил Саакашвили, которы...   \n1       Необычный дорожный инцидент произошел в Москве...   \n2       На фоне массовых акций против повышения тарифо...   \n3       Правительство РФ продолжает обсуждать подходы ...   \n4       В четверг в Брюсселе завершилась встреча глав ...   \n...                                                   ...   \n774349                                                NaN   \n774350  Петушинский районный суд Владимирской области ...   \n774351  Полицейские пришли в кинотеатр \"Октябрь\" в Мос...   \n774352  \"Вот график (\"Левада-центра\"* - прим. NEWSru.c...   \n774353  Администрация США закончила анализ \"российских...   \n\n                                                 foto_url  \\\n0       https://image.newsru.com/pict/id/large/1749514...   \n1       https://image.newsru.com/pict/id/large/1749510...   \n2       https://image.newsru.com/pict/id/large/1749508...   \n3       https://image.newsru.com/pict/id/large/1749502...   \n4       https://image.newsru.com/pict/id/large/1749512...   \n...                                                   ...   \n774349                                                NaN   \n774350  https://image.newsru.com/v2/01/2021/04/0/01b2d...   \n774351  https://image.newsru.com/v2/01/2021/04/a/a4146...   \n774352  https://image.newsru.com/v2/61/2021/04/a/a6374...   \n774353  https://image.newsru.com/v2/02/2021/04/b/baca3...   \n\n                                                    links  \\\n0       (https://txt.newsru.com/allnews/world/12jun201...   \n1       https://txt.newsru.com/allnews/russia/25jun201...   \n2       (https://txt.newsru.com/allnews/world/21jan201...   \n3       (https://txt.newsru.com/allnews/finance/20may2...   \n4       (https://txt.newsru.com/allnews/russia/24jun20...   \n...                                                   ...   \n774349                                            (N,a,N)   \n774350  (https://newsru.com/russia/06apr2021/vasilieva...   \n774351  (https://newsru.com/russia/07apr2021/two_more....   \n774352    https://newsru.com/blog/17feb2021/soloviev.html   \n774353  (https://newsru.com/russia/17mar2021/siluanov....   \n\n                                                     tags  \\\n0                                    {СНГ,Украина,Одесса}   \n1                             {Москва,Транспорт,Инцидент}   \n2                                  {СНГ,Армения,Криминал}   \n3                              {Экономика,Пенсии,Реформа}   \n4                           {\"МИД России\",Заявление,НАТО}   \n...                                                   ...   \n774349                                                NaN   \n774350  {\"Партии и политики\",Общество,\"Навальный, Алек...   \n774351                       {Москва,Инцидент,Задержание}   \n774352  {\"Досье NEWSru.com\",Мнения,Авторы,\"Алексей Зах...   \n774353                   {США,\"Внешняя политика\",Санкции}   \n\n                       date      agency  \n0       2015-06-26 23:55:00  newsru.com  \n1       2015-06-26 23:35:00  newsru.com  \n2       2015-06-26 22:39:00  newsru.com  \n3       2015-06-26 22:32:00  newsru.com  \n4       2015-06-26 22:30:00  newsru.com  \n...                     ...         ...  \n774349  2021-04-08 12:00:00  newsru.com  \n774350  2021-04-08 09:50:00  newsru.com  \n774351  2021-04-08 09:43:00  newsru.com  \n774352  2021-04-08 09:17:00  newsru.com  \n774353  2021-04-08 08:49:00  newsru.com  \n\n[774354 rows x 10 columns]",
      "text/html": "<div>\n<style scoped>\n    .dataframe tbody tr th:only-of-type {\n        vertical-align: middle;\n    }\n\n    .dataframe tbody tr th {\n        vertical-align: top;\n    }\n\n    .dataframe thead th {\n        text-align: right;\n    }\n</style>\n<table border=\"1\" class=\"dataframe\">\n  <thead>\n    <tr style=\"text-align: right;\">\n      <th></th>\n      <th>url</th>\n      <th>category</th>\n      <th>title</th>\n      <th>resume</th>\n      <th>news</th>\n      <th>foto_url</th>\n      <th>links</th>\n      <th>tags</th>\n      <th>date</th>\n      <th>agency</th>\n    </tr>\n  </thead>\n  <tbody>\n    <tr>\n      <th>0</th>\n      <td>https://txt.newsru.com/allnews/world/26jun2015...</td>\n      <td>В мире</td>\n      <td>Саакашвили устроил скандал на заседании комисс...</td>\n      <td>Губернатор Одесской области  обвинил главу вед...</td>\n      <td>Экс-президент Грузии Михаил Саакашвили, которы...</td>\n      <td>https://image.newsru.com/pict/id/large/1749514...</td>\n      <td>(https://txt.newsru.com/allnews/world/12jun201...</td>\n      <td>{СНГ,Украина,Одесса}</td>\n      <td>2015-06-26 23:55:00</td>\n      <td>newsru.com</td>\n    </tr>\n    <tr>\n      <th>1</th>\n      <td>https://txt.newsru.com/allnews/russia/26jun201...</td>\n      <td>В России</td>\n      <td>В Москве у станции метро \"Щелковская\" загорелс...</td>\n      <td>Инцидент произошел на востоке столицы, рядом с...</td>\n      <td>Необычный дорожный инцидент произошел в Москве...</td>\n      <td>https://image.newsru.com/pict/id/large/1749510...</td>\n      <td>https://txt.newsru.com/allnews/russia/25jun201...</td>\n      <td>{Москва,Транспорт,Инцидент}</td>\n      <td>2015-06-26 23:35:00</td>\n      <td>newsru.com</td>\n    </tr>\n    <tr>\n      <th>2</th>\n      <td>https://txt.newsru.com/allnews/world/26jun2015...</td>\n      <td>В мире</td>\n      <td>Дело российского солдата Пермякова, который уб...</td>\n      <td>Подследственность дела обсуждалась на встрече ...</td>\n      <td>На фоне массовых акций против повышения тарифо...</td>\n      <td>https://image.newsru.com/pict/id/large/1749508...</td>\n      <td>(https://txt.newsru.com/allnews/world/21jan201...</td>\n      <td>{СНГ,Армения,Криминал}</td>\n      <td>2015-06-26 22:39:00</td>\n      <td>newsru.com</td>\n    </tr>\n    <tr>\n      <th>3</th>\n      <td>https://txt.newsru.com/allnews/finance/26jun20...</td>\n      <td>Экономика</td>\n      <td>В правительстве РФ допустили резкое повышение ...</td>\n      <td>Упоминание этой темы содержится в проекте Осно...</td>\n      <td>Правительство РФ продолжает обсуждать подходы ...</td>\n      <td>https://image.newsru.com/pict/id/large/1749502...</td>\n      <td>(https://txt.newsru.com/allnews/finance/20may2...</td>\n      <td>{Экономика,Пенсии,Реформа}</td>\n      <td>2015-06-26 22:32:00</td>\n      <td>newsru.com</td>\n    </tr>\n    <tr>\n      <th>4</th>\n      <td>https://txt.newsru.com/allnews/russia/26jun201...</td>\n      <td>В России</td>\n      <td>МИД назвал действия НАТО в Европе \"неадекватны...</td>\n      <td>В четверг в Брюсселе завершилась встреча глав ...</td>\n      <td>В четверг в Брюсселе завершилась встреча глав ...</td>\n      <td>https://image.newsru.com/pict/id/large/1749512...</td>\n      <td>(https://txt.newsru.com/allnews/russia/24jun20...</td>\n      <td>{\"МИД России\",Заявление,НАТО}</td>\n      <td>2015-06-26 22:30:00</td>\n      <td>newsru.com</td>\n    </tr>\n    <tr>\n      <th>...</th>\n      <td>...</td>\n      <td>...</td>\n      <td>...</td>\n      <td>...</td>\n      <td>...</td>\n      <td>...</td>\n      <td>...</td>\n      <td>...</td>\n      <td>...</td>\n      <td>...</td>\n    </tr>\n    <tr>\n      <th>774349</th>\n      <td>https://www.inopressa.ru/article/08Apr2021/sue...</td>\n      <td>Инопресса</td>\n      <td>Светлана Алексиевич: \"Может начаться гражданск...</td>\n      <td>Революция в Белоруссии не закончилась, считает...</td>\n      <td>NaN</td>\n      <td>NaN</td>\n      <td>(N,a,N)</td>\n      <td>NaN</td>\n      <td>2021-04-08 12:00:00</td>\n      <td>newsru.com</td>\n    </tr>\n    <tr>\n      <th>774350</th>\n      <td>https://txt.newsru.com/allnews/russia/08apr202...</td>\n      <td>В России</td>\n      <td>Четверо участников акции \"Альянса врачей\"* воз...</td>\n      <td>Всем им вменяется ч.3 ст. 20.2.2 КоАП РФ - мас...</td>\n      <td>Петушинский районный суд Владимирской области ...</td>\n      <td>https://image.newsru.com/v2/01/2021/04/0/01b2d...</td>\n      <td>(https://newsru.com/russia/06apr2021/vasilieva...</td>\n      <td>{\"Партии и политики\",Общество,\"Навальный, Алек...</td>\n      <td>2021-04-08 09:50:00</td>\n      <td>newsru.com</td>\n    </tr>\n    <tr>\n      <th>774351</th>\n      <td>https://txt.newsru.com/allnews/russia/08apr202...</td>\n      <td>В России</td>\n      <td>Провокаторы пытались сорвать показ фильма о пе...</td>\n      <td>Активисты SERB пытались сорвать показ фильма \"...</td>\n      <td>Полицейские пришли в кинотеатр \"Октябрь\" в Мос...</td>\n      <td>https://image.newsru.com/v2/01/2021/04/a/a4146...</td>\n      <td>(https://newsru.com/russia/07apr2021/two_more....</td>\n      <td>{Москва,Инцидент,Задержание}</td>\n      <td>2021-04-08 09:43:00</td>\n      <td>newsru.com</td>\n    </tr>\n    <tr>\n      <th>774352</th>\n      <td>https://txt.newsru.com/allnews/blog/08apr2021/...</td>\n      <td>Мнения</td>\n      <td>Алексей Захаров: \"Влияние режима на умы ослабе...</td>\n      <td>Социолог обращает внимание на динамику отношен...</td>\n      <td>\"Вот график (\"Левада-центра\"* - прим. NEWSru.c...</td>\n      <td>https://image.newsru.com/v2/61/2021/04/a/a6374...</td>\n      <td>https://newsru.com/blog/17feb2021/soloviev.html</td>\n      <td>{\"Досье NEWSru.com\",Мнения,Авторы,\"Алексей Зах...</td>\n      <td>2021-04-08 09:17:00</td>\n      <td>newsru.com</td>\n    </tr>\n    <tr>\n      <th>774353</th>\n      <td>https://txt.newsru.com/allnews/world/08apr2021...</td>\n      <td>В мире</td>\n      <td>Bloomberg: США рассматривают возможность высыл...</td>\n      <td>В Белом доме запланирована встреча высокопоста...</td>\n      <td>Администрация США закончила анализ \"российских...</td>\n      <td>https://image.newsru.com/v2/02/2021/04/b/baca3...</td>\n      <td>(https://newsru.com/russia/17mar2021/siluanov....</td>\n      <td>{США,\"Внешняя политика\",Санкции}</td>\n      <td>2021-04-08 08:49:00</td>\n      <td>newsru.com</td>\n    </tr>\n  </tbody>\n</table>\n<p>774354 rows × 10 columns</p>\n</div>"
     },
     "execution_count": 16,
     "metadata": {},
     "output_type": "execute_result"
    }
   ],
   "source": [
    "df"
   ],
   "metadata": {
    "collapsed": false
   },
   "id": "4287b35aade34721"
  },
  {
   "cell_type": "code",
   "execution_count": 33,
   "outputs": [
    {
     "data": {
      "text/plain": "В мире        180673\nВ России      180306\nИнопресса     117049\neconomy        81481\nsports         77500\ntechnology     48580\nsociety        39970\nМедицина       30022\nМнения         18640\nNaN               38\nName: category, dtype: int64"
     },
     "execution_count": 33,
     "metadata": {},
     "output_type": "execute_result"
    }
   ],
   "source": [
    "df.category.value_counts()"
   ],
   "metadata": {
    "collapsed": false
   },
   "id": "4d848b8216a09720"
  },
  {
   "cell_type": "code",
   "execution_count": 19,
   "outputs": [],
   "source": [
    "df.category[df.category == 'Автоновости'] = 'technology'"
   ],
   "metadata": {
    "collapsed": false
   },
   "id": "7f2e62a8aaa602ef"
  },
  {
   "cell_type": "code",
   "execution_count": 3,
   "outputs": [],
   "source": [
    "df = pd.read_pickle('raw_newsrucom_df.pkl')"
   ],
   "metadata": {
    "collapsed": false
   },
   "id": "aa5344f994de6ed7"
  },
  {
   "cell_type": "code",
   "execution_count": 32,
   "outputs": [
    {
     "ename": "KeyError",
     "evalue": "'[526117, 533802, 542512, 587601] not found in axis'",
     "output_type": "error",
     "traceback": [
      "\u001B[0;31m---------------------------------------------------------------------------\u001B[0m",
      "\u001B[0;31mKeyError\u001B[0m                                  Traceback (most recent call last)",
      "Cell \u001B[0;32mIn[32], line 1\u001B[0m\n\u001B[0;32m----> 1\u001B[0m \u001B[43mdf\u001B[49m\u001B[38;5;241;43m.\u001B[39;49m\u001B[43mdrop\u001B[49m\u001B[43m(\u001B[49m\u001B[43mnp\u001B[49m\u001B[38;5;241;43m.\u001B[39;49m\u001B[43mwhere\u001B[49m\u001B[43m(\u001B[49m\u001B[43mdf\u001B[49m\u001B[38;5;241;43m.\u001B[39;49m\u001B[43mcategory\u001B[49m\u001B[43m \u001B[49m\u001B[38;5;241;43m==\u001B[39;49m\u001B[43m \u001B[49m\u001B[38;5;124;43m'\u001B[39;49m\u001B[38;5;124;43mМнения\u001B[39;49m\u001B[38;5;124;43m'\u001B[39;49m\u001B[43m)\u001B[49m\u001B[43m[\u001B[49m\u001B[38;5;241;43m0\u001B[39;49m\u001B[43m]\u001B[49m\u001B[43m,\u001B[49m\u001B[43m \u001B[49m\u001B[43minplace\u001B[49m\u001B[38;5;241;43m=\u001B[39;49m\u001B[38;5;28;43;01mTrue\u001B[39;49;00m\u001B[43m)\u001B[49m\n",
      "File \u001B[0;32m~/Yandex.Disk/IT/Projects/newsru_com/venv/lib/python3.11/site-packages/pandas/util/_decorators.py:331\u001B[0m, in \u001B[0;36mdeprecate_nonkeyword_arguments.<locals>.decorate.<locals>.wrapper\u001B[0;34m(*args, **kwargs)\u001B[0m\n\u001B[1;32m    325\u001B[0m \u001B[38;5;28;01mif\u001B[39;00m \u001B[38;5;28mlen\u001B[39m(args) \u001B[38;5;241m>\u001B[39m num_allow_args:\n\u001B[1;32m    326\u001B[0m     warnings\u001B[38;5;241m.\u001B[39mwarn(\n\u001B[1;32m    327\u001B[0m         msg\u001B[38;5;241m.\u001B[39mformat(arguments\u001B[38;5;241m=\u001B[39m_format_argument_list(allow_args)),\n\u001B[1;32m    328\u001B[0m         \u001B[38;5;167;01mFutureWarning\u001B[39;00m,\n\u001B[1;32m    329\u001B[0m         stacklevel\u001B[38;5;241m=\u001B[39mfind_stack_level(),\n\u001B[1;32m    330\u001B[0m     )\n\u001B[0;32m--> 331\u001B[0m \u001B[38;5;28;01mreturn\u001B[39;00m \u001B[43mfunc\u001B[49m\u001B[43m(\u001B[49m\u001B[38;5;241;43m*\u001B[39;49m\u001B[43margs\u001B[49m\u001B[43m,\u001B[49m\u001B[43m \u001B[49m\u001B[38;5;241;43m*\u001B[39;49m\u001B[38;5;241;43m*\u001B[39;49m\u001B[43mkwargs\u001B[49m\u001B[43m)\u001B[49m\n",
      "File \u001B[0;32m~/Yandex.Disk/IT/Projects/newsru_com/venv/lib/python3.11/site-packages/pandas/core/frame.py:5396\u001B[0m, in \u001B[0;36mDataFrame.drop\u001B[0;34m(self, labels, axis, index, columns, level, inplace, errors)\u001B[0m\n\u001B[1;32m   5248\u001B[0m \u001B[38;5;129m@deprecate_nonkeyword_arguments\u001B[39m(version\u001B[38;5;241m=\u001B[39m\u001B[38;5;28;01mNone\u001B[39;00m, allowed_args\u001B[38;5;241m=\u001B[39m[\u001B[38;5;124m\"\u001B[39m\u001B[38;5;124mself\u001B[39m\u001B[38;5;124m\"\u001B[39m, \u001B[38;5;124m\"\u001B[39m\u001B[38;5;124mlabels\u001B[39m\u001B[38;5;124m\"\u001B[39m])\n\u001B[1;32m   5249\u001B[0m \u001B[38;5;28;01mdef\u001B[39;00m \u001B[38;5;21mdrop\u001B[39m(  \u001B[38;5;66;03m# type: ignore[override]\u001B[39;00m\n\u001B[1;32m   5250\u001B[0m     \u001B[38;5;28mself\u001B[39m,\n\u001B[0;32m   (...)\u001B[0m\n\u001B[1;32m   5257\u001B[0m     errors: IgnoreRaise \u001B[38;5;241m=\u001B[39m \u001B[38;5;124m\"\u001B[39m\u001B[38;5;124mraise\u001B[39m\u001B[38;5;124m\"\u001B[39m,\n\u001B[1;32m   5258\u001B[0m ) \u001B[38;5;241m-\u001B[39m\u001B[38;5;241m>\u001B[39m DataFrame \u001B[38;5;241m|\u001B[39m \u001B[38;5;28;01mNone\u001B[39;00m:\n\u001B[1;32m   5259\u001B[0m     \u001B[38;5;124;03m\"\"\"\u001B[39;00m\n\u001B[1;32m   5260\u001B[0m \u001B[38;5;124;03m    Drop specified labels from rows or columns.\u001B[39;00m\n\u001B[1;32m   5261\u001B[0m \n\u001B[0;32m   (...)\u001B[0m\n\u001B[1;32m   5394\u001B[0m \u001B[38;5;124;03m            weight  1.0     0.8\u001B[39;00m\n\u001B[1;32m   5395\u001B[0m \u001B[38;5;124;03m    \"\"\"\u001B[39;00m\n\u001B[0;32m-> 5396\u001B[0m     \u001B[38;5;28;01mreturn\u001B[39;00m \u001B[38;5;28;43msuper\u001B[39;49m\u001B[43m(\u001B[49m\u001B[43m)\u001B[49m\u001B[38;5;241;43m.\u001B[39;49m\u001B[43mdrop\u001B[49m\u001B[43m(\u001B[49m\n\u001B[1;32m   5397\u001B[0m \u001B[43m        \u001B[49m\u001B[43mlabels\u001B[49m\u001B[38;5;241;43m=\u001B[39;49m\u001B[43mlabels\u001B[49m\u001B[43m,\u001B[49m\n\u001B[1;32m   5398\u001B[0m \u001B[43m        \u001B[49m\u001B[43maxis\u001B[49m\u001B[38;5;241;43m=\u001B[39;49m\u001B[43maxis\u001B[49m\u001B[43m,\u001B[49m\n\u001B[1;32m   5399\u001B[0m \u001B[43m        \u001B[49m\u001B[43mindex\u001B[49m\u001B[38;5;241;43m=\u001B[39;49m\u001B[43mindex\u001B[49m\u001B[43m,\u001B[49m\n\u001B[1;32m   5400\u001B[0m \u001B[43m        \u001B[49m\u001B[43mcolumns\u001B[49m\u001B[38;5;241;43m=\u001B[39;49m\u001B[43mcolumns\u001B[49m\u001B[43m,\u001B[49m\n\u001B[1;32m   5401\u001B[0m \u001B[43m        \u001B[49m\u001B[43mlevel\u001B[49m\u001B[38;5;241;43m=\u001B[39;49m\u001B[43mlevel\u001B[49m\u001B[43m,\u001B[49m\n\u001B[1;32m   5402\u001B[0m \u001B[43m        \u001B[49m\u001B[43minplace\u001B[49m\u001B[38;5;241;43m=\u001B[39;49m\u001B[43minplace\u001B[49m\u001B[43m,\u001B[49m\n\u001B[1;32m   5403\u001B[0m \u001B[43m        \u001B[49m\u001B[43merrors\u001B[49m\u001B[38;5;241;43m=\u001B[39;49m\u001B[43merrors\u001B[49m\u001B[43m,\u001B[49m\n\u001B[1;32m   5404\u001B[0m \u001B[43m    \u001B[49m\u001B[43m)\u001B[49m\n",
      "File \u001B[0;32m~/Yandex.Disk/IT/Projects/newsru_com/venv/lib/python3.11/site-packages/pandas/util/_decorators.py:331\u001B[0m, in \u001B[0;36mdeprecate_nonkeyword_arguments.<locals>.decorate.<locals>.wrapper\u001B[0;34m(*args, **kwargs)\u001B[0m\n\u001B[1;32m    325\u001B[0m \u001B[38;5;28;01mif\u001B[39;00m \u001B[38;5;28mlen\u001B[39m(args) \u001B[38;5;241m>\u001B[39m num_allow_args:\n\u001B[1;32m    326\u001B[0m     warnings\u001B[38;5;241m.\u001B[39mwarn(\n\u001B[1;32m    327\u001B[0m         msg\u001B[38;5;241m.\u001B[39mformat(arguments\u001B[38;5;241m=\u001B[39m_format_argument_list(allow_args)),\n\u001B[1;32m    328\u001B[0m         \u001B[38;5;167;01mFutureWarning\u001B[39;00m,\n\u001B[1;32m    329\u001B[0m         stacklevel\u001B[38;5;241m=\u001B[39mfind_stack_level(),\n\u001B[1;32m    330\u001B[0m     )\n\u001B[0;32m--> 331\u001B[0m \u001B[38;5;28;01mreturn\u001B[39;00m \u001B[43mfunc\u001B[49m\u001B[43m(\u001B[49m\u001B[38;5;241;43m*\u001B[39;49m\u001B[43margs\u001B[49m\u001B[43m,\u001B[49m\u001B[43m \u001B[49m\u001B[38;5;241;43m*\u001B[39;49m\u001B[38;5;241;43m*\u001B[39;49m\u001B[43mkwargs\u001B[49m\u001B[43m)\u001B[49m\n",
      "File \u001B[0;32m~/Yandex.Disk/IT/Projects/newsru_com/venv/lib/python3.11/site-packages/pandas/core/generic.py:4505\u001B[0m, in \u001B[0;36mNDFrame.drop\u001B[0;34m(self, labels, axis, index, columns, level, inplace, errors)\u001B[0m\n\u001B[1;32m   4503\u001B[0m \u001B[38;5;28;01mfor\u001B[39;00m axis, labels \u001B[38;5;129;01min\u001B[39;00m axes\u001B[38;5;241m.\u001B[39mitems():\n\u001B[1;32m   4504\u001B[0m     \u001B[38;5;28;01mif\u001B[39;00m labels \u001B[38;5;129;01mis\u001B[39;00m \u001B[38;5;129;01mnot\u001B[39;00m \u001B[38;5;28;01mNone\u001B[39;00m:\n\u001B[0;32m-> 4505\u001B[0m         obj \u001B[38;5;241m=\u001B[39m \u001B[43mobj\u001B[49m\u001B[38;5;241;43m.\u001B[39;49m\u001B[43m_drop_axis\u001B[49m\u001B[43m(\u001B[49m\u001B[43mlabels\u001B[49m\u001B[43m,\u001B[49m\u001B[43m \u001B[49m\u001B[43maxis\u001B[49m\u001B[43m,\u001B[49m\u001B[43m \u001B[49m\u001B[43mlevel\u001B[49m\u001B[38;5;241;43m=\u001B[39;49m\u001B[43mlevel\u001B[49m\u001B[43m,\u001B[49m\u001B[43m \u001B[49m\u001B[43merrors\u001B[49m\u001B[38;5;241;43m=\u001B[39;49m\u001B[43merrors\u001B[49m\u001B[43m)\u001B[49m\n\u001B[1;32m   4507\u001B[0m \u001B[38;5;28;01mif\u001B[39;00m inplace:\n\u001B[1;32m   4508\u001B[0m     \u001B[38;5;28mself\u001B[39m\u001B[38;5;241m.\u001B[39m_update_inplace(obj)\n",
      "File \u001B[0;32m~/Yandex.Disk/IT/Projects/newsru_com/venv/lib/python3.11/site-packages/pandas/core/generic.py:4546\u001B[0m, in \u001B[0;36mNDFrame._drop_axis\u001B[0;34m(self, labels, axis, level, errors, only_slice)\u001B[0m\n\u001B[1;32m   4544\u001B[0m         new_axis \u001B[38;5;241m=\u001B[39m axis\u001B[38;5;241m.\u001B[39mdrop(labels, level\u001B[38;5;241m=\u001B[39mlevel, errors\u001B[38;5;241m=\u001B[39merrors)\n\u001B[1;32m   4545\u001B[0m     \u001B[38;5;28;01melse\u001B[39;00m:\n\u001B[0;32m-> 4546\u001B[0m         new_axis \u001B[38;5;241m=\u001B[39m \u001B[43maxis\u001B[49m\u001B[38;5;241;43m.\u001B[39;49m\u001B[43mdrop\u001B[49m\u001B[43m(\u001B[49m\u001B[43mlabels\u001B[49m\u001B[43m,\u001B[49m\u001B[43m \u001B[49m\u001B[43merrors\u001B[49m\u001B[38;5;241;43m=\u001B[39;49m\u001B[43merrors\u001B[49m\u001B[43m)\u001B[49m\n\u001B[1;32m   4547\u001B[0m     indexer \u001B[38;5;241m=\u001B[39m axis\u001B[38;5;241m.\u001B[39mget_indexer(new_axis)\n\u001B[1;32m   4549\u001B[0m \u001B[38;5;66;03m# Case for non-unique axis\u001B[39;00m\n\u001B[1;32m   4550\u001B[0m \u001B[38;5;28;01melse\u001B[39;00m:\n",
      "File \u001B[0;32m~/Yandex.Disk/IT/Projects/newsru_com/venv/lib/python3.11/site-packages/pandas/core/indexes/base.py:6977\u001B[0m, in \u001B[0;36mIndex.drop\u001B[0;34m(self, labels, errors)\u001B[0m\n\u001B[1;32m   6975\u001B[0m \u001B[38;5;28;01mif\u001B[39;00m mask\u001B[38;5;241m.\u001B[39many():\n\u001B[1;32m   6976\u001B[0m     \u001B[38;5;28;01mif\u001B[39;00m errors \u001B[38;5;241m!=\u001B[39m \u001B[38;5;124m\"\u001B[39m\u001B[38;5;124mignore\u001B[39m\u001B[38;5;124m\"\u001B[39m:\n\u001B[0;32m-> 6977\u001B[0m         \u001B[38;5;28;01mraise\u001B[39;00m \u001B[38;5;167;01mKeyError\u001B[39;00m(\u001B[38;5;124mf\u001B[39m\u001B[38;5;124m\"\u001B[39m\u001B[38;5;132;01m{\u001B[39;00m\u001B[38;5;28mlist\u001B[39m(labels[mask])\u001B[38;5;132;01m}\u001B[39;00m\u001B[38;5;124m not found in axis\u001B[39m\u001B[38;5;124m\"\u001B[39m)\n\u001B[1;32m   6978\u001B[0m     indexer \u001B[38;5;241m=\u001B[39m indexer[\u001B[38;5;241m~\u001B[39mmask]\n\u001B[1;32m   6979\u001B[0m \u001B[38;5;28;01mreturn\u001B[39;00m \u001B[38;5;28mself\u001B[39m\u001B[38;5;241m.\u001B[39mdelete(indexer)\n",
      "\u001B[0;31mKeyError\u001B[0m: '[526117, 533802, 542512, 587601] not found in axis'"
     ]
    }
   ],
   "source": [],
   "metadata": {
    "collapsed": false
   },
   "id": "38ec9c085cc809f0"
  },
  {
   "cell_type": "code",
   "execution_count": 36,
   "outputs": [],
   "source": [
    "df = df[df.category != 'Мнения']"
   ],
   "metadata": {
    "collapsed": false
   },
   "id": "6fe1e6363234c337"
  },
  {
   "cell_type": "code",
   "execution_count": 38,
   "outputs": [
    {
     "data": {
      "text/plain": "                                                      url category  \\\n772567  https://txt.newsru.com/allnews/russia/23jul201...      NaN   \n772631  https://txt.newsru.com/allnews/russia/04nov201...      NaN   \n772641  https://txt.newsru.com/allnews/cinema/07mar201...      NaN   \n772677  https://txt.newsru.com/allnews/russia/04jun201...      NaN   \n772828  https://txt.newsru.com/allnews/cinema/14mar201...      NaN   \n772847  https://txt.newsru.com/allnews/cinema/26mar201...      NaN   \n772867  https://txt.newsru.com/allnews/cinema/26mar201...      NaN   \n772869  https://txt.newsru.com/allnews/world/10may2014...      NaN   \n773004  https://txt.newsru.com/allnews/auto/29may2014/...      NaN   \n773160  https://txt.newsru.com/allnews/cinema/02jun201...      NaN   \n773198  https://txt.newsru.com/allnews/world/22jun2014...      NaN   \n773260  https://txt.newsru.com/allnews/cinema/25aug201...      NaN   \n773266  https://txt.newsru.com/allnews/russia/12dec201...      NaN   \n773297  https://txt.newsru.com/allnews/russia/24dec201...      NaN   \n773442  https://txt.newsru.com/allnews/hitech/22jan201...      NaN   \n773444  https://txt.newsru.com/allnews/russia/03feb201...      NaN   \n773533  https://txt.newsru.com/allnews/cinema/04feb201...      NaN   \n773537  https://txt.newsru.com/allnews/russia/09feb201...      NaN   \n773655  https://txt.newsru.com/allnews/cinema/25feb201...      NaN   \n773786  https://txt.newsru.com/allnews/cinema/30mar201...      NaN   \n773788  https://txt.newsru.com/allnews/russia/15apr201...      NaN   \n773797  https://txt.newsru.com/allnews/russia/16jun201...      NaN   \n773863  https://txt.newsru.com/allnews/russia/28jul201...      NaN   \n773866  https://txt.newsru.com/allnews/finance/13jul20...      NaN   \n773877  https://txt.newsru.com/allnews/world/09oct2015...      NaN   \n773923  https://txt.newsru.com/allnews/cinema/30jul201...      NaN   \n773925  https://txt.newsru.com/allnews/russia/03nov201...      NaN   \n773927  https://txt.newsru.com/allnews/russia/29feb201...      NaN   \n773929  https://txt.newsru.com/allnews/cinema/16mar201...      NaN   \n773957  https://txt.newsru.com/allnews/russia/07jun201...      NaN   \n774018  https://txt.newsru.com/allnews/russia/15sep201...      NaN   \n774029  https://txt.newsru.com/allnews/russia/19oct201...      NaN   \n774053  https://txt.newsru.com/allnews/russia/26nov201...      NaN   \n774071  https://txt.newsru.com/allnews/russia/05jan201...      NaN   \n774126  https://txt.newsru.com/allnews/russia/27feb201...      NaN   \n774183  http://www.meddaily.ru/article/22Oct2019/ppere...      NaN   \n774257  http://www.meddaily.ru/article/27Dec2019/golik...      NaN   \n774273  http://www.meddaily.ru/article/08Apr2021/potya...      NaN   \n\n                                                    title  \\\n772567  Вслед за пародийным двойником Медведева в Twit...   \n772631  Медведев пояснил, что народное единство - не м...   \n772641  Писатель Шишкин отказался представлять \"коррум...   \n772677  \"Достали вы меня с этими однополыми браками\": ...   \n772828  Власти Украины попросили телеканалы не показыв...   \n772847  Эрмитаж отверг обвинения в попытке вывезти муз...   \n772867  Эрмитаж отверг обвинения в попытке вывезти муз...   \n772869  Бухарест потребовал разъяснений насчет угроз Р...   \n773004  Автопроизводители отказываются от участия в по...   \n773160  Получивший приз на открытии \"Кинотавра\" Сокуро...   \n773198  Куба заявляет, что США внесли ее в список стра...   \n773260  В Совфеде предложили не пускать в прокат фильм...   \n773266  Российский МИД выразил \"глубокое сожаление\" из...   \n773297  Кадыров, заявивший о желании поехать на Донбас...   \n773442  Apple запрещает продавать свою продукцию в Кры...   \n773444  Михаил Касьянов подал против НТВ иск о защите ...   \n773533  Гарри Бардин собирает в интернете деньги на но...   \n773537  Прокуроры потребовали разлучить заключенных ко...   \n773655  Экс-солист \"Иванушек International\" сфотографи...   \n773786  Рогозин раскритиковал телесериал Лунгина \"Роди...   \n773788  В Симферополе несовершеннолетних студенток ошт...   \n773797  Минобороны РФ посмеялось над украинским МВД, к...   \n773863  Депутат КПРФ написал жалобу президенту на глав...   \n773866  Торговые центры Литвы насторожила идея ЕП о бе...   \n773877  Порошенко обвинил Россию в \"фактическом геноци...   \n773923  Союз работников культуры выступил против перед...   \n773925  Подводная линия связи между Россией и Финлянди...   \n773927  Омбудсмен Чечни назвал возможную отставку Кады...   \n773929  Участник \"Евровидения-2016\" от Белоруссии пора...   \n773957  По случаю 75-летия Совинформбюро Путин рассказ...   \n774018  В Москве на оппозиционного кандидата пожаловал...   \n774029  ФСБ \"опечатала\" психиатрическую палату с главо...   \n774053  Российские политики комментируют смерть \"патри...   \n774071  В Петербурге преподавателя йоги будут судить з...   \n774126  В Кремле обещают рассмотреть вопрос отмены ста...   \n774183  Переход на низкокалорийную диету не сделает ва...   \n774257  Глава Минздрава не согласна с критикой Голиков...   \n774273  Диетолог: свежий лук может потягаться в пользе...   \n\n                                                   resume  \\\n772567  Интернет-дневник, якобы ведущийся от имени пер...   \n772631  \"Это - основа существования и развития нашего ...   \n772641  Писатель сослался на этические соображения. \"М...   \n772677  \"Я считаю, что у нас законодательство весьма л...   \n772828   Госкомтелерадио призвало \"воздержаться от показа   \n772847                          \"Обеспокоенность Эрмитажа   \n772867                          \"Обеспокоенность Эрмитажа   \n772869  \"МИД Румынии расценивает эту угрозу как очень ...   \n773004  О росте цен стало известно еще летом прошлого ...   \n773160  \"Кто-то имеет свое представление о том, какой ...   \n773198                           \"Включение в этот список   \n773260  Если в основе фильма - \"не имеющий ничего обще...   \n773266     \"Членам Конгресса США пора бы оставить иллюзии   \n773297  \"Я всегда считал, что все нужно начинать с обе...   \n773442  \"Со ссылкой на раздел 7 \"Обязательства в отнош...   \n773444  Поводом для обращения в судебную инстанцию ста...   \n773533  \"Он будет посвящен вечным ценностям - вещам, к...   \n773537                       \"В ходе  проведения проверки   \n773655  \"Ко мне подошел человек в \"Макдоналдсе\", сказа...   \n773786  \"Кто-то может мне объяснить, о чем он? О том, ...   \n773788  Обеих девушек признали виновными в \"нарушении ...   \n773797  \"Судя по оформлению этой \"секретной\" писанины,...   \n773863  Комментируя действия одной из компаний во врем...   \n773866  \"Попытка примерить ботинок одного размера абсо...   \n773877  По словам президента Украины, \"продуктовую бло...   \n773923  \"Исаакиевский собор никогда не был собственнос...   \n773925  \"В настоящее время наблюдается авария на подво...   \n773927  \"Отказ Кадырова означал бы массовое нарушение ...   \n773929  \"Не знаю, как это вышло, наверное, сказывается...   \n773957  \"Не может быть ситуации, когда если каким-то в...   \n774018  Кандидат в Госдуму по Бабушкинскому одномандат...   \n774029                   \"У ФСБ нет ничего на Максименко.   \n774053  В России кубинского лидера характеризуют как в...   \n774071  \"Участковый спрашивал, понимаю ли я, что заним...   \n774126  \"Безусловно, подобные инициативы заслуживают в...   \n774183  Ранее проводившиеся исследования доказывали, ч...   \n774257  На днях вице-премьер РФ Татьяна Голикова в про...   \n774273  К.м.н., врач-диетолог, доцент медицинского фак...   \n\n                                                     news  \\\n772567  В сети микроблогов Twitter на этой неделе появ...   \n772631  Президент РФ Дмитрий Медведев поздравил всех р...   \n772641  Известный русский писатель Михаил Шишкин, авто...   \n772677  Президент РФ Владимир Путин в очередной раз от...   \n772828  Государственный комитет телевидения и радиовещ...   \n772847  Государственный Эрмитаж опроверг информацию о ...   \n772867  Государственный Эрмитаж опроверг информацию о ...   \n772869  Министерство иностранных дел Румынии потребова...   \n773004  Ряды участников Московского международного  ав...   \n773160  Кинофестиваль \"Кинотавр\" в Сочи открылся с вру...   \n773198                                                NaN   \n773260  В Совете Федерации предлагают установить особы...   \n773266  Российский МИД подготовил ответ американским з...   \n773297  Секретарь Совета безопасности РФ Николай Патру...   \n773442  Компания Apple запретила продавать свои устрой...   \n773444  Сопредседатель партии РПР-Парнас и бывший прем...   \n773533  Всемирно известный российский режиссер-анимато...   \n773537  В колоний Костромской области прошла прокурорс...   \n773655  Экс-солист группы \"Иванушки International\" Оле...   \n773786  Вице-премьер РФ Дмитрий Рогозин подверг резкой...   \n773788  В Симферополе двух несовершеннолетних студенто...   \n773797  В российском Минобороны посмеялись над информа...   \n773863  Переизбранный в прошлом году губернатор Самарс...   \n773866  Исполнительный директор Литовской ассоциации т...   \n773877  Президент Украины Петр Порошенко заявил, что Р...   \n773923  Российский творческий союз работников культуры...   \n773925  На подводной сети связи между Россией и Финлян...   \n773927  Уполномоченный по правам человека Чечни Нарди ...   \n773929  Участник \"Евровидения-2016\" от Белоруссии Алек...   \n773957  Президент России Владимир Путин во время поздр...   \n774018  На сотрудника Фонда борьбы с коррупцией (ФБК),...   \n774029  Сотрудники Федеральной службы безопасности \"оп...   \n774053  Российские политики тепло отзываются о Фиделе ...   \n774071  В Санкт-Петербурге 9 января начнется суд над п...   \n774126  Вопрос отмены уголовной статьи, по которой был...   \n774183                                                NaN   \n774257                                                NaN   \n774273                                                NaN   \n\n                                                    links  \\\n772567  (https://txt.newsru.com/allnews/russia/22apr20...   \n772631  (https://txt.newsru.com/allnews/russia/04nov20...   \n772641  (https://txt.newsru.com/allnews/cinema/20sep20...   \n772677  (https://txt.newsru.com/allnews/world/18may201...   \n772828  (https://txt.newsru.com/allnews/world/12mar201...   \n772847  (https://txt.newsru.com/allnews/cinema/25mar20...   \n772867  (https://txt.newsru.com/allnews/cinema/25mar20...   \n772869  (https://txt.newsru.com/allnews/russia/08may20...   \n773004  (https://txt.newsru.com/allnews/auto/10Jun2013...   \n773160  (https://txt.newsru.com/allnews/cinema/13may20...   \n773198                                            (N,a,N)   \n773260  (https://txt.newsru.com/allnews/cinema/22aug20...   \n773266                                            (N,a,N)   \n773297                                            (N,a,N)   \n773442  (http://newsru.com/world/20dec2014/blokada.htm...   \n773444                                            (N,a,N)   \n773533  (https://txt.newsru.com/allnews/cinema/20nov20...   \n773537                                            (N,a,N)   \n773655  https://txt.newsru.com/allnews/cinema/10dec201...   \n773786  (https://txt.newsru.com/allnews/cinema/28nov20...   \n773788                                            (N,a,N)   \n773797                                            (N,a,N)   \n773863  (https://txt.newsru.com/allnews/russia/04jun20...   \n773866  (https://txt.newsru.com/allnews/finance/13aug2...   \n773877  (https://txt.newsru.com/allnews/russia/16sep20...   \n773923  (https://txt.newsru.com/allnews/religy/24jul20...   \n773925  http://hitech.newsru.com/article/13May2015/ros...   \n773927                                            (N,a,N)   \n773929                                            (N,a,N)   \n773957                                            (N,a,N)   \n774018                                            (N,a,N)   \n774029                                            (N,a,N)   \n774053  https://txt.newsru.com/allnews/world/26nov2016...   \n774071                                            (N,a,N)   \n774126  (https://txt.newsru.com/allnews/russia/26feb20...   \n774183                                            (N,a,N)   \n774257                                            (N,a,N)   \n774273                                            (N,a,N)   \n\n                                               tags                 date  \\\n772567          {\"Президент России\",Курьез,Пародия}  2010-07-23 10:58:00   \n772631               {Общество,Праздник,\"4 ноября\"}  2010-11-04 16:11:00   \n772641      {Культура,Литература,\"Книжные ярмарки\"}  2013-03-07 21:03:00   \n772677     {\"Президент России\",Заявление,Население}  2013-06-04 16:39:00   \n772828                         {СНГ,Украина,Россия}  2014-03-14 08:45:00   \n772847                     {Культура,Музеи,Эрмитаж}  2014-03-26 18:52:00   \n772867                     {Культура,Музеи,Эрмитаж}  2014-03-26 18:52:00   \n772869                    {Европа,Румыния,Инцидент}  2014-05-10 22:10:00   \n773004                                          NaN  2014-05-29 09:47:00   \n773160                    {Кино,Фестивали,Кинотавр}  2014-06-02 09:13:00   \n773198                                          NaN  2014-06-22 03:46:00   \n773260                       {Культура,Кино,Фильмы}  2014-08-25 15:44:00   \n773266                                          NaN  2014-12-12 22:50:00   \n773297                                          NaN  2014-12-24 18:12:00   \n773442                                          NaN  2015-01-22 00:48:00   \n773444                                          NaN  2015-02-03 23:36:00   \n773533   {Кино,\"Анимационное кино\",\"Бардин, Гарри\"}  2015-02-04 13:40:00   \n773537                                          NaN  2015-02-09 23:17:00   \n773655                   {Культура,Музыка,Инцидент}  2015-02-25 11:16:00   \n773786               {Культура,Телевидение,Сериалы}  2015-03-30 09:50:00   \n773788                                          NaN  2015-04-15 22:31:00   \n773797                                          NaN  2015-06-16 21:44:00   \n773863      {\"Самарская область\",Общество,Инцидент}  2015-07-28 20:01:00   \n773866                     {Экономика,Европа,Литва}  2015-07-13 14:24:00   \n773877                         {СНГ,Украина,Россия}  2015-10-09 23:56:00   \n773923    {Культура,Памятники,\"Передача ценностей\"}  2015-07-30 16:05:00   \n773925                     {Интернет,Россия,Домены}  2015-11-03 22:42:00   \n773927                                          NaN  2016-02-29 23:13:00   \n773929                                          NaN  2016-03-16 23:46:00   \n773957                                          NaN  2016-06-07 18:24:00   \n774018                                          NaN  2016-09-15 15:08:00   \n774029                                          NaN  2016-10-19 20:58:00   \n774053  {\"Латинская Америка\",Куба,\"Кастро, Фидель\"}  2016-11-26 12:22:00   \n774071                                          NaN  2017-01-05 23:46:00   \n774126                       {Москва,Акция,Протест}  2017-02-27 16:08:00   \n774183                                          NaN  2019-10-22 12:00:00   \n774257                                          NaN  2019-12-27 12:00:00   \n774273                                          NaN  2021-04-08 12:00:00   \n\n            agency  \n772567  newsru.com  \n772631  newsru.com  \n772641  newsru.com  \n772677  newsru.com  \n772828  newsru.com  \n772847  newsru.com  \n772867  newsru.com  \n772869  newsru.com  \n773004  newsru.com  \n773160  newsru.com  \n773198  newsru.com  \n773260  newsru.com  \n773266  newsru.com  \n773297  newsru.com  \n773442  newsru.com  \n773444  newsru.com  \n773533  newsru.com  \n773537  newsru.com  \n773655  newsru.com  \n773786  newsru.com  \n773788  newsru.com  \n773797  newsru.com  \n773863  newsru.com  \n773866  newsru.com  \n773877  newsru.com  \n773923  newsru.com  \n773925  newsru.com  \n773927  newsru.com  \n773929  newsru.com  \n773957  newsru.com  \n774018  newsru.com  \n774029  newsru.com  \n774053  newsru.com  \n774071  newsru.com  \n774126  newsru.com  \n774183  newsru.com  \n774257  newsru.com  \n774273  newsru.com  ",
      "text/html": "<div>\n<style scoped>\n    .dataframe tbody tr th:only-of-type {\n        vertical-align: middle;\n    }\n\n    .dataframe tbody tr th {\n        vertical-align: top;\n    }\n\n    .dataframe thead th {\n        text-align: right;\n    }\n</style>\n<table border=\"1\" class=\"dataframe\">\n  <thead>\n    <tr style=\"text-align: right;\">\n      <th></th>\n      <th>url</th>\n      <th>category</th>\n      <th>title</th>\n      <th>resume</th>\n      <th>news</th>\n      <th>links</th>\n      <th>tags</th>\n      <th>date</th>\n      <th>agency</th>\n    </tr>\n  </thead>\n  <tbody>\n    <tr>\n      <th>772567</th>\n      <td>https://txt.newsru.com/allnews/russia/23jul201...</td>\n      <td>NaN</td>\n      <td>Вслед за пародийным двойником Медведева в Twit...</td>\n      <td>Интернет-дневник, якобы ведущийся от имени пер...</td>\n      <td>В сети микроблогов Twitter на этой неделе появ...</td>\n      <td>(https://txt.newsru.com/allnews/russia/22apr20...</td>\n      <td>{\"Президент России\",Курьез,Пародия}</td>\n      <td>2010-07-23 10:58:00</td>\n      <td>newsru.com</td>\n    </tr>\n    <tr>\n      <th>772631</th>\n      <td>https://txt.newsru.com/allnews/russia/04nov201...</td>\n      <td>NaN</td>\n      <td>Медведев пояснил, что народное единство - не м...</td>\n      <td>\"Это - основа существования и развития нашего ...</td>\n      <td>Президент РФ Дмитрий Медведев поздравил всех р...</td>\n      <td>(https://txt.newsru.com/allnews/russia/04nov20...</td>\n      <td>{Общество,Праздник,\"4 ноября\"}</td>\n      <td>2010-11-04 16:11:00</td>\n      <td>newsru.com</td>\n    </tr>\n    <tr>\n      <th>772641</th>\n      <td>https://txt.newsru.com/allnews/cinema/07mar201...</td>\n      <td>NaN</td>\n      <td>Писатель Шишкин отказался представлять \"коррум...</td>\n      <td>Писатель сослался на этические соображения. \"М...</td>\n      <td>Известный русский писатель Михаил Шишкин, авто...</td>\n      <td>(https://txt.newsru.com/allnews/cinema/20sep20...</td>\n      <td>{Культура,Литература,\"Книжные ярмарки\"}</td>\n      <td>2013-03-07 21:03:00</td>\n      <td>newsru.com</td>\n    </tr>\n    <tr>\n      <th>772677</th>\n      <td>https://txt.newsru.com/allnews/russia/04jun201...</td>\n      <td>NaN</td>\n      <td>\"Достали вы меня с этими однополыми браками\": ...</td>\n      <td>\"Я считаю, что у нас законодательство весьма л...</td>\n      <td>Президент РФ Владимир Путин в очередной раз от...</td>\n      <td>(https://txt.newsru.com/allnews/world/18may201...</td>\n      <td>{\"Президент России\",Заявление,Население}</td>\n      <td>2013-06-04 16:39:00</td>\n      <td>newsru.com</td>\n    </tr>\n    <tr>\n      <th>772828</th>\n      <td>https://txt.newsru.com/allnews/cinema/14mar201...</td>\n      <td>NaN</td>\n      <td>Власти Украины попросили телеканалы не показыв...</td>\n      <td>Госкомтелерадио призвало \"воздержаться от показа</td>\n      <td>Государственный комитет телевидения и радиовещ...</td>\n      <td>(https://txt.newsru.com/allnews/world/12mar201...</td>\n      <td>{СНГ,Украина,Россия}</td>\n      <td>2014-03-14 08:45:00</td>\n      <td>newsru.com</td>\n    </tr>\n    <tr>\n      <th>772847</th>\n      <td>https://txt.newsru.com/allnews/cinema/26mar201...</td>\n      <td>NaN</td>\n      <td>Эрмитаж отверг обвинения в попытке вывезти муз...</td>\n      <td>\"Обеспокоенность Эрмитажа</td>\n      <td>Государственный Эрмитаж опроверг информацию о ...</td>\n      <td>(https://txt.newsru.com/allnews/cinema/25mar20...</td>\n      <td>{Культура,Музеи,Эрмитаж}</td>\n      <td>2014-03-26 18:52:00</td>\n      <td>newsru.com</td>\n    </tr>\n    <tr>\n      <th>772867</th>\n      <td>https://txt.newsru.com/allnews/cinema/26mar201...</td>\n      <td>NaN</td>\n      <td>Эрмитаж отверг обвинения в попытке вывезти муз...</td>\n      <td>\"Обеспокоенность Эрмитажа</td>\n      <td>Государственный Эрмитаж опроверг информацию о ...</td>\n      <td>(https://txt.newsru.com/allnews/cinema/25mar20...</td>\n      <td>{Культура,Музеи,Эрмитаж}</td>\n      <td>2014-03-26 18:52:00</td>\n      <td>newsru.com</td>\n    </tr>\n    <tr>\n      <th>772869</th>\n      <td>https://txt.newsru.com/allnews/world/10may2014...</td>\n      <td>NaN</td>\n      <td>Бухарест потребовал разъяснений насчет угроз Р...</td>\n      <td>\"МИД Румынии расценивает эту угрозу как очень ...</td>\n      <td>Министерство иностранных дел Румынии потребова...</td>\n      <td>(https://txt.newsru.com/allnews/russia/08may20...</td>\n      <td>{Европа,Румыния,Инцидент}</td>\n      <td>2014-05-10 22:10:00</td>\n      <td>newsru.com</td>\n    </tr>\n    <tr>\n      <th>773004</th>\n      <td>https://txt.newsru.com/allnews/auto/29may2014/...</td>\n      <td>NaN</td>\n      <td>Автопроизводители отказываются от участия в по...</td>\n      <td>О росте цен стало известно еще летом прошлого ...</td>\n      <td>Ряды участников Московского международного  ав...</td>\n      <td>(https://txt.newsru.com/allnews/auto/10Jun2013...</td>\n      <td>NaN</td>\n      <td>2014-05-29 09:47:00</td>\n      <td>newsru.com</td>\n    </tr>\n    <tr>\n      <th>773160</th>\n      <td>https://txt.newsru.com/allnews/cinema/02jun201...</td>\n      <td>NaN</td>\n      <td>Получивший приз на открытии \"Кинотавра\" Сокуро...</td>\n      <td>\"Кто-то имеет свое представление о том, какой ...</td>\n      <td>Кинофестиваль \"Кинотавр\" в Сочи открылся с вру...</td>\n      <td>(https://txt.newsru.com/allnews/cinema/13may20...</td>\n      <td>{Кино,Фестивали,Кинотавр}</td>\n      <td>2014-06-02 09:13:00</td>\n      <td>newsru.com</td>\n    </tr>\n    <tr>\n      <th>773198</th>\n      <td>https://txt.newsru.com/allnews/world/22jun2014...</td>\n      <td>NaN</td>\n      <td>Куба заявляет, что США внесли ее в список стра...</td>\n      <td>\"Включение в этот список</td>\n      <td>NaN</td>\n      <td>(N,a,N)</td>\n      <td>NaN</td>\n      <td>2014-06-22 03:46:00</td>\n      <td>newsru.com</td>\n    </tr>\n    <tr>\n      <th>773260</th>\n      <td>https://txt.newsru.com/allnews/cinema/25aug201...</td>\n      <td>NaN</td>\n      <td>В Совфеде предложили не пускать в прокат фильм...</td>\n      <td>Если в основе фильма - \"не имеющий ничего обще...</td>\n      <td>В Совете Федерации предлагают установить особы...</td>\n      <td>(https://txt.newsru.com/allnews/cinema/22aug20...</td>\n      <td>{Культура,Кино,Фильмы}</td>\n      <td>2014-08-25 15:44:00</td>\n      <td>newsru.com</td>\n    </tr>\n    <tr>\n      <th>773266</th>\n      <td>https://txt.newsru.com/allnews/russia/12dec201...</td>\n      <td>NaN</td>\n      <td>Российский МИД выразил \"глубокое сожаление\" из...</td>\n      <td>\"Членам Конгресса США пора бы оставить иллюзии</td>\n      <td>Российский МИД подготовил ответ американским з...</td>\n      <td>(N,a,N)</td>\n      <td>NaN</td>\n      <td>2014-12-12 22:50:00</td>\n      <td>newsru.com</td>\n    </tr>\n    <tr>\n      <th>773297</th>\n      <td>https://txt.newsru.com/allnews/russia/24dec201...</td>\n      <td>NaN</td>\n      <td>Кадыров, заявивший о желании поехать на Донбас...</td>\n      <td>\"Я всегда считал, что все нужно начинать с обе...</td>\n      <td>Секретарь Совета безопасности РФ Николай Патру...</td>\n      <td>(N,a,N)</td>\n      <td>NaN</td>\n      <td>2014-12-24 18:12:00</td>\n      <td>newsru.com</td>\n    </tr>\n    <tr>\n      <th>773442</th>\n      <td>https://txt.newsru.com/allnews/hitech/22jan201...</td>\n      <td>NaN</td>\n      <td>Apple запрещает продавать свою продукцию в Кры...</td>\n      <td>\"Со ссылкой на раздел 7 \"Обязательства в отнош...</td>\n      <td>Компания Apple запретила продавать свои устрой...</td>\n      <td>(http://newsru.com/world/20dec2014/blokada.htm...</td>\n      <td>NaN</td>\n      <td>2015-01-22 00:48:00</td>\n      <td>newsru.com</td>\n    </tr>\n    <tr>\n      <th>773444</th>\n      <td>https://txt.newsru.com/allnews/russia/03feb201...</td>\n      <td>NaN</td>\n      <td>Михаил Касьянов подал против НТВ иск о защите ...</td>\n      <td>Поводом для обращения в судебную инстанцию ста...</td>\n      <td>Сопредседатель партии РПР-Парнас и бывший прем...</td>\n      <td>(N,a,N)</td>\n      <td>NaN</td>\n      <td>2015-02-03 23:36:00</td>\n      <td>newsru.com</td>\n    </tr>\n    <tr>\n      <th>773533</th>\n      <td>https://txt.newsru.com/allnews/cinema/04feb201...</td>\n      <td>NaN</td>\n      <td>Гарри Бардин собирает в интернете деньги на но...</td>\n      <td>\"Он будет посвящен вечным ценностям - вещам, к...</td>\n      <td>Всемирно известный российский режиссер-анимато...</td>\n      <td>(https://txt.newsru.com/allnews/cinema/20nov20...</td>\n      <td>{Кино,\"Анимационное кино\",\"Бардин, Гарри\"}</td>\n      <td>2015-02-04 13:40:00</td>\n      <td>newsru.com</td>\n    </tr>\n    <tr>\n      <th>773537</th>\n      <td>https://txt.newsru.com/allnews/russia/09feb201...</td>\n      <td>NaN</td>\n      <td>Прокуроры потребовали разлучить заключенных ко...</td>\n      <td>\"В ходе  проведения проверки</td>\n      <td>В колоний Костромской области прошла прокурорс...</td>\n      <td>(N,a,N)</td>\n      <td>NaN</td>\n      <td>2015-02-09 23:17:00</td>\n      <td>newsru.com</td>\n    </tr>\n    <tr>\n      <th>773655</th>\n      <td>https://txt.newsru.com/allnews/cinema/25feb201...</td>\n      <td>NaN</td>\n      <td>Экс-солист \"Иванушек International\" сфотографи...</td>\n      <td>\"Ко мне подошел человек в \"Макдоналдсе\", сказа...</td>\n      <td>Экс-солист группы \"Иванушки International\" Оле...</td>\n      <td>https://txt.newsru.com/allnews/cinema/10dec201...</td>\n      <td>{Культура,Музыка,Инцидент}</td>\n      <td>2015-02-25 11:16:00</td>\n      <td>newsru.com</td>\n    </tr>\n    <tr>\n      <th>773786</th>\n      <td>https://txt.newsru.com/allnews/cinema/30mar201...</td>\n      <td>NaN</td>\n      <td>Рогозин раскритиковал телесериал Лунгина \"Роди...</td>\n      <td>\"Кто-то может мне объяснить, о чем он? О том, ...</td>\n      <td>Вице-премьер РФ Дмитрий Рогозин подверг резкой...</td>\n      <td>(https://txt.newsru.com/allnews/cinema/28nov20...</td>\n      <td>{Культура,Телевидение,Сериалы}</td>\n      <td>2015-03-30 09:50:00</td>\n      <td>newsru.com</td>\n    </tr>\n    <tr>\n      <th>773788</th>\n      <td>https://txt.newsru.com/allnews/russia/15apr201...</td>\n      <td>NaN</td>\n      <td>В Симферополе несовершеннолетних студенток ошт...</td>\n      <td>Обеих девушек признали виновными в \"нарушении ...</td>\n      <td>В Симферополе двух несовершеннолетних студенто...</td>\n      <td>(N,a,N)</td>\n      <td>NaN</td>\n      <td>2015-04-15 22:31:00</td>\n      <td>newsru.com</td>\n    </tr>\n    <tr>\n      <th>773797</th>\n      <td>https://txt.newsru.com/allnews/russia/16jun201...</td>\n      <td>NaN</td>\n      <td>Минобороны РФ посмеялось над украинским МВД, к...</td>\n      <td>\"Судя по оформлению этой \"секретной\" писанины,...</td>\n      <td>В российском Минобороны посмеялись над информа...</td>\n      <td>(N,a,N)</td>\n      <td>NaN</td>\n      <td>2015-06-16 21:44:00</td>\n      <td>newsru.com</td>\n    </tr>\n    <tr>\n      <th>773863</th>\n      <td>https://txt.newsru.com/allnews/russia/28jul201...</td>\n      <td>NaN</td>\n      <td>Депутат КПРФ написал жалобу президенту на глав...</td>\n      <td>Комментируя действия одной из компаний во врем...</td>\n      <td>Переизбранный в прошлом году губернатор Самарс...</td>\n      <td>(https://txt.newsru.com/allnews/russia/04jun20...</td>\n      <td>{\"Самарская область\",Общество,Инцидент}</td>\n      <td>2015-07-28 20:01:00</td>\n      <td>newsru.com</td>\n    </tr>\n    <tr>\n      <th>773866</th>\n      <td>https://txt.newsru.com/allnews/finance/13jul20...</td>\n      <td>NaN</td>\n      <td>Торговые центры Литвы насторожила идея ЕП о бе...</td>\n      <td>\"Попытка примерить ботинок одного размера абсо...</td>\n      <td>Исполнительный директор Литовской ассоциации т...</td>\n      <td>(https://txt.newsru.com/allnews/finance/13aug2...</td>\n      <td>{Экономика,Европа,Литва}</td>\n      <td>2015-07-13 14:24:00</td>\n      <td>newsru.com</td>\n    </tr>\n    <tr>\n      <th>773877</th>\n      <td>https://txt.newsru.com/allnews/world/09oct2015...</td>\n      <td>NaN</td>\n      <td>Порошенко обвинил Россию в \"фактическом геноци...</td>\n      <td>По словам президента Украины, \"продуктовую бло...</td>\n      <td>Президент Украины Петр Порошенко заявил, что Р...</td>\n      <td>(https://txt.newsru.com/allnews/russia/16sep20...</td>\n      <td>{СНГ,Украина,Россия}</td>\n      <td>2015-10-09 23:56:00</td>\n      <td>newsru.com</td>\n    </tr>\n    <tr>\n      <th>773923</th>\n      <td>https://txt.newsru.com/allnews/cinema/30jul201...</td>\n      <td>NaN</td>\n      <td>Союз работников культуры выступил против перед...</td>\n      <td>\"Исаакиевский собор никогда не был собственнос...</td>\n      <td>Российский творческий союз работников культуры...</td>\n      <td>(https://txt.newsru.com/allnews/religy/24jul20...</td>\n      <td>{Культура,Памятники,\"Передача ценностей\"}</td>\n      <td>2015-07-30 16:05:00</td>\n      <td>newsru.com</td>\n    </tr>\n    <tr>\n      <th>773925</th>\n      <td>https://txt.newsru.com/allnews/russia/03nov201...</td>\n      <td>NaN</td>\n      <td>Подводная линия связи между Россией и Финлянди...</td>\n      <td>\"В настоящее время наблюдается авария на подво...</td>\n      <td>На подводной сети связи между Россией и Финлян...</td>\n      <td>http://hitech.newsru.com/article/13May2015/ros...</td>\n      <td>{Интернет,Россия,Домены}</td>\n      <td>2015-11-03 22:42:00</td>\n      <td>newsru.com</td>\n    </tr>\n    <tr>\n      <th>773927</th>\n      <td>https://txt.newsru.com/allnews/russia/29feb201...</td>\n      <td>NaN</td>\n      <td>Омбудсмен Чечни назвал возможную отставку Кады...</td>\n      <td>\"Отказ Кадырова означал бы массовое нарушение ...</td>\n      <td>Уполномоченный по правам человека Чечни Нарди ...</td>\n      <td>(N,a,N)</td>\n      <td>NaN</td>\n      <td>2016-02-29 23:13:00</td>\n      <td>newsru.com</td>\n    </tr>\n    <tr>\n      <th>773929</th>\n      <td>https://txt.newsru.com/allnews/cinema/16mar201...</td>\n      <td>NaN</td>\n      <td>Участник \"Евровидения-2016\" от Белоруссии пора...</td>\n      <td>\"Не знаю, как это вышло, наверное, сказывается...</td>\n      <td>Участник \"Евровидения-2016\" от Белоруссии Алек...</td>\n      <td>(N,a,N)</td>\n      <td>NaN</td>\n      <td>2016-03-16 23:46:00</td>\n      <td>newsru.com</td>\n    </tr>\n    <tr>\n      <th>773957</th>\n      <td>https://txt.newsru.com/allnews/russia/07jun201...</td>\n      <td>NaN</td>\n      <td>По случаю 75-летия Совинформбюро Путин рассказ...</td>\n      <td>\"Не может быть ситуации, когда если каким-то в...</td>\n      <td>Президент России Владимир Путин во время поздр...</td>\n      <td>(N,a,N)</td>\n      <td>NaN</td>\n      <td>2016-06-07 18:24:00</td>\n      <td>newsru.com</td>\n    </tr>\n    <tr>\n      <th>774018</th>\n      <td>https://txt.newsru.com/allnews/russia/15sep201...</td>\n      <td>NaN</td>\n      <td>В Москве на оппозиционного кандидата пожаловал...</td>\n      <td>Кандидат в Госдуму по Бабушкинскому одномандат...</td>\n      <td>На сотрудника Фонда борьбы с коррупцией (ФБК),...</td>\n      <td>(N,a,N)</td>\n      <td>NaN</td>\n      <td>2016-09-15 15:08:00</td>\n      <td>newsru.com</td>\n    </tr>\n    <tr>\n      <th>774029</th>\n      <td>https://txt.newsru.com/allnews/russia/19oct201...</td>\n      <td>NaN</td>\n      <td>ФСБ \"опечатала\" психиатрическую палату с главо...</td>\n      <td>\"У ФСБ нет ничего на Максименко.</td>\n      <td>Сотрудники Федеральной службы безопасности \"оп...</td>\n      <td>(N,a,N)</td>\n      <td>NaN</td>\n      <td>2016-10-19 20:58:00</td>\n      <td>newsru.com</td>\n    </tr>\n    <tr>\n      <th>774053</th>\n      <td>https://txt.newsru.com/allnews/russia/26nov201...</td>\n      <td>NaN</td>\n      <td>Российские политики комментируют смерть \"патри...</td>\n      <td>В России кубинского лидера характеризуют как в...</td>\n      <td>Российские политики тепло отзываются о Фиделе ...</td>\n      <td>https://txt.newsru.com/allnews/world/26nov2016...</td>\n      <td>{\"Латинская Америка\",Куба,\"Кастро, Фидель\"}</td>\n      <td>2016-11-26 12:22:00</td>\n      <td>newsru.com</td>\n    </tr>\n    <tr>\n      <th>774071</th>\n      <td>https://txt.newsru.com/allnews/russia/05jan201...</td>\n      <td>NaN</td>\n      <td>В Петербурге преподавателя йоги будут судить з...</td>\n      <td>\"Участковый спрашивал, понимаю ли я, что заним...</td>\n      <td>В Санкт-Петербурге 9 января начнется суд над п...</td>\n      <td>(N,a,N)</td>\n      <td>NaN</td>\n      <td>2017-01-05 23:46:00</td>\n      <td>newsru.com</td>\n    </tr>\n    <tr>\n      <th>774126</th>\n      <td>https://txt.newsru.com/allnews/russia/27feb201...</td>\n      <td>NaN</td>\n      <td>В Кремле обещают рассмотреть вопрос отмены ста...</td>\n      <td>\"Безусловно, подобные инициативы заслуживают в...</td>\n      <td>Вопрос отмены уголовной статьи, по которой был...</td>\n      <td>(https://txt.newsru.com/allnews/russia/26feb20...</td>\n      <td>{Москва,Акция,Протест}</td>\n      <td>2017-02-27 16:08:00</td>\n      <td>newsru.com</td>\n    </tr>\n    <tr>\n      <th>774183</th>\n      <td>http://www.meddaily.ru/article/22Oct2019/ppere...</td>\n      <td>NaN</td>\n      <td>Переход на низкокалорийную диету не сделает ва...</td>\n      <td>Ранее проводившиеся исследования доказывали, ч...</td>\n      <td>NaN</td>\n      <td>(N,a,N)</td>\n      <td>NaN</td>\n      <td>2019-10-22 12:00:00</td>\n      <td>newsru.com</td>\n    </tr>\n    <tr>\n      <th>774257</th>\n      <td>http://www.meddaily.ru/article/27Dec2019/golik...</td>\n      <td>NaN</td>\n      <td>Глава Минздрава не согласна с критикой Голиков...</td>\n      <td>На днях вице-премьер РФ Татьяна Голикова в про...</td>\n      <td>NaN</td>\n      <td>(N,a,N)</td>\n      <td>NaN</td>\n      <td>2019-12-27 12:00:00</td>\n      <td>newsru.com</td>\n    </tr>\n    <tr>\n      <th>774273</th>\n      <td>http://www.meddaily.ru/article/08Apr2021/potya...</td>\n      <td>NaN</td>\n      <td>Диетолог: свежий лук может потягаться в пользе...</td>\n      <td>К.м.н., врач-диетолог, доцент медицинского фак...</td>\n      <td>NaN</td>\n      <td>(N,a,N)</td>\n      <td>NaN</td>\n      <td>2021-04-08 12:00:00</td>\n      <td>newsru.com</td>\n    </tr>\n  </tbody>\n</table>\n</div>"
     },
     "execution_count": 38,
     "metadata": {},
     "output_type": "execute_result"
    }
   ],
   "source": [
    "df[df.category == 'NaN']"
   ],
   "metadata": {
    "collapsed": false
   },
   "id": "b11fc0e185b1077a"
  },
  {
   "cell_type": "code",
   "execution_count": 39,
   "outputs": [
    {
     "data": {
      "text/plain": "В мире        180673\nВ России      180306\nИнопресса     117049\neconomy        81481\nsports         77500\ntechnology     48580\nsociety        39970\nМедицина       30022\nNaN               38\nName: category, dtype: int64"
     },
     "execution_count": 39,
     "metadata": {},
     "output_type": "execute_result"
    }
   ],
   "source": [
    "df.category.value_counts()"
   ],
   "metadata": {
    "collapsed": false
   },
   "id": "654b7e89cf9e97bb"
  },
  {
   "cell_type": "code",
   "execution_count": 40,
   "outputs": [],
   "source": [
    "df.to_pickle('raw_newsrucom_df.pkl')"
   ],
   "metadata": {
    "collapsed": false
   },
   "id": "c480cfb3699915e4"
  },
  {
   "cell_type": "code",
   "execution_count": null,
   "outputs": [],
   "source": [],
   "metadata": {
    "collapsed": false
   },
   "id": "a75822ad1a8270fa"
  },
  {
   "cell_type": "code",
   "execution_count": null,
   "outputs": [],
   "source": [],
   "metadata": {
    "collapsed": false
   },
   "id": "cf1d0006941fd582"
  },
  {
   "cell_type": "code",
   "execution_count": 22,
   "outputs": [],
   "source": [
    "url_all = {el['index'] for el in df_dict.values()}"
   ],
   "metadata": {
    "collapsed": false
   },
   "id": "a5267dad817e7cce"
  },
  {
   "cell_type": "code",
   "execution_count": 29,
   "outputs": [],
   "source": [
    "url_done = {el[0] for el in data_read}"
   ],
   "metadata": {
    "collapsed": false
   },
   "id": "f765be7bd7623e73"
  },
  {
   "cell_type": "code",
   "execution_count": 30,
   "outputs": [],
   "source": [
    "rest_url = url_all - url_done"
   ],
   "metadata": {
    "collapsed": false
   },
   "id": "b644d40a02a8dee7"
  },
  {
   "cell_type": "code",
   "execution_count": 31,
   "outputs": [
    {
     "data": {
      "text/plain": "set()"
     },
     "execution_count": 31,
     "metadata": {},
     "output_type": "execute_result"
    }
   ],
   "source": [
    "rest_url"
   ],
   "metadata": {
    "collapsed": false
   },
   "id": "31f5682d3850a376"
  },
  {
   "cell_type": "code",
   "execution_count": 26,
   "outputs": [
    {
     "data": {
      "text/plain": "790"
     },
     "execution_count": 26,
     "metadata": {},
     "output_type": "execute_result"
    }
   ],
   "source": [
    "len(my_rest_tuples_list)"
   ],
   "metadata": {
    "collapsed": false
   },
   "id": "464e8671fdee3d9b"
  },
  {
   "cell_type": "code",
   "execution_count": null,
   "outputs": [],
   "source": [],
   "metadata": {
    "collapsed": false
   },
   "id": "2c4c959b6ca63d5a"
  },
  {
   "cell_type": "code",
   "execution_count": 14,
   "outputs": [
    {
     "name": "stdout",
     "output_type": "stream",
     "text": [
      "https://txt.newsru.com/allnews/world/26jun2015/saakashvili.html успешно\n",
      "https://txt.newsru.com/allnews/russia/26jun2015/troll.html успешно\n",
      "https://txt.newsru.com/allnews/world/26jun2015/gumri.html успешно\n",
      "https://txt.newsru.com/allnews/finance/26jun2015/pension_63.html успешно\n",
      "https://txt.newsru.com/allnews/russia/26jun2015/mid_nato.html успешно\n",
      "https://www.inopressa.ru/article/26Jun2015/usatoday/right.html косяк\n",
      "https://txt.newsru.com/allnews/russia/26jun2015/navalny_yashin.html успешно\n",
      "https://txt.newsru.com/allnews/hitech/26jun2015/win10.html успешно\n",
      "https://txt.newsru.com/allnews/world/26jun2015/terror.html успешно\n",
      "https://txt.newsru.com/allnews/russia/26jun2015/leopardi.html успешно\n",
      "https://txt.newsru.com/allnews/world/26jun2015/protestinarmenia.html успешно\n",
      "https://txt.newsru.com/allnews/world/26jun2015/gay_marriage.html успешно\n",
      "https://txt.newsru.com/allnews/russia/26jun2015/su155.html успешно\n",
      "https://txt.newsru.com/allnews/auto/26jun2015/dtp_map.html успешно\n",
      "https://txt.newsru.com/allnews/blog/26jun2015/zombi.html успешно\n",
      "https://txt.newsru.com/allnews/world/26jun2015/mainlawukraine.html успешно\n",
      "https://txt.newsru.com/allnews/sport/26jun2015/nocrime.html успешно\n",
      "https://txt.newsru.com/allnews/realty/26jun2015/prora.html успешно\n",
      "https://txt.newsru.com/allnews/hitech/26jun2015/wifimcd.html успешно\n",
      "https://txt.newsru.com/allnews/russia/26jun2015/zabaikalie.html успешно\n",
      "http://www.meddaily.ru/article/26Jun2015/tramentib_star косяк\n",
      "https://txt.newsru.com/allnews/finance/26jun2015/rucrdtmrktwatched.html успешно\n",
      "https://txt.newsru.com/allnews/realty/26jun2015/himki_migranty.html успешно\n",
      "https://txt.newsru.com/allnews/cinema/26jun2015/directors.html успешно\n",
      "https://txt.newsru.com/allnews/finance/26jun2015/rugdpdwnflltmp.html успешно\n",
      "https://txt.newsru.com/allnews/sport/26jun2015/arina.html успешно\n",
      "https://txt.newsru.com/allnews/world/23aug2000/soboleznov.html успешно\n",
      "https://txt.newsru.com/allnews/russia/26jun2015/zabvenie.html успешно\n",
      "https://txt.newsru.com/allnews/blog/26jun2015/primakov2.html успешно\n",
      "https://txt.newsru.com/allnews/world/26jun2015/isis.html успешно\n",
      "https://txt.newsru.com/allnews/auto/26jun2015/audi.html успешно\n",
      "http://www.meddaily.ru/article/26Jun2015/parkins_neuron косяк\n",
      "https://txt.newsru.com/allnews/hitech/26jun2015/nogalaxys7.html успешно\n",
      "https://www.inopressa.ru/article/20Oct2000/wp/arc:wp:war.html косяк\n",
      "https://www.inopressa.ru/article/26Oct2000/nytimes/arc:nytimes:war.html косяк\n",
      "https://txt.newsru.com/allnews/cinema/26jun2015/apanin.html успешно\n",
      "https://txt.newsru.com/allnews/auto/26jun2015/romanian_gangs.html успешно\n",
      "https://txt.newsru.com/allnews/russia/26jun2015/spy.html успешно\n",
      "https://txt.newsru.com/allnews/world/26jun2015/waltdisneyworld.html успешно\n",
      "https://txt.newsru.com/allnews/sport/26jun2015/halk.html успешно\n",
      "https://www.inopressa.ru/article/02Nov2000/ilsole24ore/arc:ilsole24ore:incident.html косяк\n",
      "https://txt.newsru.com/allnews/finance/26jun2015/grdebtfridaytalks.html успешно\n",
      "https://txt.newsru.com/allnews/realty/26jun2015/putin_pozhary.html успешно\n",
      "https://txt.newsru.com/allnews/russia/26jun2015/bersenev.html успешно\n",
      "https://txt.newsru.com/allnews/russia/26jun2015/mahmudov.html успешно\n",
      "https://txt.newsru.com/allnews/cinema/26jun2015/mmkfipresci.html успешно\n",
      "https://txt.newsru.com/allnews/hitech/26jun2015/sandisk.html успешно\n",
      "https://www.inopressa.ru/article/26Jun2015/diepresse/Aslan.html косяк\n",
      "https://txt.newsru.com/allnews/russia/26jun2015/resolution.html успешно\n",
      "https://txt.newsru.com/allnews/blog/26jun2015/zabvenie.html успешно\n",
      "https://txt.newsru.com/allnews/world/26jun2015/kuwait.html успешно\n",
      "http://www.meddaily.ru/article/26Jun2015/b12def_acne косяк\n",
      "https://www.inopressa.ru/article/26Jun2015/ft/china.html косяк\n",
      "https://txt.newsru.com/allnews/sport/26jun2015/gan.html успешно\n",
      "https://txt.newsru.com/allnews/realty/26jun2015/mihalkov.html успешно\n",
      "https://www.inopressa.ru/article/26Jun2015/nytimes/donetsk.html косяк\n",
      "https://txt.newsru.com/allnews/world/26jun2015/tunisia.html успешно\n",
      "https://txt.newsru.com/allnews/finance/26jun2015/cordes.html успешно\n",
      "https://www.inopressa.ru/article/26Jun2015/sueddeutsche/china.html косяк\n",
      "https://txt.newsru.com/allnews/russia/26jun2015/chertolyas.html успешно\n",
      "https://txt.newsru.com/allnews/finance/26jun2015/rucardfrd.html успешно\n",
      "https://txt.newsru.com/allnews/cinema/26jun2015/chekhovlive.html успешно\n",
      "https://txt.newsru.com/allnews/auto/26jun2015/omsk_utki.html успешно\n",
      "https://www.inopressa.ru/article/05Feb2001/letemps/arc:letemps:russia.html косяк\n",
      "https://txt.newsru.com/allnews/russia/26jun2015/protest.html успешно\n",
      "https://txt.newsru.com/allnews/sport/26jun2015/gon.html успешно\n",
      "https://txt.newsru.com/allnews/russia/26jun2015/yak.html успешно\n",
      "https://txt.newsru.com/allnews/world/26jun2015/puga4ev.html успешно\n",
      "https://www.inopressa.ru/article/26Jun2015/times/romani.html косяк\n",
      "https://txt.newsru.com/allnews/blog/26jun2015/putin89.html успешно\n",
      "https://txt.newsru.com/allnews/world/26jun2015/taubira.html успешно\n",
      "https://txt.newsru.com/allnews/russia/31oct2000/treesailers.html успешно\n",
      "https://txt.newsru.com/allnews/auto/26jun2015/juke_new.html успешно\n",
      "http://www.meddaily.ru/article/26Jun2015/rabota_materdo4 косяк\n",
      "https://txt.newsru.com/allnews/hitech/26jun2015/newqi.html успешно\n",
      "https://www.inopressa.ru/article/26Jun2015/nytimes/putin_obama.html косяк\n",
      "https://txt.newsru.com/allnews/russia/26jun2015/voronezh.html успешно\n",
      "https://txt.newsru.com/allnews/cinema/26jun2015/jasonstatham.html успешно\n",
      "https://txt.newsru.com/allnews/russia/26jun2015/blef.html успешно\n",
      "https://www.inopressa.ru/article/26Jun2015/times/armenia.html косяк\n",
      "https://txt.newsru.com/allnews/world/26jun2015/monica.html успешно\n",
      "https://txt.newsru.com/allnews/sport/26jun2015/blatter.html успешно\n",
      "https://www.inopressa.ru/article/26Jun2015/welt/Berlin.html косяк\n",
      "https://txt.newsru.com/allnews/finance/26jun2015/frubervstaxi.html успешно\n",
      "https://www.inopressa.ru/article/26Jun2015/inotheme/west_putin_obzor.html косяк\n",
      "https://txt.newsru.com/allnews/cinema/26jun2015/naliteinom.html успешно\n",
      "https://txt.newsru.com/allnews/finance/26jun2015/vinoikonfety.html успешно\n",
      "https://txt.newsru.com/allnews/blog/26jun2015/primakov.html успешно\n",
      "https://txt.newsru.com/allnews/sport/26jun2015/lebedev.html успешно\n",
      "https://txt.newsru.com/allnews/world/26jun2015/factory.html успешно\n",
      "http://www.meddaily.ru/article/26Jun2015/podrostk_druz косяк\n",
      "https://www.inopressa.ru/article/26Jun2015/washtimes/pentagon.html косяк\n",
      "https://txt.newsru.com/allnews/russia/26jun2015/grad.html успешно\n",
      "https://txt.newsru.com/allnews/finance/26jun2015/jaresko.html успешно\n",
      "https://txt.newsru.com/allnews/hitech/26jun2015/jetpack.html успешно\n",
      "https://www.inopressa.ru/article/26Jun2015/globeandmail/canada_ukr.html косяк\n",
      "https://txt.newsru.com/allnews/realty/26jun2015/china_habar.html успешно\n",
      "https://txt.newsru.com/allnews/auto/26jun2015/robodtp.html успешно\n",
      "https://www.inopressa.ru/article/26Jun2015/usatoday/weapons.html косяк\n",
      "https://txt.newsru.com/allnews/world/26jun2015/flotilla.html успешно\n",
      "https://txt.newsru.com/allnews/finance/26jun2015/big3mob.html успешно\n",
      "https://txt.newsru.com/allnews/sport/26jun2015/vivat.html успешно\n",
      "https://txt.newsru.com/allnews/world/26jun2015/neslugi.html успешно\n",
      "https://txt.newsru.com/allnews/cinema/26jun2015/cursedchild.html успешно\n",
      "https://www.inopressa.ru/article/07Feb2001/iht/arc:iht:culture.html косяк\n",
      "https://www.inopressa.ru/article/07Feb2001/ft/arc:ft:russia.html косяк\n",
      "https://www.inopressa.ru/article/26Jun2015/diepresse/perry.html косяк\n",
      "https://txt.newsru.com/allnews/world/26jun2015/trump.html успешно\n",
      "https://txt.newsru.com/allnews/finance/26jun2015/gzprmannual.html успешно\n",
      "https://txt.newsru.com/allnews/blog/26jun2015/dusha.html успешно\n",
      "https://txt.newsru.com/allnews/russia/26jun2015/primakov.html успешно\n",
      "https://www.inopressa.ru/article/26Jun2015/wsj/nato1.html косяк\n",
      "http://www.meddaily.ru/article/26Jun2015/magnolia_rak косяк\n",
      "https://txt.newsru.com/allnews/cinema/26jun2015/chaikovfinal.html успешно\n",
      "https://www.inopressa.ru/article/07Feb2001/guardian/arc:guardian:culture.html косяк\n",
      "https://txt.newsru.com/allnews/sport/26jun2015/seagal.html успешно\n",
      "https://txt.newsru.com/allnews/russia/26jun2015/baikal.html успешно\n",
      "https://txt.newsru.com/allnews/hitech/26jun2015/24mtech.html успешно\n",
      "https://txt.newsru.com/allnews/auto/26jun2015/cruze.html успешно\n",
      "https://txt.newsru.com/allnews/finance/26jun2015/rmgonsale.html успешно\n",
      "https://txt.newsru.com/allnews/world/26jun2015/cygnus.html успешно\n",
      "https://txt.newsru.com/allnews/world/11aug2000/clintonmonicaapology.html успешно\n",
      "https://txt.newsru.com/allnews/realty/26jun2015/4blnfam.html успешно\n",
      "https://txt.newsru.com/allnews/cinema/26jun2015/medinskynds.html успешно\n",
      "https://txt.newsru.com/allnews/world/26jun2015/moved.html успешно\n",
      "https://www.inopressa.ru/article/26Jun2015/nytimes/russia-cohen.html косяк\n",
      "https://txt.newsru.com/allnews/russia/26jun2015/khakass.html успешно\n",
      "https://txt.newsru.com/allnews/finance/26jun2015/btbobli.html успешно\n",
      "https://txt.newsru.com/allnews/sport/26jun2015/povetkin.html успешно\n",
      "http://www.meddaily.ru/article/26Jun2015/cesare_autism косяк\n",
      "https://www.inopressa.ru/article/07Feb2001/wp/arc:wp:different.html косяк\n",
      "https://txt.newsru.com/allnews/blog/26jun2015/hram.html успешно\n",
      "https://txt.newsru.com/allnews/sport/26jun2015/deal.html успешно\n",
      "https://txt.newsru.com/allnews/russia/26jun2015/dobex.html успешно\n",
      "https://txt.newsru.com/allnews/sport/26jun2015/copa.html успешно\n",
      "https://txt.newsru.com/allnews/realty/26jun2015/arenda_kuban.html успешно\n",
      "https://txt.newsru.com/allnews/russia/23aug2000/border.html успешно\n",
      "https://txt.newsru.com/allnews/hitech/26jun2015/appleoled.html успешно\n",
      "https://txt.newsru.com/allnews/world/26jun2015/baltimor.html успешно\n",
      "https://txt.newsru.com/allnews/russia/26jun2015/turtle.html успешно\n",
      "https://txt.newsru.com/allnews/auto/26jun2015/za_ttk.html успешно\n",
      "http://www.meddaily.ru/article/26Jun2015/igra_alkogol косяк\n",
      "https://txt.newsru.com/allnews/russia/26jun2015/pamyatnik.html успешно\n",
      "https://txt.newsru.com/allnews/finance/26jun2015/lactosa.html успешно\n",
      "https://txt.newsru.com/allnews/blog/26jun2015/referendum.html успешно\n",
      "https://txt.newsru.com/allnews/finance/26jun2015/zamimport.html успешно\n",
      "https://txt.newsru.com/allnews/world/26jun2015/nuclearrhetoric.html успешно\n",
      "https://txt.newsru.com/allnews/realty/26jun2015/prefekt_losinka.html успешно\n",
      "https://txt.newsru.com/allnews/russia/26jun2015/kran.html успешно\n",
      "https://www.inopressa.ru/article/07Feb2001/tribunedegeneve/arc:tribunedegeneve:incident.html косяк\n",
      "https://txt.newsru.com/allnews/world/26jun2015/alaska.html успешно\n",
      "https://txt.newsru.com/allnews/russia/26jun2015/sochi.html успешно\n",
      "https://txt.newsru.com/allnews/world/26jun2015/eumigr.html успешно\n",
      "https://txt.newsru.com/allnews/world/26jun2015/lukassays.html успешно\n",
      "https://txt.newsru.com/allnews/cinema/26jun2015/hvorostovsky.html успешно\n",
      "https://txt.newsru.com/allnews/russia/26jun2015/putel.html успешно\n",
      "https://www.inopressa.ru/article/07Feb2001/liberation/arc:liberation:russia.html косяк\n",
      "https://txt.newsru.com/allnews/russia/26jun2015/nemtsov1.html успешно\n",
      "https://txt.newsru.com/allnews/world/26jun2015/paseaggro.html успешно\n",
      "https://txt.newsru.com/allnews/cinema/26jun2000/poppins.html успешно\n",
      "https://txt.newsru.com/allnews/cinema/26jun2000/chris.html успешно\n",
      "https://txt.newsru.com/allnews/cinema/26jun2000/carrey.html успешно\n",
      "https://txt.newsru.com/allnews/world/09aug2000/zapad.html успешно\n",
      "https://txt.newsru.com/allnews/cinema/26jun2000/pie.html успешно\n",
      "https://txt.newsru.com/allnews/cinema/26jun2000/wind.html успешно\n",
      "https://txt.newsru.com/allnews/cinema/26jun2000/indian.html успешно\n",
      "https://txt.newsru.com/allnews/cinema/26jun2000/focus.html успешно\n",
      "https://txt.newsru.com/allnews/cinema/27jun2000/room.html успешно\n",
      "https://txt.newsru.com/allnews/cinema/30jun2000/clooney.html успешно\n",
      "https://txt.newsru.com/allnews/cinema/27jun2000/duvall.html успешно\n",
      "https://txt.newsru.com/allnews/cinema/27jun2000/star.html успешно\n",
      "https://txt.newsru.com/allnews/cinema/27jun2000/isabelle.html успешно\n",
      "https://txt.newsru.com/allnews/cinema/27jun2000/fund.html успешно\n",
      "https://txt.newsru.com/allnews/cinema/27jun2000/douglas.html успешно\n",
      "https://txt.newsru.com/allnews/cinema/27jun2000/woody.html успешно\n",
      "https://txt.newsru.com/allnews/cinema/28jun2000/barkin.html успешно\n",
      "https://txt.newsru.com/allnews/cinema/27jun2000/boris.html успешно\n",
      "https://txt.newsru.com/allnews/cinema/27jun2000/damon.html успешно\n",
      "https://txt.newsru.com/allnews/cinema/27jun2000/taylor.html успешно\n",
      "https://txt.newsru.com/allnews/cinema/28jun2000/finn.html успешно\n",
      "https://txt.newsru.com/allnews/cinema/28jun2000/centaur.html успешно\n",
      "https://txt.newsru.com/allnews/world/15aug2000/gibraltarsubmarine.html успешно\n",
      "https://txt.newsru.com/allnews/cinema/28jun2000/allen.html успешно\n",
      "https://txt.newsru.com/allnews/cinema/28jun2000/cardinale.html успешно\n",
      "https://txt.newsru.com/allnews/cinema/28jun2000/battle.html успешно\n",
      "https://txt.newsru.com/allnews/cinema/28jun2000/scorsese.html успешно\n",
      "https://txt.newsru.com/allnews/cinema/30jun2000/clooney.html успешно\n",
      "https://txt.newsru.com/allnews/cinema/28jun2000/duvall.html успешно\n",
      "https://txt.newsru.com/allnews/cinema/28jun2000/war.html успешно\n",
      "https://txt.newsru.com/allnews/cinema/28jun2000/stallone.html успешно\n",
      "https://txt.newsru.com/allnews/cinema/28jun2000/bartel.html успешно\n",
      "https://txt.newsru.com/allnews/cinema/29jun2000/ivan.html успешно\n",
      "https://txt.newsru.com/allnews/russia/23aug2000/luzkov.html успешно\n",
      "https://txt.newsru.com/allnews/cinema/29jun2000/jurassik.html успешно\n",
      "https://txt.newsru.com/allnews/cinema/29jun2000/scifi.html успешно\n",
      "https://txt.newsru.com/allnews/cinema/29jun2000/fletch.html успешно\n",
      "https://txt.newsru.com/allnews/cinema/29jun2000/vgassman.html успешно\n",
      "https://txt.newsru.com/allnews/world/15aug2000/westernaid.html успешно\n",
      "https://txt.newsru.com/allnews/cinema/29jun2000/evans.html успешно\n",
      "https://txt.newsru.com/allnews/cinema/29jun2000/brit.html успешно\n",
      "https://txt.newsru.com/allnews/cinema/29jun2000/fest.html успешно\n",
      "https://txt.newsru.com/allnews/cinema/29jun2000/meg.html успешно\n",
      "https://txt.newsru.com/allnews/cinema/29jun2000/stone.html успешно\n",
      "https://txt.newsru.com/allnews/sport/13jul2000/basket.html успешно\n",
      "https://txt.newsru.com/allnews/cinema/30jun2000/montero.html успешно\n",
      "https://txt.newsru.com/allnews/cinema/30jun2000/storm.html успешно\n",
      "https://txt.newsru.com/allnews/cinema/30jun2000/ozon.html успешно\n",
      "https://txt.newsru.com/allnews/cinema/30jun2000/baldwin.html успешно\n",
      "https://txt.newsru.com/allnews/cinema/30jun2000/thief.html успешно\n",
      "https://txt.newsru.com/allnews/cinema/05jul2000/cannes.html успешно\n",
      "https://txt.newsru.com/allnews/cinema/30jun2000/patriot.html успешно\n",
      "https://txt.newsru.com/allnews/cinema/30jun2000/garland.html успешно\n",
      "https://txt.newsru.com/allnews/world/23aug2000/uff.html успешно\n",
      "https://txt.newsru.com/allnews/cinema/30jun2000/happy.html успешно\n",
      "https://txt.newsru.com/allnews/cinema/30jun2000/hollow.html успешно\n",
      "https://txt.newsru.com/allnews/cinema/01jul2000/chicken.html успешно\n",
      "https://txt.newsru.com/allnews/cinema/01jul2000/ryan.html успешно\n",
      "https://txt.newsru.com/allnews/cinema/30jun2000/storm.html успешно\n",
      "https://txt.newsru.com/allnews/cinema/01jul2000/luchko.html успешно\n",
      "https://txt.newsru.com/allnews/cinema/30jun2000/montero.html успешно\n",
      "https://txt.newsru.com/allnews/cinema/29jan2001/markes.html успешно\n",
      "https://txt.newsru.com/allnews/cinema/30jun2000/storm.html успешно\n",
      "https://txt.newsru.com/allnews/cinema/30jun2000/ozon.html успешно\n",
      "https://txt.newsru.com/allnews/cinema/30jun2000/baldwin.html успешно\n",
      "https://txt.newsru.com/allnews/cinema/30jun2000/thief.html успешно\n",
      "https://txt.newsru.com/allnews/cinema/30jun2000/patriot.html успешно\n",
      "https://txt.newsru.com/allnews/cinema/30jun2000/garland.html успешно\n",
      "https://txt.newsru.com/allnews/russia/02sep2000/seleznev.html успешно\n",
      "https://txt.newsru.com/allnews/cinema/30jun2000/ozon.html успешно\n",
      "https://txt.newsru.com/allnews/sport/13jul2000/basket.html успешно\n",
      "https://txt.newsru.com/allnews/cinema/30jun2000/happy.html успешно\n",
      "https://txt.newsru.com/allnews/cinema/30jun2000/hollow.html успешно\n",
      "https://txt.newsru.com/allnews/cinema/29jun2000/ivan.html успешно\n",
      "https://txt.newsru.com/allnews/cinema/29jun2000/jurassik.html успешно\n",
      "https://txt.newsru.com/allnews/cinema/30jun2000/clooney.html успешно\n",
      "https://www.inopressa.ru/article/07Feb2001/lemonde/arc:lemonde:incident.html косяк\n",
      "https://txt.newsru.com/allnews/cinema/02jul2000/walter.html успешно\n",
      "https://txt.newsru.com/allnews/cinema/02jul2000/wars.html успешно\n",
      "https://txt.newsru.com/allnews/cinema/01jul2000/chicken.html успешно\n",
      "https://txt.newsru.com/allnews/cinema/01jul2000/ryan.html успешно\n",
      "https://txt.newsru.com/allnews/cinema/01jul2000/luchko.html успешно\n",
      "https://txt.newsru.com/allnews/cinema/30jun2000/montero.html успешно\n",
      "https://txt.newsru.com/allnews/cinema/30jun2000/baldwin.html успешно\n",
      "https://txt.newsru.com/allnews/cinema/30jun2000/thief.html успешно\n",
      "https://txt.newsru.com/allnews/cinema/30jun2000/patriot.html успешно\n",
      "https://txt.newsru.com/allnews/cinema/30jun2000/garland.html успешно\n",
      "https://txt.newsru.com/allnews/cinema/05jul2000/fest.html успешно\n",
      "https://www.inopressa.ru/article/22Mar2001/iht/arc:iht:different.html косяк\n",
      "https://www.inopressa.ru/article/22Mar2001/lemonde/arc:lemonde:different.html косяк\n",
      "https://txt.newsru.com/allnews/sport/13jul2000/mihailov.html успешно\n",
      "https://txt.newsru.com/allnews/cinema/30jun2000/happy.html успешно\n",
      "https://txt.newsru.com/allnews/cinema/30jun2000/hollow.html успешно\n",
      "https://txt.newsru.com/allnews/cinema/03jul2000/eremenko.html успешно\n",
      "https://txt.newsru.com/allnews/cinema/03jul2000/sunal.html успешно\n",
      "https://txt.newsru.com/allnews/cinema/03jul2000/wizard.html успешно\n",
      "https://txt.newsru.com/allnews/cinema/03jul2000/assante.html успешно\n",
      "https://txt.newsru.com/allnews/cinema/03jul2000/petersen.html успешно\n",
      "https://txt.newsru.com/allnews/cinema/03jul2000/stuntman.html успешно\n",
      "https://txt.newsru.com/allnews/cinema/03jul2000/crow.html успешно\n",
      "https://txt.newsru.com/allnews/cinema/03jul2000/blasetti.html успешно\n",
      "https://txt.newsru.com/allnews/cinema/05jul2000/fest.html успешно\n",
      "https://www.inopressa.ru/article/30Mar2001/nouvelobs/arc:nouvelobs:russia.html косяк\n",
      "https://txt.newsru.com/allnews/cinema/03jul2000/damon.html успешно\n",
      "https://txt.newsru.com/allnews/cinema/04jul2000/gibson.html успешно\n",
      "https://txt.newsru.com/allnews/cinema/04jul2000/dragons.html успешно\n",
      "https://txt.newsru.com/allnews/cinema/04jul2000/mimino.html успешно\n",
      "https://txt.newsru.com/allnews/cinema/05jul2000/fest.html успешно\n",
      "https://www.inopressa.ru/article/30Mar2001/ft/arc:ft:russia.html косяк\n",
      "https://www.inopressa.ru/article/12Apr2001/elmundo/arc:elmundo:culture.html косяк\n",
      "https://txt.newsru.com/allnews/cinema/04jul2000/depp.html успешно\n",
      "https://txt.newsru.com/allnews/cinema/04jul2000/italian.html успешно\n",
      "https://txt.newsru.com/allnews/cinema/05jul2000/winslet.html успешно\n",
      "https://txt.newsru.com/allnews/cinema/05jul2000/connery.html успешно\n",
      "https://txt.newsru.com/allnews/cinema/05jul2000/dundee.html успешно\n",
      "https://txt.newsru.com/allnews/cinema/05jul2000/fest.html успешно\n",
      "https://txt.newsru.com/allnews/cinema/24feb2001/lenin.html успешно\n",
      "https://txt.newsru.com/allnews/cinema/05jul2000/trier.html успешно\n",
      "https://txt.newsru.com/allnews/cinema/05jul2000/cannes.html успешно\n",
      "https://txt.newsru.com/allnews/cinema/05jul2000/japan.html успешно\n",
      "https://txt.newsru.com/allnews/cinema/05jul2000/fest.html успешно\n",
      "https://txt.newsru.com/allnews/cinema/05jul2000/kisses.html успешно\n",
      "https://txt.newsru.com/allnews/cinema/05jul2000/storm.html успешно\n",
      "https://txt.newsru.com/allnews/cinema/05jul2000/fest.html успешно\n",
      "https://txt.newsru.com/allnews/cinema/05jul2000/winslet.html успешно\n",
      "https://txt.newsru.com/allnews/cinema/05jul2000/connery.html успешно\n",
      "https://txt.newsru.com/allnews/cinema/05jul2000/dundee.html успешно\n",
      "https://txt.newsru.com/allnews/cinema/05jul2000/trier.html успешно\n",
      "https://txt.newsru.com/allnews/cinema/05jul2000/cannes.html успешно\n",
      "https://txt.newsru.com/allnews/cinema/05jul2000/japan.html успешно\n",
      "https://txt.newsru.com/allnews/cinema/05jul2000/kisses.html успешно\n",
      "https://txt.newsru.com/allnews/cinema/05jul2000/storm.html успешно\n",
      "https://txt.newsru.com/allnews/cinema/04jul2000/gibson.html успешно\n",
      "https://txt.newsru.com/allnews/cinema/04jul2000/dragons.html успешно\n",
      "https://txt.newsru.com/allnews/cinema/05jul2000/fest.html успешно\n",
      "https://txt.newsru.com/allnews/world/17aug2000/gore2.html успешно\n",
      "https://txt.newsru.com/allnews/cinema/04jul2000/mimino.html успешно\n",
      "https://txt.newsru.com/allnews/cinema/04jul2000/depp.html успешно\n",
      "https://txt.newsru.com/allnews/cinema/04jul2000/italian.html успешно\n",
      "https://txt.newsru.com/allnews/cinema/03jul2000/eremenko.html успешно\n",
      "https://txt.newsru.com/allnews/sport/13jul2000/doping.html успешно\n",
      "https://txt.newsru.com/allnews/cinema/05jul2000/winslet.html успешно\n",
      "https://txt.newsru.com/allnews/cinema/05jul2000/connery.html успешно\n",
      "https://txt.newsru.com/allnews/cinema/05jul2000/dundee.html успешно\n",
      "https://txt.newsru.com/allnews/cinema/05jul2000/trier.html успешно\n",
      "https://txt.newsru.com/allnews/cinema/05jul2000/cannes.html успешно\n",
      "https://txt.newsru.com/allnews/cinema/05jul2000/japan.html успешно\n",
      "https://txt.newsru.com/allnews/cinema/05jul2000/kisses.html успешно\n",
      "https://txt.newsru.com/allnews/cinema/05jul2000/storm.html успешно\n",
      "https://txt.newsru.com/allnews/cinema/04jul2000/gibson.html успешно\n",
      "https://txt.newsru.com/allnews/cinema/04jul2000/dragons.html успешно\n",
      "https://txt.newsru.com/allnews/cinema/05jul2000/fest.html успешно\n",
      "https://txt.newsru.com/allnews/russia/19aug2000/kursk.html успешно\n",
      "https://txt.newsru.com/allnews/cinema/04jul2000/mimino.html успешно\n",
      "https://txt.newsru.com/allnews/cinema/04jul2000/depp.html успешно\n",
      "https://txt.newsru.com/allnews/cinema/04jul2000/italian.html успешно\n",
      "https://txt.newsru.com/allnews/cinema/03jul2000/eremenko.html успешно\n",
      "https://txt.newsru.com/allnews/sport/13jul2000/doping.html успешно\n",
      "https://txt.newsru.com/allnews/cinema/05jul2000/winslet.html успешно\n",
      "https://txt.newsru.com/allnews/cinema/05jul2000/connery.html успешно\n",
      "https://txt.newsru.com/allnews/cinema/05jul2000/dundee.html успешно\n",
      "https://txt.newsru.com/allnews/cinema/05jul2000/trier.html успешно\n",
      "https://txt.newsru.com/allnews/cinema/05jul2000/cannes.html успешно\n",
      "https://txt.newsru.com/allnews/cinema/05jul2000/japan.html успешно\n",
      "https://txt.newsru.com/allnews/cinema/05jul2000/kisses.html успешно\n",
      "https://txt.newsru.com/allnews/cinema/05jul2000/storm.html успешно\n",
      "https://txt.newsru.com/allnews/cinema/04jul2000/gibson.html успешно\n",
      "https://txt.newsru.com/allnews/cinema/04jul2000/dragons.html успешно\n",
      "https://txt.newsru.com/allnews/sport/13jul2000/basket.html успешно\n",
      "https://txt.newsru.com/allnews/finance/30mar2001/wto_gref.html успешно\n",
      "https://txt.newsru.com/allnews/cinema/04jul2000/mimino.html успешно\n",
      "https://txt.newsru.com/allnews/cinema/04jul2000/depp.html успешно\n",
      "https://txt.newsru.com/allnews/cinema/04jul2000/italian.html успешно\n",
      "https://txt.newsru.com/allnews/cinema/03jul2000/eremenko.html успешно\n",
      "https://txt.newsru.com/allnews/sport/13jul2000/basket.html успешно\n",
      "https://txt.newsru.com/allnews/finance/03nov2000/razvedka.html успешно\n",
      "https://txt.newsru.com/allnews/cinema/05jul2000/winslet.html успешно\n",
      "https://txt.newsru.com/allnews/cinema/05jul2000/connery.html успешно\n",
      "https://txt.newsru.com/allnews/cinema/05jul2000/dundee.html успешно\n",
      "https://txt.newsru.com/allnews/cinema/05jul2000/trier.html успешно\n",
      "https://txt.newsru.com/allnews/cinema/05jul2000/cannes.html успешно\n",
      "https://txt.newsru.com/allnews/cinema/05jul2000/japan.html успешно\n",
      "https://www.inopressa.ru/article/03Nov2000/lepoint/arc:lepoint:russia.html косяк\n",
      "https://txt.newsru.com/allnews/cinema/05jul2000/kisses.html успешно\n",
      "https://txt.newsru.com/allnews/cinema/05jul2000/storm.html успешно\n",
      "https://txt.newsru.com/allnews/cinema/04jul2000/gibson.html успешно\n",
      "https://txt.newsru.com/allnews/cinema/04jul2000/dragons.html успешно\n",
      "https://txt.newsru.com/allnews/sport/20jul2000/norman.html успешно\n",
      "https://txt.newsru.com/allnews/cinema/04jul2000/mimino.html успешно\n",
      "https://txt.newsru.com/allnews/cinema/04jul2000/depp.html успешно\n",
      "https://txt.newsru.com/allnews/cinema/04jul2000/italian.html успешно\n",
      "https://txt.newsru.com/allnews/cinema/03jul2000/eremenko.html успешно\n",
      "https://txt.newsru.com/allnews/sport/20jul2000/horkina.html успешно\n",
      "https://txt.newsru.com/allnews/sport/24apr2001/5433245.html успешно\n",
      "https://txt.newsru.com/allnews/cinema/05jul2000/winslet.html успешно\n",
      "https://txt.newsru.com/allnews/cinema/05jul2000/connery.html успешно\n",
      "https://txt.newsru.com/allnews/cinema/05jul2000/dundee.html успешно\n",
      "https://txt.newsru.com/allnews/cinema/05jul2000/trier.html успешно\n",
      "https://txt.newsru.com/allnews/cinema/05jul2000/cannes.html успешно\n",
      "https://txt.newsru.com/allnews/cinema/05jul2000/japan.html успешно\n",
      "https://txt.newsru.com/allnews/cinema/05jul2000/kisses.html успешно\n",
      "https://txt.newsru.com/allnews/cinema/05jul2000/storm.html успешно\n",
      "https://txt.newsru.com/allnews/cinema/04jul2000/gibson.html успешно\n",
      "https://txt.newsru.com/allnews/cinema/04jul2000/dragons.html успешно\n",
      "https://txt.newsru.com/allnews/russia/08aug2000/samashki.html успешно\n",
      "https://txt.newsru.com/allnews/cinema/04jul2000/mimino.html успешно\n",
      "https://txt.newsru.com/allnews/cinema/04jul2000/depp.html успешно\n",
      "https://txt.newsru.com/allnews/cinema/04jul2000/italian.html успешно\n",
      "https://txt.newsru.com/allnews/cinema/03jul2000/eremenko.html успешно\n",
      "https://txt.newsru.com/allnews/sport/21jul2000/kafelnik.html успешно\n",
      "https://txt.newsru.com/allnews/cinema/05jul2000/winslet.html успешно\n",
      "https://txt.newsru.com/allnews/cinema/05jul2000/connery.html успешно\n",
      "https://txt.newsru.com/allnews/cinema/05jul2000/dundee.html успешно\n",
      "https://txt.newsru.com/allnews/cinema/05jul2000/trier.html успешно\n",
      "https://txt.newsru.com/allnews/cinema/05jul2000/cannes.html успешно\n",
      "https://txt.newsru.com/allnews/cinema/05jul2000/japan.html успешно\n",
      "https://txt.newsru.com/allnews/cinema/05jul2000/kisses.html успешно\n",
      "https://txt.newsru.com/allnews/cinema/05jul2000/storm.html успешно\n",
      "https://txt.newsru.com/allnews/cinema/04jul2000/gibson.html успешно\n",
      "https://txt.newsru.com/allnews/cinema/04jul2000/dragons.html успешно\n",
      "https://txt.newsru.com/allnews/sport/21jul2000/league.html успешно\n",
      "https://txt.newsru.com/allnews/cinema/04jul2000/mimino.html успешно\n",
      "https://txt.newsru.com/allnews/cinema/04jul2000/depp.html успешно\n",
      "https://txt.newsru.com/allnews/cinema/04jul2000/italian.html успешно\n",
      "https://txt.newsru.com/allnews/cinema/03jul2000/eremenko.html успешно\n",
      "https://txt.newsru.com/allnews/sport/23jul2000/moto.html успешно\n",
      "https://txt.newsru.com/allnews/sport/12jul2000/prizovie.html успешно\n",
      "https://txt.newsru.com/allnews/cinema/05jul2000/winslet.html успешно\n",
      "https://txt.newsru.com/allnews/cinema/05jul2000/connery.html успешно\n",
      "https://txt.newsru.com/allnews/cinema/05jul2000/dundee.html успешно\n",
      "https://txt.newsru.com/allnews/cinema/05jul2000/trier.html успешно\n",
      "https://txt.newsru.com/allnews/cinema/05jul2000/cannes.html успешно\n",
      "https://txt.newsru.com/allnews/cinema/05jul2000/japan.html успешно\n",
      "https://txt.newsru.com/allnews/cinema/05jul2000/fest.html успешно\n",
      "https://txt.newsru.com/allnews/cinema/05jul2000/kisses.html успешно\n",
      "https://txt.newsru.com/allnews/cinema/05jul2000/storm.html успешно\n",
      "https://txt.newsru.com/allnews/cinema/04jul2000/gibson.html успешно\n",
      "https://txt.newsru.com/allnews/world/15aug2000/democrats.html успешно\n",
      "https://txt.newsru.com/allnews/cinema/04jul2000/dragons.html успешно\n",
      "https://txt.newsru.com/allnews/cinema/04jul2000/mimino.html успешно\n",
      "https://txt.newsru.com/allnews/cinema/04jul2000/depp.html успешно\n",
      "https://txt.newsru.com/allnews/cinema/04jul2000/italian.html успешно\n",
      "https://txt.newsru.com/allnews/sport/12aug2000/shummy.html успешно\n",
      "https://txt.newsru.com/allnews/sport/13jul2000/tyrdefrans.html успешно\n",
      "https://txt.newsru.com/allnews/sport/13jul2000/gimnast.html успешно\n",
      "https://txt.newsru.com/allnews/sport/13jul2000/kramnik.html успешно\n",
      "https://txt.newsru.com/allnews/finance/15aug2000/il96.html успешно\n",
      "https://txt.newsru.com/allnews/sport/13jul2000/agassi.html успешно\n",
      "https://txt.newsru.com/allnews/sport/19jul2000/misha.html успешно\n",
      "https://txt.newsru.com/allnews/sport/12jul2000/prizovie.html успешно\n",
      "https://txt.newsru.com/allnews/cinema/05jul2000/winslet.html успешно\n",
      "https://txt.newsru.com/allnews/cinema/05jul2000/connery.html успешно\n",
      "https://txt.newsru.com/allnews/cinema/05jul2000/dundee.html успешно\n",
      "https://txt.newsru.com/allnews/world/16aug2000/terror.html успешно\n",
      "https://txt.newsru.com/allnews/cinema/05jul2000/trier.html успешно\n",
      "https://txt.newsru.com/allnews/cinema/05jul2000/japan.html успешно\n",
      "https://txt.newsru.com/allnews/cinema/05jul2000/fest.html успешно\n",
      "https://txt.newsru.com/allnews/sport/13jul2000/mihailov.html успешно\n",
      "https://txt.newsru.com/allnews/sport/13jul2000/basket.html успешно\n",
      "https://txt.newsru.com/allnews/sport/24jul2000/shest.html успешно\n",
      "https://txt.newsru.com/allnews/sport/13jul2000/tyrdefrans.html успешно\n",
      "https://txt.newsru.com/allnews/russia/06sep2000/mchs.html успешно\n",
      "https://txt.newsru.com/allnews/sport/13jul2000/gimnast.html успешно\n",
      "https://txt.newsru.com/allnews/sport/13jul2000/kramnik.html успешно\n",
      "https://txt.newsru.com/allnews/sport/13jul2000/doping.html успешно\n",
      "https://txt.newsru.com/allnews/sport/13jul2000/agassi.html успешно\n",
      "https://txt.newsru.com/allnews/sport/13jul2000/kramnik.html успешно\n",
      "https://txt.newsru.com/allnews/sport/12jul2000/prizovie.html успешно\n",
      "https://txt.newsru.com/allnews/cinema/05jul2000/winslet.html успешно\n",
      "https://txt.newsru.com/allnews/cinema/05jul2000/connery.html успешно\n",
      "https://txt.newsru.com/allnews/cinema/05jul2000/dundee.html успешно\n",
      "https://txt.newsru.com/allnews/cinema/05jul2000/trier.html успешно\n",
      "https://txt.newsru.com/allnews/cinema/05jul2000/cannes.html успешно\n",
      "https://txt.newsru.com/allnews/cinema/05jul2000/japan.html успешно\n",
      "https://txt.newsru.com/allnews/cinema/05jul2000/fest.html успешно\n",
      "https://txt.newsru.com/allnews/sport/13jul2000/mihailov.html успешно\n",
      "https://txt.newsru.com/allnews/sport/13jul2000/basket.html успешно\n",
      "https://txt.newsru.com/allnews/sport/13jul2000/tyrdefrans.html успешно\n",
      "https://txt.newsru.com/allnews/sport/13jul2000/gimnast.html успешно\n",
      "https://txt.newsru.com/allnews/sport/13jul2000/doping.html успешно\n",
      "https://txt.newsru.com/allnews/sport/13jul2000/agassi.html успешно\n",
      "https://txt.newsru.com/allnews/sport/12jul2000/prizovie.html успешно\n",
      "https://txt.newsru.com/allnews/sport/23jul2000/panov.html успешно\n",
      "https://txt.newsru.com/allnews/sport/21may2001/philtor.html успешно\n",
      "https://txt.newsru.com/allnews/cinema/05jul2000/winslet.html успешно\n",
      "https://txt.newsru.com/allnews/cinema/05jul2000/connery.html успешно\n",
      "https://txt.newsru.com/allnews/cinema/05jul2000/dundee.html успешно\n",
      "https://txt.newsru.com/allnews/cinema/05jul2000/trier.html успешно\n",
      "https://txt.newsru.com/allnews/cinema/05jul2000/cannes.html успешно\n",
      "https://txt.newsru.com/allnews/cinema/05jul2000/japan.html успешно\n",
      "https://txt.newsru.com/allnews/sport/13jul2000/mihailov.html успешно\n",
      "https://txt.newsru.com/allnews/sport/13jul2000/tyrdefrans.html успешно\n",
      "https://txt.newsru.com/allnews/sport/13jul2000/gimnast.html успешно\n",
      "https://txt.newsru.com/allnews/sport/13jul2000/kramnik.html успешно\n",
      "https://txt.newsru.com/allnews/sport/07sep2000/tennis.html успешно\n",
      "https://txt.newsru.com/allnews/sport/13jul2000/agassi.html успешно\n",
      "https://txt.newsru.com/allnews/world/29jul2000/kashmirtalks.html успешно\n",
      "https://txt.newsru.com/allnews/sport/12jul2000/prizovie.html успешно\n",
      "https://txt.newsru.com/allnews/cinema/05jul2000/winslet.html успешно\n",
      "https://txt.newsru.com/allnews/cinema/05jul2000/connery.html успешно\n",
      "https://txt.newsru.com/allnews/cinema/05jul2000/dundee.html успешно\n",
      "https://txt.newsru.com/allnews/cinema/05jul2000/trier.html успешно\n",
      "https://txt.newsru.com/allnews/cinema/05jul2000/cannes.html успешно\n",
      "https://txt.newsru.com/allnews/cinema/05jul2000/japan.html успешно\n",
      "https://txt.newsru.com/allnews/cinema/05jul2000/fest.html успешно\n",
      "https://txt.newsru.com/allnews/sport/13jul2000/mihailov.html успешно\n",
      "https://txt.newsru.com/allnews/sport/13jul2000/basket.html успешно\n",
      "https://txt.newsru.com/allnews/sport/23jul2000/gimnast.html успешно\n",
      "https://txt.newsru.com/allnews/sport/13jul2000/tyrdefrans.html успешно\n",
      "https://txt.newsru.com/allnews/sport/24jul2000/figy.html успешно\n",
      "https://txt.newsru.com/allnews/sport/13jul2000/gimnast.html успешно\n",
      "https://txt.newsru.com/allnews/sport/13jul2000/kramnik.html успешно\n",
      "https://txt.newsru.com/allnews/sport/13jul2000/doping.html успешно\n",
      "https://txt.newsru.com/allnews/sport/13jul2000/agassi.html успешно\n",
      "https://txt.newsru.com/allnews/sport/13jul2000/tyrdefrans.html успешно\n",
      "https://txt.newsru.com/allnews/sport/12jul2000/prizovie.html успешно\n",
      "https://txt.newsru.com/allnews/cinema/05jul2000/winslet.html успешно\n",
      "https://txt.newsru.com/allnews/cinema/05jul2000/connery.html успешно\n",
      "https://txt.newsru.com/allnews/cinema/05jul2000/dundee.html успешно\n",
      "https://txt.newsru.com/allnews/cinema/05jul2000/trier.html успешно\n",
      "https://txt.newsru.com/allnews/cinema/05jul2000/cannes.html успешно\n",
      "https://txt.newsru.com/allnews/cinema/05jul2000/japan.html успешно\n",
      "https://txt.newsru.com/allnews/cinema/05jul2000/fest.html успешно\n",
      "https://txt.newsru.com/allnews/sport/18jul2000/islam.html успешно\n",
      "https://txt.newsru.com/allnews/sport/18jul2000/germanfoot.html успешно\n",
      "https://txt.newsru.com/allnews/sport/18jul2000/ferguss.html успешно\n",
      "https://txt.newsru.com/allnews/russia/19aug2000/did.html успешно\n",
      "https://txt.newsru.com/allnews/sport/18jul2000/doping.html успешно\n",
      "https://txt.newsru.com/allnews/sport/18jul2000/borjomi.html успешно\n",
      "https://txt.newsru.com/allnews/sport/18jul2000/avleev.html успешно\n",
      "https://txt.newsru.com/allnews/sport/18jul2000/kafel.html успешно\n",
      "https://txt.newsru.com/allnews/sport/13jul2000/mihailov.html успешно\n",
      "https://txt.newsru.com/allnews/sport/13jul2000/gimnast.html успешно\n",
      "https://txt.newsru.com/allnews/sport/13jul2000/kramnik.html успешно\n",
      "https://txt.newsru.com/allnews/sport/13jul2000/doping.html успешно\n",
      "https://txt.newsru.com/allnews/sport/13jul2000/agassi.html успешно\n",
      "https://txt.newsru.com/allnews/sport/20jul2000/australia.html успешно\n",
      "https://txt.newsru.com/allnews/sport/12jul2000/prizovie.html успешно\n",
      "https://txt.newsru.com/allnews/sport/19jul2000/gimnast.html успешно\n",
      "https://txt.newsru.com/allnews/sport/19jul2000/fytboll.html успешно\n",
      "https://txt.newsru.com/allnews/sport/19jul2000/velogonka.html успешно\n",
      "https://txt.newsru.com/allnews/sport/19jul2000/tennis.html успешно\n",
      "https://txt.newsru.com/allnews/sport/19jul2000/weather.html успешно\n",
      "https://txt.newsru.com/allnews/sport/19jul2000/misha.html успешно\n",
      "https://txt.newsru.com/allnews/sport/18jul2000/islam.html успешно\n",
      "https://txt.newsru.com/allnews/sport/18jul2000/germanfoot.html успешно\n",
      "https://txt.newsru.com/allnews/sport/18jul2000/ferguss.html успешно\n",
      "https://txt.newsru.com/allnews/russia/19dec2000/sovet.html успешно\n",
      "https://txt.newsru.com/allnews/sport/18jul2000/doping.html успешно\n",
      "https://txt.newsru.com/allnews/sport/18jul2000/borjomi.html успешно\n",
      "https://txt.newsru.com/allnews/sport/18jul2000/avleev.html успешно\n",
      "https://txt.newsru.com/allnews/sport/18jul2000/kafel.html успешно\n",
      "https://txt.newsru.com/allnews/sport/13jul2000/mihailov.html успешно\n",
      "https://txt.newsru.com/allnews/sport/20jul2000/davis.html успешно\n",
      "https://txt.newsru.com/allnews/sport/20jul2000/fans.html успешно\n",
      "https://txt.newsru.com/allnews/sport/20jul2000/spartak.html успешно\n",
      "https://txt.newsru.com/allnews/sport/20jul2000/panov.html успешно\n",
      "https://txt.newsru.com/allnews/sport/24jul2000/figy.html успешно\n",
      "https://txt.newsru.com/allnews/sport/19jul2000/gimnast.html успешно\n",
      "https://txt.newsru.com/allnews/sport/19jul2000/fytboll.html успешно\n",
      "https://txt.newsru.com/allnews/sport/19jul2000/velogonka.html успешно\n",
      "https://txt.newsru.com/allnews/sport/19jul2000/tennis.html успешно\n",
      "https://txt.newsru.com/allnews/sport/19jul2000/weather.html успешно\n",
      "https://txt.newsru.com/allnews/sport/18jul2000/islam.html успешно\n",
      "https://txt.newsru.com/allnews/sport/18jul2000/germanfoot.html успешно\n",
      "https://txt.newsru.com/allnews/sport/21jul2000/tennistwo.html успешно\n",
      "https://txt.newsru.com/allnews/sport/21jul2000/tourdefrance.html успешно\n",
      "https://txt.newsru.com/allnews/sport/23jul2000/panov.html успешно\n",
      "https://txt.newsru.com/allnews/sport/21jul2000/football.html успешно\n",
      "https://txt.newsru.com/allnews/sport/21jul2000/tennis.html успешно\n",
      "https://txt.newsru.com/allnews/sport/21jul2000/league.html успешно\n",
      "https://txt.newsru.com/allnews/sport/23jul2000/panov.html успешно\n",
      "https://txt.newsru.com/allnews/sport/21jul2000/fiji.html успешно\n",
      "https://txt.newsru.com/allnews/sport/21jul2000/rostselm.html успешно\n",
      "https://txt.newsru.com/allnews/sport/21jul2000/cuba.html успешно\n",
      "https://txt.newsru.com/allnews/sport/21jul2000/pashutin.html успешно\n",
      "https://txt.newsru.com/allnews/sport/21jul2000/mamedov.html успешно\n",
      "https://txt.newsru.com/allnews/world/08sep2000/columbia.html успешно\n",
      "https://txt.newsru.com/allnews/sport/21jul2000/tchuise.html успешно\n",
      "https://txt.newsru.com/allnews/sport/21jul2000/juniors.html успешно\n",
      "https://txt.newsru.com/allnews/sport/21jul2000/tomas.html успешно\n",
      "https://txt.newsru.com/allnews/sport/21jul2000/spartak.html успешно\n",
      "https://txt.newsru.com/allnews/sport/21jul2000/myskina.html успешно\n",
      "https://txt.newsru.com/allnews/world/04mar2001/kosovo.html успешно\n",
      "https://txt.newsru.com/allnews/sport/22jul2000/davydenkoslil.html успешно\n",
      "https://txt.newsru.com/allnews/sport/22jul2000/swimming.html успешно\n",
      "https://txt.newsru.com/allnews/sport/22jul2000/horkina.html успешно\n",
      "https://txt.newsru.com/allnews/sport/22jul2000/football.html успешно\n",
      "https://txt.newsru.com/allnews/sport/22jul2000/davydenko.html успешно\n",
      "https://txt.newsru.com/allnews/russia/31dec2000/icecream.html успешно\n",
      "https://txt.newsru.com/allnews/sport/23jul2000/maksimov.html успешно\n",
      "https://txt.newsru.com/allnews/sport/21jul2000/tennistwo.html успешно\n",
      "https://txt.newsru.com/allnews/sport/21jul2000/tourdefrance.html успешно\n",
      "https://txt.newsru.com/allnews/sport/21jul2000/football.html успешно\n",
      "https://txt.newsru.com/allnews/sport/21jul2000/tennis.html успешно\n",
      "https://txt.newsru.com/allnews/russia/21dec2000/omsk.html успешно\n",
      "https://txt.newsru.com/allnews/sport/21jul2000/fiji.html успешно\n",
      "https://txt.newsru.com/allnews/sport/21jul2000/rostselm.html успешно\n",
      "https://txt.newsru.com/allnews/sport/21jul2000/cuba.html успешно\n",
      "https://txt.newsru.com/allnews/sport/21jul2000/pashutin.html успешно\n",
      "https://txt.newsru.com/allnews/sport/21jul2000/mamedov.html успешно\n",
      "https://txt.newsru.com/allnews/russia/19sep2000/primorie.html успешно\n",
      "https://txt.newsru.com/allnews/sport/23jul2000/gimnast.html успешно\n",
      "https://txt.newsru.com/allnews/sport/23jul2000/zenit.html успешно\n",
      "https://txt.newsru.com/allnews/sport/23jul2000/davis.html успешно\n",
      "https://txt.newsru.com/allnews/sport/23jul2000/spartak.html успешно\n",
      "https://txt.newsru.com/allnews/sport/22jul2000/davydenkoslil.html успешно\n",
      "https://txt.newsru.com/allnews/sport/23jul2000/moto.html успешно\n",
      "https://txt.newsru.com/allnews/sport/22jul2000/swimming.html успешно\n",
      "https://txt.newsru.com/allnews/sport/22jul2000/horkina.html успешно\n",
      "https://txt.newsru.com/allnews/sport/22jul2000/football.html успешно\n",
      "https://txt.newsru.com/allnews/sport/22jul2000/davydenko.html успешно\n",
      "https://txt.newsru.com/allnews/world/12jan2001/journalism.html успешно\n",
      "https://txt.newsru.com/allnews/sport/23jul2000/zenit.html успешно\n",
      "https://txt.newsru.com/allnews/sport/21jul2000/tennistwo.html успешно\n",
      "https://txt.newsru.com/allnews/sport/21jul2000/tourdefrance.html успешно\n",
      "https://txt.newsru.com/allnews/sport/21jul2000/football.html успешно\n",
      "https://txt.newsru.com/allnews/sport/24jul2000/footboll.html успешно\n",
      "https://txt.newsru.com/allnews/sport/24jul2000/figy.html успешно\n",
      "https://txt.newsru.com/allnews/sport/24jul2000/boxing.html успешно\n",
      "https://txt.newsru.com/allnews/sport/24jul2000/swim.html успешно\n",
      "https://txt.newsru.com/allnews/sport/24jul2000/arkaev.html успешно\n",
      "https://txt.newsru.com/allnews/sport/23jul2000/moto.html успешно\n",
      "https://txt.newsru.com/allnews/sport/23jul2000/maksimov.html успешно\n",
      "https://txt.newsru.com/allnews/sport/23jul2000/davis.html успешно\n",
      "https://txt.newsru.com/allnews/sport/23jul2000/spartak.html успешно\n",
      "https://txt.newsru.com/allnews/sport/22jul2000/davydenkoslil.html успешно\n",
      "https://txt.newsru.com/allnews/sport/22jul2000/swimming.html успешно\n",
      "https://txt.newsru.com/allnews/sport/24jul2000/footboll.html успешно\n",
      "https://txt.newsru.com/allnews/sport/24jul2000/shest.html успешно\n",
      "https://txt.newsru.com/allnews/sport/24jul2000/boxing.html успешно\n",
      "https://txt.newsru.com/allnews/sport/24jul2000/swim.html успешно\n",
      "https://txt.newsru.com/allnews/sport/23jul2000/gimnast.html успешно\n",
      "https://txt.newsru.com/allnews/sport/24jul2000/arkaev.html успешно\n",
      "https://txt.newsru.com/allnews/finance/28dec2000/oil_prc.html успешно\n",
      "https://txt.newsru.com/allnews/sport/23jul2000/maksimov.html успешно\n",
      "https://txt.newsru.com/allnews/sport/23jul2000/panov.html успешно\n",
      "https://txt.newsru.com/allnews/sport/23jul2000/gimnast.html успешно\n",
      "https://txt.newsru.com/allnews/sport/23jul2000/zenit.html успешно\n",
      "https://txt.newsru.com/allnews/sport/23jul2000/davis.html успешно\n",
      "https://txt.newsru.com/allnews/sport/23jul2000/spartak.html успешно\n",
      "https://txt.newsru.com/allnews/sport/22jul2000/davydenkoslil.html успешно\n",
      "https://txt.newsru.com/allnews/sport/22jul2000/swimming.html успешно\n",
      "https://txt.newsru.com/allnews/sport/24jul2000/footboll.html успешно\n",
      "https://txt.newsru.com/allnews/sport/24jul2000/shest.html успешно\n",
      "https://txt.newsru.com/allnews/sport/24jul2000/boxing.html успешно\n",
      "https://txt.newsru.com/allnews/sport/24jul2000/swim.html успешно\n",
      "https://txt.newsru.com/allnews/sport/24jul2000/arkaev.html успешно\n",
      "https://txt.newsru.com/allnews/sport/23jul2000/moto.html успешно\n",
      "https://txt.newsru.com/allnews/sport/23jul2000/maksimov.html успешно\n",
      "https://txt.newsru.com/allnews/sport/23jul2000/panov.html успешно\n",
      "https://txt.newsru.com/allnews/sport/23jul2000/gimnast.html успешно\n",
      "https://txt.newsru.com/allnews/sport/23jul2000/zenit.html успешно\n",
      "https://txt.newsru.com/allnews/sport/23jul2000/davis.html успешно\n",
      "https://txt.newsru.com/allnews/sport/23jul2000/spartak.html успешно\n",
      "https://txt.newsru.com/allnews/sport/22jul2000/davydenkoslil.html успешно\n",
      "https://txt.newsru.com/allnews/sport/22jul2000/swimming.html успешно\n",
      "https://txt.newsru.com/allnews/sport/24jul2000/footboll.html успешно\n",
      "https://txt.newsru.com/allnews/sport/24jul2000/figy.html успешно\n",
      "https://txt.newsru.com/allnews/sport/24jul2000/shest.html успешно\n",
      "https://txt.newsru.com/allnews/sport/24jul2000/figy.html успешно\n",
      "https://txt.newsru.com/allnews/sport/24jul2000/boxing.html успешно\n",
      "https://txt.newsru.com/allnews/sport/24jul2000/swim.html успешно\n",
      "https://txt.newsru.com/allnews/sport/24jul2000/arkaev.html успешно\n",
      "https://txt.newsru.com/allnews/sport/23jul2000/moto.html успешно\n",
      "https://txt.newsru.com/allnews/sport/23jul2000/maksimov.html успешно\n",
      "https://txt.newsru.com/allnews/sport/23jul2000/zenit.html успешно\n",
      "https://txt.newsru.com/allnews/sport/23jul2000/davis.html успешно\n",
      "https://txt.newsru.com/allnews/russia/18aug2000/sjr.html успешно\n",
      "https://txt.newsru.com/allnews/sport/23jul2000/spartak.html успешно\n",
      "https://txt.newsru.com/allnews/sport/22jul2000/davydenkoslil.html успешно\n",
      "https://txt.newsru.com/allnews/sport/22jul2000/swimming.html успешно\n",
      "https://txt.newsru.com/allnews/sport/24jul2000/footboll.html успешно\n",
      "https://txt.newsru.com/allnews/sport/24jul2000/figy.html успешно\n",
      "https://txt.newsru.com/allnews/russia/01aug2000/babitski.html успешно\n",
      "https://txt.newsru.com/allnews/sport/24jul2000/shest.html успешно\n",
      "https://txt.newsru.com/allnews/sport/24jul2000/boxing.html успешно\n",
      "https://txt.newsru.com/allnews/sport/24jul2000/swim.html успешно\n",
      "https://txt.newsru.com/allnews/world/29jul2000/fujimoriviolence.html успешно\n",
      "https://txt.newsru.com/allnews/sport/24jul2000/arkaev.html успешно\n",
      "https://txt.newsru.com/allnews/sport/25aug2000/rowing.html успешно\n",
      "https://txt.newsru.com/allnews/sport/23jul2000/moto.html успешно\n",
      "https://txt.newsru.com/allnews/sport/23jul2000/maksimov.html успешно\n",
      "https://txt.newsru.com/allnews/sport/23jul2000/panov.html успешно\n",
      "https://txt.newsru.com/allnews/sport/23jul2000/gimnast.html успешно\n",
      "https://txt.newsru.com/allnews/sport/23jul2000/zenit.html успешно\n",
      "https://txt.newsru.com/allnews/sport/23jul2000/davis.html успешно\n",
      "https://txt.newsru.com/allnews/world/04sep2000/candidate.html успешно\n",
      "https://txt.newsru.com/allnews/sport/23jul2000/spartak.html успешно\n",
      "https://txt.newsru.com/allnews/sport/22jul2000/davydenkoslil.html успешно\n",
      "https://txt.newsru.com/allnews/sport/22jul2000/swimming.html успешно\n",
      "https://txt.newsru.com/allnews/world/29jul2000/belorussia.html успешно\n",
      "https://txt.newsru.com/allnews/world/29jul2000/nuclearfires.html успешно\n",
      "https://txt.newsru.com/allnews/world/29jul2000/arafat.html успешно\n",
      "https://txt.newsru.com/allnews/world/29jul2000/cleone1.html успешно\n",
      "https://txt.newsru.com/allnews/world/29jul2000/hackers.html успешно\n",
      "https://txt.newsru.com/allnews/world/29jul2000/kashmirtalks.html успешно\n",
      "https://txt.newsru.com/allnews/world/29jul2000/koreatalks.html успешно\n",
      "https://txt.newsru.com/allnews/world/01aug2000/lottery.html успешно\n",
      "https://txt.newsru.com/allnews/world/29jul2000/arafat.html успешно\n",
      "https://txt.newsru.com/allnews/world/29jul2000/terrorist.html успешно\n",
      "https://txt.newsru.com/allnews/world/29jul2000/japan.html успешно\n",
      "https://txt.newsru.com/allnews/world/29jul2000/fujimoriviolence.html успешно\n",
      "https://txt.newsru.com/allnews/world/29jul2000/poligon.html успешно\n",
      "https://txt.newsru.com/allnews/world/29jul2000/belorussia.html успешно\n",
      "https://txt.newsru.com/allnews/world/29jul2000/nuclearfires.html успешно\n",
      "https://txt.newsru.com/allnews/russia/23sep2000/lesin2.html успешно\n",
      "https://txt.newsru.com/allnews/world/29jul2000/cleone1.html успешно\n",
      "https://txt.newsru.com/allnews/world/29jul2000/hackers.html успешно\n",
      "https://txt.newsru.com/allnews/world/29jul2000/kashmirtalks.html успешно\n",
      "https://txt.newsru.com/allnews/world/29jul2000/koreatalks.html успешно\n",
      "https://txt.newsru.com/allnews/sport/18sep2000/firstczeh.html успешно\n",
      "https://txt.newsru.com/allnews/sport/24jul2000/shest.html успешно\n",
      "https://txt.newsru.com/allnews/world/29jul2000/terrorist.html успешно\n",
      "https://txt.newsru.com/allnews/world/29jul2000/japan.html успешно\n",
      "https://txt.newsru.com/allnews/world/29jul2000/fujimoriviolence.html успешно\n",
      "https://txt.newsru.com/allnews/world/29jul2000/poligon.html успешно\n",
      "https://txt.newsru.com/allnews/sport/24jul2000/footboll.html успешно\n",
      "https://txt.newsru.com/allnews/world/23sep2000/praga.html успешно\n",
      "https://txt.newsru.com/allnews/sport/24jul2000/boxing.html успешно\n",
      "https://txt.newsru.com/allnews/world/29jul2000/belorussia.html успешно\n",
      "https://txt.newsru.com/allnews/world/29jul2000/nuclearfires.html успешно\n",
      "https://txt.newsru.com/allnews/world/29jul2000/arafat.html успешно\n",
      "https://txt.newsru.com/allnews/world/29jul2000/cleone1.html успешно\n",
      "https://txt.newsru.com/allnews/world/29jul2000/hackers.html успешно\n",
      "https://txt.newsru.com/allnews/world/29jul2000/koreatalks.html успешно\n",
      "https://txt.newsru.com/allnews/world/29jul2000/terrorist.html успешно\n",
      "https://txt.newsru.com/allnews/world/29jul2000/japan.html успешно\n",
      "https://txt.newsru.com/allnews/russia/26oct2000/83dead.html успешно\n",
      "https://txt.newsru.com/allnews/world/29jul2000/poligon.html успешно\n",
      "https://txt.newsru.com/allnews/russia/27feb2001/lesin_zayav.html успешно\n",
      "https://txt.newsru.com/allnews/sport/24jul2000/footboll.html успешно\n",
      "https://txt.newsru.com/allnews/sport/24jul2000/figy.html успешно\n",
      "https://txt.newsru.com/allnews/sport/24jul2000/shest.html успешно\n",
      "https://txt.newsru.com/allnews/sport/24jul2000/boxing.html успешно\n",
      "https://txt.newsru.com/allnews/world/01aug2000/katsav.html успешно\n",
      "https://txt.newsru.com/allnews/world/01aug2000/concord.html успешно\n",
      "https://txt.newsru.com/allnews/sport/01aug2000/runner.html успешно\n",
      "https://txt.newsru.com/allnews/russia/01aug2000/kovalyov.html успешно\n",
      "https://txt.newsru.com/allnews/world/01aug2000/gala.html успешно\n",
      "https://txt.newsru.com/allnews/russia/01aug2000/telefonn.html успешно\n",
      "https://txt.newsru.com/allnews/cinema/01aug2000/heston.html успешно\n",
      "https://txt.newsru.com/allnews/russia/01aug2000/pensii.html успешно\n",
      "https://txt.newsru.com/allnews/russia/01aug2000/derev.html успешно\n",
      "https://txt.newsru.com/allnews/sport/01aug2000/shooting.html успешно\n",
      "https://txt.newsru.com/allnews/sport/01aug2000/chess.html успешно\n",
      "https://txt.newsru.com/allnews/russia/01aug2000/nikitin.html успешно\n",
      "https://txt.newsru.com/allnews/finance/01aug2000/onako.html успешно\n",
      "https://txt.newsru.com/allnews/russia/01aug2000/golod.html успешно\n",
      "https://txt.newsru.com/allnews/russia/01aug2000/tatarstan.html успешно\n",
      "https://txt.newsru.com/allnews/russia/01aug2000/fps.html успешно\n",
      "https://txt.newsru.com/allnews/world/01aug2000/slogan180.html успешно\n",
      "https://txt.newsru.com/allnews/russia/01aug2000/kasyanov.html успешно\n",
      "https://txt.newsru.com/allnews/sport/26oct2000/kinen.html успешно\n",
      "https://txt.newsru.com/allnews/russia/01aug2000/grebneva2.html успешно\n",
      "https://txt.newsru.com/allnews/sport/01aug2000/tennis.html успешно\n",
      "https://txt.newsru.com/allnews/sport/01aug2000/olympg.html успешно\n",
      "https://txt.newsru.com/allnews/cinema/01aug2000/spider.html успешно\n",
      "https://txt.newsru.com/allnews/russia/01aug2000/ort.html успешно\n",
      "https://txt.newsru.com/allnews/sport/01aug2000/box.html успешно\n",
      "https://txt.newsru.com/allnews/russia/01aug2000/mabetex.html успешно\n",
      "https://txt.newsru.com/allnews/finance/01aug2000/tabak.html успешно\n",
      "https://txt.newsru.com/allnews/russia/01aug2000/parking.html успешно\n",
      "https://txt.newsru.com/allnews/russia/01aug2000/alfa.html успешно\n",
      "https://txt.newsru.com/allnews/sport/01aug2000/kurnikova.html успешно\n",
      "https://txt.newsru.com/allnews/world/01aug2000/kanada.html успешно\n",
      "https://txt.newsru.com/allnews/world/01aug2000/gruziya.html успешно\n",
      "https://txt.newsru.com/allnews/finance/01aug2000/birzha.html успешно\n",
      "https://txt.newsru.com/allnews/cinema/01aug2000/dudd.html успешно\n",
      "https://txt.newsru.com/allnews/finance/01aug2000/sliyanie.html успешно\n",
      "https://txt.newsru.com/allnews/cinema/01aug2000/filesdeath.html успешно\n",
      "https://txt.newsru.com/allnews/world/01aug2000/georgia.html успешно\n",
      "https://txt.newsru.com/allnews/cinema/01aug2000/gang.html успешно\n",
      "https://txt.newsru.com/allnews/world/01aug2000/concorde.html успешно\n",
      "https://txt.newsru.com/allnews/russia/02aug2000/boldyrev.html успешно\n",
      "https://txt.newsru.com/allnews/finance/26jan2001/volga.html успешно\n",
      "https://txt.newsru.com/allnews/cinema/01aug2000/austin.html успешно\n",
      "https://txt.newsru.com/allnews/finance/01aug2000/tnk.html успешно\n",
      "https://txt.newsru.com/allnews/cinema/01aug2000/lenfilm.html успешно\n",
      "https://txt.newsru.com/allnews/finance/01aug2000/sberbank.html успешно\n",
      "https://txt.newsru.com/allnews/world/01aug2000/fire.html успешно\n",
      "https://txt.newsru.com/allnews/world/01aug2000/bomb.html успешно\n",
      "https://txt.newsru.com/allnews/russia/16aug2000/submarin1.html успешно\n",
      "https://txt.newsru.com/allnews/finance/01aug2000/pensions.html успешно\n",
      "https://txt.newsru.com/allnews/russia/21aug2000/submarin3.html успешно\n",
      "https://txt.newsru.com/allnews/finance/01aug2000/telefon.html успешно\n",
      "https://txt.newsru.com/allnews/world/01aug2000/bush.html успешно\n",
      "https://txt.newsru.com/allnews/russia/01aug2000/primorie.html успешно\n",
      "https://txt.newsru.com/allnews/russia/01aug2000/grebneva.html успешно\n",
      "https://txt.newsru.com/allnews/world/02aug2000/sud.html успешно\n",
      "https://txt.newsru.com/allnews/russia/02aug2000/desant.html успешно\n",
      "https://txt.newsru.com/allnews/world/02aug2000/pinochet.html успешно\n",
      "https://txt.newsru.com/allnews/sport/02aug2000/spartak.html успешно\n",
      "https://txt.newsru.com/allnews/russia/02aug2000/arsen.html успешно\n",
      "https://txt.newsru.com/allnews/world/02aug2000/tabak.html успешно\n",
      "https://txt.newsru.com/allnews/sport/02aug2000/hockey.html успешно\n",
      "https://txt.newsru.com/allnews/sport/02aug2000/robson.html успешно\n",
      "https://txt.newsru.com/allnews/sport/02aug2000/rivaldo.html успешно\n",
      "https://txt.newsru.com/allnews/russia/02aug2000/hotel.html успешно\n",
      "https://txt.newsru.com/allnews/world/02aug2000/lyotchiki.html успешно\n",
      "https://txt.newsru.com/allnews/world/02aug2000/knesset.html успешно\n",
      "https://txt.newsru.com/allnews/sport/02aug2000/basket.html успешно\n",
      "https://txt.newsru.com/allnews/russia/31dec2000/speech.html успешно\n",
      "https://txt.newsru.com/allnews/russia/31aug2000/putin.html успешно\n",
      "https://txt.newsru.com/allnews/russia/02aug2000/putin.html успешно\n",
      "https://txt.newsru.com/allnews/cinema/02aug2000/derek.html успешно\n",
      "https://txt.newsru.com/allnews/cinema/02aug2000/travolta.html успешно\n",
      "https://txt.newsru.com/allnews/cinema/02aug2000/natasha.html успешно\n",
      "https://txt.newsru.com/allnews/cinema/16aug2000/lungin.html успешно\n",
      "https://txt.newsru.com/allnews/world/02aug2000/noga.html успешно\n",
      "https://txt.newsru.com/allnews/finance/02aug2000/palladium.html успешно\n",
      "https://txt.newsru.com/allnews/world/02aug2000/cuts.html успешно\n",
      "https://txt.newsru.com/allnews/russia/02aug2000/isayev.html успешно\n",
      "https://txt.newsru.com/allnews/sport/02aug2000/asiachil.html успешно\n",
      "https://txt.newsru.com/allnews/finance/02aug2000/beeline.html успешно\n",
      "https://txt.newsru.com/allnews/russia/02aug2000/byudzhet.html успешно\n",
      "https://txt.newsru.com/allnews/cinema/02aug2000/pamela.html успешно\n",
      "https://txt.newsru.com/allnews/finance/02aug2000/electro.html успешно\n",
      "https://txt.newsru.com/allnews/sport/02aug2000/gandball.html успешно\n",
      "https://txt.newsru.com/allnews/russia/02aug2000/vdv.html успешно\n",
      "https://www.inopressa.ru/article/26Jan2001/fraktuell/arc:fraktuell:war.html косяк\n",
      "https://txt.newsru.com/allnews/world/02aug2000/lukashenko.html успешно\n",
      "https://txt.newsru.com/allnews/world/02aug2000/japan.html успешно\n",
      "https://txt.newsru.com/allnews/world/02aug2000/levi.html успешно\n",
      "https://txt.newsru.com/allnews/cinema/02aug2000/locarno.html успешно\n",
      "https://txt.newsru.com/allnews/russia/02aug2000/starinov.html успешно\n",
      "https://txt.newsru.com/allnews/finance/02aug2000/chubais.html успешно\n",
      "https://txt.newsru.com/allnews/russia/03aug2000/vaz.html успешно\n",
      "https://txt.newsru.com/allnews/russia/02aug2000/primorie.html успешно\n",
      "https://txt.newsru.com/allnews/russia/02aug2000/chechnya.html успешно\n",
      "https://txt.newsru.com/allnews/sport/02aug2000/voronin.html успешно\n",
      "https://txt.newsru.com/allnews/world/02aug2000/india.html успешно\n",
      "https://txt.newsru.com/allnews/world/03aug2000/queenmotherbirthday.html успешно\n",
      "https://txt.newsru.com/allnews/russia/02aug2000/nikitin.html успешно\n",
      "https://txt.newsru.com/allnews/sport/02aug2000/toronto.html успешно\n",
      "https://txt.newsru.com/allnews/finance/02aug2000/dollar.html успешно\n",
      "https://txt.newsru.com/allnews/finance/02aug2000/ukraine.html успешно\n",
      "https://txt.newsru.com/allnews/world/02aug2000/philadelphia.html успешно\n",
      "https://txt.newsru.com/allnews/world/04oct2000/usa.html успешно\n",
      "https://txt.newsru.com/allnews/world/02aug2000/kuweit.html успешно\n",
      "https://txt.newsru.com/allnews/world/02aug2000/drug.html успешно\n",
      "https://txt.newsru.com/allnews/russia/02aug2000/crime.html успешно\n",
      "https://txt.newsru.com/allnews/sport/03aug2000/kyba.html успешно\n",
      "https://txt.newsru.com/allnews/russia/03aug2000/nazdratenko.html успешно\n",
      "https://txt.newsru.com/allnews/sport/03aug2000/golf.html успешно\n",
      "https://txt.newsru.com/allnews/russia/03aug2000/manilov.html успешно\n",
      "https://txt.newsru.com/allnews/sport/03aug2000/hokkey.html успешно\n",
      "https://txt.newsru.com/allnews/russia/03aug2000/bereza.html успешно\n",
      "https://txt.newsru.com/allnews/russia/03aug2000/video.html успешно\n",
      "https://txt.newsru.com/allnews/world/03aug2000/bank.html успешно\n",
      "https://txt.newsru.com/allnews/sport/03aug2000/boxing.html успешно\n",
      "https://txt.newsru.com/allnews/finance/03aug2000/sbsagro.html успешно\n",
      "https://txt.newsru.com/allnews/russia/03aug2000/omon.html успешно\n",
      "https://txt.newsru.com/allnews/cinema/03aug2000/hurley.html успешно\n",
      "https://txt.newsru.com/allnews/sport/03aug2000/volos.html успешно\n",
      "https://txt.newsru.com/allnews/world/05aug2000/mobilecancer.html успешно\n",
      "https://txt.newsru.com/allnews/russia/03aug2000/most.html успешно\n",
      "https://txt.newsru.com/allnews/russia/03aug2000/sovet.html успешно\n",
      "https://txt.newsru.com/allnews/russia/03aug2000/mmost.html успешно\n",
      "https://txt.newsru.com/allnews/russia/03aug2000/mashadov.html успешно\n",
      "https://txt.newsru.com/allnews/cinema/03aug2000/dvorjezki.html успешно\n",
      "https://txt.newsru.com/allnews/finance/03aug2000/chubais.html успешно\n",
      "https://txt.newsru.com/allnews/sport/03aug2000/tennis2.html успешно\n",
      "https://txt.newsru.com/allnews/sport/03aug2000/footboll.html успешно\n",
      "https://txt.newsru.com/allnews/cinema/03aug2000/camps.html успешно\n",
      "https://txt.newsru.com/allnews/sport/03aug2000/backetbollfilename.html успешно\n",
      "https://txt.newsru.com/allnews/sport/03aug2000/tennis.html успешно\n",
      "https://txt.newsru.com/allnews/world/03aug2000/britania.html успешно\n",
      "https://txt.newsru.com/allnews/world/03aug2000/fires.html успешно\n",
      "https://txt.newsru.com/allnews/world/03aug2000/kruzenshtern.html успешно\n",
      "https://txt.newsru.com/allnews/cinema/03aug2000/festival.html успешно\n",
      "https://txt.newsru.com/allnews/world/03aug2000/britonsarest.html успешно\n",
      "https://txt.newsru.com/allnews/russia/03aug2000/navaldae.html успешно\n",
      "https://txt.newsru.com/allnews/world/11nov2000/protest.html успешно\n",
      "https://txt.newsru.com/allnews/cinema/03aug2000/carey.html успешно\n",
      "https://txt.newsru.com/allnews/finance/03aug2000/transneft.html успешно\n",
      "https://txt.newsru.com/allnews/finance/03aug2000/ees.html успешно\n",
      "https://txt.newsru.com/allnews/world/03aug2000/india.html успешно\n",
      "https://txt.newsru.com/allnews/cinema/03aug2000/robert.html успешно\n",
      "https://txt.newsru.com/allnews/russia/08aug2000/putin.html успешно\n",
      "https://txt.newsru.com/allnews/russia/03aug2000/saratov.html успешно\n",
      "https://txt.newsru.com/allnews/finance/03aug2000/kredit.html успешно\n",
      "https://txt.newsru.com/allnews/russia/03aug2000/potery.html успешно\n",
      "https://txt.newsru.com/allnews/world/03aug2000/suhartotrial.html успешно\n",
      "https://txt.newsru.com/allnews/finance/03aug2000/czar_debt.html успешно\n",
      "https://txt.newsru.com/allnews/world/03aug2000/hongkong.html успешно\n",
      "https://txt.newsru.com/allnews/world/26sep2000/archeologycrimea.html успешно\n",
      "https://txt.newsru.com/allnews/finance/03aug2000/poshlina.html успешно\n",
      "https://txt.newsru.com/allnews/russia/03aug2000/mediamost.html успешно\n",
      "https://txt.newsru.com/allnews/world/03aug2000/cheneyspeechconvention.html успешно\n",
      "https://txt.newsru.com/allnews/russia/03aug2000/navodnenie.html успешно\n",
      "https://txt.newsru.com/allnews/russia/03aug2000/cherkess.html успешно\n",
      "https://txt.newsru.com/allnews/russia/03aug2000/isita.html успешно\n",
      "https://txt.newsru.com/allnews/world/03aug2000/nature.html успешно\n",
      "https://txt.newsru.com/allnews/world/03aug2000/usa.html успешно\n",
      "https://txt.newsru.com/allnews/world/04aug2000/concorde.html успешно\n",
      "https://txt.newsru.com/allnews/world/05aug2000/spid.html успешно\n",
      "https://txt.newsru.com/allnews/world/04aug2000/sedov.html успешно\n",
      "https://txt.newsru.com/allnews/world/04aug2000/queen.html успешно\n",
      "https://txt.newsru.com/allnews/russia/04aug2000/kristall2.html успешно\n",
      "https://txt.newsru.com/allnews/world/04aug2000/diplomat.html успешно\n",
      "https://txt.newsru.com/allnews/russia/05aug2000/deti.html успешно\n",
      "https://txt.newsru.com/allnews/sport/26nov2000/tennis.html успешно\n",
      "https://txt.newsru.com/allnews/russia/04aug2000/killed.html успешно\n",
      "https://txt.newsru.com/allnews/sport/04aug2000/football.html успешно\n",
      "https://txt.newsru.com/allnews/russia/04aug2000/aksenenko.html успешно\n",
      "https://txt.newsru.com/allnews/russia/04aug2000/rao.html успешно\n",
      "https://txt.newsru.com/allnews/sport/04aug2000/olympicg.html успешно\n",
      "https://txt.newsru.com/allnews/sport/04aug2000/bike.html успешно\n",
      "https://txt.newsru.com/allnews/sport/04aug2000/chess.html успешно\n",
      "https://txt.newsru.com/allnews/world/04aug2000/barak.html успешно\n",
      "https://txt.newsru.com/allnews/cinema/04aug2000/writers.html успешно\n",
      "https://txt.newsru.com/allnews/russia/04aug2000/kristall.html успешно\n",
      "https://txt.newsru.com/allnews/cinema/04aug2000/bandit.html успешно\n",
      "https://txt.newsru.com/allnews/russia/04aug2000/chechnia.html успешно\n",
      "https://txt.newsru.com/allnews/russia/19sep2000/predlojenia.html успешно\n",
      "https://txt.newsru.com/allnews/cinema/04aug2000/kann.html успешно\n",
      "https://txt.newsru.com/allnews/finance/04aug2000/lukoil.html успешно\n",
      "https://txt.newsru.com/allnews/sport/04aug2000/karelin.html успешно\n",
      "https://txt.newsru.com/allnews/cinema/04aug2000/binoche.html успешно\n",
      "https://txt.newsru.com/allnews/sport/04aug2000/kafel.html успешно\n",
      "https://txt.newsru.com/allnews/russia/04aug2000/vaz.html успешно\n",
      "https://txt.newsru.com/allnews/sport/04aug2000/hingis.html успешно\n",
      "https://txt.newsru.com/allnews/world/04aug2000/queenmother.html успешно\n",
      "https://txt.newsru.com/allnews/finance/04aug2000/budget.html успешно\n",
      "https://txt.newsru.com/allnews/sport/04aug2000/tomas.html успешно\n",
      "https://txt.newsru.com/allnews/sport/08aug2000/straus.html успешно\n",
      "https://txt.newsru.com/allnews/cinema/04aug2000/hunt.html успешно\n",
      "https://txt.newsru.com/allnews/world/04aug2000/palestina.html успешно\n",
      "https://txt.newsru.com/allnews/world/04aug2000/vallenberg.html успешно\n",
      "https://txt.newsru.com/allnews/finance/04aug2000/mostbank.html успешно\n",
      "https://txt.newsru.com/allnews/world/04aug2000/arestprotests.html успешно\n",
      "https://txt.newsru.com/allnews/sport/05aug2000/svidler.html успешно\n",
      "https://txt.newsru.com/allnews/russia/04aug2000/dedsad.html успешно\n",
      "https://txt.newsru.com/allnews/russia/04aug2000/derev.html успешно\n",
      "https://txt.newsru.com/allnews/russia/04aug2000/georgia.html успешно\n",
      "https://txt.newsru.com/allnews/sport/04aug2000/kaziragi.html успешно\n",
      "https://txt.newsru.com/allnews/sport/05aug2000/kurnik.html успешно\n",
      "https://txt.newsru.com/allnews/finance/04aug2000/oil.html успешно\n",
      "https://txt.newsru.com/allnews/russia/04aug2000/putin.html успешно\n",
      "https://txt.newsru.com/allnews/world/04aug2000/brazile.html успешно\n",
      "https://txt.newsru.com/allnews/russia/04aug2000/executedoficers.html успешно\n",
      "https://txt.newsru.com/allnews/russia/04aug2000/interbtigada.html успешно\n",
      "https://txt.newsru.com/allnews/world/06aug2000/edinburg.html успешно\n",
      "https://txt.newsru.com/allnews/finance/04aug2000/mps.html успешно\n",
      "https://txt.newsru.com/allnews/russia/04aug2000/sobchak.html успешно\n",
      "https://txt.newsru.com/allnews/russia/04aug2000/buinaksk.html успешно\n",
      "https://txt.newsru.com/allnews/world/04aug2000/concordedeflector.html успешно\n",
      "https://txt.newsru.com/allnews/russia/04aug2000/naemniki.html успешно\n",
      "https://txt.newsru.com/allnews/world/04aug2000/australiamissile.html успешно\n",
      "https://txt.newsru.com/allnews/russia/04aug2000/bilet.html успешно\n",
      "https://txt.newsru.com/allnews/world/04aug2000/shipseizure.html успешно\n",
      "https://txt.newsru.com/allnews/russia/04aug2000/primorie.html успешно\n",
      "https://txt.newsru.com/allnews/russia/04aug2000/media.html успешно\n",
      "https://txt.newsru.com/allnews/russia/04aug2000/devochka.html успешно\n",
      "https://txt.newsru.com/allnews/world/05aug2000/arestprotests1.html успешно\n",
      "https://txt.newsru.com/allnews/russia/05aug2000/samoupr.html успешно\n",
      "https://txt.newsru.com/allnews/russia/05aug2000/rozd.html успешно\n",
      "https://txt.newsru.com/allnews/russia/05aug2000/zemletryaseniye.html успешно\n",
      "https://txt.newsru.com/allnews/world/05aug2000/kitai.html успешно\n",
      "https://txt.newsru.com/allnews/russia/05aug2000/koreya.html успешно\n",
      "https://txt.newsru.com/allnews/russia/05aug2000/chech2.html успешно\n",
      "https://txt.newsru.com/allnews/world/05aug2000/krest.html успешно\n",
      "https://txt.newsru.com/allnews/russia/05aug2000/kristall.html успешно\n",
      "https://txt.newsru.com/allnews/sport/05aug2000/olymp.html успешно\n",
      "https://txt.newsru.com/allnews/russia/05aug2000/aksenenko.html успешно\n",
      "https://txt.newsru.com/allnews/world/05aug2000/sedov.html успешно\n",
      "https://txt.newsru.com/allnews/world/05aug2000/wildlandfire.html успешно\n",
      "https://txt.newsru.com/allnews/cinema/05aug2000/downeyfree.html успешно\n",
      "https://txt.newsru.com/allnews/sport/05aug2000/monako.html успешно\n",
      "https://txt.newsru.com/allnews/sport/05aug2000/basket.html успешно\n",
      "https://txt.newsru.com/allnews/cinema/05aug2000/hurleygrant.html успешно\n",
      "https://txt.newsru.com/allnews/russia/05aug2000/chech.html успешно\n",
      "https://txt.newsru.com/allnews/russia/22may2001/piter_anichkov.html успешно\n",
      "https://txt.newsru.com/allnews/cinema/05aug2000/lynchcow.html успешно\n",
      "https://txt.newsru.com/allnews/world/05aug2000/spoute.html успешно\n",
      "https://txt.newsru.com/allnews/sport/05aug2000/bayern.html успешно\n",
      "https://txt.newsru.com/allnews/russia/05aug2000/banda.html успешно\n",
      "https://txt.newsru.com/allnews/russia/05aug2000/sakhalin.html успешно\n",
      "https://txt.newsru.com/allnews/sport/26sep2000/waterpolo.html успешно\n",
      "https://txt.newsru.com/allnews/sport/05aug2000/safin.html успешно\n",
      "https://txt.newsru.com/allnews/world/05aug2000/gruziya.html успешно\n",
      "https://txt.newsru.com/allnews/russia/05aug2000/sergeyeva.html успешно\n",
      "https://txt.newsru.com/allnews/cinema/06aug2000/chen.html успешно\n",
      "https://txt.newsru.com/allnews/world/16oct2000/heathrow.html успешно\n",
      "https://txt.newsru.com/allnews/russia/06aug2000/plen.html успешно\n",
      "https://txt.newsru.com/allnews/russia/06aug2000/vzrivnoe.html успешно\n",
      "https://txt.newsru.com/allnews/cinema/06aug2000/agent.html успешно\n",
      "https://txt.newsru.com/allnews/world/06aug2000/floodingjapan.html успешно\n",
      "https://txt.newsru.com/allnews/world/07aug2000/terror.html успешно\n",
      "https://txt.newsru.com/allnews/russia/06aug2000/kristalyn.html успешно\n",
      "https://txt.newsru.com/allnews/russia/06aug2000/latishev.html успешно\n",
      "https://txt.newsru.com/allnews/world/06aug2000/quake.html успешно\n",
      "https://txt.newsru.com/allnews/sport/06aug2000/network.html успешно\n",
      "https://txt.newsru.com/allnews/sport/06aug2000/hockey1.html успешно\n",
      "https://www.inopressa.ru/article/16Oct2000/wsj/arc:wsj:incident.html косяк\n",
      "https://txt.newsru.com/allnews/world/06aug2000/yugoarrestpermission.html успешно\n",
      "https://txt.newsru.com/allnews/russia/06aug2000/omonovtsy.html успешно\n",
      "https://txt.newsru.com/allnews/sport/06aug2000/poskakushki.html успешно\n",
      "https://txt.newsru.com/allnews/russia/06aug2000/iamadaev.html успешно\n",
      "https://txt.newsru.com/allnews/russia/06aug2000/zemletrysenie.html успешно\n",
      "https://txt.newsru.com/allnews/sport/06aug2000/calcio.html успешно\n",
      "https://txt.newsru.com/allnews/russia/06aug2000/cherkessk.html успешно\n",
      "https://txt.newsru.com/allnews/cinema/06aug2000/konchalovski.html успешно\n",
      "https://txt.newsru.com/allnews/sport/06aug2000/kurochka.html успешно\n",
      "https://txt.newsru.com/allnews/world/07aug2000/paris.html успешно\n",
      "https://txt.newsru.com/allnews/cinema/06aug2000/drozdova.html успешно\n",
      "https://txt.newsru.com/allnews/world/06aug2000/moriattack.html успешно\n",
      "https://txt.newsru.com/allnews/world/06aug2000/japanes.html успешно\n",
      "https://txt.newsru.com/allnews/world/06aug2000/krasnikrest.html успешно\n",
      "https://txt.newsru.com/allnews/sport/13sep2000/simoni.html успешно\n",
      "https://txt.newsru.com/allnews/sport/06aug2000/maratka.html успешно\n",
      "https://txt.newsru.com/allnews/world/06aug2000/germany.html успешно\n",
      "https://txt.newsru.com/allnews/world/06aug2000/urugvay.html успешно\n",
      "https://txt.newsru.com/allnews/russia/06aug2000/independence.html успешно\n",
      "https://txt.newsru.com/allnews/sport/07aug2000/golf.html успешно\n",
      "https://txt.newsru.com/allnews/world/07aug2000/lazar.html успешно\n",
      "https://txt.newsru.com/allnews/russia/24oct2000/seleznevcom.html успешно\n",
      "https://txt.newsru.com/allnews/russia/07aug2000/hermitage.html успешно\n",
      "https://txt.newsru.com/allnews/russia/07aug2000/yapon.html успешно\n",
      "https://txt.newsru.com/allnews/world/07aug2000/nato.html успешно\n",
      "https://txt.newsru.com/allnews/sport/07aug2000/voda.html успешно\n",
      "https://txt.newsru.com/allnews/russia/07aug2000/kristall3.html успешно\n",
      "https://txt.newsru.com/allnews/world/07aug2000/scheta.html успешно\n",
      "https://txt.newsru.com/allnews/world/07aug2000/wildfire1.html успешно\n",
      "https://txt.newsru.com/allnews/russia/07aug2000/kristall2.html успешно\n",
      "https://txt.newsru.com/allnews/world/07aug2000/sryu.html успешно\n",
      "https://txt.newsru.com/allnews/sport/07aug2000/boll2.html успешно\n",
      "https://txt.newsru.com/allnews/world/07aug2000/arafat.html успешно\n",
      "https://txt.newsru.com/allnews/world/07aug2000/krest.html успешно\n",
      "https://txt.newsru.com/allnews/sport/07aug2000/velo.html успешно\n",
      "https://txt.newsru.com/allnews/russia/07aug2000/shamanov.html успешно\n",
      "https://txt.newsru.com/allnews/cinema/07aug2000/cars.html успешно\n",
      "https://txt.newsru.com/allnews/world/27feb2001/gongadze2.html успешно\n",
      "https://txt.newsru.com/allnews/finance/07aug2000/oilpipe.html успешно\n",
      "https://txt.newsru.com/allnews/sport/07aug2000/flame.html успешно\n",
      "https://txt.newsru.com/allnews/finance/07aug2000/opec.html успешно\n",
      "https://txt.newsru.com/allnews/world/07aug2000/liberman.html успешно\n",
      "https://txt.newsru.com/allnews/cinema/07aug2000/culkin.html успешно\n",
      "https://txt.newsru.com/allnews/russia/07aug2000/kristal.html успешно\n",
      "https://txt.newsru.com/allnews/russia/07aug2000/yaponets.html успешно\n",
      "https://txt.newsru.com/allnews/sport/07aug2000/tennis2.html успешно\n",
      "https://txt.newsru.com/allnews/finance/07aug2000/markets.html успешно\n",
      "https://txt.newsru.com/allnews/russia/07aug2000/sahalin.html успешно\n",
      "https://txt.newsru.com/allnews/sport/07aug2000/tennis.html успешно\n",
      "https://txt.newsru.com/allnews/world/07aug2000/japan.html успешно\n",
      "https://txt.newsru.com/allnews/russia/07aug2000/sf.html успешно\n",
      "https://txt.newsru.com/allnews/russia/31dec2000/elbrus.html успешно\n",
      "https://txt.newsru.com/allnews/russia/07aug2000/boom.html успешно\n",
      "https://txt.newsru.com/allnews/cinema/07aug2000/hunt2.html успешно\n",
      "https://txt.newsru.com/allnews/world/07aug2000/kolumbiya.html успешно\n",
      "https://txt.newsru.com/allnews/finance/07aug2000/dollar.html успешно\n",
      "https://txt.newsru.com/allnews/world/16oct2000/returned.html успешно\n",
      "https://txt.newsru.com/allnews/cinema/07aug2000/ford.html успешно\n",
      "https://txt.newsru.com/allnews/world/07aug2000/guinnes.html успешно\n",
      "https://txt.newsru.com/allnews/finance/07aug2000/mazut.html успешно\n",
      "https://txt.newsru.com/allnews/finance/07aug2000/oil.html успешно\n",
      "https://txt.newsru.com/allnews/world/07aug2000/bus.html успешно\n",
      "https://txt.newsru.com/allnews/cinema/07aug2000/guinness.html успешно\n",
      "https://txt.newsru.com/allnews/finance/07aug2000/inflation.html успешно\n",
      "https://txt.newsru.com/allnews/russia/07aug2000/noga.html успешно\n",
      "https://txt.newsru.com/allnews/world/07aug2000/fire.html успешно\n",
      "https://txt.newsru.com/allnews/russia/07aug2000/chechnya.html успешно\n",
      "https://txt.newsru.com/allnews/russia/07aug2000/progress.html успешно\n",
      "https://txt.newsru.com/allnews/russia/07aug2000/kristall.html успешно\n",
      "https://txt.newsru.com/allnews/russia/07aug2000/kadirov.html успешно\n",
      "https://txt.newsru.com/allnews/world/08aug2000/pinochet1.html успешно\n",
      "https://txt.newsru.com/allnews/world/08aug2000/hamenei.html успешно\n",
      "https://txt.newsru.com/allnews/russia/08aug2000/gibdd.html успешно\n",
      "https://txt.newsru.com/allnews/world/08aug2000/iaea.html успешно\n",
      "https://txt.newsru.com/allnews/world/08aug2000/blair.html успешно\n",
      "https://txt.newsru.com/allnews/russia/08aug2000/vzryv.html успешно\n",
      "https://txt.newsru.com/allnews/world/08aug2000/shreder.html успешно\n",
      "https://txt.newsru.com/allnews/world/08aug2000/fash.html успешно\n",
      "https://txt.newsru.com/allnews/russia/08aug2000/terror.html успешно\n",
      "https://txt.newsru.com/allnews/russia/08aug2000/putin2.html успешно\n",
      "https://txt.newsru.com/allnews/sport/08aug2000/football.html успешно\n",
      "https://txt.newsru.com/allnews/cinema/08aug2000/coppola.html успешно\n",
      "https://txt.newsru.com/allnews/world/08aug2000/baski.html успешно\n",
      "https://txt.newsru.com/allnews/russia/08aug2000/kartiny.html успешно\n",
      "https://txt.newsru.com/allnews/russia/08aug2000/terakt.html успешно\n",
      "https://txt.newsru.com/allnews/russia/08aug2000/zhertvy.html успешно\n",
      "https://txt.newsru.com/allnews/sport/08aug2000/tourdefr.html успешно\n",
      "https://txt.newsru.com/allnews/russia/08aug2000/babitski.html успешно\n",
      "https://txt.newsru.com/allnews/russia/08aug2000/semashki.html успешно\n",
      "https://txt.newsru.com/allnews/russia/08aug2000/kristall.html успешно\n",
      "https://txt.newsru.com/allnews/russia/08aug2000/tuleev2.html успешно\n",
      "https://txt.newsru.com/allnews/russia/08aug2000/limozovtsy.html успешно\n",
      "https://txt.newsru.com/allnews/finance/22may2001/dumainn.html успешно\n",
      "https://txt.newsru.com/allnews/world/08aug2000/diplomaty.html успешно\n",
      "https://txt.newsru.com/allnews/cinema/08aug2000/hollywood.html успешно\n",
      "https://txt.newsru.com/allnews/cinema/08aug2000/paltrow.html успешно\n",
      "https://txt.newsru.com/allnews/cinema/08aug2000/lucas.html успешно\n",
      "https://txt.newsru.com/allnews/sport/19sep2000/fencing.html успешно\n",
      "https://txt.newsru.com/allnews/sport/08aug2000/boxing.html успешно\n",
      "https://txt.newsru.com/allnews/finance/08aug2000/birzha.html успешно\n",
      "https://txt.newsru.com/allnews/world/08aug2000/yakudza.html успешно\n",
      "https://txt.newsru.com/allnews/world/08aug2000/mkkk.html успешно\n",
      "https://txt.newsru.com/allnews/sport/08aug2000/hungary.html успешно\n",
      "https://txt.newsru.com/allnews/cinema/22may2001/godiki.html успешно\n",
      "https://txt.newsru.com/allnews/cinema/08aug2000/crowe.html успешно\n",
      "https://txt.newsru.com/allnews/finance/08aug2000/londonclub.html успешно\n",
      "https://txt.newsru.com/allnews/sport/08aug2000/ericsson.html успешно\n",
      "https://txt.newsru.com/allnews/russia/08aug2000/metro.html успешно\n",
      "https://txt.newsru.com/allnews/world/08aug2000/italy.html успешно\n",
      "https://txt.newsru.com/allnews/finance/06feb2001/appeal.html успешно\n",
      "https://txt.newsru.com/allnews/russia/08aug2000/tuleev.html успешно\n",
      "https://txt.newsru.com/allnews/finance/08aug2000/oil.html успешно\n",
      "https://txt.newsru.com/allnews/finance/08aug2000/imf.html успешно\n",
      "https://txt.newsru.com/allnews/russia/08aug2000/sarancha.html успешно\n",
      "https://txt.newsru.com/allnews/cinema/08aug2000/titov.html успешно\n",
      "https://txt.newsru.com/allnews/sport/09sep2000/lushemburgu.html успешно\n",
      "https://txt.newsru.com/allnews/cinema/08aug2000/shirley.html успешно\n",
      "https://txt.newsru.com/allnews/sport/08aug2000/bubka.html успешно\n",
      "https://txt.newsru.com/allnews/world/08aug2000/malaysia.html успешно\n",
      "https://txt.newsru.com/allnews/russia/08aug2000/paints.html успешно\n",
      "https://txt.newsru.com/allnews/finance/08aug2000/italydebt.html успешно\n",
      "https://txt.newsru.com/allnews/russia/19sep2000/podrostki.html успешно\n",
      "https://txt.newsru.com/allnews/world/08aug2000/liberman.html успешно\n",
      "https://txt.newsru.com/allnews/finance/08aug2000/centralbank.html успешно\n",
      "https://txt.newsru.com/allnews/russia/08aug2000/baraev.html успешно\n",
      "https://txt.newsru.com/allnews/world/08aug2000/denge.html успешно\n",
      "https://txt.newsru.com/allnews/world/08aug2000/japan.html успешно\n",
      "https://txt.newsru.com/allnews/finance/08aug2000/gazprom.html успешно\n",
      "https://txt.newsru.com/allnews/russia/08aug2000/dalenergo.html успешно\n",
      "https://txt.newsru.com/allnews/russia/08aug2000/hostage.html успешно\n",
      "https://txt.newsru.com/allnews/world/08aug2000/bilbao.html успешно\n",
      "https://txt.newsru.com/allnews/world/09aug2000/lebanonforcesentry.html успешно\n",
      "https://www.inopressa.ru/article/29Jul2005/nouvelobs/prostitution.html косяк\n",
      "https://txt.newsru.com/allnews/russia/08aug2000/shatoi.html успешно\n",
      "https://txt.newsru.com/allnews/world/09aug2000/plane.html успешно\n",
      "https://txt.newsru.com/allnews/russia/09aug2000/space.html успешно\n",
      "https://txt.newsru.com/allnews/sport/09aug2000/archery.html успешно\n",
      "https://txt.newsru.com/allnews/russia/16aug2000/pazhar.html успешно\n",
      "https://txt.newsru.com/allnews/world/09aug2000/uzbekistan.html успешно\n",
      "https://txt.newsru.com/allnews/world/09aug2000/spain.html успешно\n",
      "https://txt.newsru.com/allnews/sport/09aug2000/voley.html успешно\n",
      "https://txt.newsru.com/allnews/russia/09aug2000/tuleev.html успешно\n",
      "https://txt.newsru.com/allnews/russia/09aug2000/vokzal1.html успешно\n",
      "https://txt.newsru.com/allnews/russia/09aug2000/blood.html успешно\n",
      "https://txt.newsru.com/allnews/russia/09aug2000/kavkasci.html успешно\n",
      "https://txt.newsru.com/allnews/world/09aug2000/mexica.html успешно\n",
      "https://txt.newsru.com/allnews/sport/09aug2000/olymp.html успешно\n",
      "https://txt.newsru.com/allnews/russia/09aug2000/zaderganie.html успешно\n",
      "https://txt.newsru.com/allnews/world/09aug2000/madrid.html успешно\n",
      "https://txt.newsru.com/allnews/finance/09aug2000/oil.html успешно\n",
      "https://txt.newsru.com/allnews/cinema/09aug2000/sandra.html успешно\n",
      "https://txt.newsru.com/allnews/russia/09aug2000/boom.html успешно\n",
      "https://txt.newsru.com/allnews/russia/09aug2000/vzriv1.html успешно\n",
      "https://txt.newsru.com/allnews/russia/09aug2000/chechnya.html успешно\n",
      "https://txt.newsru.com/allnews/sport/09aug2000/judo.html успешно\n",
      "https://txt.newsru.com/allnews/sport/09aug2000/ranking.html успешно\n",
      "https://txt.newsru.com/allnews/cinema/09aug2000/taviani.html успешно\n",
      "https://txt.newsru.com/allnews/russia/09aug2000/kadirov.html успешно\n",
      "https://txt.newsru.com/allnews/finance/09aug2000/trade.html успешно\n",
      "https://txt.newsru.com/allnews/russia/09aug2000/hospital.html успешно\n",
      "https://txt.newsru.com/allnews/russia/09aug2000/tragedy.html успешно\n",
      "https://txt.newsru.com/allnews/russia/09aug2000/zdanovich.html успешно\n",
      "https://txt.newsru.com/allnews/russia/09aug2000/palata.html успешно\n",
      "https://txt.newsru.com/allnews/russia/09aug2000/saratov.html успешно\n",
      "https://txt.newsru.com/allnews/finance/09aug2000/onako.html успешно\n",
      "https://txt.newsru.com/allnews/russia/09aug2000/moscow.html успешно\n",
      "https://txt.newsru.com/allnews/world/09aug2000/yugocourtbegin.html успешно\n",
      "https://txt.newsru.com/allnews/russia/09aug2000/putin.html успешно\n",
      "https://txt.newsru.com/allnews/finance/09aug2000/budget.html успешно\n",
      "https://txt.newsru.com/allnews/russia/09aug2000/gruzia1.html успешно\n",
      "https://txt.newsru.com/allnews/russia/09aug2000/spisok.html успешно\n",
      "https://txt.newsru.com/allnews/russia/09aug2000/vzriv5.html успешно\n",
      "https://txt.newsru.com/allnews/cinema/09aug2000/roberts.html успешно\n",
      "https://txt.newsru.com/allnews/cinema/09aug2000/berton.html успешно\n",
      "https://txt.newsru.com/allnews/finance/19sep2000/oilhigh.html успешно\n",
      "https://txt.newsru.com/allnews/russia/09aug2000/metrocom.html успешно\n",
      "https://txt.newsru.com/allnews/russia/09aug2000/storm.html успешно\n",
      "https://txt.newsru.com/allnews/russia/09aug2000/metro.html успешно\n",
      "https://txt.newsru.com/allnews/russia/09aug2000/bereza.html успешно\n",
      "https://txt.newsru.com/allnews/finance/09aug2000/luzhok.html успешно\n",
      "https://txt.newsru.com/allnews/cinema/09aug2000/romash.html успешно\n",
      "https://txt.newsru.com/allnews/russia/09aug2000/helpmvd.html успешно\n",
      "https://txt.newsru.com/allnews/russia/09aug2000/volkoff.html успешно\n",
      "https://txt.newsru.com/allnews/russia/09aug2000/romashin.html успешно\n",
      "https://txt.newsru.com/allnews/russia/09aug2000/sumka.html успешно\n",
      "https://txt.newsru.com/allnews/world/09aug2000/mkkk.html успешно\n",
      "https://txt.newsru.com/allnews/sport/09aug2000/martisova.html успешно\n",
      "https://txt.newsru.com/allnews/sport/09aug2000/lokhi.html успешно\n",
      "https://txt.newsru.com/allnews/russia/09aug2000/plenny.html успешно\n",
      "https://txt.newsru.com/allnews/russia/09aug2000/vzriv4.html успешно\n",
      "https://txt.newsru.com/allnews/russia/09aug2000/luzhkov.html успешно\n",
      "https://txt.newsru.com/allnews/cinema/09aug2000/babyboom.html успешно\n",
      "https://txt.newsru.com/allnews/finance/09aug2000/metal.html успешно\n",
      "https://txt.newsru.com/allnews/finance/09aug2000/kamaz.html успешно\n",
      "https://txt.newsru.com/allnews/world/09aug2000/spainexplosions.html успешно\n",
      "https://txt.newsru.com/allnews/sport/09aug2000/kafila.html успешно\n",
      "https://txt.newsru.com/allnews/russia/10aug2000/blood.html успешно\n",
      "https://txt.newsru.com/allnews/russia/09aug2000/vzriv2.html успешно\n",
      "https://txt.newsru.com/allnews/world/09aug2000/usa.html успешно\n",
      "https://txt.newsru.com/allnews/world/09aug2000/terakt.html успешно\n",
      "https://txt.newsru.com/allnews/russia/09aug2000/obrashenie1.html успешно\n",
      "https://txt.newsru.com/allnews/russia/09aug2000/vzriv3.html успешно\n",
      "https://txt.newsru.com/allnews/world/05sep2000/shari.html успешно\n",
      "https://txt.newsru.com/allnews/russia/09aug2000/palestyna.html успешно\n",
      "https://txt.newsru.com/allnews/world/09aug2000/pinochetstripped.html успешно\n",
      "https://txt.newsru.com/allnews/russia/09aug2000/gruzia.html успешно\n",
      "https://txt.newsru.com/allnews/russia/09aug2000/vzriv.html успешно\n",
      "https://txt.newsru.com/allnews/sport/10aug2000/shpaga.html успешно\n",
      "https://txt.newsru.com/allnews/sport/10aug2000/swimming.html успешно\n",
      "https://txt.newsru.com/allnews/sport/10aug2000/ephedrine.html успешно\n",
      "https://txt.newsru.com/allnews/world/05sep2000/hattabych.html успешно\n",
      "https://txt.newsru.com/allnews/russia/10aug2000/arafat2.html успешно\n",
      "https://txt.newsru.com/allnews/russia/10aug2000/church.html успешно\n",
      "https://txt.newsru.com/allnews/sport/10aug2000/saxa.html успешно\n",
      "https://txt.newsru.com/allnews/russia/10aug2000/tuleev.html успешно\n",
      "https://txt.newsru.com/allnews/russia/10aug2000/sibneft.html успешно\n",
      "https://txt.newsru.com/allnews/cinema/10aug2000/gerard.html успешно\n",
      "https://txt.newsru.com/allnews/world/18aug2000/japan.html успешно\n",
      "https://txt.newsru.com/allnews/world/10aug2000/india.html успешно\n",
      "https://txt.newsru.com/allnews/sport/23sep2000/kafelwins.html успешно\n",
      "https://txt.newsru.com/allnews/russia/10aug2000/terakt.html успешно\n",
      "https://txt.newsru.com/allnews/cinema/10aug2000/king.html успешно\n",
      "https://txt.newsru.com/allnews/world/10aug2000/paris.html успешно\n",
      "https://txt.newsru.com/allnews/russia/10aug2000/gok.html успешно\n",
      "https://txt.newsru.com/allnews/russia/10aug2000/trust.html успешно\n",
      "https://txt.newsru.com/allnews/sport/25sep2000/tennis1.html успешно\n",
      "https://txt.newsru.com/allnews/cinema/10aug2000/spielberg.html успешно\n",
      "https://txt.newsru.com/allnews/finance/10aug2000/prognosis.html успешно\n",
      "https://txt.newsru.com/allnews/cinema/14aug2000/young.html успешно\n",
      "https://txt.newsru.com/allnews/russia/10aug2000/kadaev.html успешно\n",
      "https://txt.newsru.com/allnews/cinema/10aug2000/furlong.html успешно\n",
      "https://txt.newsru.com/allnews/sport/24sep2000/sabreteam.html успешно\n",
      "https://txt.newsru.com/allnews/russia/10aug2000/manilov.html успешно\n",
      "https://txt.newsru.com/allnews/russia/10aug2000/obstrel.html успешно\n",
      "https://txt.newsru.com/allnews/sport/10aug2000/tennis3.html успешно\n",
      "https://txt.newsru.com/allnews/russia/10aug2000/vstretilis.html успешно\n",
      "https://txt.newsru.com/allnews/finance/10aug2000/products.html успешно\n",
      "https://txt.newsru.com/allnews/russia/10aug2000/barak.html успешно\n",
      "https://txt.newsru.com/allnews/world/10aug2000/terrorolympic.html успешно\n",
      "https://txt.newsru.com/allnews/sport/10aug2000/footboll3.html успешно\n",
      "https://txt.newsru.com/allnews/finance/18aug2000/vneshbank.html успешно\n",
      "https://txt.newsru.com/allnews/sport/10aug2000/footboll2.html успешно\n",
      "https://txt.newsru.com/allnews/sport/10aug2000/tennis1.html успешно\n",
      "https://txt.newsru.com/allnews/sport/26sep2000/gloushkov.html успешно\n",
      "https://txt.newsru.com/allnews/russia/10aug2000/sadullaev.html успешно\n",
      "https://txt.newsru.com/allnews/sport/10aug2000/footboll.html успешно\n",
      "https://txt.newsru.com/allnews/russia/14aug2000/antiterror.html успешно\n",
      "https://txt.newsru.com/allnews/russia/10aug2000/autovaz.html успешно\n",
      "https://txt.newsru.com/allnews/finance/10aug2000/birzha.html успешно\n"
     ]
    },
    {
     "ename": "KeyboardInterrupt",
     "evalue": "",
     "output_type": "error",
     "traceback": [
      "\u001B[0;31m---------------------------------------------------------------------------\u001B[0m",
      "\u001B[0;31mKeyboardInterrupt\u001B[0m                         Traceback (most recent call last)",
      "Cell \u001B[0;32mIn[14], line 1\u001B[0m\n\u001B[0;32m----> 1\u001B[0m news_df[\u001B[38;5;124m'\u001B[39m\u001B[38;5;124mtimestamp\u001B[39m\u001B[38;5;124m'\u001B[39m] \u001B[38;5;241m=\u001B[39m \u001B[43mnews_df\u001B[49m\u001B[38;5;241;43m.\u001B[39;49m\u001B[43mapply\u001B[49m\u001B[43m(\u001B[49m\u001B[38;5;28;43;01mlambda\u001B[39;49;00m\u001B[43m \u001B[49m\u001B[43mx\u001B[49m\u001B[43m:\u001B[49m\u001B[43m \u001B[49m\u001B[43mparse_page\u001B[49m\u001B[43m(\u001B[49m\u001B[43mx\u001B[49m\u001B[43m[\u001B[49m\u001B[38;5;241;43m0\u001B[39;49m\u001B[43m]\u001B[49m\u001B[43m,\u001B[49m\u001B[43m \u001B[49m\u001B[43mx\u001B[49m\u001B[43m[\u001B[49m\u001B[38;5;241;43m5\u001B[39;49m\u001B[43m]\u001B[49m\u001B[43m)\u001B[49m\u001B[43m,\u001B[49m\u001B[43m \u001B[49m\u001B[43maxis\u001B[49m\u001B[38;5;241;43m=\u001B[39;49m\u001B[38;5;241;43m1\u001B[39;49m\u001B[43m)\u001B[49m\n",
      "File \u001B[0;32m~/Yandex.Disk/IT/Projects/newsru_com/venv/lib/python3.11/site-packages/pandas/core/frame.py:9565\u001B[0m, in \u001B[0;36mDataFrame.apply\u001B[0;34m(self, func, axis, raw, result_type, args, **kwargs)\u001B[0m\n\u001B[1;32m   9554\u001B[0m \u001B[38;5;28;01mfrom\u001B[39;00m \u001B[38;5;21;01mpandas\u001B[39;00m\u001B[38;5;21;01m.\u001B[39;00m\u001B[38;5;21;01mcore\u001B[39;00m\u001B[38;5;21;01m.\u001B[39;00m\u001B[38;5;21;01mapply\u001B[39;00m \u001B[38;5;28;01mimport\u001B[39;00m frame_apply\n\u001B[1;32m   9556\u001B[0m op \u001B[38;5;241m=\u001B[39m frame_apply(\n\u001B[1;32m   9557\u001B[0m     \u001B[38;5;28mself\u001B[39m,\n\u001B[1;32m   9558\u001B[0m     func\u001B[38;5;241m=\u001B[39mfunc,\n\u001B[0;32m   (...)\u001B[0m\n\u001B[1;32m   9563\u001B[0m     kwargs\u001B[38;5;241m=\u001B[39mkwargs,\n\u001B[1;32m   9564\u001B[0m )\n\u001B[0;32m-> 9565\u001B[0m \u001B[38;5;28;01mreturn\u001B[39;00m \u001B[43mop\u001B[49m\u001B[38;5;241;43m.\u001B[39;49m\u001B[43mapply\u001B[49m\u001B[43m(\u001B[49m\u001B[43m)\u001B[49m\u001B[38;5;241m.\u001B[39m__finalize__(\u001B[38;5;28mself\u001B[39m, method\u001B[38;5;241m=\u001B[39m\u001B[38;5;124m\"\u001B[39m\u001B[38;5;124mapply\u001B[39m\u001B[38;5;124m\"\u001B[39m)\n",
      "File \u001B[0;32m~/Yandex.Disk/IT/Projects/newsru_com/venv/lib/python3.11/site-packages/pandas/core/apply.py:746\u001B[0m, in \u001B[0;36mFrameApply.apply\u001B[0;34m(self)\u001B[0m\n\u001B[1;32m    743\u001B[0m \u001B[38;5;28;01melif\u001B[39;00m \u001B[38;5;28mself\u001B[39m\u001B[38;5;241m.\u001B[39mraw:\n\u001B[1;32m    744\u001B[0m     \u001B[38;5;28;01mreturn\u001B[39;00m \u001B[38;5;28mself\u001B[39m\u001B[38;5;241m.\u001B[39mapply_raw()\n\u001B[0;32m--> 746\u001B[0m \u001B[38;5;28;01mreturn\u001B[39;00m \u001B[38;5;28;43mself\u001B[39;49m\u001B[38;5;241;43m.\u001B[39;49m\u001B[43mapply_standard\u001B[49m\u001B[43m(\u001B[49m\u001B[43m)\u001B[49m\n",
      "File \u001B[0;32m~/Yandex.Disk/IT/Projects/newsru_com/venv/lib/python3.11/site-packages/pandas/core/apply.py:873\u001B[0m, in \u001B[0;36mFrameApply.apply_standard\u001B[0;34m(self)\u001B[0m\n\u001B[1;32m    872\u001B[0m \u001B[38;5;28;01mdef\u001B[39;00m \u001B[38;5;21mapply_standard\u001B[39m(\u001B[38;5;28mself\u001B[39m):\n\u001B[0;32m--> 873\u001B[0m     results, res_index \u001B[38;5;241m=\u001B[39m \u001B[38;5;28;43mself\u001B[39;49m\u001B[38;5;241;43m.\u001B[39;49m\u001B[43mapply_series_generator\u001B[49m\u001B[43m(\u001B[49m\u001B[43m)\u001B[49m\n\u001B[1;32m    875\u001B[0m     \u001B[38;5;66;03m# wrap results\u001B[39;00m\n\u001B[1;32m    876\u001B[0m     \u001B[38;5;28;01mreturn\u001B[39;00m \u001B[38;5;28mself\u001B[39m\u001B[38;5;241m.\u001B[39mwrap_results(results, res_index)\n",
      "File \u001B[0;32m~/Yandex.Disk/IT/Projects/newsru_com/venv/lib/python3.11/site-packages/pandas/core/apply.py:889\u001B[0m, in \u001B[0;36mFrameApply.apply_series_generator\u001B[0;34m(self)\u001B[0m\n\u001B[1;32m    886\u001B[0m \u001B[38;5;28;01mwith\u001B[39;00m option_context(\u001B[38;5;124m\"\u001B[39m\u001B[38;5;124mmode.chained_assignment\u001B[39m\u001B[38;5;124m\"\u001B[39m, \u001B[38;5;28;01mNone\u001B[39;00m):\n\u001B[1;32m    887\u001B[0m     \u001B[38;5;28;01mfor\u001B[39;00m i, v \u001B[38;5;129;01min\u001B[39;00m \u001B[38;5;28menumerate\u001B[39m(series_gen):\n\u001B[1;32m    888\u001B[0m         \u001B[38;5;66;03m# ignore SettingWithCopy here in case the user mutates\u001B[39;00m\n\u001B[0;32m--> 889\u001B[0m         results[i] \u001B[38;5;241m=\u001B[39m \u001B[38;5;28;43mself\u001B[39;49m\u001B[38;5;241;43m.\u001B[39;49m\u001B[43mf\u001B[49m\u001B[43m(\u001B[49m\u001B[43mv\u001B[49m\u001B[43m)\u001B[49m\n\u001B[1;32m    890\u001B[0m         \u001B[38;5;28;01mif\u001B[39;00m \u001B[38;5;28misinstance\u001B[39m(results[i], ABCSeries):\n\u001B[1;32m    891\u001B[0m             \u001B[38;5;66;03m# If we have a view on v, we need to make a copy because\u001B[39;00m\n\u001B[1;32m    892\u001B[0m             \u001B[38;5;66;03m#  series_generator will swap out the underlying data\u001B[39;00m\n\u001B[1;32m    893\u001B[0m             results[i] \u001B[38;5;241m=\u001B[39m results[i]\u001B[38;5;241m.\u001B[39mcopy(deep\u001B[38;5;241m=\u001B[39m\u001B[38;5;28;01mFalse\u001B[39;00m)\n",
      "Cell \u001B[0;32mIn[14], line 1\u001B[0m, in \u001B[0;36m<lambda>\u001B[0;34m(x)\u001B[0m\n\u001B[0;32m----> 1\u001B[0m news_df[\u001B[38;5;124m'\u001B[39m\u001B[38;5;124mtimestamp\u001B[39m\u001B[38;5;124m'\u001B[39m] \u001B[38;5;241m=\u001B[39m news_df\u001B[38;5;241m.\u001B[39mapply(\u001B[38;5;28;01mlambda\u001B[39;00m x: \u001B[43mparse_page\u001B[49m\u001B[43m(\u001B[49m\u001B[43mx\u001B[49m\u001B[43m[\u001B[49m\u001B[38;5;241;43m0\u001B[39;49m\u001B[43m]\u001B[49m\u001B[43m,\u001B[49m\u001B[43m \u001B[49m\u001B[43mx\u001B[49m\u001B[43m[\u001B[49m\u001B[38;5;241;43m5\u001B[39;49m\u001B[43m]\u001B[49m\u001B[43m)\u001B[49m, axis\u001B[38;5;241m=\u001B[39m\u001B[38;5;241m1\u001B[39m)\n",
      "Cell \u001B[0;32mIn[9], line 2\u001B[0m, in \u001B[0;36mparse_page\u001B[0;34m(news_url, date)\u001B[0m\n\u001B[1;32m      1\u001B[0m \u001B[38;5;28;01mdef\u001B[39;00m \u001B[38;5;21mparse_page\u001B[39m(news_url, date):\n\u001B[0;32m----> 2\u001B[0m     html \u001B[38;5;241m=\u001B[39m \u001B[43mrequests\u001B[49m\u001B[38;5;241;43m.\u001B[39;49m\u001B[43mget\u001B[49m\u001B[43m(\u001B[49m\u001B[43mnews_url\u001B[49m\u001B[43m,\u001B[49m\u001B[43m \u001B[49m\u001B[43mheaders\u001B[49m\u001B[38;5;241;43m=\u001B[39;49m\u001B[43mheaders\u001B[49m\u001B[43m)\u001B[49m\u001B[38;5;241m.\u001B[39mtext\n\u001B[1;32m      3\u001B[0m     \u001B[38;5;28;01mtry\u001B[39;00m:\n\u001B[1;32m      4\u001B[0m         soup \u001B[38;5;241m=\u001B[39m BeautifulSoup(html, \u001B[38;5;124m'\u001B[39m\u001B[38;5;124mlxml-xml\u001B[39m\u001B[38;5;124m'\u001B[39m)\u001B[38;5;241m.\u001B[39mbody\u001B[38;5;241m.\u001B[39mfind(\u001B[38;5;124m'\u001B[39m\u001B[38;5;124mdiv\u001B[39m\u001B[38;5;124m'\u001B[39m, attrs\u001B[38;5;241m=\u001B[39m\u001B[38;5;124m'\u001B[39m\u001B[38;5;124marticle-date\u001B[39m\u001B[38;5;124m'\u001B[39m)\n",
      "File \u001B[0;32m~/Yandex.Disk/IT/Projects/newsru_com/venv/lib/python3.11/site-packages/requests/api.py:73\u001B[0m, in \u001B[0;36mget\u001B[0;34m(url, params, **kwargs)\u001B[0m\n\u001B[1;32m     62\u001B[0m \u001B[38;5;28;01mdef\u001B[39;00m \u001B[38;5;21mget\u001B[39m(url, params\u001B[38;5;241m=\u001B[39m\u001B[38;5;28;01mNone\u001B[39;00m, \u001B[38;5;241m*\u001B[39m\u001B[38;5;241m*\u001B[39mkwargs):\n\u001B[1;32m     63\u001B[0m     \u001B[38;5;124mr\u001B[39m\u001B[38;5;124;03m\"\"\"Sends a GET request.\u001B[39;00m\n\u001B[1;32m     64\u001B[0m \n\u001B[1;32m     65\u001B[0m \u001B[38;5;124;03m    :param url: URL for the new :class:`Request` object.\u001B[39;00m\n\u001B[0;32m   (...)\u001B[0m\n\u001B[1;32m     70\u001B[0m \u001B[38;5;124;03m    :rtype: requests.Response\u001B[39;00m\n\u001B[1;32m     71\u001B[0m \u001B[38;5;124;03m    \"\"\"\u001B[39;00m\n\u001B[0;32m---> 73\u001B[0m     \u001B[38;5;28;01mreturn\u001B[39;00m \u001B[43mrequest\u001B[49m\u001B[43m(\u001B[49m\u001B[38;5;124;43m\"\u001B[39;49m\u001B[38;5;124;43mget\u001B[39;49m\u001B[38;5;124;43m\"\u001B[39;49m\u001B[43m,\u001B[49m\u001B[43m \u001B[49m\u001B[43murl\u001B[49m\u001B[43m,\u001B[49m\u001B[43m \u001B[49m\u001B[43mparams\u001B[49m\u001B[38;5;241;43m=\u001B[39;49m\u001B[43mparams\u001B[49m\u001B[43m,\u001B[49m\u001B[43m \u001B[49m\u001B[38;5;241;43m*\u001B[39;49m\u001B[38;5;241;43m*\u001B[39;49m\u001B[43mkwargs\u001B[49m\u001B[43m)\u001B[49m\n",
      "File \u001B[0;32m~/Yandex.Disk/IT/Projects/newsru_com/venv/lib/python3.11/site-packages/requests/api.py:59\u001B[0m, in \u001B[0;36mrequest\u001B[0;34m(method, url, **kwargs)\u001B[0m\n\u001B[1;32m     55\u001B[0m \u001B[38;5;66;03m# By using the 'with' statement we are sure the session is closed, thus we\u001B[39;00m\n\u001B[1;32m     56\u001B[0m \u001B[38;5;66;03m# avoid leaving sockets open which can trigger a ResourceWarning in some\u001B[39;00m\n\u001B[1;32m     57\u001B[0m \u001B[38;5;66;03m# cases, and look like a memory leak in others.\u001B[39;00m\n\u001B[1;32m     58\u001B[0m \u001B[38;5;28;01mwith\u001B[39;00m sessions\u001B[38;5;241m.\u001B[39mSession() \u001B[38;5;28;01mas\u001B[39;00m session:\n\u001B[0;32m---> 59\u001B[0m     \u001B[38;5;28;01mreturn\u001B[39;00m \u001B[43msession\u001B[49m\u001B[38;5;241;43m.\u001B[39;49m\u001B[43mrequest\u001B[49m\u001B[43m(\u001B[49m\u001B[43mmethod\u001B[49m\u001B[38;5;241;43m=\u001B[39;49m\u001B[43mmethod\u001B[49m\u001B[43m,\u001B[49m\u001B[43m \u001B[49m\u001B[43murl\u001B[49m\u001B[38;5;241;43m=\u001B[39;49m\u001B[43murl\u001B[49m\u001B[43m,\u001B[49m\u001B[43m \u001B[49m\u001B[38;5;241;43m*\u001B[39;49m\u001B[38;5;241;43m*\u001B[39;49m\u001B[43mkwargs\u001B[49m\u001B[43m)\u001B[49m\n",
      "File \u001B[0;32m~/Yandex.Disk/IT/Projects/newsru_com/venv/lib/python3.11/site-packages/requests/sessions.py:587\u001B[0m, in \u001B[0;36mSession.request\u001B[0;34m(self, method, url, params, data, headers, cookies, files, auth, timeout, allow_redirects, proxies, hooks, stream, verify, cert, json)\u001B[0m\n\u001B[1;32m    582\u001B[0m send_kwargs \u001B[38;5;241m=\u001B[39m {\n\u001B[1;32m    583\u001B[0m     \u001B[38;5;124m\"\u001B[39m\u001B[38;5;124mtimeout\u001B[39m\u001B[38;5;124m\"\u001B[39m: timeout,\n\u001B[1;32m    584\u001B[0m     \u001B[38;5;124m\"\u001B[39m\u001B[38;5;124mallow_redirects\u001B[39m\u001B[38;5;124m\"\u001B[39m: allow_redirects,\n\u001B[1;32m    585\u001B[0m }\n\u001B[1;32m    586\u001B[0m send_kwargs\u001B[38;5;241m.\u001B[39mupdate(settings)\n\u001B[0;32m--> 587\u001B[0m resp \u001B[38;5;241m=\u001B[39m \u001B[38;5;28;43mself\u001B[39;49m\u001B[38;5;241;43m.\u001B[39;49m\u001B[43msend\u001B[49m\u001B[43m(\u001B[49m\u001B[43mprep\u001B[49m\u001B[43m,\u001B[49m\u001B[43m \u001B[49m\u001B[38;5;241;43m*\u001B[39;49m\u001B[38;5;241;43m*\u001B[39;49m\u001B[43msend_kwargs\u001B[49m\u001B[43m)\u001B[49m\n\u001B[1;32m    589\u001B[0m \u001B[38;5;28;01mreturn\u001B[39;00m resp\n",
      "File \u001B[0;32m~/Yandex.Disk/IT/Projects/newsru_com/venv/lib/python3.11/site-packages/requests/sessions.py:701\u001B[0m, in \u001B[0;36mSession.send\u001B[0;34m(self, request, **kwargs)\u001B[0m\n\u001B[1;32m    698\u001B[0m start \u001B[38;5;241m=\u001B[39m preferred_clock()\n\u001B[1;32m    700\u001B[0m \u001B[38;5;66;03m# Send the request\u001B[39;00m\n\u001B[0;32m--> 701\u001B[0m r \u001B[38;5;241m=\u001B[39m \u001B[43madapter\u001B[49m\u001B[38;5;241;43m.\u001B[39;49m\u001B[43msend\u001B[49m\u001B[43m(\u001B[49m\u001B[43mrequest\u001B[49m\u001B[43m,\u001B[49m\u001B[43m \u001B[49m\u001B[38;5;241;43m*\u001B[39;49m\u001B[38;5;241;43m*\u001B[39;49m\u001B[43mkwargs\u001B[49m\u001B[43m)\u001B[49m\n\u001B[1;32m    703\u001B[0m \u001B[38;5;66;03m# Total elapsed time of the request (approximately)\u001B[39;00m\n\u001B[1;32m    704\u001B[0m elapsed \u001B[38;5;241m=\u001B[39m preferred_clock() \u001B[38;5;241m-\u001B[39m start\n",
      "File \u001B[0;32m~/Yandex.Disk/IT/Projects/newsru_com/venv/lib/python3.11/site-packages/requests/adapters.py:489\u001B[0m, in \u001B[0;36mHTTPAdapter.send\u001B[0;34m(self, request, stream, timeout, verify, cert, proxies)\u001B[0m\n\u001B[1;32m    487\u001B[0m \u001B[38;5;28;01mtry\u001B[39;00m:\n\u001B[1;32m    488\u001B[0m     \u001B[38;5;28;01mif\u001B[39;00m \u001B[38;5;129;01mnot\u001B[39;00m chunked:\n\u001B[0;32m--> 489\u001B[0m         resp \u001B[38;5;241m=\u001B[39m \u001B[43mconn\u001B[49m\u001B[38;5;241;43m.\u001B[39;49m\u001B[43murlopen\u001B[49m\u001B[43m(\u001B[49m\n\u001B[1;32m    490\u001B[0m \u001B[43m            \u001B[49m\u001B[43mmethod\u001B[49m\u001B[38;5;241;43m=\u001B[39;49m\u001B[43mrequest\u001B[49m\u001B[38;5;241;43m.\u001B[39;49m\u001B[43mmethod\u001B[49m\u001B[43m,\u001B[49m\n\u001B[1;32m    491\u001B[0m \u001B[43m            \u001B[49m\u001B[43murl\u001B[49m\u001B[38;5;241;43m=\u001B[39;49m\u001B[43murl\u001B[49m\u001B[43m,\u001B[49m\n\u001B[1;32m    492\u001B[0m \u001B[43m            \u001B[49m\u001B[43mbody\u001B[49m\u001B[38;5;241;43m=\u001B[39;49m\u001B[43mrequest\u001B[49m\u001B[38;5;241;43m.\u001B[39;49m\u001B[43mbody\u001B[49m\u001B[43m,\u001B[49m\n\u001B[1;32m    493\u001B[0m \u001B[43m            \u001B[49m\u001B[43mheaders\u001B[49m\u001B[38;5;241;43m=\u001B[39;49m\u001B[43mrequest\u001B[49m\u001B[38;5;241;43m.\u001B[39;49m\u001B[43mheaders\u001B[49m\u001B[43m,\u001B[49m\n\u001B[1;32m    494\u001B[0m \u001B[43m            \u001B[49m\u001B[43mredirect\u001B[49m\u001B[38;5;241;43m=\u001B[39;49m\u001B[38;5;28;43;01mFalse\u001B[39;49;00m\u001B[43m,\u001B[49m\n\u001B[1;32m    495\u001B[0m \u001B[43m            \u001B[49m\u001B[43massert_same_host\u001B[49m\u001B[38;5;241;43m=\u001B[39;49m\u001B[38;5;28;43;01mFalse\u001B[39;49;00m\u001B[43m,\u001B[49m\n\u001B[1;32m    496\u001B[0m \u001B[43m            \u001B[49m\u001B[43mpreload_content\u001B[49m\u001B[38;5;241;43m=\u001B[39;49m\u001B[38;5;28;43;01mFalse\u001B[39;49;00m\u001B[43m,\u001B[49m\n\u001B[1;32m    497\u001B[0m \u001B[43m            \u001B[49m\u001B[43mdecode_content\u001B[49m\u001B[38;5;241;43m=\u001B[39;49m\u001B[38;5;28;43;01mFalse\u001B[39;49;00m\u001B[43m,\u001B[49m\n\u001B[1;32m    498\u001B[0m \u001B[43m            \u001B[49m\u001B[43mretries\u001B[49m\u001B[38;5;241;43m=\u001B[39;49m\u001B[38;5;28;43mself\u001B[39;49m\u001B[38;5;241;43m.\u001B[39;49m\u001B[43mmax_retries\u001B[49m\u001B[43m,\u001B[49m\n\u001B[1;32m    499\u001B[0m \u001B[43m            \u001B[49m\u001B[43mtimeout\u001B[49m\u001B[38;5;241;43m=\u001B[39;49m\u001B[43mtimeout\u001B[49m\u001B[43m,\u001B[49m\n\u001B[1;32m    500\u001B[0m \u001B[43m        \u001B[49m\u001B[43m)\u001B[49m\n\u001B[1;32m    502\u001B[0m     \u001B[38;5;66;03m# Send the request.\u001B[39;00m\n\u001B[1;32m    503\u001B[0m     \u001B[38;5;28;01melse\u001B[39;00m:\n\u001B[1;32m    504\u001B[0m         \u001B[38;5;28;01mif\u001B[39;00m \u001B[38;5;28mhasattr\u001B[39m(conn, \u001B[38;5;124m\"\u001B[39m\u001B[38;5;124mproxy_pool\u001B[39m\u001B[38;5;124m\"\u001B[39m):\n",
      "File \u001B[0;32m~/Yandex.Disk/IT/Projects/newsru_com/venv/lib/python3.11/site-packages/urllib3/connectionpool.py:703\u001B[0m, in \u001B[0;36mHTTPConnectionPool.urlopen\u001B[0;34m(self, method, url, body, headers, retries, redirect, assert_same_host, timeout, pool_timeout, release_conn, chunked, body_pos, **response_kw)\u001B[0m\n\u001B[1;32m    700\u001B[0m     \u001B[38;5;28mself\u001B[39m\u001B[38;5;241m.\u001B[39m_prepare_proxy(conn)\n\u001B[1;32m    702\u001B[0m \u001B[38;5;66;03m# Make the request on the httplib connection object.\u001B[39;00m\n\u001B[0;32m--> 703\u001B[0m httplib_response \u001B[38;5;241m=\u001B[39m \u001B[38;5;28;43mself\u001B[39;49m\u001B[38;5;241;43m.\u001B[39;49m\u001B[43m_make_request\u001B[49m\u001B[43m(\u001B[49m\n\u001B[1;32m    704\u001B[0m \u001B[43m    \u001B[49m\u001B[43mconn\u001B[49m\u001B[43m,\u001B[49m\n\u001B[1;32m    705\u001B[0m \u001B[43m    \u001B[49m\u001B[43mmethod\u001B[49m\u001B[43m,\u001B[49m\n\u001B[1;32m    706\u001B[0m \u001B[43m    \u001B[49m\u001B[43murl\u001B[49m\u001B[43m,\u001B[49m\n\u001B[1;32m    707\u001B[0m \u001B[43m    \u001B[49m\u001B[43mtimeout\u001B[49m\u001B[38;5;241;43m=\u001B[39;49m\u001B[43mtimeout_obj\u001B[49m\u001B[43m,\u001B[49m\n\u001B[1;32m    708\u001B[0m \u001B[43m    \u001B[49m\u001B[43mbody\u001B[49m\u001B[38;5;241;43m=\u001B[39;49m\u001B[43mbody\u001B[49m\u001B[43m,\u001B[49m\n\u001B[1;32m    709\u001B[0m \u001B[43m    \u001B[49m\u001B[43mheaders\u001B[49m\u001B[38;5;241;43m=\u001B[39;49m\u001B[43mheaders\u001B[49m\u001B[43m,\u001B[49m\n\u001B[1;32m    710\u001B[0m \u001B[43m    \u001B[49m\u001B[43mchunked\u001B[49m\u001B[38;5;241;43m=\u001B[39;49m\u001B[43mchunked\u001B[49m\u001B[43m,\u001B[49m\n\u001B[1;32m    711\u001B[0m \u001B[43m\u001B[49m\u001B[43m)\u001B[49m\n\u001B[1;32m    713\u001B[0m \u001B[38;5;66;03m# If we're going to release the connection in ``finally:``, then\u001B[39;00m\n\u001B[1;32m    714\u001B[0m \u001B[38;5;66;03m# the response doesn't need to know about the connection. Otherwise\u001B[39;00m\n\u001B[1;32m    715\u001B[0m \u001B[38;5;66;03m# it will also try to release it and we'll have a double-release\u001B[39;00m\n\u001B[1;32m    716\u001B[0m \u001B[38;5;66;03m# mess.\u001B[39;00m\n\u001B[1;32m    717\u001B[0m response_conn \u001B[38;5;241m=\u001B[39m conn \u001B[38;5;28;01mif\u001B[39;00m \u001B[38;5;129;01mnot\u001B[39;00m release_conn \u001B[38;5;28;01melse\u001B[39;00m \u001B[38;5;28;01mNone\u001B[39;00m\n",
      "File \u001B[0;32m~/Yandex.Disk/IT/Projects/newsru_com/venv/lib/python3.11/site-packages/urllib3/connectionpool.py:449\u001B[0m, in \u001B[0;36mHTTPConnectionPool._make_request\u001B[0;34m(self, conn, method, url, timeout, chunked, **httplib_request_kw)\u001B[0m\n\u001B[1;32m    444\u001B[0m             httplib_response \u001B[38;5;241m=\u001B[39m conn\u001B[38;5;241m.\u001B[39mgetresponse()\n\u001B[1;32m    445\u001B[0m         \u001B[38;5;28;01mexcept\u001B[39;00m \u001B[38;5;167;01mBaseException\u001B[39;00m \u001B[38;5;28;01mas\u001B[39;00m e:\n\u001B[1;32m    446\u001B[0m             \u001B[38;5;66;03m# Remove the TypeError from the exception chain in\u001B[39;00m\n\u001B[1;32m    447\u001B[0m             \u001B[38;5;66;03m# Python 3 (including for exceptions like SystemExit).\u001B[39;00m\n\u001B[1;32m    448\u001B[0m             \u001B[38;5;66;03m# Otherwise it looks like a bug in the code.\u001B[39;00m\n\u001B[0;32m--> 449\u001B[0m             \u001B[43msix\u001B[49m\u001B[38;5;241;43m.\u001B[39;49m\u001B[43mraise_from\u001B[49m\u001B[43m(\u001B[49m\u001B[43me\u001B[49m\u001B[43m,\u001B[49m\u001B[43m \u001B[49m\u001B[38;5;28;43;01mNone\u001B[39;49;00m\u001B[43m)\u001B[49m\n\u001B[1;32m    450\u001B[0m \u001B[38;5;28;01mexcept\u001B[39;00m (SocketTimeout, BaseSSLError, SocketError) \u001B[38;5;28;01mas\u001B[39;00m e:\n\u001B[1;32m    451\u001B[0m     \u001B[38;5;28mself\u001B[39m\u001B[38;5;241m.\u001B[39m_raise_timeout(err\u001B[38;5;241m=\u001B[39me, url\u001B[38;5;241m=\u001B[39murl, timeout_value\u001B[38;5;241m=\u001B[39mread_timeout)\n",
      "File \u001B[0;32m<string>:3\u001B[0m, in \u001B[0;36mraise_from\u001B[0;34m(value, from_value)\u001B[0m\n",
      "File \u001B[0;32m~/Yandex.Disk/IT/Projects/newsru_com/venv/lib/python3.11/site-packages/urllib3/connectionpool.py:444\u001B[0m, in \u001B[0;36mHTTPConnectionPool._make_request\u001B[0;34m(self, conn, method, url, timeout, chunked, **httplib_request_kw)\u001B[0m\n\u001B[1;32m    441\u001B[0m \u001B[38;5;28;01mexcept\u001B[39;00m \u001B[38;5;167;01mTypeError\u001B[39;00m:\n\u001B[1;32m    442\u001B[0m     \u001B[38;5;66;03m# Python 3\u001B[39;00m\n\u001B[1;32m    443\u001B[0m     \u001B[38;5;28;01mtry\u001B[39;00m:\n\u001B[0;32m--> 444\u001B[0m         httplib_response \u001B[38;5;241m=\u001B[39m \u001B[43mconn\u001B[49m\u001B[38;5;241;43m.\u001B[39;49m\u001B[43mgetresponse\u001B[49m\u001B[43m(\u001B[49m\u001B[43m)\u001B[49m\n\u001B[1;32m    445\u001B[0m     \u001B[38;5;28;01mexcept\u001B[39;00m \u001B[38;5;167;01mBaseException\u001B[39;00m \u001B[38;5;28;01mas\u001B[39;00m e:\n\u001B[1;32m    446\u001B[0m         \u001B[38;5;66;03m# Remove the TypeError from the exception chain in\u001B[39;00m\n\u001B[1;32m    447\u001B[0m         \u001B[38;5;66;03m# Python 3 (including for exceptions like SystemExit).\u001B[39;00m\n\u001B[1;32m    448\u001B[0m         \u001B[38;5;66;03m# Otherwise it looks like a bug in the code.\u001B[39;00m\n\u001B[1;32m    449\u001B[0m         six\u001B[38;5;241m.\u001B[39mraise_from(e, \u001B[38;5;28;01mNone\u001B[39;00m)\n",
      "File \u001B[0;32m~/.pyenv/versions/3.11.1/lib/python3.11/http/client.py:1374\u001B[0m, in \u001B[0;36mHTTPConnection.getresponse\u001B[0;34m(self)\u001B[0m\n\u001B[1;32m   1372\u001B[0m \u001B[38;5;28;01mtry\u001B[39;00m:\n\u001B[1;32m   1373\u001B[0m     \u001B[38;5;28;01mtry\u001B[39;00m:\n\u001B[0;32m-> 1374\u001B[0m         \u001B[43mresponse\u001B[49m\u001B[38;5;241;43m.\u001B[39;49m\u001B[43mbegin\u001B[49m\u001B[43m(\u001B[49m\u001B[43m)\u001B[49m\n\u001B[1;32m   1375\u001B[0m     \u001B[38;5;28;01mexcept\u001B[39;00m \u001B[38;5;167;01mConnectionError\u001B[39;00m:\n\u001B[1;32m   1376\u001B[0m         \u001B[38;5;28mself\u001B[39m\u001B[38;5;241m.\u001B[39mclose()\n",
      "File \u001B[0;32m~/.pyenv/versions/3.11.1/lib/python3.11/http/client.py:318\u001B[0m, in \u001B[0;36mHTTPResponse.begin\u001B[0;34m(self)\u001B[0m\n\u001B[1;32m    316\u001B[0m \u001B[38;5;66;03m# read until we get a non-100 response\u001B[39;00m\n\u001B[1;32m    317\u001B[0m \u001B[38;5;28;01mwhile\u001B[39;00m \u001B[38;5;28;01mTrue\u001B[39;00m:\n\u001B[0;32m--> 318\u001B[0m     version, status, reason \u001B[38;5;241m=\u001B[39m \u001B[38;5;28;43mself\u001B[39;49m\u001B[38;5;241;43m.\u001B[39;49m\u001B[43m_read_status\u001B[49m\u001B[43m(\u001B[49m\u001B[43m)\u001B[49m\n\u001B[1;32m    319\u001B[0m     \u001B[38;5;28;01mif\u001B[39;00m status \u001B[38;5;241m!=\u001B[39m CONTINUE:\n\u001B[1;32m    320\u001B[0m         \u001B[38;5;28;01mbreak\u001B[39;00m\n",
      "File \u001B[0;32m~/.pyenv/versions/3.11.1/lib/python3.11/http/client.py:279\u001B[0m, in \u001B[0;36mHTTPResponse._read_status\u001B[0;34m(self)\u001B[0m\n\u001B[1;32m    278\u001B[0m \u001B[38;5;28;01mdef\u001B[39;00m \u001B[38;5;21m_read_status\u001B[39m(\u001B[38;5;28mself\u001B[39m):\n\u001B[0;32m--> 279\u001B[0m     line \u001B[38;5;241m=\u001B[39m \u001B[38;5;28mstr\u001B[39m(\u001B[38;5;28mself\u001B[39m\u001B[38;5;241m.\u001B[39mfp\u001B[38;5;241m.\u001B[39mreadline(_MAXLINE \u001B[38;5;241m+\u001B[39m \u001B[38;5;241m1\u001B[39m), \u001B[38;5;124m\"\u001B[39m\u001B[38;5;124miso-8859-1\u001B[39m\u001B[38;5;124m\"\u001B[39m)\n\u001B[1;32m    280\u001B[0m     \u001B[38;5;28;01mif\u001B[39;00m \u001B[38;5;28mlen\u001B[39m(line) \u001B[38;5;241m>\u001B[39m _MAXLINE:\n\u001B[1;32m    281\u001B[0m         \u001B[38;5;28;01mraise\u001B[39;00m LineTooLong(\u001B[38;5;124m\"\u001B[39m\u001B[38;5;124mstatus line\u001B[39m\u001B[38;5;124m\"\u001B[39m)\n",
      "File \u001B[0;32m~/.pyenv/versions/3.11.1/lib/python3.11/socket.py:706\u001B[0m, in \u001B[0;36mSocketIO.readinto\u001B[0;34m(self, b)\u001B[0m\n\u001B[1;32m    704\u001B[0m \u001B[38;5;28;01mwhile\u001B[39;00m \u001B[38;5;28;01mTrue\u001B[39;00m:\n\u001B[1;32m    705\u001B[0m     \u001B[38;5;28;01mtry\u001B[39;00m:\n\u001B[0;32m--> 706\u001B[0m         \u001B[38;5;28;01mreturn\u001B[39;00m \u001B[38;5;28;43mself\u001B[39;49m\u001B[38;5;241;43m.\u001B[39;49m\u001B[43m_sock\u001B[49m\u001B[38;5;241;43m.\u001B[39;49m\u001B[43mrecv_into\u001B[49m\u001B[43m(\u001B[49m\u001B[43mb\u001B[49m\u001B[43m)\u001B[49m\n\u001B[1;32m    707\u001B[0m     \u001B[38;5;28;01mexcept\u001B[39;00m timeout:\n\u001B[1;32m    708\u001B[0m         \u001B[38;5;28mself\u001B[39m\u001B[38;5;241m.\u001B[39m_timeout_occurred \u001B[38;5;241m=\u001B[39m \u001B[38;5;28;01mTrue\u001B[39;00m\n",
      "File \u001B[0;32m~/.pyenv/versions/3.11.1/lib/python3.11/ssl.py:1278\u001B[0m, in \u001B[0;36mSSLSocket.recv_into\u001B[0;34m(self, buffer, nbytes, flags)\u001B[0m\n\u001B[1;32m   1274\u001B[0m     \u001B[38;5;28;01mif\u001B[39;00m flags \u001B[38;5;241m!=\u001B[39m \u001B[38;5;241m0\u001B[39m:\n\u001B[1;32m   1275\u001B[0m         \u001B[38;5;28;01mraise\u001B[39;00m \u001B[38;5;167;01mValueError\u001B[39;00m(\n\u001B[1;32m   1276\u001B[0m           \u001B[38;5;124m\"\u001B[39m\u001B[38;5;124mnon-zero flags not allowed in calls to recv_into() on \u001B[39m\u001B[38;5;132;01m%s\u001B[39;00m\u001B[38;5;124m\"\u001B[39m \u001B[38;5;241m%\u001B[39m\n\u001B[1;32m   1277\u001B[0m           \u001B[38;5;28mself\u001B[39m\u001B[38;5;241m.\u001B[39m\u001B[38;5;18m__class__\u001B[39m)\n\u001B[0;32m-> 1278\u001B[0m     \u001B[38;5;28;01mreturn\u001B[39;00m \u001B[38;5;28;43mself\u001B[39;49m\u001B[38;5;241;43m.\u001B[39;49m\u001B[43mread\u001B[49m\u001B[43m(\u001B[49m\u001B[43mnbytes\u001B[49m\u001B[43m,\u001B[49m\u001B[43m \u001B[49m\u001B[43mbuffer\u001B[49m\u001B[43m)\u001B[49m\n\u001B[1;32m   1279\u001B[0m \u001B[38;5;28;01melse\u001B[39;00m:\n\u001B[1;32m   1280\u001B[0m     \u001B[38;5;28;01mreturn\u001B[39;00m \u001B[38;5;28msuper\u001B[39m()\u001B[38;5;241m.\u001B[39mrecv_into(buffer, nbytes, flags)\n",
      "File \u001B[0;32m~/.pyenv/versions/3.11.1/lib/python3.11/ssl.py:1134\u001B[0m, in \u001B[0;36mSSLSocket.read\u001B[0;34m(self, len, buffer)\u001B[0m\n\u001B[1;32m   1132\u001B[0m \u001B[38;5;28;01mtry\u001B[39;00m:\n\u001B[1;32m   1133\u001B[0m     \u001B[38;5;28;01mif\u001B[39;00m buffer \u001B[38;5;129;01mis\u001B[39;00m \u001B[38;5;129;01mnot\u001B[39;00m \u001B[38;5;28;01mNone\u001B[39;00m:\n\u001B[0;32m-> 1134\u001B[0m         \u001B[38;5;28;01mreturn\u001B[39;00m \u001B[38;5;28;43mself\u001B[39;49m\u001B[38;5;241;43m.\u001B[39;49m\u001B[43m_sslobj\u001B[49m\u001B[38;5;241;43m.\u001B[39;49m\u001B[43mread\u001B[49m\u001B[43m(\u001B[49m\u001B[38;5;28;43mlen\u001B[39;49m\u001B[43m,\u001B[49m\u001B[43m \u001B[49m\u001B[43mbuffer\u001B[49m\u001B[43m)\u001B[49m\n\u001B[1;32m   1135\u001B[0m     \u001B[38;5;28;01melse\u001B[39;00m:\n\u001B[1;32m   1136\u001B[0m         \u001B[38;5;28;01mreturn\u001B[39;00m \u001B[38;5;28mself\u001B[39m\u001B[38;5;241m.\u001B[39m_sslobj\u001B[38;5;241m.\u001B[39mread(\u001B[38;5;28mlen\u001B[39m)\n",
      "\u001B[0;31mKeyboardInterrupt\u001B[0m: "
     ]
    }
   ],
   "source": [
    "news_df['timestamp'] = news_df.apply(lambda x: parse_page(x[0], x[1])"
   ],
   "metadata": {
    "collapsed": false
   },
   "id": "ad79e614f342624c"
  },
  {
   "cell_type": "code",
   "execution_count": 15,
   "outputs": [
    {
     "data": {
      "text/plain": "                                                    index   category  \\\n0       https://txt.newsru.com/allnews/world/26jun2015...     В мире   \n1       https://txt.newsru.com/allnews/russia/26jun201...   В России   \n2       https://txt.newsru.com/allnews/world/26jun2015...     В мире   \n3       https://txt.newsru.com/allnews/finance/26jun20...  Экономика   \n4       https://txt.newsru.com/allnews/russia/26jun201...   В России   \n...                                                   ...        ...   \n774349  https://www.inopressa.ru/article/08Apr2021/sue...  Инопресса   \n774350  https://txt.newsru.com/allnews/russia/08apr202...   В России   \n774351  https://txt.newsru.com/allnews/russia/08apr202...   В России   \n774352  https://txt.newsru.com/allnews/blog/08apr2021/...     Мнения   \n774353  https://txt.newsru.com/allnews/world/08apr2021...     В мире   \n\n                                                    title  \\\n0       Саакашвили устроил скандал на заседании комисс...   \n1       В Москве у станции метро \"Щелковская\" загорелс...   \n2       Дело российского солдата Пермякова, который уб...   \n3       В правительстве РФ допустили резкое повышение ...   \n4       МИД назвал действия НАТО в Европе \"неадекватны...   \n...                                                   ...   \n774349  Светлана Алексиевич: \"Может начаться гражданск...   \n774350  Четверо участников акции \"Альянса врачей\"* воз...   \n774351  Провокаторы пытались сорвать показ фильма о пе...   \n774352  Алексей Захаров: \"Влияние режима на умы ослабе...   \n774353  Bloomberg: США рассматривают возможность высыл...   \n\n                                               short_news  \\\n0       Губернатор Одесской области  обвинил главу вед...   \n1       Инцидент произошел на востоке столицы, рядом с...   \n2       Подследственность дела обсуждалась на встрече ...   \n3       Упоминание этой темы содержится в проекте Осно...   \n4       В четверг в Брюсселе завершилась встреча глав ...   \n...                                                   ...   \n774349  Революция в Белоруссии не закончилась, считает...   \n774350  Всем им вменяется ч.3 ст. 20.2.2 КоАП РФ - мас...   \n774351  Активисты SERB пытались сорвать показ фильма \"...   \n774352  Социолог обращает внимание на динамику отношен...   \n774353  В Белом доме запланирована встреча высокопоста...   \n\n                                                full_news        date  \\\n0       Экс-президент Грузии Михаил Саакашвили, которы...  2015-06-26   \n1       Необычный дорожный инцидент произошел в Москве...  2015-06-26   \n2       На фоне массовых акций против повышения тарифо...  2015-06-26   \n3       Правительство РФ продолжает обсуждать подходы ...  2015-06-26   \n4       В четверг в Брюсселе завершилась встреча глав ...  2015-06-26   \n...                                                   ...         ...   \n774349                                                NaN  2021-04-08   \n774350  Петушинский районный суд Владимирской области ...  2021-04-08   \n774351  Полицейские пришли в кинотеатр \"Октябрь\" в Мос...  2021-04-08   \n774352  \"Вот график (\"Левада-центра\"* - прим. NEWSru.c...  2021-04-08   \n774353  Администрация США закончила анализ \"российских...  2021-04-08   \n\n                                                 foto_url  \\\n0       https://image.newsru.com/pict/id/large/1749514...   \n1       https://image.newsru.com/pict/id/large/1749510...   \n2       https://image.newsru.com/pict/id/large/1749508...   \n3       https://image.newsru.com/pict/id/large/1749502...   \n4       https://image.newsru.com/pict/id/large/1749512...   \n...                                                   ...   \n774349                                                NaN   \n774350  https://image.newsru.com/v2/01/2021/04/0/01b2d...   \n774351  https://image.newsru.com/v2/01/2021/04/a/a4146...   \n774352  https://image.newsru.com/v2/61/2021/04/a/a6374...   \n774353  https://image.newsru.com/v2/02/2021/04/b/baca3...   \n\n                                                    links  \\\n0       (https://txt.newsru.com/allnews/world/12jun201...   \n1       https://txt.newsru.com/allnews/russia/25jun201...   \n2       (https://txt.newsru.com/allnews/world/21jan201...   \n3       (https://txt.newsru.com/allnews/finance/20may2...   \n4       (https://txt.newsru.com/allnews/russia/24jun20...   \n...                                                   ...   \n774349                                            (N,a,N)   \n774350  (https://newsru.com/russia/06apr2021/vasilieva...   \n774351  (https://newsru.com/russia/07apr2021/two_more....   \n774352    https://newsru.com/blog/17feb2021/soloviev.html   \n774353  (https://newsru.com/russia/17mar2021/siluanov....   \n\n                                                     tags  \n0                                    {СНГ,Украина,Одесса}  \n1                             {Москва,Транспорт,Инцидент}  \n2                                  {СНГ,Армения,Криминал}  \n3                              {Экономика,Пенсии,Реформа}  \n4                           {\"МИД России\",Заявление,НАТО}  \n...                                                   ...  \n774349                                                NaN  \n774350  {\"Партии и политики\",Общество,\"Навальный, Алек...  \n774351                       {Москва,Инцидент,Задержание}  \n774352  {\"Досье NEWSru.com\",Мнения,Авторы,\"Алексей Зах...  \n774353                   {США,\"Внешняя политика\",Санкции}  \n\n[774354 rows x 9 columns]",
      "text/html": "<div>\n<style scoped>\n    .dataframe tbody tr th:only-of-type {\n        vertical-align: middle;\n    }\n\n    .dataframe tbody tr th {\n        vertical-align: top;\n    }\n\n    .dataframe thead th {\n        text-align: right;\n    }\n</style>\n<table border=\"1\" class=\"dataframe\">\n  <thead>\n    <tr style=\"text-align: right;\">\n      <th></th>\n      <th>index</th>\n      <th>category</th>\n      <th>title</th>\n      <th>short_news</th>\n      <th>full_news</th>\n      <th>date</th>\n      <th>foto_url</th>\n      <th>links</th>\n      <th>tags</th>\n    </tr>\n  </thead>\n  <tbody>\n    <tr>\n      <th>0</th>\n      <td>https://txt.newsru.com/allnews/world/26jun2015...</td>\n      <td>В мире</td>\n      <td>Саакашвили устроил скандал на заседании комисс...</td>\n      <td>Губернатор Одесской области  обвинил главу вед...</td>\n      <td>Экс-президент Грузии Михаил Саакашвили, которы...</td>\n      <td>2015-06-26</td>\n      <td>https://image.newsru.com/pict/id/large/1749514...</td>\n      <td>(https://txt.newsru.com/allnews/world/12jun201...</td>\n      <td>{СНГ,Украина,Одесса}</td>\n    </tr>\n    <tr>\n      <th>1</th>\n      <td>https://txt.newsru.com/allnews/russia/26jun201...</td>\n      <td>В России</td>\n      <td>В Москве у станции метро \"Щелковская\" загорелс...</td>\n      <td>Инцидент произошел на востоке столицы, рядом с...</td>\n      <td>Необычный дорожный инцидент произошел в Москве...</td>\n      <td>2015-06-26</td>\n      <td>https://image.newsru.com/pict/id/large/1749510...</td>\n      <td>https://txt.newsru.com/allnews/russia/25jun201...</td>\n      <td>{Москва,Транспорт,Инцидент}</td>\n    </tr>\n    <tr>\n      <th>2</th>\n      <td>https://txt.newsru.com/allnews/world/26jun2015...</td>\n      <td>В мире</td>\n      <td>Дело российского солдата Пермякова, который уб...</td>\n      <td>Подследственность дела обсуждалась на встрече ...</td>\n      <td>На фоне массовых акций против повышения тарифо...</td>\n      <td>2015-06-26</td>\n      <td>https://image.newsru.com/pict/id/large/1749508...</td>\n      <td>(https://txt.newsru.com/allnews/world/21jan201...</td>\n      <td>{СНГ,Армения,Криминал}</td>\n    </tr>\n    <tr>\n      <th>3</th>\n      <td>https://txt.newsru.com/allnews/finance/26jun20...</td>\n      <td>Экономика</td>\n      <td>В правительстве РФ допустили резкое повышение ...</td>\n      <td>Упоминание этой темы содержится в проекте Осно...</td>\n      <td>Правительство РФ продолжает обсуждать подходы ...</td>\n      <td>2015-06-26</td>\n      <td>https://image.newsru.com/pict/id/large/1749502...</td>\n      <td>(https://txt.newsru.com/allnews/finance/20may2...</td>\n      <td>{Экономика,Пенсии,Реформа}</td>\n    </tr>\n    <tr>\n      <th>4</th>\n      <td>https://txt.newsru.com/allnews/russia/26jun201...</td>\n      <td>В России</td>\n      <td>МИД назвал действия НАТО в Европе \"неадекватны...</td>\n      <td>В четверг в Брюсселе завершилась встреча глав ...</td>\n      <td>В четверг в Брюсселе завершилась встреча глав ...</td>\n      <td>2015-06-26</td>\n      <td>https://image.newsru.com/pict/id/large/1749512...</td>\n      <td>(https://txt.newsru.com/allnews/russia/24jun20...</td>\n      <td>{\"МИД России\",Заявление,НАТО}</td>\n    </tr>\n    <tr>\n      <th>...</th>\n      <td>...</td>\n      <td>...</td>\n      <td>...</td>\n      <td>...</td>\n      <td>...</td>\n      <td>...</td>\n      <td>...</td>\n      <td>...</td>\n      <td>...</td>\n    </tr>\n    <tr>\n      <th>774349</th>\n      <td>https://www.inopressa.ru/article/08Apr2021/sue...</td>\n      <td>Инопресса</td>\n      <td>Светлана Алексиевич: \"Может начаться гражданск...</td>\n      <td>Революция в Белоруссии не закончилась, считает...</td>\n      <td>NaN</td>\n      <td>2021-04-08</td>\n      <td>NaN</td>\n      <td>(N,a,N)</td>\n      <td>NaN</td>\n    </tr>\n    <tr>\n      <th>774350</th>\n      <td>https://txt.newsru.com/allnews/russia/08apr202...</td>\n      <td>В России</td>\n      <td>Четверо участников акции \"Альянса врачей\"* воз...</td>\n      <td>Всем им вменяется ч.3 ст. 20.2.2 КоАП РФ - мас...</td>\n      <td>Петушинский районный суд Владимирской области ...</td>\n      <td>2021-04-08</td>\n      <td>https://image.newsru.com/v2/01/2021/04/0/01b2d...</td>\n      <td>(https://newsru.com/russia/06apr2021/vasilieva...</td>\n      <td>{\"Партии и политики\",Общество,\"Навальный, Алек...</td>\n    </tr>\n    <tr>\n      <th>774351</th>\n      <td>https://txt.newsru.com/allnews/russia/08apr202...</td>\n      <td>В России</td>\n      <td>Провокаторы пытались сорвать показ фильма о пе...</td>\n      <td>Активисты SERB пытались сорвать показ фильма \"...</td>\n      <td>Полицейские пришли в кинотеатр \"Октябрь\" в Мос...</td>\n      <td>2021-04-08</td>\n      <td>https://image.newsru.com/v2/01/2021/04/a/a4146...</td>\n      <td>(https://newsru.com/russia/07apr2021/two_more....</td>\n      <td>{Москва,Инцидент,Задержание}</td>\n    </tr>\n    <tr>\n      <th>774352</th>\n      <td>https://txt.newsru.com/allnews/blog/08apr2021/...</td>\n      <td>Мнения</td>\n      <td>Алексей Захаров: \"Влияние режима на умы ослабе...</td>\n      <td>Социолог обращает внимание на динамику отношен...</td>\n      <td>\"Вот график (\"Левада-центра\"* - прим. NEWSru.c...</td>\n      <td>2021-04-08</td>\n      <td>https://image.newsru.com/v2/61/2021/04/a/a6374...</td>\n      <td>https://newsru.com/blog/17feb2021/soloviev.html</td>\n      <td>{\"Досье NEWSru.com\",Мнения,Авторы,\"Алексей Зах...</td>\n    </tr>\n    <tr>\n      <th>774353</th>\n      <td>https://txt.newsru.com/allnews/world/08apr2021...</td>\n      <td>В мире</td>\n      <td>Bloomberg: США рассматривают возможность высыл...</td>\n      <td>В Белом доме запланирована встреча высокопоста...</td>\n      <td>Администрация США закончила анализ \"российских...</td>\n      <td>2021-04-08</td>\n      <td>https://image.newsru.com/v2/02/2021/04/b/baca3...</td>\n      <td>(https://newsru.com/russia/17mar2021/siluanov....</td>\n      <td>{США,\"Внешняя политика\",Санкции}</td>\n    </tr>\n  </tbody>\n</table>\n<p>774354 rows × 9 columns</p>\n</div>"
     },
     "execution_count": 15,
     "metadata": {},
     "output_type": "execute_result"
    }
   ],
   "source": [
    "news_df"
   ],
   "metadata": {
    "collapsed": false
   },
   "id": "eeceb57278a3c3e8"
  },
  {
   "cell_type": "markdown",
   "source": [
    "### Многопоточный код"
   ],
   "metadata": {
    "collapsed": false
   },
   "id": "c82255a13561924f"
  },
  {
   "cell_type": "code",
   "execution_count": null,
   "outputs": [],
   "source": [
    "import numpy as np\n",
    "import pandas as pd\n",
    "from sqlalchemy import create_engine"
   ],
   "metadata": {
    "collapsed": false
   },
   "id": "12d6618f8914c564"
  },
  {
   "cell_type": "code",
   "execution_count": 1,
   "outputs": [
    {
     "name": "stderr",
     "output_type": "stream",
     "text": [
      "/home/maxlethal/.local/lib/python3.10/site-packages/requests/__init__.py:102: RequestsDependencyWarning: urllib3 (1.26.12) or chardet (5.1.0)/charset_normalizer (2.0.12) doesn't match a supported version!\n",
      "  warnings.warn(\"urllib3 ({}) or chardet ({})/charset_normalizer ({}) doesn't match a supported \"\n"
     ]
    }
   ],
   "source": [
    "from datetime import datetime, timedelta\n",
    "import requests\n",
    "from bs4 import BeautifulSoup\n",
    "import random\n",
    "import csv\n",
    "from multiprocessing import Pool"
   ],
   "metadata": {
    "collapsed": false
   },
   "id": "71775a634ee90886"
  },
  {
   "cell_type": "code",
   "execution_count": 10,
   "outputs": [],
   "source": [
    "user_agents = open('proxy/user-agents.txt').read().splitlines()\n",
    "random_user_agent = random.choice(user_agents)\n",
    "\n",
    "headers = {'User-Agent': random_user_agent}\n",
    "\n",
    "my_dates = {}\n",
    "error_dates = {}"
   ],
   "metadata": {
    "collapsed": false
   },
   "id": "f67de5d973e6cd63"
  },
  {
   "cell_type": "code",
   "execution_count": 11,
   "outputs": [],
   "source": [
    "def parse_page(news_url, date):\n",
    "    html = requests.get(news_url, headers=headers).text\n",
    "    try:\n",
    "        soup = BeautifulSoup(html, 'lxml-xml').body.find('div', attrs='article-date')\n",
    "        raw_date = soup.text.strip('\\n').strip(' ').strip().split(',', 2)\n",
    "        str_time = raw_date[1].split('\\n', 1)[0].strip().split(' ')[0]\n",
    "        full_str_time = str(date) + ' ' + str_time\n",
    "        form_date = datetime.strptime(full_str_time, \"%Y-%m-%d %H:%M\")\n",
    "        # print(f'{news_url} успешно')\n",
    "    except AttributeError:\n",
    "        full_str_time = str(date) + ' ' + '12:00'\n",
    "        form_date = datetime.strptime(full_str_time, \"%Y-%m-%d %H:%M\")\n",
    "        error_dates[news_url] = form_date\n",
    "        # print(f'{news_url} косяк')\n",
    "    data = {'url': news_url, 'date': form_date}\n",
    "    return data"
   ],
   "metadata": {
    "collapsed": false
   },
   "id": "be765fcb9b1d6808"
  },
  {
   "cell_type": "code",
   "execution_count": 12,
   "outputs": [],
   "source": [
    "def write_csv(data):\n",
    "    with open ('full_dates.csv', 'a') as f:\n",
    "        writer = csv.writer(f)\n",
    "\n",
    "        writer.writerow((data['url'],\n",
    "                         data['date']))"
   ],
   "metadata": {
    "collapsed": false
   },
   "id": "252f63314fc5f001"
  },
  {
   "cell_type": "code",
   "execution_count": 13,
   "outputs": [],
   "source": [
    "def make_all(my_tuple):\n",
    "    data = parse_page(my_tuple[0], my_tuple[1])\n",
    "    write_csv(data)"
   ],
   "metadata": {
    "collapsed": false
   },
   "id": "17bfb4c1930c0e99"
  },
  {
   "cell_type": "code",
   "execution_count": null,
   "outputs": [],
   "source": [],
   "metadata": {
    "collapsed": false
   },
   "id": "6a6c3abcb4460725"
  },
  {
   "cell_type": "code",
   "execution_count": 4,
   "outputs": [],
   "source": [
    "with open(\"full_dates.csv\") as f:\n",
    "    reader = csv.reader(f, delimiter=\",\")\n",
    "    # next(reader, None)  # skip the headers\n",
    "    data_read = [row for row in reader]"
   ],
   "metadata": {
    "collapsed": false
   },
   "id": "9fd995fd364071a3"
  },
  {
   "cell_type": "code",
   "execution_count": 7,
   "outputs": [],
   "source": [
    "final_dict = dict(data_read)"
   ],
   "metadata": {
    "collapsed": false
   },
   "id": "6ad0e1e23e89a3ae"
  },
  {
   "cell_type": "code",
   "execution_count": null,
   "outputs": [],
   "source": [],
   "metadata": {
    "collapsed": false
   },
   "id": "ab91ddf3ca92cd1a"
  },
  {
   "cell_type": "code",
   "execution_count": null,
   "outputs": [],
   "source": [],
   "metadata": {
    "collapsed": false
   },
   "id": "d1593a054bb61b05"
  },
  {
   "cell_type": "code",
   "execution_count": 6,
   "outputs": [],
   "source": [
    "test_list = []\n",
    "for values in df_dict.values():\n",
    "    my_tuples = tuple(values.values())\n",
    "    test_list.append(my_tuples)"
   ],
   "metadata": {
    "collapsed": false
   },
   "id": "af5f88194be38d56"
  },
  {
   "cell_type": "code",
   "execution_count": 7,
   "outputs": [],
   "source": [
    "abc = dict(test_list)"
   ],
   "metadata": {
    "collapsed": false
   },
   "id": "1de99877cc1df0b4"
  },
  {
   "cell_type": "code",
   "execution_count": null,
   "outputs": [],
   "source": [],
   "metadata": {
    "collapsed": false
   },
   "id": "c9d5c6025c20a089"
  },
  {
   "cell_type": "code",
   "execution_count": null,
   "outputs": [],
   "source": [],
   "metadata": {
    "collapsed": false
   },
   "id": "78d8ba4c2ec2f095"
  },
  {
   "cell_type": "code",
   "execution_count": null,
   "outputs": [],
   "source": [],
   "metadata": {
    "collapsed": false
   },
   "id": "14ec59cde4f5a91a"
  },
  {
   "cell_type": "code",
   "execution_count": 25,
   "outputs": [],
   "source": [
    "my_rest_tuples_list = []\n",
    "for el in rest_url:\n",
    "    my_rest_tuples_list.append((el, abc[el]))"
   ],
   "metadata": {
    "collapsed": false
   },
   "id": "924973bb18c0409f"
  },
  {
   "cell_type": "code",
   "execution_count": null,
   "outputs": [],
   "source": [
    "with Pool(40) as p:\n",
    "    p.map(make_all, my_rest_tuples_list)"
   ],
   "metadata": {
    "collapsed": false,
    "pycharm": {
     "is_executing": true
    }
   },
   "id": "a47c7cc8a6ff4e2b"
  },
  {
   "cell_type": "code",
   "execution_count": null,
   "outputs": [],
   "source": [],
   "metadata": {
    "collapsed": false
   },
   "id": "5cff5e95011ed7ad"
  },
  {
   "cell_type": "code",
   "execution_count": 10,
   "outputs": [],
   "source": [
    "def transform(url, date):\n",
    "    if url in final_dict.keys():\n",
    "        full_date = final_dict[url]\n",
    "    else:\n",
    "        full_str_time = str(date) + ' ' + '12:00'\n",
    "        full_date = datetime.strptime(full_str_time, \"%Y-%m-%d %H:%M\")\n",
    "    return full_date"
   ],
   "metadata": {
    "collapsed": false
   },
   "id": "bbeeb2a3992e476b"
  },
  {
   "cell_type": "code",
   "execution_count": 11,
   "outputs": [],
   "source": [
    "df['full_date'] = df.apply(lambda x: transform(x[0], x[5]), axis=1)"
   ],
   "metadata": {
    "collapsed": false
   },
   "id": "51b04ac5f8aad280"
  },
  {
   "cell_type": "code",
   "execution_count": 18,
   "outputs": [],
   "source": [
    "df.to_pickle('newsrucom_df_fixed_full_raw.pkl')"
   ],
   "metadata": {
    "collapsed": false
   },
   "id": "1d84f7828599da39"
  },
  {
   "cell_type": "code",
   "execution_count": 11,
   "outputs": [],
   "source": [
    "df = df.drop(columns=['date', 'foto_url'])"
   ],
   "metadata": {
    "collapsed": false
   },
   "id": "5d7418cdce898a40"
  },
  {
   "cell_type": "code",
   "execution_count": 13,
   "outputs": [],
   "source": [
    "df = df.drop(columns=['date'])"
   ],
   "metadata": {
    "collapsed": false
   },
   "id": "5567cd99c34318da"
  },
  {
   "cell_type": "code",
   "execution_count": 14,
   "outputs": [],
   "source": [
    "df.rename(columns={'index': 'url', 'short_news': 'resume', 'full_news': 'news', 'full_date': 'date'}, inplace=True)"
   ],
   "metadata": {
    "collapsed": false
   },
   "id": "c0a20ef32922a370"
  },
  {
   "cell_type": "code",
   "execution_count": 15,
   "outputs": [],
   "source": [
    "df['agency'] = 'newsru.com'"
   ],
   "metadata": {
    "collapsed": false
   },
   "id": "32e17b7b7b1da997"
  },
  {
   "cell_type": "code",
   "execution_count": null,
   "outputs": [],
   "source": [],
   "metadata": {
    "collapsed": false
   },
   "id": "d6158203a3d830f7"
  },
  {
   "cell_type": "code",
   "execution_count": null,
   "outputs": [],
   "source": [],
   "metadata": {
    "collapsed": false
   },
   "id": "889c79ea4a8fbfe3"
  },
  {
   "cell_type": "code",
   "execution_count": null,
   "outputs": [],
   "source": [],
   "metadata": {
    "collapsed": false
   },
   "id": "5b56b5c70a22820c"
  },
  {
   "cell_type": "markdown",
   "source": [
    "### Попытка переписать в асинхронный код"
   ],
   "metadata": {
    "collapsed": false
   },
   "id": "6e3e6cfd9ea6eeba"
  },
  {
   "cell_type": "code",
   "execution_count": 1,
   "outputs": [],
   "source": [
    "import asyncio\n",
    "import aiohttp"
   ],
   "metadata": {
    "collapsed": false
   },
   "id": "d42afb091f5a410e"
  },
  {
   "cell_type": "markdown",
   "source": [
    "### Асинхронный сбор нераспаршенных страниц"
   ],
   "metadata": {
    "collapsed": false
   },
   "id": "31fb7a0f39bb14c"
  },
  {
   "cell_type": "code",
   "execution_count": 66,
   "outputs": [
    {
     "name": "stdout",
     "output_type": "stream",
     "text": [
      "Collecting lxml\n",
      "  Downloading lxml-4.9.2-cp311-cp311-win_amd64.whl (3.8 MB)\n",
      "     ---------------------------------------- 3.8/3.8 MB 5.1 MB/s eta 0:00:00\n",
      "Installing collected packages: lxml\n",
      "Successfully installed lxml-4.9.2\n"
     ]
    }
   ],
   "source": [
    "!pip install lxml"
   ],
   "metadata": {
    "collapsed": false
   },
   "id": "9e1ec014751696d7"
  },
  {
   "cell_type": "code",
   "execution_count": 73,
   "outputs": [
    {
     "name": "stdout",
     "output_type": "stream",
     "text": [
      "Collecting html5lib\n",
      "  Downloading html5lib-1.1-py2.py3-none-any.whl (112 kB)\n",
      "     -------------------------------------- 112.2/112.2 kB 2.2 MB/s eta 0:00:00\n",
      "Requirement already satisfied: six>=1.9 in c:\\users\\maxle\\appdata\\local\\programs\\python\\python311\\lib\\site-packages (from html5lib) (1.16.0)\n",
      "Requirement already satisfied: webencodings in c:\\users\\maxle\\appdata\\local\\programs\\python\\python311\\lib\\site-packages (from html5lib) (0.5.1)\n",
      "Installing collected packages: html5lib\n",
      "Successfully installed html5lib-1.1\n"
     ]
    }
   ],
   "source": [
    "!pip install html5lib"
   ],
   "metadata": {
    "collapsed": false
   },
   "id": "484440e35261f779"
  },
  {
   "cell_type": "code",
   "execution_count": 1,
   "outputs": [],
   "source": [
    "import pandas as pd\n",
    "from sqlalchemy import create_engine"
   ],
   "metadata": {
    "collapsed": false
   },
   "id": "1cbe4f52bfa90100"
  },
  {
   "cell_type": "code",
   "execution_count": 2,
   "outputs": [],
   "source": [
    "import datetime as dt\n",
    "import random\n",
    "import requests\n",
    "from bs4 import BeautifulSoup"
   ],
   "metadata": {
    "collapsed": false
   },
   "id": "fb1a6f8a65bdbcf8"
  },
  {
   "cell_type": "code",
   "execution_count": 3,
   "outputs": [],
   "source": [
    "nrc_engine = create_engine(f'postgresql+psycopg2://{db_user}:{db_pass}@{db_host}/{db_name}')"
   ],
   "metadata": {
    "collapsed": false
   },
   "id": "c8e16b8882f8d24d"
  },
  {
   "cell_type": "code",
   "execution_count": 4,
   "outputs": [],
   "source": [
    "all_complited_urls = pd.read_sql(f\"SELECT url FROM news WHERE url LIKE 'https://txt.newsru.com%%'\", nrc_engine)"
   ],
   "metadata": {
    "collapsed": false
   },
   "id": "89aee4e3437353c0"
  },
  {
   "cell_type": "code",
   "execution_count": 5,
   "outputs": [],
   "source": [
    "all_urls = set(all_complited_urls.url.tolist())"
   ],
   "metadata": {
    "collapsed": false
   },
   "id": "3bc2977a124124c0"
  },
  {
   "cell_type": "code",
   "execution_count": 6,
   "outputs": [
    {
     "data": {
      "text/plain": "623350"
     },
     "execution_count": 6,
     "metadata": {},
     "output_type": "execute_result"
    }
   ],
   "source": [
    "len(all_urls)"
   ],
   "metadata": {
    "collapsed": false
   },
   "id": "dfd1d60329aba452"
  },
  {
   "cell_type": "code",
   "execution_count": 27,
   "outputs": [],
   "source": [
    "start_date = dt.datetime(year=2000, month=8, day=1).date()"
   ],
   "metadata": {
    "collapsed": false
   },
   "id": "165762362ea2137f"
  },
  {
   "cell_type": "code",
   "execution_count": 8,
   "outputs": [],
   "source": [
    "delta = dt.timedelta(days=1)"
   ],
   "metadata": {
    "collapsed": false
   },
   "id": "78010953fc84f2dc"
  },
  {
   "cell_type": "code",
   "execution_count": 42,
   "outputs": [
    {
     "data": {
      "text/plain": "datetime.date(2000, 9, 2)"
     },
     "execution_count": 42,
     "metadata": {},
     "output_type": "execute_result"
    }
   ],
   "source": [
    "start_date+delta"
   ],
   "metadata": {
    "collapsed": false
   },
   "id": "7fbf51705acd03a7"
  },
  {
   "cell_type": "code",
   "execution_count": 53,
   "outputs": [
    {
     "data": {
      "text/plain": "'01Sep2000'"
     },
     "execution_count": 53,
     "metadata": {},
     "output_type": "execute_result"
    }
   ],
   "source": [
    "start_date"
   ],
   "metadata": {
    "collapsed": false
   },
   "id": "e4499a4100aa8ce"
  },
  {
   "cell_type": "code",
   "execution_count": 54,
   "outputs": [
    {
     "data": {
      "text/plain": "datetime.date(2000, 9, 1)"
     },
     "execution_count": 54,
     "metadata": {},
     "output_type": "execute_result"
    }
   ],
   "source": [
    "start_date"
   ],
   "metadata": {
    "collapsed": false
   },
   "id": "2eb3a75b462fa413"
  },
  {
   "cell_type": "code",
   "execution_count": 28,
   "outputs": [],
   "source": [
    "current_date = start_date.strftime('%d%b%Y').lower()"
   ],
   "metadata": {
    "collapsed": false
   },
   "id": "55c51aa379e68b0f"
  },
  {
   "cell_type": "code",
   "execution_count": 29,
   "outputs": [
    {
     "data": {
      "text/plain": "'01aug2000'"
     },
     "execution_count": 29,
     "metadata": {},
     "output_type": "execute_result"
    }
   ],
   "source": [
    "current_date"
   ],
   "metadata": {
    "collapsed": false
   },
   "id": "821af1234531ee57"
  },
  {
   "cell_type": "code",
   "execution_count": 30,
   "outputs": [],
   "source": [
    "first_url = 'https://txt.newsru.com/allnews/' + current_date"
   ],
   "metadata": {
    "collapsed": false
   },
   "id": "ea6a2a4b5af6a9bc"
  },
  {
   "cell_type": "code",
   "execution_count": 60,
   "outputs": [
    {
     "data": {
      "text/plain": "'https://txt.newsru.com/allnews/01sep2000'"
     },
     "execution_count": 60,
     "metadata": {},
     "output_type": "execute_result"
    }
   ],
   "source": [
    "first_url"
   ],
   "metadata": {
    "collapsed": false
   },
   "id": "5fffcf68bfb0c0a3"
  },
  {
   "cell_type": "code",
   "execution_count": 12,
   "outputs": [],
   "source": [
    "user_agents = open('proxy/user-agents.txt').read().splitlines()\n",
    "random_user_agent = random.choice(user_agents)\n",
    "headers = {'User-Agent': random_user_agent}"
   ],
   "metadata": {
    "collapsed": false
   },
   "id": "f5010461a4689dbe"
  },
  {
   "cell_type": "code",
   "execution_count": 31,
   "outputs": [],
   "source": [
    "page = requests.get(first_url, headers=headers).text"
   ],
   "metadata": {
    "collapsed": false
   },
   "id": "a9ed3dbffb46f607"
  },
  {
   "cell_type": "code",
   "execution_count": 34,
   "outputs": [],
   "source": [
    "soup = BeautifulSoup(page, 'lxml-xml').body.find_all('a', attrs='index-news-title')"
   ],
   "metadata": {
    "collapsed": false
   },
   "id": "24f05da701c8f68f"
  },
  {
   "cell_type": "code",
   "execution_count": 53,
   "outputs": [],
   "source": [
    "links = ['https://txt.newsru.com/allnews' + el.get('href') for el in soup]"
   ],
   "metadata": {
    "collapsed": false
   },
   "id": "43c45e6efc982e58"
  },
  {
   "cell_type": "code",
   "execution_count": 54,
   "outputs": [
    {
     "data": {
      "text/plain": "['https://txt.newsru.com/allnews/world/01aug2000/katsav.html',\n 'https://txt.newsru.com/allnews/world/01aug2000/lottery.html',\n 'https://txt.newsru.com/allnews/world/01aug2000/concord.html',\n 'https://txt.newsru.com/allnews/sport/01aug2000/runner.html',\n 'https://txt.newsru.com/allnews/russia/01aug2000/kovalyov.html',\n 'https://txt.newsru.com/allnews/world/01aug2000/gala.html',\n 'https://txt.newsru.com/allnews/russia/01aug2000/telefonn.html',\n 'https://txt.newsru.com/allnews/russia/01aug2000/pensii.html',\n 'https://txt.newsru.com/allnews/russia/01aug2000/derev.html',\n 'https://txt.newsru.com/allnews/sport/01aug2000/shooting.html',\n 'https://txt.newsru.com/allnews/sport/01aug2000/chess.html',\n 'https://txt.newsru.com/allnews/russia/01aug2000/nikitin.html',\n 'https://txt.newsru.com/allnews/russia/01aug2000/golod.html',\n 'https://txt.newsru.com/allnews/russia/01aug2000/tatarstan.html',\n 'https://txt.newsru.com/allnews/russia/01aug2000/fps.html',\n 'https://txt.newsru.com/allnews/world/01aug2000/slogan180.html',\n 'https://txt.newsru.com/allnews/russia/01aug2000/kasyanov.html',\n 'https://txt.newsru.com/allnews/russia/01aug2000/grebneva2.html',\n 'https://txt.newsru.com/allnews/sport/01aug2000/tennis.html',\n 'https://txt.newsru.com/allnews/sport/01aug2000/olympg.html',\n 'https://txt.newsru.com/allnews/cinema/01aug2000/spider.html',\n 'https://txt.newsru.com/allnews/russia/01aug2000/ort.html',\n 'https://txt.newsru.com/allnews/sport/01aug2000/box.html',\n 'https://txt.newsru.com/allnews/cinema/01aug2000/heston.html',\n 'https://txt.newsru.com/allnews/russia/01aug2000/mabetex.html',\n 'https://txt.newsru.com/allnews/finance/01aug2000/tabak.html',\n 'https://txt.newsru.com/allnews/russia/01aug2000/parking.html',\n 'https://txt.newsru.com/allnews/russia/01aug2000/alfa.html',\n 'https://txt.newsru.com/allnews/world/01aug2000/gruziya.html',\n 'https://txt.newsru.com/allnews/finance/01aug2000/birzha.html',\n 'https://txt.newsru.com/allnews/cinema/01aug2000/dudd.html',\n 'https://txt.newsru.com/allnews/finance/01aug2000/sliyanie.html',\n 'https://txt.newsru.com/allnews/cinema/01aug2000/filesdeath.html',\n 'https://txt.newsru.com/allnews/finance/01aug2000/onako.html',\n 'https://txt.newsru.com/allnews/world/01aug2000/kanada.html',\n 'https://txt.newsru.com/allnews/russia/01aug2000/babitski.html',\n 'https://txt.newsru.com/allnews/world/01aug2000/georgia.html',\n 'https://txt.newsru.com/allnews/cinema/01aug2000/gang.html',\n 'https://txt.newsru.com/allnews/world/01aug2000/concorde.html',\n 'https://txt.newsru.com/allnews/sport/01aug2000/kurnikova.html',\n 'https://txt.newsru.com/allnews/cinema/01aug2000/austin.html',\n 'https://txt.newsru.com/allnews/finance/01aug2000/tnk.html',\n 'https://txt.newsru.com/allnews/cinema/01aug2000/lenfilm.html',\n 'https://txt.newsru.com/allnews/finance/01aug2000/sberbank.html',\n 'https://txt.newsru.com/allnews/world/01aug2000/fire.html',\n 'https://txt.newsru.com/allnews/world/01aug2000/bomb.html',\n 'https://txt.newsru.com/allnews/finance/01aug2000/pensions.html',\n 'https://txt.newsru.com/allnews/finance/01aug2000/telefon.html',\n 'https://txt.newsru.com/allnews/world/01aug2000/bush.html',\n 'https://txt.newsru.com/allnews/russia/01aug2000/primorie.html',\n 'https://txt.newsru.com/allnews/russia/01aug2000/grebneva.html']"
     },
     "execution_count": 54,
     "metadata": {},
     "output_type": "execute_result"
    }
   ],
   "source": [
    "links"
   ],
   "metadata": {
    "collapsed": false
   },
   "id": "efe57f3ffd518d40"
  },
  {
   "cell_type": "code",
   "execution_count": 42,
   "outputs": [],
   "source": [
    "absent = []"
   ],
   "metadata": {
    "collapsed": false
   },
   "id": "8183e737679ac25d"
  },
  {
   "cell_type": "code",
   "execution_count": 58,
   "outputs": [
    {
     "data": {
      "text/plain": "[]"
     },
     "execution_count": 58,
     "metadata": {},
     "output_type": "execute_result"
    }
   ],
   "source": [
    "[absent.append(el) for el in links if el not in all_urls]"
   ],
   "metadata": {
    "collapsed": false
   },
   "id": "58beca89cd825363"
  },
  {
   "cell_type": "code",
   "execution_count": 57,
   "outputs": [
    {
     "data": {
      "text/plain": "['https://txt.newsru.com/allnews/world/01aug2000/lottery.html',\n 'https://txt.newsru.com/allnews/sport/01aug2000/runner.html',\n 'https://txt.newsru.com/allnews/world/01aug2000/gala.html',\n 'https://txt.newsru.com/allnews/russia/01aug2000/pensii.html',\n 'https://txt.newsru.com/allnews/sport/01aug2000/shooting.html',\n 'https://txt.newsru.com/allnews/russia/01aug2000/nikitin.html',\n 'https://txt.newsru.com/allnews/russia/01aug2000/tatarstan.html',\n 'https://txt.newsru.com/allnews/world/01aug2000/slogan180.html',\n 'https://txt.newsru.com/allnews/russia/01aug2000/grebneva2.html',\n 'https://txt.newsru.com/allnews/sport/01aug2000/olympg.html',\n 'https://txt.newsru.com/allnews/russia/01aug2000/ort.html',\n 'https://txt.newsru.com/allnews/cinema/01aug2000/heston.html',\n 'https://txt.newsru.com/allnews/finance/01aug2000/tabak.html',\n 'https://txt.newsru.com/allnews/russia/01aug2000/alfa.html',\n 'https://txt.newsru.com/allnews/finance/01aug2000/birzha.html',\n 'https://txt.newsru.com/allnews/finance/01aug2000/sliyanie.html',\n 'https://txt.newsru.com/allnews/finance/01aug2000/onako.html',\n 'https://txt.newsru.com/allnews/russia/01aug2000/babitski.html',\n 'https://txt.newsru.com/allnews/cinema/01aug2000/gang.html',\n 'https://txt.newsru.com/allnews/sport/01aug2000/kurnikova.html',\n 'https://txt.newsru.com/allnews/finance/01aug2000/tnk.html',\n 'https://txt.newsru.com/allnews/finance/01aug2000/sberbank.html',\n 'https://txt.newsru.com/allnews/world/01aug2000/bomb.html',\n 'https://txt.newsru.com/allnews/finance/01aug2000/telefon.html',\n 'https://txt.newsru.com/allnews/russia/01aug2000/primorie.html']"
     },
     "execution_count": 57,
     "metadata": {},
     "output_type": "execute_result"
    }
   ],
   "source": [
    "links"
   ],
   "metadata": {
    "collapsed": false
   },
   "id": "2537034f6474df0a"
  },
  {
   "cell_type": "code",
   "execution_count": 55,
   "outputs": [
    {
     "data": {
      "text/plain": "True"
     },
     "execution_count": 55,
     "metadata": {},
     "output_type": "execute_result"
    }
   ],
   "source": [
    "links[0] in all_urls"
   ],
   "metadata": {
    "collapsed": false
   },
   "id": "a0dbbb30b2af97b8"
  },
  {
   "cell_type": "code",
   "execution_count": 52,
   "outputs": [
    {
     "data": {
      "text/plain": "{'https://txt.newsru.com/allnews/world/20dec2013/ukr.html',\n 'https://txt.newsru.com/allnews/sport/09jun2001/77765.html',\n 'https://txt.newsru.com/allnews/sport/06dec2006/illu.html',\n 'https://txt.newsru.com/allnews/world/31mar2011/cia_operation.html',\n 'https://txt.newsru.com/allnews/russia/01feb2016/tiger.html',\n 'https://txt.newsru.com/allnews/world/22mar2009/ikj.html',\n 'https://txt.newsru.com/allnews/sport/03oct2001/656577483.html',\n 'https://txt.newsru.com/allnews/russia/26oct2004/valentina.html',\n 'https://txt.newsru.com/allnews/world/10nov2002/husein.html',\n 'https://txt.newsru.com/allnews/cinema/19mar2013/mayakpoezd.html',\n 'https://txt.newsru.com/allnews/russia/28apr2001/vologda_i_putin.html',\n 'https://txt.newsru.com/allnews/world/21jul2008/fifth_blast.html',\n 'https://txt.newsru.com/allnews/world/19apr2012/taipar.html',\n 'https://txt.newsru.com/allnews/sport/11sep2012/u21football.html',\n 'https://txt.newsru.com/allnews/russia/22aug2001/hattab.html',\n 'https://txt.newsru.com/allnews/world/18jun2011/obsh.html',\n 'https://txt.newsru.com/allnews/world/01jan2012/phil.html',\n 'https://txt.newsru.com/allnews/world/13oct2016/jaber.html',\n 'https://txt.newsru.com/allnews/russia/01dec2018/ic3peakfree.html',\n 'https://txt.newsru.com/allnews/russia/01oct2000/tooold.html',\n 'https://txt.newsru.com/allnews/world/12apr2004/war.html',\n 'https://txt.newsru.com/allnews/finance/27feb2009/dogovorilis.html',\n 'https://txt.newsru.com/allnews/russia/02apr2003/dezert.html',\n 'https://txt.newsru.com/allnews/sport/11may2002/ottawaforwtoronro.html',\n 'https://txt.newsru.com/allnews/russia/24oct2005/zurabov.html',\n 'https://txt.newsru.com/allnews/world/12sep2014/usavveli.html',\n 'https://txt.newsru.com/allnews/world/27aug2010/saakadance.html',\n 'https://txt.newsru.com/allnews/world/11jul2019/new_tanker.html',\n 'https://txt.newsru.com/allnews/hitech/23oct2014/hoverboard.html',\n 'https://txt.newsru.com/allnews/cinema/25dec2001/swim_cup.html',\n 'https://txt.newsru.com/allnews/world/20jun2002/thewall.html',\n 'https://txt.newsru.com/allnews/blog/29nov2012/appendix.html',\n 'https://txt.newsru.com/allnews/russia/20feb2013/ilm4s.html',\n 'https://txt.newsru.com/allnews/russia/25may2017/uchitel.html',\n 'https://txt.newsru.com/allnews/finance/10mar2009/litva.html',\n 'https://txt.newsru.com/allnews/sport/14jan2002/95674654.html',\n 'https://txt.newsru.com/allnews/world/13aug2009/superenalotto.html',\n 'https://txt.newsru.com/allnews/world/05oct2000/beatles.html',\n 'https://txt.newsru.com/allnews/russia/26jul2002/titov_13aug.html',\n 'https://txt.newsru.com/allnews/world/07feb2014/italia.html',\n 'https://txt.newsru.com/allnews/russia/18nov2008/bahmina.html',\n 'https://txt.newsru.com/allnews/russia/29nov2014/putinege.html',\n 'https://txt.newsru.com/allnews/russia/29sep2013/fireup.html',\n 'https://txt.newsru.com/allnews/world/11mar2002/plane.html',\n 'https://txt.newsru.com/allnews/world/28aug2018/newstrump.html',\n 'https://txt.newsru.com/allnews/finance/26feb2013/gruzia_vino.html',\n 'https://txt.newsru.com/allnews/russia/26aug2004/funeral.html',\n 'https://txt.newsru.com/allnews/finance/26apr2008/lu.html',\n 'https://txt.newsru.com/allnews/russia/25mar2014/skr.html',\n 'https://txt.newsru.com/allnews/russia/09feb2006/army.html',\n 'https://txt.newsru.com/allnews/auto/04sep2008/moto.html',\n 'https://txt.newsru.com/allnews/cinema/14may2014/glnrus.html',\n 'https://txt.newsru.com/allnews/russia/24mar2009/strategy.html',\n 'https://txt.newsru.com/allnews/realty/01feb2019/minstroi.html',\n 'https://txt.newsru.com/allnews/cinema/07aug2012/virtuos.html',\n 'https://txt.newsru.com/allnews/sport/25mar2006/mur.html',\n 'https://txt.newsru.com/allnews/world/17oct2007/sand_storm.html',\n 'https://txt.newsru.com/allnews/hitech/16jan2017/blitab.html',\n 'https://txt.newsru.com/allnews/russia/13mar2008/nepriznangosduma.html',\n 'https://txt.newsru.com/allnews/russia/15nov2018/alcpoetcutmsk.html',\n 'https://txt.newsru.com/allnews/russia/10jul2002/sport.html',\n 'https://txt.newsru.com/allnews/russia/04feb2008/rf.html',\n 'https://txt.newsru.com/allnews/russia/31oct2000/spravka.html',\n 'https://txt.newsru.com/allnews/cinema/24may2013/dprdshtraf.html',\n 'https://txt.newsru.com/allnews/world/16mar2006/geor.html',\n 'https://txt.newsru.com/allnews/russia/26nov2016/mohov.html',\n 'https://txt.newsru.com/allnews/russia/10jun2003/rejim.html',\n 'https://txt.newsru.com/allnews/world/01mar2007/gruselle.html',\n 'https://txt.newsru.com/allnews/russia/11dec2001/nagrada.html',\n 'https://txt.newsru.com/allnews/russia/15jun2006/operation1.html',\n 'https://txt.newsru.com/allnews/world/19sep2006/post.html',\n 'https://txt.newsru.com/allnews/russia/21nov2005/nokurily.html',\n 'https://txt.newsru.com/allnews/russia/28sep2005/sps.html',\n 'https://txt.newsru.com/allnews/finance/06oct2003/budg.html',\n 'https://txt.newsru.com/allnews/world/10oct2015/stone.html',\n 'https://txt.newsru.com/allnews/world/21apr2006/states.html',\n 'https://txt.newsru.com/allnews/sport/21aug2009/squard.html',\n 'https://txt.newsru.com/allnews/sport/06sep2017/mundial.html',\n 'https://txt.newsru.com/allnews/russia/19jan2004/berezin.html',\n 'https://txt.newsru.com/allnews/cinema/06jun2008/troll.html',\n 'https://txt.newsru.com/allnews/auto/15jul2019/codd_mgs.html',\n 'https://txt.newsru.com/allnews/sport/19nov2006/dem.html',\n 'https://txt.newsru.com/allnews/sport/29apr2008/myskina.html',\n 'https://txt.newsru.com/allnews/russia/01apr2020/ventilators_rus.html',\n 'https://txt.newsru.com/allnews/world/27apr2003/pregov.html',\n 'https://txt.newsru.com/allnews/world/15jun2004/nocomment.html',\n 'https://txt.newsru.com/allnews/russia/04oct2007/belozub.html',\n 'https://txt.newsru.com/allnews/russia/15jan2009/newstatus.html',\n 'https://txt.newsru.com/allnews/russia/18jul2001/history.html',\n 'https://txt.newsru.com/allnews/cinema/07apr2009/ddt.html',\n 'https://txt.newsru.com/allnews/russia/25nov2010/intekoland.html',\n 'https://txt.newsru.com/allnews/russia/21mar2012/kelmi.html',\n 'https://txt.newsru.com/allnews/russia/30aug2012/tuleev.html',\n 'https://txt.newsru.com/allnews/world/06feb2018/courtsun.html',\n 'https://txt.newsru.com/allnews/world/10mar2017/merlelybia.html',\n 'https://txt.newsru.com/allnews/realty/03apr2006/record.html',\n 'https://txt.newsru.com/allnews/world/15oct2012/endeavour.html',\n 'https://txt.newsru.com/allnews/blog/11mar2013/gaiti.html',\n 'https://txt.newsru.com/allnews/cinema/19may2005/r_s.html',\n 'https://txt.newsru.com/allnews/hitech/07nov2011/kaistrram.html',\n 'https://txt.newsru.com/allnews/world/16may2013/bengazi.html',\n 'https://txt.newsru.com/allnews/sport/15nov2016/chess.html',\n 'https://txt.newsru.com/allnews/auto/26dec2018/mos_neuroset.html',\n 'https://txt.newsru.com/allnews/sport/27mar2008/legio.html',\n 'https://txt.newsru.com/allnews/russia/28feb2011/sud_lagutkin.html',\n 'https://txt.newsru.com/allnews/world/19sep2010/relationship.html',\n 'https://txt.newsru.com/allnews/blog/19aug2015/crysis.html',\n 'https://txt.newsru.com/allnews/world/11may2006/sammy.html',\n 'https://txt.newsru.com/allnews/russia/07dec2017/opros.html',\n 'https://txt.newsru.com/allnews/hitech/06feb2020/china_store.html',\n 'https://txt.newsru.com/allnews/sport/21may2005/juventus.html',\n 'https://txt.newsru.com/allnews/world/23nov2006/pornomagnat.html',\n 'https://txt.newsru.com/allnews/russia/17jun2015/aerozont.html',\n 'https://txt.newsru.com/allnews/russia/21mar2004/pybd.html',\n 'https://txt.newsru.com/allnews/sport/15mar2014/kuznecov.html',\n 'https://txt.newsru.com/allnews/world/27nov2003/holidthanks.html',\n 'https://txt.newsru.com/allnews/russia/24jul2011/fire.html',\n 'https://txt.newsru.com/allnews/world/12may2003/es.html',\n 'https://txt.newsru.com/allnews/sport/26mar2018/chess.html',\n 'https://txt.newsru.com/allnews/russia/09sep2003/usual_suspects.html',\n 'https://txt.newsru.com/allnews/cinema/21sep2005/moss_police.html',\n 'https://txt.newsru.com/allnews/russia/25jan2006/firekill3.html',\n 'https://txt.newsru.com/allnews/russia/08apr2001/elexions_2lookat.html',\n 'https://txt.newsru.com/allnews/russia/18dec2005/gazo.html',\n 'https://txt.newsru.com/allnews/world/06jun2008/darkmeet.html',\n 'https://txt.newsru.com/allnews/world/22apr2009/peru.html',\n 'https://txt.newsru.com/allnews/cinema/21may2007/iran.html',\n 'https://txt.newsru.com/allnews/world/23aug2001/tbilisi.html',\n 'https://txt.newsru.com/allnews/finance/05apr2004/tre.html',\n 'https://txt.newsru.com/allnews/world/09dec2006/boi.html',\n 'https://txt.newsru.com/allnews/russia/02nov2010/otkaz.html',\n 'https://txt.newsru.com/allnews/finance/09jul2007/shtockman.html',\n 'https://txt.newsru.com/allnews/russia/01dec2004/ivanov.html',\n 'https://txt.newsru.com/allnews/auto/27may2008/ygnali.html',\n 'https://txt.newsru.com/allnews/cinema/01may2015/benking.html',\n 'https://txt.newsru.com/allnews/russia/28dec2011/povrezh.html',\n 'https://txt.newsru.com/allnews/finance/02jun2009/nissan.html',\n 'https://txt.newsru.com/allnews/sport/24apr2011/curling.html',\n 'https://txt.newsru.com/allnews/finance/17sep2013/rupublcsctrwages.html',\n 'https://txt.newsru.com/allnews/finance/24apr2014/ruvisamcinsdpst.html',\n 'https://txt.newsru.com/allnews/russia/04jul2001/gubernator.html',\n 'https://txt.newsru.com/allnews/sport/19jun2005/florencia.html',\n 'https://txt.newsru.com/allnews/russia/02jun2010/freeasabirds.html',\n 'https://txt.newsru.com/allnews/russia/20apr2016/putin.html',\n 'https://txt.newsru.com/allnews/russia/14jun2017/buryatia.html',\n 'https://txt.newsru.com/allnews/russia/21mar2005/nevzlin.html',\n 'https://txt.newsru.com/allnews/blog/19jun2018/nino_football.html',\n 'https://txt.newsru.com/allnews/world/10oct2001/uno_usa.html',\n 'https://txt.newsru.com/allnews/russia/19apr2005/nagaeva.html',\n 'https://txt.newsru.com/allnews/sport/16oct2014/friendly.html',\n 'https://txt.newsru.com/allnews/sport/12apr2006/play_off.html',\n 'https://txt.newsru.com/allnews/russia/18feb2001/eu_summit.html',\n 'https://txt.newsru.com/allnews/world/16dec2009/golodpase.html',\n 'https://txt.newsru.com/allnews/russia/11jun2012/fire.html',\n 'https://txt.newsru.com/allnews/russia/02aug2013/bazar.html',\n 'https://txt.newsru.com/allnews/russia/15jun2020/agitmask.html',\n 'https://txt.newsru.com/allnews/sport/03jul2009/owen.html',\n 'https://txt.newsru.com/allnews/russia/17feb2016/poslovitsy.html',\n 'https://txt.newsru.com/allnews/cinema/19mar2015/ringo.html',\n 'https://txt.newsru.com/allnews/world/16jun2007/fath2.html',\n 'https://txt.newsru.com/allnews/sport/16oct2018/stats.html',\n 'https://txt.newsru.com/allnews/hitech/01nov2007/garmin.html',\n 'https://txt.newsru.com/allnews/russia/05may2008/poets.html',\n 'https://txt.newsru.com/allnews/russia/06feb2005/arg.html',\n 'https://txt.newsru.com/allnews/sport/11jun2012/irlhor.html',\n 'https://txt.newsru.com/allnews/russia/21jul2013/dagg.html',\n 'https://txt.newsru.com/allnews/sport/10dec2005/rus.html',\n 'https://txt.newsru.com/allnews/russia/05sep2010/15g.html',\n 'https://txt.newsru.com/allnews/russia/17jul2001/primorye.html',\n 'https://txt.newsru.com/allnews/auto/22jan2014/gosdumanomera.html',\n 'https://txt.newsru.com/allnews/russia/11aug2016/kto.html',\n 'https://txt.newsru.com/allnews/world/07jan2011/gabala.html',\n 'https://txt.newsru.com/allnews/auto/24jul2013/avtor.html',\n 'https://txt.newsru.com/allnews/cinema/04apr2018/stranger.html',\n 'https://txt.newsru.com/allnews/russia/19oct2000/sinagoga.html',\n 'https://txt.newsru.com/allnews/realty/18jul2016/home.html',\n 'https://txt.newsru.com/allnews/russia/22may2005/mitin.html',\n 'https://txt.newsru.com/allnews/sport/18aug2019/bet.html',\n 'https://txt.newsru.com/allnews/cinema/25feb2004/qu.html',\n 'https://txt.newsru.com/allnews/auto/12oct2015/avtovtorichka.html',\n 'https://txt.newsru.com/allnews/auto/09jul2010/duma.html',\n 'https://txt.newsru.com/allnews/russia/26dec2003/dagestan2.html',\n 'https://txt.newsru.com/allnews/russia/13apr2010/bomb.html',\n 'https://txt.newsru.com/allnews/russia/22aug2005/sng.html',\n 'https://txt.newsru.com/allnews/world/24dec2003/zvartz.html',\n 'https://txt.newsru.com/allnews/russia/24jul2018/plane.html',\n 'https://txt.newsru.com/allnews/russia/30dec2020/konstantinov.html',\n 'https://txt.newsru.com/allnews/world/16nov2001/atef2.html',\n 'https://txt.newsru.com/allnews/sport/04nov2014/spb.html',\n 'https://txt.newsru.com/allnews/russia/25sep2019/vybory_bad.html',\n 'https://txt.newsru.com/allnews/russia/18apr2002/glupost.html',\n 'https://txt.newsru.com/allnews/world/25aug2016/ormuz.html',\n 'https://txt.newsru.com/allnews/russia/26jun2005/liv.html',\n 'https://txt.newsru.com/allnews/russia/01oct2002/dzerginsky.html',\n 'https://txt.newsru.com/allnews/russia/17oct2009/kamch.html',\n 'https://txt.newsru.com/allnews/auto/11mar2012/oldtimer.html',\n 'https://txt.newsru.com/allnews/russia/18may2011/exagentcia.html',\n 'https://txt.newsru.com/allnews/russia/07mar2012/kolokol.html',\n 'https://txt.newsru.com/allnews/russia/11may2017/kuban.html',\n 'https://txt.newsru.com/allnews/world/20jun2009/azir.html',\n 'https://txt.newsru.com/allnews/sport/14jun2020/tramp.html',\n 'https://txt.newsru.com/allnews/world/08aug2002/shelton.html',\n 'https://txt.newsru.com/allnews/russia/27jan2018/vivostok.html',\n 'https://txt.newsru.com/allnews/russia/13oct2016/alihanov.html',\n 'https://txt.newsru.com/allnews/sport/21nov2012/liga.html',\n 'https://txt.newsru.com/allnews/sport/22jul2010/spart.html',\n 'https://txt.newsru.com/allnews/sport/01nov2016/team.html',\n 'https://txt.newsru.com/allnews/world/12nov2015/djuraev.html',\n 'https://txt.newsru.com/allnews/cinema/25jun2004/veteran.html',\n 'https://txt.newsru.com/allnews/russia/13dec2000/chechnya.html',\n 'https://txt.newsru.com/allnews/world/06jul2010/omararrest.html',\n 'https://txt.newsru.com/allnews/world/13aug2007/bridge.html',\n 'https://txt.newsru.com/allnews/finance/26may2010/itogitogi.html',\n 'https://txt.newsru.com/allnews/finance/17aug2010/ukr_zerno.html',\n 'https://txt.newsru.com/allnews/sport/19aug2013/anzhi.html',\n 'https://txt.newsru.com/allnews/russia/17nov2014/kolokoltsev.html',\n 'https://txt.newsru.com/allnews/realty/17sep2015/izr.html',\n 'https://txt.newsru.com/allnews/sport/11jun2017/arutikjan.html',\n 'https://txt.newsru.com/allnews/realty/21dec2017/kaprem.html',\n 'https://txt.newsru.com/allnews/realty/11apr2014/vtb_hotels.html',\n 'https://txt.newsru.com/allnews/russia/17feb2006/corruption.html',\n 'https://txt.newsru.com/allnews/russia/15may2020/msucase.html',\n 'https://txt.newsru.com/allnews/russia/29nov2001/yakutia_7.html',\n 'https://txt.newsru.com/allnews/finance/07oct2006/races.html',\n 'https://txt.newsru.com/allnews/world/14may2018/durban.html',\n 'https://txt.newsru.com/allnews/sport/30sep2011/shopping.html',\n 'https://txt.newsru.com/allnews/sport/03jun2007/polo.html',\n 'https://txt.newsru.com/allnews/finance/23jun2008/deutschland.html',\n 'https://txt.newsru.com/allnews/world/30mar2012/thebushes.html',\n 'https://txt.newsru.com/allnews/realty/04mar2016/abramovich_nyc.html',\n 'https://txt.newsru.com/allnews/russia/05jan2012/weathercasts.html',\n 'https://txt.newsru.com/allnews/russia/28feb2004/polety.html',\n 'https://txt.newsru.com/allnews/hitech/03jul2018/yarovaya.html',\n 'https://txt.newsru.com/allnews/world/12may2003/smoking.html',\n 'https://txt.newsru.com/allnews/russia/26jun2006/pivo.html',\n 'https://txt.newsru.com/allnews/world/20nov2010/madag.html',\n 'https://txt.newsru.com/allnews/world/12nov2007/sektor.html',\n 'https://txt.newsru.com/allnews/sport/03dec2011/matpet.html',\n 'https://txt.newsru.com/allnews/cinema/12oct2016/zadorn.html',\n 'https://txt.newsru.com/allnews/finance/25jun2016/sorosagain.html',\n 'https://txt.newsru.com/allnews/sport/26oct2008/ger.html',\n 'https://txt.newsru.com/allnews/russia/09jul2014/mironov.html',\n 'https://txt.newsru.com/allnews/russia/26may2006/pogoda.html',\n 'https://txt.newsru.com/allnews/world/12jul2018/blenheim.html',\n 'https://txt.newsru.com/allnews/world/03jul2013/scandal.html',\n 'https://txt.newsru.com/allnews/sport/06may2006/beckchem.html',\n 'https://txt.newsru.com/allnews/world/29jun2006/china_internet.html',\n 'https://txt.newsru.com/allnews/cinema/07sep2005/pogodi.html',\n 'https://txt.newsru.com/allnews/russia/27feb2001/amnistiya.html',\n 'https://txt.newsru.com/allnews/russia/30may2004/asd.html',\n 'https://txt.newsru.com/allnews/world/25apr2015/a320.html',\n 'https://txt.newsru.com/allnews/finance/13mar2001/mps_tarifs.html',\n 'https://txt.newsru.com/allnews/russia/11apr2001/putin.html',\n 'https://txt.newsru.com/allnews/russia/19jun2007/pogoda.html',\n 'https://txt.newsru.com/allnews/world/25nov2007/oopp.html',\n 'https://txt.newsru.com/allnews/russia/27jul2009/blast.html',\n 'https://txt.newsru.com/allnews/hitech/26feb2013/icannnewzones.html',\n 'https://txt.newsru.com/allnews/sport/28may2002/samprasout.html',\n 'https://txt.newsru.com/allnews/sport/16sep2008/dabest.html',\n 'https://txt.newsru.com/allnews/russia/21mar2016/pliev.html',\n 'https://txt.newsru.com/allnews/russia/05nov2019/zaprava.html',\n 'https://txt.newsru.com/allnews/world/29aug2007/itogi.html',\n 'https://txt.newsru.com/allnews/world/23sep2003/arafat.html',\n 'https://txt.newsru.com/allnews/russia/21jan2002/fire.html',\n 'https://txt.newsru.com/allnews/world/07jan2004/you_wish.html',\n 'https://txt.newsru.com/allnews/russia/03jul2010/pogoda.html',\n 'https://txt.newsru.com/allnews/blog/07jun2012/gandi.html',\n 'https://txt.newsru.com/allnews/realty/05dec2012/finland.html',\n 'https://txt.newsru.com/allnews/world/24nov2007/sta.html',\n 'https://txt.newsru.com/allnews/cinema/24nov2013/nmphmnk.html',\n 'https://txt.newsru.com/allnews/auto/15dec2020/new_duster.html',\n 'https://txt.newsru.com/allnews/finance/05dec2008/temps.html',\n 'https://txt.newsru.com/allnews/sport/06jul2008/dincs.html',\n 'https://txt.newsru.com/allnews/auto/03aug2009/pogibli.html',\n 'https://txt.newsru.com/allnews/world/16oct2001/kabul.html',\n 'https://txt.newsru.com/allnews/world/24nov2006/hamas.html',\n 'https://txt.newsru.com/allnews/world/25feb2009/rasstrel.html',\n 'https://txt.newsru.com/allnews/world/31oct2001/laden_lefigarocia.html',\n 'https://txt.newsru.com/allnews/world/02jun2010/otstavka.html',\n 'https://txt.newsru.com/allnews/world/03jul2012/vra4aves.html',\n 'https://txt.newsru.com/allnews/blog/25dec2013/ofshor.html',\n 'https://txt.newsru.com/allnews/world/22may2014/thailand_army.html',\n 'https://txt.newsru.com/allnews/realty/29jun2016/mcdon_novosib.html',\n 'https://txt.newsru.com/allnews/cinema/22feb2011/fellini.html',\n 'https://txt.newsru.com/allnews/finance/29mar2001/allianzdresdnerbank.html',\n 'https://txt.newsru.com/allnews/russia/16jul2013/urlash.html',\n 'https://txt.newsru.com/allnews/sport/29jan2012/record.html',\n 'https://txt.newsru.com/allnews/sport/02dec2015/pog.html',\n 'https://txt.newsru.com/allnews/sport/15jun2010/orange.html',\n 'https://txt.newsru.com/allnews/auto/26jun2015/cruze.html',\n 'https://txt.newsru.com/allnews/russia/19sep2008/ostanki.html',\n 'https://txt.newsru.com/allnews/world/23jul2009/fermer.html',\n 'https://txt.newsru.com/allnews/russia/27jan2005/proc.html',\n 'https://txt.newsru.com/allnews/finance/01oct2007/statoil.html',\n 'https://txt.newsru.com/allnews/cinema/15nov2011/levborisov.html',\n 'https://txt.newsru.com/allnews/sport/22nov2002/4738976464.html',\n 'https://txt.newsru.com/allnews/world/08oct2006/europe.html',\n 'https://txt.newsru.com/allnews/blog/24sep2019/pakt_mid.html',\n 'https://txt.newsru.com/allnews/world/29feb2012/nivatfrance.html',\n 'https://txt.newsru.com/allnews/finance/17mar2003/dollar.html',\n 'https://txt.newsru.com/allnews/blog/22jan2013/bazar.html',\n 'https://txt.newsru.com/allnews/russia/18aug2014/veter.html',\n 'https://txt.newsru.com/allnews/hitech/06aug2020/canon.html',\n 'https://txt.newsru.com/allnews/auto/08jun2015/kalina_amt.html',\n 'https://txt.newsru.com/allnews/sport/15aug2004/adomoryrecap.html',\n 'https://txt.newsru.com/allnews/realty/16nov2017/cards.html',\n 'https://txt.newsru.com/allnews/world/11sep2016/north.html',\n 'https://txt.newsru.com/allnews/cinema/22apr2013/wizerspoon.html',\n 'https://txt.newsru.com/allnews/sport/20oct2018/real.html',\n 'https://txt.newsru.com/allnews/russia/08jun2005/perenos.html',\n 'https://txt.newsru.com/allnews/russia/21feb2006/chelyab.html',\n 'https://txt.newsru.com/allnews/sport/22apr2006/shumacher.html',\n 'https://txt.newsru.com/allnews/world/18jun2009/peshawar.html',\n 'https://txt.newsru.com/allnews/world/03jul2017/usadecided.html',\n 'https://txt.newsru.com/allnews/world/18dec2000/russia.html',\n 'https://txt.newsru.com/allnews/russia/21jul2011/estemirova.html',\n 'https://txt.newsru.com/allnews/finance/26nov2009/zlobin.html',\n 'https://txt.newsru.com/allnews/cinema/12jul2013/maonhermtzh.html',\n 'https://txt.newsru.com/allnews/russia/06jul2015/yakut.html',\n 'https://txt.newsru.com/allnews/sport/11may2021/cashback.html',\n 'https://txt.newsru.com/allnews/world/19apr2015/ukrainwash.html',\n 'https://txt.newsru.com/allnews/world/07may2016/dver_mazepa.html',\n 'https://txt.newsru.com/allnews/russia/19jun2007/man.html',\n 'https://txt.newsru.com/allnews/world/21jul2003/bodie.html',\n 'https://txt.newsru.com/allnews/finance/17jan2006/economist.html',\n 'https://txt.newsru.com/allnews/russia/05jul2007/ekat.html',\n 'https://txt.newsru.com/allnews/sport/28jan2016/blatter.html',\n 'https://txt.newsru.com/allnews/world/13dec2007/cats.html',\n 'https://txt.newsru.com/allnews/sport/09jan2016/bolt.html',\n 'https://txt.newsru.com/allnews/world/01nov2005/un_syrr.html',\n 'https://txt.newsru.com/allnews/sport/20aug2011/china.html',\n 'https://txt.newsru.com/allnews/cinema/14dec2009/rammstein.html',\n 'https://txt.newsru.com/allnews/sport/20nov2006/tszyu.html',\n 'https://txt.newsru.com/allnews/world/28dec2017/egypt.html',\n 'https://txt.newsru.com/allnews/world/30jul2001/fightsgoingon.html',\n 'https://txt.newsru.com/allnews/world/24jul2004/bau.html',\n 'https://txt.newsru.com/allnews/sport/02aug2005/world_cup.html',\n 'https://txt.newsru.com/allnews/world/02nov2007/child.html',\n 'https://txt.newsru.com/allnews/sport/23sep2011/fight.html',\n 'https://txt.newsru.com/allnews/world/27dec2008/bh.html',\n 'https://txt.newsru.com/allnews/world/19nov2003/izrail2.html',\n 'https://txt.newsru.com/allnews/cinema/26may2009/chekhovfest.html',\n 'https://txt.newsru.com/allnews/finance/01dec2010/rosneft.html',\n 'https://txt.newsru.com/allnews/russia/06sep2007/otzhig.html',\n 'https://txt.newsru.com/allnews/hitech/09feb2010/gmail.html',\n 'https://txt.newsru.com/allnews/sport/04nov2015/burned.html',\n 'https://txt.newsru.com/allnews/finance/03nov2009/alrosa.html',\n 'https://txt.newsru.com/allnews/sport/08apr2016/meldonium.html',\n 'https://txt.newsru.com/allnews/realty/25jul2008/cards.html',\n 'https://txt.newsru.com/allnews/finance/08jan2015/rosneftmurm.html',\n 'https://txt.newsru.com/allnews/russia/13nov2014/shark_sochi.html',\n 'https://txt.newsru.com/allnews/world/29dec2017/moskal.html',\n 'https://txt.newsru.com/allnews/world/20nov2008/obam.html',\n 'https://txt.newsru.com/allnews/world/08jun2005/vilpen.html',\n 'https://txt.newsru.com/allnews/finance/13sep2006/rosneft.html',\n 'https://txt.newsru.com/allnews/finance/29jul2003/interros.html',\n 'https://txt.newsru.com/allnews/sport/24sep2008/steppers.html',\n 'https://txt.newsru.com/allnews/cinema/04aug2004/picasso.html',\n 'https://txt.newsru.com/allnews/sport/06mar2003/57896865.html',\n 'https://txt.newsru.com/allnews/cinema/01feb2011/xodorfilm.html',\n 'https://txt.newsru.com/allnews/world/10jul2011/cozh.html',\n 'https://txt.newsru.com/allnews/realty/16jul2008/bulgary.html',\n 'https://txt.newsru.com/allnews/sport/27aug2007/osaka.html',\n 'https://txt.newsru.com/allnews/finance/11feb2003/arenda.html',\n 'https://txt.newsru.com/allnews/world/12mar2004/grenade.html',\n 'https://txt.newsru.com/allnews/russia/18dec2008/dostavili.html',\n 'https://txt.newsru.com/allnews/auto/04aug2010/restyle_freel.html',\n 'https://txt.newsru.com/allnews/finance/18jul2011/oil.html',\n 'https://txt.newsru.com/allnews/hitech/07feb2013/strvsnimgng.html',\n 'https://txt.newsru.com/allnews/world/10may2016/demo_shutki.html',\n 'https://txt.newsru.com/allnews/russia/20feb2020/donate_dopros.html',\n 'https://txt.newsru.com/allnews/realty/29nov2010/army.html',\n 'https://txt.newsru.com/allnews/russia/07oct2020/amphetamine.html',\n 'https://txt.newsru.com/allnews/world/20apr2009/cnt.html',\n 'https://txt.newsru.com/allnews/world/18apr2002/avstral.html',\n 'https://txt.newsru.com/allnews/sport/29jan2008/bandy.html',\n 'https://txt.newsru.com/allnews/sport/20feb2003/567728644.html',\n 'https://txt.newsru.com/allnews/realty/17feb2015/green_water.html',\n 'https://txt.newsru.com/allnews/finance/04oct2005/tnnk.html',\n 'https://txt.newsru.com/allnews/world/04jan2001/okhota.html',\n 'https://txt.newsru.com/allnews/sport/28apr2021/flag.html',\n 'https://txt.newsru.com/allnews/realty/24apr2009/stopped.html',\n 'https://txt.newsru.com/allnews/world/26jan2014/miftakhov.html',\n 'https://txt.newsru.com/allnews/world/28aug2015/merkeldelo.html',\n 'https://txt.newsru.com/allnews/sport/06aug2018/koles.html',\n 'https://txt.newsru.com/allnews/sport/18may2011/fifa.html',\n 'https://txt.newsru.com/allnews/world/10mar2018/wongshooter.html',\n 'https://txt.newsru.com/allnews/finance/21oct2014/uaagroprodctnnoway.html',\n 'https://txt.newsru.com/allnews/finance/04dec2015/podgotovka.html',\n 'https://txt.newsru.com/allnews/russia/06dec2010/rogoza.html',\n 'https://txt.newsru.com/allnews/sport/01aug2001/hlestov.html',\n 'https://txt.newsru.com/allnews/sport/04may2018/rangerrard.html',\n 'https://txt.newsru.com/allnews/russia/06dec2002/taman.html',\n 'https://txt.newsru.com/allnews/sport/22aug2013/liga.html',\n 'https://txt.newsru.com/allnews/world/15mar2017/trump.html',\n 'https://txt.newsru.com/allnews/russia/28jan2003/chech2.html',\n 'https://txt.newsru.com/allnews/cinema/28may2018/london_busker.html',\n 'https://txt.newsru.com/allnews/hitech/27nov2014/iphone5c.html',\n 'https://txt.newsru.com/allnews/world/04aug2003/threat.html',\n 'https://txt.newsru.com/allnews/world/03mar2005/gas.html',\n 'https://txt.newsru.com/allnews/realty/23jul2008/lib.html',\n 'https://txt.newsru.com/allnews/finance/24jul2012/bpaccept.html',\n 'https://txt.newsru.com/allnews/cinema/08jul2014/friske.html',\n 'https://txt.newsru.com/allnews/world/06may2008/nargiz.html',\n 'https://txt.newsru.com/allnews/russia/21nov2012/sovbez.html',\n 'https://txt.newsru.com/allnews/hitech/19dec2013/five_billioners.html',\n 'https://txt.newsru.com/allnews/sport/21apr2003/74667544.html',\n 'https://txt.newsru.com/allnews/russia/14jul2012/dagestan.html',\n 'https://txt.newsru.com/allnews/world/30aug2006/estonia.html',\n 'https://txt.newsru.com/allnews/russia/14mar2018/matveev.html',\n 'https://txt.newsru.com/allnews/finance/25aug2009/belocredit.html',\n 'https://txt.newsru.com/allnews/auto/17nov2010/dan_gai.html',\n 'https://txt.newsru.com/allnews/world/08apr2001/france_sonnfather_suicide.html',\n 'https://txt.newsru.com/allnews/world/09feb2010/chinaspy15.html',\n 'https://txt.newsru.com/allnews/russia/17apr2014/novosib.html',\n 'https://txt.newsru.com/allnews/world/14may2008/xfiles.html',\n 'https://txt.newsru.com/allnews/world/09nov2013/cubasanktions.html',\n 'https://txt.newsru.com/allnews/finance/10oct2008/gordeev.html',\n 'https://txt.newsru.com/allnews/blog/21aug2013/document.html',\n 'https://txt.newsru.com/allnews/world/03nov2017/hole.html',\n 'https://txt.newsru.com/allnews/russia/10jul2020/baltia_sanction.html',\n 'https://txt.newsru.com/allnews/cinema/21sep2004/rumjanova.html',\n 'https://txt.newsru.com/allnews/realty/14dec2006/luzh.html',\n 'https://txt.newsru.com/allnews/world/05may2001/latvia.html',\n 'https://txt.newsru.com/allnews/finance/20aug2015/pipealtay.html',\n 'https://txt.newsru.com/allnews/blog/26jun2017/telegram2.html',\n 'https://txt.newsru.com/allnews/russia/12sep2007/obstrel.html',\n 'https://txt.newsru.com/allnews/world/09jun2008/asic1a.html',\n 'https://txt.newsru.com/allnews/hitech/30jun2011/GE.html',\n 'https://txt.newsru.com/allnews/finance/04apr2012/dvork.html',\n 'https://txt.newsru.com/allnews/hitech/30jun2011/ticket.html',\n 'https://txt.newsru.com/allnews/sport/16apr2010/bel.html',\n 'https://txt.newsru.com/allnews/world/22jun2016/compensation.html',\n 'https://txt.newsru.com/allnews/world/29aug2008/hronikaback.html',\n 'https://txt.newsru.com/allnews/realty/08jun2012/komarovo.html',\n 'https://txt.newsru.com/allnews/realty/18feb2014/polnonnay.html',\n 'https://txt.newsru.com/allnews/russia/09feb2009/med2bl.html',\n 'https://txt.newsru.com/allnews/world/03mar2002/turkey.html',\n 'https://txt.newsru.com/allnews/finance/16jun2004/benzin.html',\n 'https://txt.newsru.com/allnews/russia/08sep2012/mi35.html',\n 'https://txt.newsru.com/allnews/sport/04apr2018/champions.html',\n 'https://txt.newsru.com/allnews/finance/09feb2006/finance.html',\n 'https://txt.newsru.com/allnews/world/15nov2001/trojan_horse.html',\n 'https://txt.newsru.com/allnews/finance/23nov2018/ipo_pervomay.html',\n 'https://txt.newsru.com/allnews/realty/21oct2008/relax.html',\n 'https://txt.newsru.com/allnews/world/08apr2020/opcwsyria.html',\n 'https://txt.newsru.com/allnews/world/19nov2014/mexico_1.html',\n 'https://txt.newsru.com/allnews/russia/13nov2008/colors.html',\n 'https://txt.newsru.com/allnews/russia/25mar2009/customer.html',\n 'https://txt.newsru.com/allnews/world/24nov2009/coalition.html',\n 'https://txt.newsru.com/allnews/russia/28jun2012/an2.html',\n 'https://txt.newsru.com/allnews/cinema/02dec2008/pirosmani.html',\n 'https://txt.newsru.com/allnews/finance/09apr2009/mintorg.html',\n 'https://txt.newsru.com/allnews/world/13sep2009/kimch.html',\n 'https://txt.newsru.com/allnews/world/30jul2002/babyrape.html',\n 'https://txt.newsru.com/allnews/world/16oct2004/shattle.html',\n 'https://txt.newsru.com/allnews/world/24jul2013/nazihunt.html',\n 'https://txt.newsru.com/allnews/sport/02sep2006/ovch_dyn.html',\n 'https://txt.newsru.com/allnews/russia/14sep2017/forwhat.html',\n 'https://txt.newsru.com/allnews/cinema/01oct2020/gate_to_heaven.html',\n 'https://txt.newsru.com/allnews/realty/11may2012/plastic_house.html',\n 'https://txt.newsru.com/allnews/world/14feb2008/rik.html',\n 'https://txt.newsru.com/allnews/finance/08dec2015/3blndollars.html',\n 'https://txt.newsru.com/allnews/auto/13dec2007/litva.html',\n 'https://txt.newsru.com/allnews/world/23feb2016/731migrantsita.html',\n 'https://txt.newsru.com/allnews/world/13mar2013/obituary.html',\n 'https://txt.newsru.com/allnews/russia/01feb2001/administration.html',\n 'https://txt.newsru.com/allnews/sport/22jul2011/shakhtar.html',\n 'https://txt.newsru.com/allnews/cinema/17oct2012/yellow.html',\n 'https://txt.newsru.com/allnews/russia/29sep2016/gorbachev.html',\n 'https://txt.newsru.com/allnews/world/01feb2010/isr_es.html',\n 'https://txt.newsru.com/allnews/world/03oct2001/boeviki5.html',\n 'https://txt.newsru.com/allnews/world/19jul2002/child.html',\n 'https://txt.newsru.com/allnews/blog/19apr2016/noscience.html',\n 'https://txt.newsru.com/allnews/cinema/03sep2001/eco.html',\n 'https://txt.newsru.com/allnews/russia/14nov2006/golodovk.html',\n 'https://txt.newsru.com/allnews/russia/12aug2014/vsedoma.html',\n 'https://txt.newsru.com/allnews/finance/30jun2015/drilling.html',\n 'https://txt.newsru.com/allnews/world/06feb2008/flag.html',\n 'https://txt.newsru.com/allnews/auto/17may2018/europro.html',\n 'https://txt.newsru.com/allnews/cinema/24aug2010/miss.html',\n 'https://txt.newsru.com/allnews/sport/24jun2005/public.html',\n 'https://txt.newsru.com/allnews/world/25apr2001/firstsick.html',\n 'https://txt.newsru.com/allnews/sport/27jun2007/stars.html',\n 'https://txt.newsru.com/allnews/russia/08feb2008/tatarstan.html',\n 'https://txt.newsru.com/allnews/russia/18jun2020/med500covid.html',\n 'https://txt.newsru.com/allnews/finance/03oct2001/debeers.html',\n 'https://txt.newsru.com/allnews/world/19jan2005/vredno.html',\n 'https://txt.newsru.com/allnews/world/27apr2002/army.html',\n 'https://txt.newsru.com/allnews/russia/24may2016/kiselev.html',\n 'https://txt.newsru.com/allnews/auto/29nov2011/granta.html',\n 'https://txt.newsru.com/allnews/russia/03jul2013/zacep.html',\n 'https://txt.newsru.com/allnews/sport/08nov2010/magnus.html',\n 'https://txt.newsru.com/allnews/world/18aug2004/shreder.html',\n 'https://txt.newsru.com/allnews/russia/03dec2011/baturin.html',\n 'https://txt.newsru.com/allnews/russia/27aug2017/niitimport.html',\n 'https://txt.newsru.com/allnews/russia/10apr2015/ig.html',\n 'https://txt.newsru.com/allnews/cinema/14sep2016/yasn.html',\n 'https://txt.newsru.com/allnews/russia/02aug2001/moscow.html',\n 'https://txt.newsru.com/allnews/world/02dec2013/zakharchenko.html',\n 'https://txt.newsru.com/allnews/world/23feb2016/greatest_enemy.html',\n 'https://txt.newsru.com/allnews/russia/13apr2001/moscow_inzident.html',\n 'https://txt.newsru.com/allnews/world/20feb2002/kaida1.html',\n 'https://txt.newsru.com/allnews/realty/07dec2009/trust.html',\n 'https://txt.newsru.com/allnews/world/29apr2010/osterreich.html',\n 'https://txt.newsru.com/allnews/sport/22mar2013/vibro_ball.html',\n 'https://txt.newsru.com/allnews/sport/01jun2003/agassi.html',\n 'https://txt.newsru.com/allnews/world/24may2005/minske.html',\n 'https://txt.newsru.com/allnews/russia/26may2006/sabadash.html',\n 'https://txt.newsru.com/allnews/russia/22aug2011/zhirik.html',\n 'https://txt.newsru.com/allnews/world/31jul2014/nemcov.html',\n 'https://txt.newsru.com/allnews/sport/26jan2015/artem.html',\n 'https://txt.newsru.com/allnews/finance/24aug2017/rimicro8percent.html',\n 'https://txt.newsru.com/allnews/russia/20jan2021/double_standard.html',\n 'https://txt.newsru.com/allnews/world/23sep2013/kndr_nuclear.html',\n 'https://txt.newsru.com/allnews/russia/14nov2016/kras.html',\n 'https://txt.newsru.com/allnews/sport/19aug2016/marktewks.html',\n 'https://txt.newsru.com/allnews/finance/17jan2005/ind.html',\n 'https://txt.newsru.com/allnews/world/18may2001/usa.html',\n 'https://txt.newsru.com/allnews/russia/05aug2000/samoupr.html',\n 'https://txt.newsru.com/allnews/world/29jun2005/waste.html',\n 'https://txt.newsru.com/allnews/world/26apr2007/belorus_meeting_beating.html',\n 'https://txt.newsru.com/allnews/sport/12nov2008/arshavin.html',\n 'https://txt.newsru.com/allnews/world/16jun2009/nettel.html',\n 'https://txt.newsru.com/allnews/russia/18nov2004/teatr.html',\n 'https://txt.newsru.com/allnews/blog/26aug2017/minus.html',\n 'https://txt.newsru.com/allnews/russia/18jan2019/spishem.html',\n 'https://txt.newsru.com/allnews/auto/30may2011/day.html',\n 'https://txt.newsru.com/allnews/russia/03may2006/smi.html',\n 'https://txt.newsru.com/allnews/russia/12jul2017/matvienko.html',\n 'https://txt.newsru.com/allnews/russia/14feb2009/tol.html',\n 'https://txt.newsru.com/allnews/world/29jul2018/muenchenfgh.html',\n 'https://txt.newsru.com/allnews/auto/14feb2011/kalina.html',\n 'https://txt.newsru.com/allnews/russia/09may2004/ps2.html',\n 'https://txt.newsru.com/allnews/realty/19oct2009/versal.html',\n 'https://txt.newsru.com/allnews/russia/13may2010/vert.html',\n 'https://txt.newsru.com/allnews/world/16may2011/euthanasia.html',\n 'https://txt.newsru.com/allnews/cinema/08sep2005/gala.html',\n 'https://txt.newsru.com/allnews/world/11jul2009/gond.html',\n 'https://txt.newsru.com/allnews/cinema/25sep2006/cruise.html',\n 'https://txt.newsru.com/allnews/cinema/21jun2013/guelmann.html',\n 'https://txt.newsru.com/allnews/sport/09apr2017/marath.html',\n 'https://txt.newsru.com/allnews/russia/14sep2018/mks.html',\n 'https://txt.newsru.com/allnews/world/02apr2005/sgh.html',\n 'https://txt.newsru.com/allnews/sport/07mar2020/med.html',\n 'https://txt.newsru.com/allnews/world/31jan2007/astro.html',\n 'https://txt.newsru.com/allnews/russia/03jan2009/dag.html',\n 'https://txt.newsru.com/allnews/russia/29may2013/minoborony_vyplaty.html',\n 'https://txt.newsru.com/allnews/finance/21apr2009/itogitogi.html',\n 'https://txt.newsru.com/allnews/russia/14nov2014/pase.html',\n 'https://txt.newsru.com/allnews/sport/06feb2010/karri.html',\n 'https://txt.newsru.com/allnews/world/23aug2016/streltsy.html',\n 'https://txt.newsru.com/allnews/sport/20feb2001/ievleff.html',\n 'https://txt.newsru.com/allnews/russia/27mar2011/oborona.html',\n 'https://txt.newsru.com/allnews/finance/23dec2014/exporters.html',\n 'https://txt.newsru.com/allnews/sport/20oct2020/rusolymp.html',\n 'https://txt.newsru.com/allnews/russia/20may2001/murmansk.html',\n 'https://txt.newsru.com/allnews/sport/18apr2011/swiss.html',\n 'https://txt.newsru.com/allnews/hitech/31may2019/antivir_rating.html',\n 'https://txt.newsru.com/allnews/world/07apr2007/maydan.html',\n 'https://txt.newsru.com/allnews/auto/21mar2008/kizashi.html',\n 'https://txt.newsru.com/allnews/russia/20jan2004/shahn.html',\n 'https://txt.newsru.com/allnews/cinema/23apr2003/book.html',\n 'https://txt.newsru.com/allnews/world/16apr2012/hakkaninet.html',\n 'https://txt.newsru.com/allnews/sport/09feb2016/tweddle.html',\n 'https://txt.newsru.com/allnews/russia/26mar2021/royzmanfine20tr.html',\n 'https://txt.newsru.com/allnews/auto/20apr2010/LexusGX_recall.html',\n 'https://txt.newsru.com/allnews/cinema/28may2003/minelli.html',\n 'https://txt.newsru.com/allnews/russia/03feb2016/russirya.html',\n 'https://txt.newsru.com/allnews/sport/18jul2000/kafel.html',\n 'https://txt.newsru.com/allnews/blog/18feb2015/hungary.html',\n 'https://txt.newsru.com/allnews/russia/13aug2008/journalist.html',\n 'https://txt.newsru.com/allnews/world/08mar2009/afg.html',\n 'https://txt.newsru.com/allnews/russia/22jan2001/ordjo.html',\n 'https://txt.newsru.com/allnews/sport/07aug2019/refree.html',\n 'https://txt.newsru.com/allnews/russia/09may2018/videoscreenyouth.html',\n 'https://txt.newsru.com/allnews/finance/02dec2011/alrosa.html',\n 'https://txt.newsru.com/allnews/russia/17sep2001/gryzlov_zayv.html',\n 'https://txt.newsru.com/allnews/finance/14apr2009/tadjiciston.html',\n 'https://txt.newsru.com/allnews/world/24sep2012/premier.html',\n 'https://txt.newsru.com/allnews/sport/30apr2007/bart.html',\n 'https://txt.newsru.com/allnews/world/21jan2019/israel_udar.html',\n 'https://txt.newsru.com/allnews/world/16mar2001/kiev.html',\n 'https://txt.newsru.com/allnews/cinema/02dec2008/lascala.html',\n 'https://txt.newsru.com/allnews/realty/20may2015/golden_keys.html',\n 'https://txt.newsru.com/allnews/cinema/04jul2018/spacy.html',\n 'https://txt.newsru.com/allnews/russia/23sep2011/detki2.html',\n 'https://txt.newsru.com/allnews/russia/28jun2012/klinika.html',\n 'https://txt.newsru.com/allnews/cinema/16mar2009/evr.html',\n 'https://txt.newsru.com/allnews/russia/16jan2015/ban_on_entry.html',\n 'https://txt.newsru.com/allnews/world/09nov2015/egi.html',\n 'https://txt.newsru.com/allnews/russia/04nov2003/fell.html',\n 'https://txt.newsru.com/allnews/russia/03feb2012/teacher.html',\n 'https://txt.newsru.com/allnews/cinema/23jun2011/clooney.html',\n 'https://txt.newsru.com/allnews/auto/05may2010/infiniti_recall.html',\n 'https://txt.newsru.com/allnews/world/05dec2007/imedi_off.html',\n 'https://txt.newsru.com/allnews/realty/02feb2017/new_city.html',\n 'https://txt.newsru.com/allnews/russia/07may2001/yugo_newmskembassy.html',\n 'https://txt.newsru.com/allnews/russia/01jun2017/silence.html',\n 'https://txt.newsru.com/allnews/russia/20jan2011/court.html',\n 'https://txt.newsru.com/allnews/russia/21jul2014/eusanc.html',\n 'https://txt.newsru.com/allnews/russia/24jan2003/reaction.html',\n 'https://txt.newsru.com/allnews/finance/26apr2008/prok.html',\n 'https://txt.newsru.com/allnews/russia/11aug2009/mosduma.html',\n 'https://txt.newsru.com/allnews/auto/20may2013/spr_drink.html',\n 'https://txt.newsru.com/allnews/russia/11dec2007/nevinnomyssk.html',\n 'https://txt.newsru.com/allnews/sport/16jan2017/wehrlein.html',\n 'https://txt.newsru.com/allnews/world/07jun2017/myanmarplane.html',\n 'https://txt.newsru.com/allnews/russia/16sep2016/buryatiya.html',\n 'https://txt.newsru.com/allnews/finance/16mar2012/obnal.html',\n 'https://txt.newsru.com/allnews/cinema/11jul2001/film.html',\n 'https://txt.newsru.com/allnews/world/27aug2004/bus_train.html',\n 'https://txt.newsru.com/allnews/russia/27jun2009/sdf.html',\n 'https://txt.newsru.com/allnews/russia/03sep2006/besl.html',\n 'https://txt.newsru.com/allnews/world/28jul2008/white_knight.html',\n 'https://txt.newsru.com/allnews/world/19apr2014/krymtatar.html',\n 'https://txt.newsru.com/allnews/russia/28jun2011/putmat.html',\n 'https://txt.newsru.com/allnews/world/07nov2002/irs.html',\n 'https://txt.newsru.com/allnews/finance/25nov2014/ulukaev.html',\n 'https://txt.newsru.com/allnews/russia/09jan2001/methods.html',\n 'https://txt.newsru.com/allnews/world/20jun2008/zimbabwe.html',\n 'https://txt.newsru.com/allnews/world/03mar2005/drunk.html',\n 'https://txt.newsru.com/allnews/russia/23mar2011/spor.html',\n 'https://txt.newsru.com/allnews/world/03oct2018/trump_richness.html',\n 'https://txt.newsru.com/allnews/cinema/16sep2008/eurovision.html',\n 'https://txt.newsru.com/allnews/world/17mar2005/deer.html',\n 'https://txt.newsru.com/allnews/finance/06feb2018/poverty.html',\n 'https://txt.newsru.com/allnews/realty/16sep2019/sotki_dacha.html',\n 'https://txt.newsru.com/allnews/hitech/12jul2010/fbceop.html',\n 'https://txt.newsru.com/allnews/world/23aug2005/msvati.html',\n 'https://txt.newsru.com/allnews/cinema/15jan2015/oskarleviathan.html',\n 'https://txt.newsru.com/allnews/cinema/29jul2009/let.html',\n 'https://txt.newsru.com/allnews/russia/25oct2007/mina.html',\n 'https://txt.newsru.com/allnews/hitech/06may2010/bynetcafe.html',\n 'https://txt.newsru.com/allnews/sport/13mar2006/cups.html',\n 'https://txt.newsru.com/allnews/world/15may2007/business.html',\n 'https://txt.newsru.com/allnews/finance/14jan2002/microsoft.html',\n 'https://txt.newsru.com/allnews/cinema/19jul2007/metallica.html',\n 'https://txt.newsru.com/allnews/auto/21jul2014/fordmustang.html',\n 'https://txt.newsru.com/allnews/blog/26nov2019/kontrol.html',\n 'https://txt.newsru.com/allnews/sport/12dec2000/alp.html',\n 'https://txt.newsru.com/allnews/russia/30jan2007/kontrafakt_microsoft.html',\n 'https://txt.newsru.com/allnews/world/02jun2009/chavez.html',\n 'https://txt.newsru.com/allnews/realty/15apr2010/invest.html',\n 'https://txt.newsru.com/allnews/world/12feb2008/britain.html',\n 'https://txt.newsru.com/allnews/cinema/08nov2011/nuclove.html',\n 'https://txt.newsru.com/allnews/russia/31aug2001/fsb.html',\n 'https://txt.newsru.com/allnews/russia/05jan2001/argun.html',\n 'https://txt.newsru.com/allnews/world/10dec2015/cam.html',\n 'https://txt.newsru.com/allnews/russia/19mar2007/war_in_iraq.html',\n 'https://txt.newsru.com/allnews/world/05dec2002/usahan.html',\n 'https://txt.newsru.com/allnews/world/27dec2012/interrao.html',\n 'https://txt.newsru.com/allnews/russia/21jun2017/tanz.html',\n 'https://txt.newsru.com/allnews/world/18nov2011/attemptofassassin.html',\n 'https://txt.newsru.com/allnews/world/01oct2001/chleny.html',\n 'https://txt.newsru.com/allnews/world/26aug2011/movein.html',\n 'https://txt.newsru.com/allnews/world/28nov2013/eyepirsing.html',\n 'https://txt.newsru.com/allnews/sport/28feb2018/court.html',\n 'https://txt.newsru.com/allnews/sport/16jan2005/pyleva.html',\n 'https://txt.newsru.com/allnews/cinema/09dec2005/bulgakov.html',\n 'https://txt.newsru.com/allnews/russia/23dec2014/angara2.html',\n 'https://txt.newsru.com/allnews/russia/19apr2008/obsterl.html',\n 'https://txt.newsru.com/allnews/russia/12may2008/tomsknobeer.html',\n 'https://txt.newsru.com/allnews/sport/15feb2005/maradona.html',\n 'https://txt.newsru.com/allnews/sport/24sep2005/cska.html',\n 'https://txt.newsru.com/allnews/world/02nov2009/2turistasychuan.html',\n 'https://txt.newsru.com/allnews/world/28jan2012/rio15.html',\n 'https://txt.newsru.com/allnews/russia/14may2012/teplo.html',\n 'https://txt.newsru.com/allnews/russia/16nov2010/koleso.html',\n 'https://txt.newsru.com/allnews/russia/24jul2017/peskov_usa.html',\n 'https://txt.newsru.com/allnews/sport/24nov2019/mourtott.html',\n 'https://txt.newsru.com/allnews/realty/24apr2008/guy.html',\n 'https://txt.newsru.com/allnews/cinema/17feb2011/manekenpis.html',\n 'https://txt.newsru.com/allnews/sport/05nov2002/5643728646.html',\n 'https://txt.newsru.com/allnews/world/12aug2015/mcdo.html',\n 'https://txt.newsru.com/allnews/auto/30may2007/garage.html',\n 'https://txt.newsru.com/allnews/russia/18jun2005/str.html',\n 'https://txt.newsru.com/allnews/hitech/19dec2008/opravdan.html',\n 'https://txt.newsru.com/allnews/cinema/23jul2004/pigeon.html',\n 'https://txt.newsru.com/allnews/finance/15may2015/eprreport.html',\n 'https://txt.newsru.com/allnews/cinema/13dec2017/hallfame.html',\n 'https://txt.newsru.com/allnews/russia/16aug2018/zksuiyaro.html',\n 'https://txt.newsru.com/allnews/realty/06feb2019/chemezov.html',\n 'https://txt.newsru.com/allnews/cinema/08feb2005/almodovar.html',\n 'https://txt.newsru.com/allnews/world/18nov2003/kalashnikov.html',\n 'https://txt.newsru.com/allnews/cinema/29oct2014/gavanafest.html',\n 'https://txt.newsru.com/allnews/russia/15nov2017/school.html',\n 'https://txt.newsru.com/allnews/world/18nov2015/but.html',\n 'https://txt.newsru.com/allnews/russia/21nov2000/blair.html',\n 'https://txt.newsru.com/allnews/russia/07sep2006/kondopoga.html',\n 'https://txt.newsru.com/allnews/hitech/06oct2008/total.html',\n 'https://txt.newsru.com/allnews/finance/08feb2016/frdeeufinance.html',\n 'https://txt.newsru.com/allnews/russia/26feb2004/dtp.html',\n 'https://txt.newsru.com/allnews/world/12jan2009/sharks.html',\n 'https://txt.newsru.com/allnews/sport/21mar2003/5829097745.html',\n 'https://txt.newsru.com/allnews/finance/24feb2004/gripp.html',\n 'https://txt.newsru.com/allnews/auto/29jun2009/reklama.html',\n 'https://txt.newsru.com/allnews/world/30jul2008/rauchverbot.html',\n 'https://txt.newsru.com/allnews/sport/10dec2001/brazilsemis.html',\n 'https://txt.newsru.com/allnews/sport/12may2010/cera.html',\n 'https://txt.newsru.com/allnews/hitech/01nov2011/Apple.html',\n 'https://txt.newsru.com/allnews/world/26jul2004/dung.html',\n 'https://txt.newsru.com/allnews/world/22jan2007/jushenko_dioxin.html',\n 'https://txt.newsru.com/allnews/cinema/14mar2002/film.html',\n 'https://txt.newsru.com/allnews/russia/29nov2007/chilingarov.html',\n 'https://txt.newsru.com/allnews/russia/05sep2000/ingushetia.html',\n 'https://txt.newsru.com/allnews/russia/08oct2020/ozmanov.html',\n 'https://txt.newsru.com/allnews/sport/16dec2017/anton.html',\n 'https://txt.newsru.com/allnews/world/06mar2008/officer.html',\n 'https://txt.newsru.com/allnews/world/03mar2008/tokill.html',\n 'https://txt.newsru.com/allnews/world/24aug2009/pogib.html',\n 'https://txt.newsru.com/allnews/sport/22sep2019/barca.html',\n 'https://txt.newsru.com/allnews/sport/09jun2020/su33.html',\n 'https://txt.newsru.com/allnews/auto/14mar2007/shipi.html',\n 'https://txt.newsru.com/allnews/auto/18aug2008/noproblem.html',\n 'https://txt.newsru.com/allnews/russia/13nov2014/sledcom.html',\n 'https://txt.newsru.com/allnews/finance/23nov2011/minfin.html',\n 'https://txt.newsru.com/allnews/russia/12oct2018/tahrirarst3kazan.html',\n 'https://txt.newsru.com/allnews/sport/20nov2002/laureat.html',\n 'https://txt.newsru.com/allnews/russia/16feb2001/nazdrat_z.html',\n 'https://txt.newsru.com/allnews/hitech/16jan2015/musk_robots.html',\n 'https://txt.newsru.com/allnews/russia/30jan2013/topot.html',\n 'https://txt.newsru.com/allnews/world/20jun2003/ukranina.html',\n 'https://txt.newsru.com/allnews/sport/08apr2015/torpedo.html',\n 'https://txt.newsru.com/allnews/realty/21mar2017/australia.html',\n 'https://txt.newsru.com/allnews/russia/08feb2019/ulyanovsk.html',\n 'https://txt.newsru.com/allnews/russia/29nov2009/19p.html',\n 'https://txt.newsru.com/allnews/finance/13nov2008/nord.html',\n 'https://txt.newsru.com/allnews/russia/07dec2000/vnuk.html',\n 'https://txt.newsru.com/allnews/finance/07aug2006/inflate.html',\n 'https://txt.newsru.com/allnews/russia/27oct2007/domo.html',\n 'https://txt.newsru.com/allnews/world/16jun2006/onlinesex.html',\n 'https://txt.newsru.com/allnews/sport/04nov2004/kyr.html',\n 'https://txt.newsru.com/allnews/hitech/11sep2015/camera.html',\n 'https://txt.newsru.com/allnews/world/01may2004/700.html',\n 'https://txt.newsru.com/allnews/world/24nov2009/tanker.html',\n 'https://txt.newsru.com/allnews/russia/20apr2010/azov.html',\n 'https://txt.newsru.com/allnews/blog/07may2020/putin_20years.html',\n 'https://txt.newsru.com/allnews/realty/22aug2017/vokzal_flag.html',\n 'https://txt.newsru.com/allnews/world/09apr2001/proteststudent.html',\n 'https://txt.newsru.com/allnews/world/07may2004/pray.html',\n 'https://txt.newsru.com/allnews/world/20aug2005/pora.html',\n 'https://txt.newsru.com/allnews/world/10nov2010/istanbul.html',\n 'https://txt.newsru.com/allnews/russia/02aug2011/mvd_pereat.html',\n 'https://txt.newsru.com/allnews/russia/05apr2006/rynki.html',\n 'https://txt.newsru.com/allnews/world/09jan2002/auto.html',\n 'https://txt.newsru.com/allnews/finance/02nov2009/abramovich.html',\n 'https://txt.newsru.com/allnews/russia/14dec2004/prigovor.html',\n 'https://txt.newsru.com/allnews/russia/13mar2006/egorevs.html',\n 'https://txt.newsru.com/allnews/sport/07nov2006/momm.html',\n 'https://txt.newsru.com/allnews/cinema/11may2013/brianforbs.html',\n 'https://txt.newsru.com/allnews/finance/22jun2018/opecvienna.html',\n 'https://txt.newsru.com/allnews/finance/18may2018/deripaskaleft.html',\n 'https://txt.newsru.com/allnews/sport/13jul2007/refree.html',\n 'https://txt.newsru.com/allnews/hitech/28jan2008/china.html',\n 'https://txt.newsru.com/allnews/hitech/04mar2015/nvshield.html',\n 'https://txt.newsru.com/allnews/world/03jan2003/viagra.html',\n 'https://txt.newsru.com/allnews/sport/24jan2003/odessagoon.html',\n 'https://txt.newsru.com/allnews/russia/29sep2020/zhukov.html',\n 'https://txt.newsru.com/allnews/world/30oct2015/elephant.html',\n 'https://txt.newsru.com/allnews/world/26may2013/2ndstab.html',\n 'https://txt.newsru.com/allnews/sport/28dec2011/gogniev.html',\n 'https://txt.newsru.com/allnews/russia/24jan2007/dead.html',\n 'https://txt.newsru.com/allnews/sport/13apr2006/safin.html',\n 'https://txt.newsru.com/allnews/world/11jan2010/down_under.html',\n 'https://txt.newsru.com/allnews/russia/29dec2007/gf.html',\n 'https://txt.newsru.com/allnews/cinema/27may2008/tarantino.html',\n 'https://txt.newsru.com/allnews/world/23mar2003/plane.html',\n 'https://txt.newsru.com/allnews/hitech/14mar2011/rugreyipad2.html',\n 'https://txt.newsru.com/allnews/world/27jan2004/confirm.html',\n 'https://txt.newsru.com/allnews/finance/05dec2020/sber_sboi.html',\n 'https://txt.newsru.com/allnews/world/18apr2009/pto.html',\n 'https://txt.newsru.com/allnews/world/13aug2013/florida.html',\n 'https://txt.newsru.com/allnews/cinema/13aug2014/kraysveta.html',\n 'https://txt.newsru.com/allnews/russia/26jun2003/teef.html',\n 'https://txt.newsru.com/allnews/sport/15apr2006/kevin.html',\n 'https://txt.newsru.com/allnews/russia/28apr2012/ingush.html',\n 'https://txt.newsru.com/allnews/finance/17oct2002/broker.html',\n 'https://txt.newsru.com/allnews/world/24sep2004/gas.html',\n 'https://txt.newsru.com/allnews/russia/18dec2006/pogoda.html',\n 'https://txt.newsru.com/allnews/realty/18apr2014/prosrochka.html',\n 'https://txt.newsru.com/allnews/blog/01dec2014/history.html',\n 'https://txt.newsru.com/allnews/sport/27sep2014/zenspa.html',\n 'https://txt.newsru.com/allnews/sport/15jul2015/mutko.html',\n 'https://txt.newsru.com/allnews/cinema/20nov2007/exhibition.html',\n 'https://txt.newsru.com/allnews/world/04may2005/bakay.html',\n 'https://txt.newsru.com/allnews/russia/23aug2007/druggs.html',\n 'https://txt.newsru.com/allnews/finance/23sep2009/privatisation.html',\n 'https://txt.newsru.com/allnews/russia/06aug2015/sanctions.html',\n 'https://txt.newsru.com/allnews/russia/16nov2010/jirik.html',\n 'https://txt.newsru.com/allnews/cinema/01feb2012/banxy_ala_rus.html',\n 'https://txt.newsru.com/allnews/world/07aug2004/eta.html',\n 'https://txt.newsru.com/allnews/sport/25aug2005/golfer.html',\n 'https://txt.newsru.com/allnews/sport/22mar2016/paris.html',\n 'https://txt.newsru.com/allnews/sport/14oct2011/paris.html',\n 'https://txt.newsru.com/allnews/russia/13dec2013/adoption.html',\n 'https://txt.newsru.com/allnews/finance/18nov2004/dollar.html',\n 'https://txt.newsru.com/allnews/russia/22oct2019/sudno.html',\n 'https://txt.newsru.com/allnews/world/06sep2003/26.html',\n 'https://txt.newsru.com/allnews/realty/04feb2010/pik.html',\n 'https://txt.newsru.com/allnews/russia/07nov2002/otx.html',\n 'https://txt.newsru.com/allnews/russia/22aug2005/ruscharacter.html',\n 'https://txt.newsru.com/allnews/cinema/03apr2003/cino.html',\n 'https://txt.newsru.com/allnews/world/06dec2017/embassy.html',\n 'https://txt.newsru.com/allnews/finance/21apr2009/moscowshopping.html',\n 'https://txt.newsru.com/allnews/cinema/01may2017/dayemmy.html',\n 'https://txt.newsru.com/allnews/world/29jan2005/doklad.html',\n 'https://txt.newsru.com/allnews/world/15mar2019/50_dangerous.html',\n 'https://txt.newsru.com/allnews/cinema/10dec2001/sokurov.html',\n 'https://txt.newsru.com/allnews/finance/24dec2008/gazukr.html',\n 'https://txt.newsru.com/allnews/russia/12jul2010/baturina.html',\n 'https://txt.newsru.com/allnews/finance/21apr2017/demandsbck.html',\n 'https://txt.newsru.com/allnews/auto/11jul2008/taran.html',\n 'https://txt.newsru.com/allnews/auto/13jul2007/shave.html',\n 'https://txt.newsru.com/allnews/world/04jun2008/okru.html',\n 'https://txt.newsru.com/allnews/cinema/25feb2009/loran.html',\n 'https://txt.newsru.com/allnews/russia/28feb2010/dfv.html',\n 'https://txt.newsru.com/allnews/sport/16dec2011/gt.html',\n 'https://txt.newsru.com/allnews/russia/20sep2016/vybory.html',\n 'https://txt.newsru.com/allnews/sport/03sep2004/344657634234.html',\n 'https://txt.newsru.com/allnews/world/27dec2010/luzenko.html',\n 'https://txt.newsru.com/allnews/world/24oct2012/iskal.html',\n 'https://txt.newsru.com/allnews/russia/24feb2013/srochnik.html',\n 'https://txt.newsru.com/allnews/world/05dec2013/usa.html',\n 'https://txt.newsru.com/allnews/world/26oct2019/butina.html',\n 'https://txt.newsru.com/allnews/sport/05sep2020/messi.html',\n 'https://txt.newsru.com/allnews/world/15may2003/daisy_clipping.html',\n 'https://txt.newsru.com/allnews/sport/10jul2006/mundial.html',\n 'https://txt.newsru.com/allnews/russia/06oct2008/blogger.html',\n 'https://txt.newsru.com/allnews/world/07dec2017/formula.html',\n 'https://txt.newsru.com/allnews/world/26feb2014/turch.html',\n 'https://txt.newsru.com/allnews/finance/22nov2010/dollar_up.html',\n 'https://txt.newsru.com/allnews/world/06mar2006/iraq.html',\n 'https://txt.newsru.com/allnews/finance/18dec2009/yuan.html',\n 'https://txt.newsru.com/allnews/world/27dec2011/haredisrael.html',\n 'https://txt.newsru.com/allnews/russia/05mar2001/milo_sun.html',\n 'https://txt.newsru.com/allnews/hitech/27jul2015/blocks.html',\n 'https://txt.newsru.com/allnews/cinema/20feb2013/grmnstrsh.html',\n 'https://txt.newsru.com/allnews/world/28jan2008/uasn.html',\n 'https://txt.newsru.com/allnews/world/06sep2016/immigrants.html',\n 'https://txt.newsru.com/allnews/world/15jan2010/agitka.html',\n 'https://txt.newsru.com/allnews/hitech/25jun2019/mail_password.html',\n 'https://txt.newsru.com/allnews/russia/10feb2004/nevzlin2.html',\n 'https://txt.newsru.com/allnews/blog/28sep2012/vzriv.html',\n 'https://txt.newsru.com/allnews/russia/16nov2004/ativisti.html',\n 'https://txt.newsru.com/allnews/russia/26apr2011/magnitsky.html',\n 'https://txt.newsru.com/allnews/world/13jun2013/geismar.html',\n 'https://txt.newsru.com/allnews/russia/06feb2005/duma.html',\n 'https://txt.newsru.com/allnews/russia/24nov2006/ratification.html',\n 'https://txt.newsru.com/allnews/cinema/12feb2007/grammy.html',\n 'https://txt.newsru.com/allnews/russia/19feb2007/roskosmos.html',\n 'https://txt.newsru.com/allnews/finance/20dec2013/hodorkovsky.html',\n 'https://txt.newsru.com/allnews/russia/16may2007/ukraine_bund.html',\n 'https://txt.newsru.com/allnews/realty/29sep2008/riga.html',\n 'https://txt.newsru.com/allnews/sport/25may2019/ramos.html',\n 'https://txt.newsru.com/allnews/finance/26feb2015/ruflwncptlamnesty.html',\n 'https://txt.newsru.com/allnews/finance/30oct2001/no668.html',\n 'https://txt.newsru.com/allnews/russia/18dec2007/ravno.html',\n 'https://txt.newsru.com/allnews/world/29jan2010/abs.html',\n 'https://txt.newsru.com/allnews/world/15jun2012/pra.html',\n 'https://txt.newsru.com/allnews/sport/14dec2002/lewiscourt.html',\n 'https://txt.newsru.com/allnews/finance/01jan2016/putinukaz.html',\n 'https://txt.newsru.com/allnews/world/16apr2021/raulcastro.html',\n 'https://txt.newsru.com/allnews/cinema/29dec2003/ra.html',\n 'https://txt.newsru.com/allnews/world/20feb2014/obamaukr.html',\n 'https://txt.newsru.com/allnews/russia/31jul2008/sng.html',\n 'https://txt.newsru.com/allnews/realty/27jun2011/samotechny.html',\n 'https://txt.newsru.com/allnews/world/06jul2008/kuf.html',\n 'https://txt.newsru.com/allnews/world/28aug2008/mks.html',\n 'https://txt.newsru.com/allnews/russia/14jul2009/terentiev.html',\n 'https://txt.newsru.com/allnews/russia/21nov2001/il_86_body.html',\n 'https://txt.newsru.com/allnews/russia/29dec2000/oskol.html',\n 'https://txt.newsru.com/allnews/russia/17mar2007/sps.html',\n 'https://txt.newsru.com/allnews/russia/10sep2007/naselenie.html',\n 'https://txt.newsru.com/allnews/russia/30nov2007/storchak2.html',\n 'https://txt.newsru.com/allnews/finance/25sep2001/kasjan.html',\n 'https://txt.newsru.com/allnews/finance/09oct2012/webpensions.html',\n 'https://txt.newsru.com/allnews/world/03sep2005/minsr.html',\n 'https://txt.newsru.com/allnews/sport/19jan2021/coach.html',\n 'https://txt.newsru.com/allnews/world/10feb2006/kirgiza.html',\n 'https://txt.newsru.com/allnews/russia/25may2012/makfoler.html',\n 'https://txt.newsru.com/allnews/russia/13jan2015/salt.html',\n 'https://txt.newsru.com/allnews/world/02jul2015/extradition.html',\n 'https://txt.newsru.com/allnews/realty/19nov2012/voenprokur.html',\n 'https://txt.newsru.com/allnews/world/28mar2021/popefranciscus.html',\n 'https://txt.newsru.com/allnews/world/05mar2017/donbass.html',\n 'https://txt.newsru.com/allnews/realty/20sep2012/tenhouses.html',\n 'https://txt.newsru.com/allnews/russia/06mar2015/shortening.html',\n 'https://txt.newsru.com/allnews/auto/04aug2015/ferrari.html',\n 'https://txt.newsru.com/allnews/finance/29may2008/france.html',\n 'https://txt.newsru.com/allnews/sport/02may2021/rusger.html',\n 'https://txt.newsru.com/allnews/realty/22jun2008/pari.html',\n 'https://txt.newsru.com/allnews/world/24jul2003/flower.html',\n 'https://txt.newsru.com/allnews/russia/25aug2007/zar.html',\n 'https://txt.newsru.com/allnews/sport/13jun2008/leo.html',\n 'https://txt.newsru.com/allnews/russia/24apr2001/chechnya.html',\n 'https://txt.newsru.com/allnews/sport/23dec2007/bayern.html',\n 'https://txt.newsru.com/allnews/blog/17feb2016/pravo.html',\n 'https://txt.newsru.com/allnews/russia/13nov2011/dushko2.html',\n 'https://txt.newsru.com/allnews/finance/21nov2003/duma1.html',\n 'https://txt.newsru.com/allnews/sport/24sep2007/vuelta.html',\n 'https://txt.newsru.com/allnews/sport/03dec2005/magnitagorsk.html',\n 'https://txt.newsru.com/allnews/finance/05jul2011/bel_debt.html',\n 'https://txt.newsru.com/allnews/world/01mar2006/imam.html',\n 'https://txt.newsru.com/allnews/world/30dec2003/usa2.html',\n 'https://txt.newsru.com/allnews/russia/30oct2018/tatar_verb.html',\n 'https://txt.newsru.com/allnews/hitech/26jul2012/KartinaTV.html',\n 'https://txt.newsru.com/allnews/finance/15may2014/forcrimea.html',\n 'https://txt.newsru.com/allnews/finance/24jul2015/pensiipeskov.html',\n 'https://txt.newsru.com/allnews/world/28oct2016/lesin.html',\n 'https://txt.newsru.com/allnews/russia/31may2013/ukosguriev.html',\n 'https://txt.newsru.com/allnews/world/01may2009/akzii.html',\n 'https://txt.newsru.com/allnews/cinema/14dec2011/novoselsk.html',\n 'https://txt.newsru.com/allnews/russia/12aug2020/about_vaccine.html',\n 'https://txt.newsru.com/allnews/sport/13sep2000/firstfoot.html',\n 'https://txt.newsru.com/allnews/sport/12apr2005/shirko.html',\n 'https://txt.newsru.com/allnews/blog/09jan2019/charity.html',\n 'https://txt.newsru.com/allnews/russia/01mar2013/dynkova.html',\n 'https://txt.newsru.com/allnews/world/25mar2005/slon.html',\n 'https://txt.newsru.com/allnews/russia/03jul2006/zavod.html',\n 'https://txt.newsru.com/allnews/world/31oct2001/afganistan3.html',\n 'https://txt.newsru.com/allnews/russia/25apr2007/illarionov.html',\n 'https://txt.newsru.com/allnews/russia/15feb2010/deti.html',\n 'https://txt.newsru.com/allnews/world/02sep2005/usa.html',\n 'https://txt.newsru.com/allnews/russia/02apr2016/eric.html',\n 'https://txt.newsru.com/allnews/world/14jan2007/litv.html',\n 'https://txt.newsru.com/allnews/auto/12jul2012/toyota.html',\n 'https://txt.newsru.com/allnews/world/23aug2006/reserv.html',\n 'https://txt.newsru.com/allnews/hitech/14aug2009/igoogle.html',\n 'https://txt.newsru.com/allnews/world/15jul2010/vladas.html',\n 'https://txt.newsru.com/allnews/realty/04dec2012/ogonek.html',\n 'https://txt.newsru.com/allnews/russia/16aug2001/chechnya3.html',\n 'https://txt.newsru.com/allnews/sport/27jan2002/98846754.html',\n 'https://txt.newsru.com/allnews/finance/13jun2007/avtovaz.html',\n 'https://txt.newsru.com/allnews/world/22dec2007/beach.html',\n 'https://txt.newsru.com/allnews/hitech/04jun2008/aykan.html',\n 'https://txt.newsru.com/allnews/russia/03oct2003/olenevod.html',\n 'https://txt.newsru.com/allnews/sport/24sep2013/mega.html',\n 'https://txt.newsru.com/allnews/russia/15aug2018/fireball.html',\n 'https://txt.newsru.com/allnews/world/28may2007/geogiraq.html',\n 'https://txt.newsru.com/allnews/world/10nov2003/kolledge.html',\n 'https://txt.newsru.com/allnews/realty/15sep2011/istorich_osobn.html',\n 'https://txt.newsru.com/allnews/world/05oct2020/birimdik.html',\n 'https://txt.newsru.com/allnews/russia/17oct2018/checheningush.html',\n 'https://txt.newsru.com/allnews/russia/10nov2002/mashadov.html',\n 'https://txt.newsru.com/allnews/world/25sep2013/opolzen.html',\n 'https://txt.newsru.com/allnews/russia/05jun2003/sakhalin_sars.html',\n 'https://txt.newsru.com/allnews/russia/29may2017/usmanovbeginning.html',\n 'https://txt.newsru.com/allnews/world/16mar2006/milosh.html',\n 'https://txt.newsru.com/allnews/world/24dec2018/kaddafi_jr.html',\n 'https://txt.newsru.com/allnews/world/17dec2008/dino.html',\n 'https://txt.newsru.com/allnews/auto/25aug2009/porsche-9ff.html',\n 'https://txt.newsru.com/allnews/russia/23feb2016/lovoz.html',\n 'https://txt.newsru.com/allnews/russia/07feb2007/zhena.html',\n 'https://txt.newsru.com/allnews/sport/02aug2008/shar.html',\n 'https://txt.newsru.com/allnews/russia/30oct2011/bolshoi.html',\n 'https://txt.newsru.com/allnews/russia/22dec2007/medv.html',\n 'https://txt.newsru.com/allnews/russia/05may2013/inostr.html',\n 'https://txt.newsru.com/allnews/russia/14may2008/attaches.html',\n 'https://txt.newsru.com/allnews/finance/13aug2013/fas_benzin.html',\n 'https://txt.newsru.com/allnews/finance/26feb2004/gruz.html',\n 'https://txt.newsru.com/allnews/finance/21apr2005/tnk_bp.html',\n 'https://txt.newsru.com/allnews/sport/27dec2010/youth.html',\n 'https://txt.newsru.com/allnews/world/25sep2009/joker.html',\n 'https://txt.newsru.com/allnews/world/22jun2004/klinton2.html',\n 'https://txt.newsru.com/allnews/russia/21mar2014/sankcii_banks.html',\n 'https://txt.newsru.com/allnews/world/14dec2008/irak.html',\n 'https://txt.newsru.com/allnews/russia/25jan2013/fsbsverd.html',\n 'https://txt.newsru.com/allnews/russia/16jan2019/most.html',\n 'https://txt.newsru.com/allnews/auto/14jul2010/recall.html',\n 'https://txt.newsru.com/allnews/finance/14nov2012/rich.html',\n 'https://txt.newsru.com/allnews/blog/01apr2014/pasport.html',\n 'https://txt.newsru.com/allnews/world/02jun2014/taruta_money.html',\n 'https://txt.newsru.com/allnews/sport/06jun2003/566477864.html',\n 'https://txt.newsru.com/allnews/sport/29sep2016/golden.html',\n 'https://txt.newsru.com/allnews/russia/17dec2013/sarmat.html',\n 'https://txt.newsru.com/allnews/auto/28jan2010/bmw-m5.html',\n 'https://txt.newsru.com/allnews/blog/28may2019/king.html',\n 'https://txt.newsru.com/allnews/realty/15may2013/shura.html',\n 'https://txt.newsru.com/allnews/russia/13nov2002/next.html',\n 'https://txt.newsru.com/allnews/world/27feb2008/4ad.html',\n 'https://txt.newsru.com/allnews/world/16apr2005/pismo.html',\n 'https://txt.newsru.com/allnews/russia/22sep2011/subincident.html',\n 'https://txt.newsru.com/allnews/finance/22jul2015/warnig.html',\n 'https://txt.newsru.com/allnews/auto/05sep2018/renault_dacia.html',\n 'https://txt.newsru.com/allnews/world/05jul2009/30r.html',\n 'https://txt.newsru.com/allnews/russia/05dec2007/levada.html',\n 'https://txt.newsru.com/allnews/russia/30jun2005/fire.html',\n 'https://txt.newsru.com/allnews/hitech/16mar2018/biohacker.html',\n 'https://txt.newsru.com/allnews/world/21dec2007/belgia.html',\n 'https://txt.newsru.com/allnews/world/20nov2001/orujie2.html',\n 'https://txt.newsru.com/allnews/auto/24mar2015/yaris_hot.html',\n 'https://txt.newsru.com/allnews/world/04feb2002/ivanov.html',\n 'https://txt.newsru.com/allnews/world/20oct2003/izr.html',\n 'https://txt.newsru.com/allnews/hitech/17apr2012/igzopanels.html',\n 'https://txt.newsru.com/allnews/sport/27dec2002/5637828643.html',\n 'https://txt.newsru.com/allnews/russia/05jun2003/u_i_r.html',\n 'https://txt.newsru.com/allnews/sport/25mar2007/kovalev.html',\n 'https://txt.newsru.com/allnews/realty/25jan2011/germany.html',\n 'https://txt.newsru.com/allnews/world/06sep2003/moln.html',\n ...}"
     },
     "execution_count": 52,
     "metadata": {},
     "output_type": "execute_result"
    }
   ],
   "source": [
    "all_urls"
   ],
   "metadata": {
    "collapsed": false
   },
   "id": "e8adad81e1ee83ff"
  },
  {
   "cell_type": "markdown",
   "source": [
    "## Сама реализация"
   ],
   "metadata": {
    "collapsed": false
   },
   "id": "c53dfa48bc39487"
  },
  {
   "cell_type": "code",
   "execution_count": 70,
   "outputs": [],
   "source": [
    "import asyncio\n",
    "import aiohttp"
   ],
   "metadata": {
    "collapsed": false
   },
   "id": "d18851e3495ba88d"
  },
  {
   "cell_type": "code",
   "execution_count": 65,
   "outputs": [],
   "source": [
    "absent = []\n",
    "present = []"
   ],
   "metadata": {
    "collapsed": false
   },
   "id": "aaacf825c733483a"
  },
  {
   "cell_type": "code",
   "execution_count": 66,
   "outputs": [],
   "source": [
    "async def get_page_data(session, news_url):\n",
    "    user_agents = open('proxy/user-agents.txt').read().splitlines()\n",
    "    random_user_agent = random.choice(user_agents)\n",
    "    headers = {'User-Agent': random_user_agent}\n",
    "\n",
    "    async with session.get(url=news_url, headers=headers) as response:\n",
    "        response_text = await response.text()\n",
    "        soup = BeautifulSoup(response_text, 'lxml-xml').body.find_all('a', attrs='index-news-title')\n",
    "        links = ['https://txt.newsru.com/allnews' + el.get('href') for el in soup]\n",
    "        [present.append(el) for el in links]\n",
    "        [absent.append(el) for el in links if el not in all_urls]\n",
    "        print(news_url)"
   ],
   "metadata": {
    "collapsed": false
   },
   "id": "7a3eaead3eded55a"
  },
  {
   "cell_type": "code",
   "execution_count": 67,
   "outputs": [],
   "source": [
    "async def gather_data():\n",
    "    start_date = dt.datetime(year=2000, month=8, day=1).date()\n",
    "    end_date = dt.datetime(year=2021, month=5, day=31).date()\n",
    "    delta = dt.timedelta(days=1)\n",
    "    current_date = start_date\n",
    "\n",
    "\n",
    "    tasks = []\n",
    "\n",
    "    async with aiohttp.ClientSession() as session:\n",
    "\n",
    "        while current_date <= end_date:\n",
    "            current_date = current_date.strftime('%d%b%Y').lower()\n",
    "            page = 'https://txt.newsru.com/allnews/' + current_date\n",
    "            current_date += delta\n",
    "            task = asyncio.create_task(get_page_data(session, page))\n",
    "            tasks.append(task)\n",
    "\n",
    "    await asyncio.gather(*tasks)"
   ],
   "metadata": {
    "collapsed": false
   },
   "id": "7b2d8cdee5ff42f3"
  },
  {
   "cell_type": "code",
   "execution_count": 75,
   "outputs": [],
   "source": [
    "async def main():\n",
    "    asyncio.run(gather_data())"
   ],
   "metadata": {
    "collapsed": false
   },
   "id": "fcd957b77733a4f7"
  },
  {
   "cell_type": "code",
   "execution_count": 76,
   "outputs": [
    {
     "name": "stderr",
     "output_type": "stream",
     "text": [
      "C:\\Users\\maxle\\AppData\\Local\\Programs\\Python\\Python311\\Lib\\site-packages\\pygments\\regexopt.py:77: RuntimeWarning: coroutine 'gather_data' was never awaited\n",
      "  '|'.join(regex_opt_inner(list(group[1]), '')\n",
      "RuntimeWarning: Enable tracemalloc to get the object allocation traceback\n"
     ]
    },
    {
     "ename": "RuntimeError",
     "evalue": "asyncio.run() cannot be called from a running event loop",
     "output_type": "error",
     "traceback": [
      "\u001B[1;31m---------------------------------------------------------------------------\u001B[0m",
      "\u001B[1;31mRuntimeError\u001B[0m                              Traceback (most recent call last)",
      "Cell \u001B[1;32mIn[76], line 1\u001B[0m\n\u001B[1;32m----> 1\u001B[0m \u001B[38;5;28;01mawait\u001B[39;00m main()\n",
      "Cell \u001B[1;32mIn[75], line 2\u001B[0m, in \u001B[0;36mmain\u001B[1;34m()\u001B[0m\n\u001B[0;32m      1\u001B[0m \u001B[38;5;28;01masync\u001B[39;00m \u001B[38;5;28;01mdef\u001B[39;00m \u001B[38;5;21mmain\u001B[39m():\n\u001B[1;32m----> 2\u001B[0m     \u001B[43masyncio\u001B[49m\u001B[38;5;241;43m.\u001B[39;49m\u001B[43mrun\u001B[49m\u001B[43m(\u001B[49m\u001B[43mgather_data\u001B[49m\u001B[43m(\u001B[49m\u001B[43m)\u001B[49m\u001B[43m)\u001B[49m\n",
      "File \u001B[1;32m~\\AppData\\Local\\Programs\\Python\\Python311\\Lib\\asyncio\\runners.py:186\u001B[0m, in \u001B[0;36mrun\u001B[1;34m(main, debug)\u001B[0m\n\u001B[0;32m    161\u001B[0m \u001B[38;5;250m\u001B[39m\u001B[38;5;124;03m\"\"\"Execute the coroutine and return the result.\u001B[39;00m\n\u001B[0;32m    162\u001B[0m \n\u001B[0;32m    163\u001B[0m \u001B[38;5;124;03mThis function runs the passed coroutine, taking care of\u001B[39;00m\n\u001B[1;32m   (...)\u001B[0m\n\u001B[0;32m    182\u001B[0m \u001B[38;5;124;03m    asyncio.run(main())\u001B[39;00m\n\u001B[0;32m    183\u001B[0m \u001B[38;5;124;03m\"\"\"\u001B[39;00m\n\u001B[0;32m    184\u001B[0m \u001B[38;5;28;01mif\u001B[39;00m events\u001B[38;5;241m.\u001B[39m_get_running_loop() \u001B[38;5;129;01mis\u001B[39;00m \u001B[38;5;129;01mnot\u001B[39;00m \u001B[38;5;28;01mNone\u001B[39;00m:\n\u001B[0;32m    185\u001B[0m     \u001B[38;5;66;03m# fail fast with short traceback\u001B[39;00m\n\u001B[1;32m--> 186\u001B[0m     \u001B[38;5;28;01mraise\u001B[39;00m \u001B[38;5;167;01mRuntimeError\u001B[39;00m(\n\u001B[0;32m    187\u001B[0m         \u001B[38;5;124m\"\u001B[39m\u001B[38;5;124masyncio.run() cannot be called from a running event loop\u001B[39m\u001B[38;5;124m\"\u001B[39m)\n\u001B[0;32m    189\u001B[0m \u001B[38;5;28;01mwith\u001B[39;00m Runner(debug\u001B[38;5;241m=\u001B[39mdebug) \u001B[38;5;28;01mas\u001B[39;00m runner:\n\u001B[0;32m    190\u001B[0m     \u001B[38;5;28;01mreturn\u001B[39;00m runner\u001B[38;5;241m.\u001B[39mrun(main)\n",
      "\u001B[1;31mRuntimeError\u001B[0m: asyncio.run() cannot be called from a running event loop"
     ]
    }
   ],
   "source": [
    "await main()"
   ],
   "metadata": {
    "collapsed": false
   },
   "id": "5b7ce8f55da47d2e"
  },
  {
   "cell_type": "code",
   "execution_count": null,
   "outputs": [],
   "source": [],
   "metadata": {
    "collapsed": false
   },
   "id": "21337fb3cbca99cc"
  },
  {
   "cell_type": "code",
   "execution_count": null,
   "outputs": [],
   "source": [],
   "metadata": {
    "collapsed": false
   },
   "id": "10c8dd9a1a542740"
  },
  {
   "cell_type": "code",
   "execution_count": null,
   "outputs": [],
   "source": [],
   "metadata": {
    "collapsed": false
   },
   "id": "1f79f22c90e70d09"
  },
  {
   "cell_type": "code",
   "execution_count": null,
   "outputs": [],
   "source": [],
   "metadata": {
    "collapsed": false
   },
   "id": "431b57a3ee88e426"
  },
  {
   "cell_type": "code",
   "execution_count": 11,
   "outputs": [],
   "source": [
    "my_dates = {}\n",
    "error_dates = {}"
   ],
   "metadata": {
    "collapsed": false
   },
   "id": "97323372b34c47fb"
  },
  {
   "cell_type": "code",
   "execution_count": 20,
   "outputs": [],
   "source": [
    "async def get_page_data(session, news_url ):\n",
    "    async with session.get(news_url) as response:\n",
    "        response_text = await response.text()\n",
    "\n",
    "        try:\n",
    "            soup = BeautifulSoup(response_text, 'lxml-xml').body.find('div', attrs='article-date')\n",
    "            raw_date = soup.strip('\\n').strip(' ').strip().split(',', 2)\n",
    "            str_time = raw_date[1].split('\\n', 1)[0].strip().split(' ')[0]\n",
    "            full_str_time = str(raw_date) + ' ' + str_time\n",
    "            form_date = datetime.strptime(full_str_time, \"%Y-%m-%d %H:%M\")\n",
    "            print(f'{news_url} успешно')\n",
    "        except AttributeError:\n",
    "            full_str_time = str(raw_date) + ' ' + '12:00'\n",
    "            form_date = datetime.strptime(full_str_time, \"%Y-%m-%d %H:%M\")\n",
    "            error_dates[news_url] = form_date\n",
    "            print(f'{news_url} косяк')\n",
    "\n",
    "        return form_date"
   ],
   "metadata": {
    "collapsed": false
   },
   "id": "445c247d833ae760"
  },
  {
   "cell_type": "code",
   "execution_count": null,
   "outputs": [],
   "source": [],
   "metadata": {
    "collapsed": false
   },
   "id": "f5d8afe532c6b517"
  },
  {
   "cell_type": "code",
   "execution_count": 21,
   "outputs": [],
   "source": [
    "def main():\n",
    "    asyncio.run()\n",
    "    news_df['timestamp'] = news_df.apply(lambda x: get_page_data(x[0], x[5]), axis=1)"
   ],
   "metadata": {
    "collapsed": false
   },
   "id": "5fa8492f7627a0d1"
  },
  {
   "cell_type": "code",
   "execution_count": 23,
   "outputs": [
    {
     "ename": "TypeError",
     "evalue": "run() missing 1 required positional argument: 'main'",
     "output_type": "error",
     "traceback": [
      "\u001B[0;31m---------------------------------------------------------------------------\u001B[0m",
      "\u001B[0;31mTypeError\u001B[0m                                 Traceback (most recent call last)",
      "Cell \u001B[0;32mIn[23], line 2\u001B[0m\n\u001B[1;32m      1\u001B[0m \u001B[38;5;28;01mif\u001B[39;00m \u001B[38;5;18m__name__\u001B[39m\u001B[38;5;241m==\u001B[39m \u001B[38;5;124m\"\u001B[39m\u001B[38;5;124m__main__\u001B[39m\u001B[38;5;124m\"\u001B[39m:\n\u001B[0;32m----> 2\u001B[0m     \u001B[43mmain\u001B[49m\u001B[43m(\u001B[49m\u001B[43m)\u001B[49m\n",
      "Cell \u001B[0;32mIn[21], line 2\u001B[0m, in \u001B[0;36mmain\u001B[0;34m()\u001B[0m\n\u001B[1;32m      1\u001B[0m \u001B[38;5;28;01mdef\u001B[39;00m \u001B[38;5;21mmain\u001B[39m():\n\u001B[0;32m----> 2\u001B[0m     \u001B[43masyncio\u001B[49m\u001B[38;5;241;43m.\u001B[39;49m\u001B[43mrun\u001B[49m\u001B[43m(\u001B[49m\u001B[43m)\u001B[49m\n\u001B[1;32m      3\u001B[0m     news_df[\u001B[38;5;124m'\u001B[39m\u001B[38;5;124mtimestamp\u001B[39m\u001B[38;5;124m'\u001B[39m] \u001B[38;5;241m=\u001B[39m news_df\u001B[38;5;241m.\u001B[39mapply(\u001B[38;5;28;01mlambda\u001B[39;00m x: get_page_data(x[\u001B[38;5;241m0\u001B[39m], x[\u001B[38;5;241m5\u001B[39m]), axis\u001B[38;5;241m=\u001B[39m\u001B[38;5;241m1\u001B[39m)\n",
      "\u001B[0;31mTypeError\u001B[0m: run() missing 1 required positional argument: 'main'"
     ]
    }
   ],
   "source": [
    "if __name__== \"__main__\":\n",
    "    main()"
   ],
   "metadata": {
    "collapsed": false
   },
   "id": "45cea860693b3988"
  },
  {
   "cell_type": "markdown",
   "source": [
    "### Работа с базами данных"
   ],
   "metadata": {
    "collapsed": false
   },
   "id": "2b2980a83de8e8f0"
  },
  {
   "cell_type": "code",
   "execution_count": 6,
   "outputs": [
    {
     "name": "stdout",
     "output_type": "stream",
     "text": [
      "Collecting psycopg2\n",
      "  Downloading psycopg2-2.9.5-cp311-cp311-win_amd64.whl (1.2 MB)\n",
      "     ---------------------------------------- 1.2/1.2 MB 3.5 MB/s eta 0:00:00\n",
      "Installing collected packages: psycopg2\n",
      "Successfully installed psycopg2-2.9.5\n"
     ]
    }
   ],
   "source": [
    "!pip install psycopg2"
   ],
   "metadata": {
    "collapsed": false
   },
   "id": "571e65a4d86b866"
  },
  {
   "cell_type": "code",
   "execution_count": 4,
   "outputs": [],
   "source": [
    "import pandas as pd\n",
    "from sqlalchemy import create_engine"
   ],
   "metadata": {
    "collapsed": false
   },
   "id": "f5d554f378645fab"
  },
  {
   "cell_type": "code",
   "execution_count": 14,
   "outputs": [],
   "source": [
    "\n",
    "nrc_engine = create_engine(f'postgresql+psycopg2://{db_user}:{db_pass}@{db_host}/{db_name}')"
   ],
   "metadata": {
    "collapsed": false
   },
   "id": "acf423e522e057f2"
  },
  {
   "cell_type": "code",
   "execution_count": 19,
   "outputs": [],
   "source": [
    "all_complited_urls = pd.read_sql(f\"SELECT url FROM news WHERE url LIKE 'https://txt.newsru.com%%'\", nrc_engine)"
   ],
   "metadata": {
    "collapsed": false
   },
   "id": "d6777ddc410f9b9d"
  },
  {
   "cell_type": "code",
   "execution_count": 30,
   "outputs": [],
   "source": [
    "all_urls = set(all_complited_urls.url.tolist())"
   ],
   "metadata": {
    "collapsed": false
   },
   "id": "8b25455be07fb0f9"
  },
  {
   "cell_type": "code",
   "execution_count": 32,
   "outputs": [
    {
     "data": {
      "text/plain": "623350"
     },
     "execution_count": 32,
     "metadata": {},
     "output_type": "execute_result"
    }
   ],
   "source": [
    "len(all_urls)"
   ],
   "metadata": {
    "collapsed": false
   },
   "id": "7bf20250001794a3"
  },
  {
   "cell_type": "code",
   "execution_count": 12,
   "outputs": [],
   "source": [
    "my_dates = date_df['date'].dt.date"
   ],
   "metadata": {
    "collapsed": false
   },
   "id": "50ddc53271791d07"
  },
  {
   "cell_type": "code",
   "execution_count": 23,
   "outputs": [
    {
     "data": {
      "text/plain": "2013-08-18    39\n2018-01-13    39\n2020-02-24    39\n2017-12-10    39\n2016-08-28    39\n              ..\n2016-02-29     2\n2015-02-03     2\n2014-05-10     2\n2000-08-28     2\n2015-10-09     1\nName: date, Length: 716, dtype: int64"
     },
     "execution_count": 23,
     "metadata": {},
     "output_type": "execute_result"
    }
   ],
   "source": [
    "my_dates.value_counts()[my_dates.value_counts().values < 40]"
   ],
   "metadata": {
    "collapsed": false
   },
   "id": "5b7af6ea8a14812b"
  },
  {
   "cell_type": "code",
   "execution_count": 13,
   "outputs": [],
   "source": [
    "my_unique_dates = my_dates.value_counts().index.to_list()"
   ],
   "metadata": {
    "collapsed": false
   },
   "id": "8527ff2f2984ae05"
  },
  {
   "cell_type": "code",
   "execution_count": 14,
   "outputs": [],
   "source": [
    "sorted_unique_dates = sorted(my_unique_dates)"
   ],
   "metadata": {
    "collapsed": false
   },
   "id": "ca3a0054995e3092"
  },
  {
   "cell_type": "code",
   "execution_count": 15,
   "outputs": [
    {
     "data": {
      "text/plain": "7626"
     },
     "execution_count": 15,
     "metadata": {},
     "output_type": "execute_result"
    }
   ],
   "source": [
    "len(sorted_unique_dates)"
   ],
   "metadata": {
    "collapsed": false
   },
   "id": "67eb83c4971dec66"
  },
  {
   "cell_type": "code",
   "execution_count": 5,
   "outputs": [],
   "source": [
    "start = datetime(2000, 6, 26)"
   ],
   "metadata": {
    "collapsed": false
   },
   "id": "cc97c00656f65b1d"
  },
  {
   "cell_type": "code",
   "execution_count": 6,
   "outputs": [],
   "source": [
    "delta = datetime(2021, 5, 22) - datetime(2000, 6, 26)"
   ],
   "metadata": {
    "collapsed": false
   },
   "id": "bc5dd806ea2630a8"
  },
  {
   "cell_type": "code",
   "execution_count": 7,
   "outputs": [
    {
     "data": {
      "text/plain": "datetime.timedelta(days=7635)"
     },
     "execution_count": 7,
     "metadata": {},
     "output_type": "execute_result"
    }
   ],
   "source": [
    "delta"
   ],
   "metadata": {
    "collapsed": false
   },
   "id": "a13efb99e854f344"
  },
  {
   "cell_type": "code",
   "execution_count": 30,
   "outputs": [
    {
     "data": {
      "text/plain": "date   2015-06-26 23:55:00\nName: 0, dtype: datetime64[ns]"
     },
     "execution_count": 30,
     "metadata": {},
     "output_type": "execute_result"
    }
   ],
   "source": [
    "date_df.iloc[0]"
   ],
   "metadata": {
    "collapsed": false
   },
   "id": "28f0bb43256ea491"
  },
  {
   "cell_type": "code",
   "execution_count": 28,
   "outputs": [
    {
     "data": {
      "text/plain": "date               \n2014-10-14 12:00:00    80\n2014-10-02 12:00:00    78\n2014-10-03 12:00:00    76\n2014-10-01 12:00:00    76\n2014-09-30 12:00:00    74\n                       ..\n2008-06-08 13:17:00     1\n2008-06-08 13:15:00     1\n2008-06-08 12:49:00     1\n2008-06-08 12:48:00     1\n2010-08-02 15:57:00     1\nLength: 601643, dtype: int64"
     },
     "execution_count": 28,
     "metadata": {},
     "output_type": "execute_result"
    }
   ],
   "source": [
    "date_list"
   ],
   "metadata": {
    "collapsed": false
   },
   "id": "1b5f850e85cb755f"
  },
  {
   "cell_type": "code",
   "execution_count": null,
   "outputs": [],
   "source": [],
   "metadata": {
    "collapsed": false
   },
   "id": "78f97070e04c6774"
  },
  {
   "cell_type": "code",
   "execution_count": 11,
   "outputs": [
    {
     "data": {
      "text/plain": "                      date\n771925 2021-05-31 12:00:00\n771922 2021-05-31 12:00:00\n771909 2021-05-31 12:00:00\n771928 2021-05-31 12:00:00\n771915 2021-05-31 12:00:00",
      "text/html": "<div>\n<style scoped>\n    .dataframe tbody tr th:only-of-type {\n        vertical-align: middle;\n    }\n\n    .dataframe tbody tr th {\n        vertical-align: top;\n    }\n\n    .dataframe thead th {\n        text-align: right;\n    }\n</style>\n<table border=\"1\" class=\"dataframe\">\n  <thead>\n    <tr style=\"text-align: right;\">\n      <th></th>\n      <th>date</th>\n    </tr>\n  </thead>\n  <tbody>\n    <tr>\n      <th>771925</th>\n      <td>2021-05-31 12:00:00</td>\n    </tr>\n    <tr>\n      <th>771922</th>\n      <td>2021-05-31 12:00:00</td>\n    </tr>\n    <tr>\n      <th>771909</th>\n      <td>2021-05-31 12:00:00</td>\n    </tr>\n    <tr>\n      <th>771928</th>\n      <td>2021-05-31 12:00:00</td>\n    </tr>\n    <tr>\n      <th>771915</th>\n      <td>2021-05-31 12:00:00</td>\n    </tr>\n  </tbody>\n</table>\n</div>"
     },
     "execution_count": 11,
     "metadata": {},
     "output_type": "execute_result"
    }
   ],
   "source": [
    "date_df.sort_values(by='date').tail()"
   ],
   "metadata": {
    "collapsed": false
   },
   "id": "eeb4a01d25347735"
  },
  {
   "cell_type": "code",
   "execution_count": null,
   "outputs": [],
   "source": [],
   "metadata": {
    "collapsed": false
   },
   "id": "25b2ce8b6a053cc4"
  },
  {
   "cell_type": "code",
   "execution_count": null,
   "outputs": [],
   "source": [],
   "metadata": {
    "collapsed": false
   },
   "id": "b3417484cd95d20a"
  }
 ],
 "metadata": {
  "kernelspec": {
   "display_name": "Python 3 (ipykernel)",
   "language": "python",
   "name": "python3"
  },
  "language_info": {
   "codemirror_mode": {
    "name": "ipython",
    "version": 3
   },
   "file_extension": ".py",
   "mimetype": "text/x-python",
   "name": "python",
   "nbconvert_exporter": "python",
   "pygments_lexer": "ipython3",
   "version": "3.9.12"
  }
 },
 "nbformat": 4,
 "nbformat_minor": 5
}
