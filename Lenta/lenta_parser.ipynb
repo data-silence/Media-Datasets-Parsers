{
 "cells": [
  {
   "cell_type": "code",
   "id": "initial_id",
   "metadata": {
    "collapsed": true,
    "ExecuteTime": {
     "end_time": "2024-04-26T11:46:08.433379Z",
     "start_time": "2024-04-26T11:46:08.171236Z"
    }
   },
   "source": [
    "import asyncio\n",
    "import aiohttp\n",
    "import asyncpg\n",
    "\n",
    "import datetime as dt\n",
    "\n",
    "import pandas as pd\n",
    "import requests\n",
    "from bs4 import BeautifulSoup\n",
    "import random\n",
    "from loguru import logger"
   ],
   "execution_count": 1,
   "outputs": []
  },
  {
   "metadata": {},
   "cell_type": "code",
   "execution_count": null,
   "source": [
    "def get_url_list(date):\n",
    "    \"\"\"Takes a list of links for news scraping on a specific date\"\"\"\n",
    "    agency_url = 'https://www.newsru.com/allnews/' + str(date.strftime(\"%d%b%Y\").lower())\n",
    "    user_agents = open('proxy/user-agents.txt').read().splitlines()\n",
    "    random_user_agent = random.choice(user_agents)\n",
    "    headers = {'User-Agent': random_user_agent}\n",
    "    answer = requests.get(agency_url, headers=headers)\n",
    "    try:\n",
    "        if answer and answer.status_code != 204:\n",
    "            soup = BeautifulSoup(answer.text, features=\"html.parser\")\n",
    "            paragraph = soup.body.find(attrs={'class': 'content-main'}).find_all(attrs={'class': 'inner-news-item'})\n",
    "            links = (tuple('https://www.newsru.com' + el.a.get('href') for el in paragraph if not el.a.get('href').startswith('http')))\n",
    "        else:\n",
    "            links = tuple()\n",
    "    except AttributeError:\n",
    "        logger.error(date)\n",
    "        links = tuple()\n",
    "\n",
    "    return links"
   ],
   "id": "7b2ec78ba4a3519f",
   "outputs": []
  },
  {
   "metadata": {
    "ExecuteTime": {
     "end_time": "2024-04-26T11:47:53.628408Z",
     "start_time": "2024-04-26T11:47:53.625204Z"
    }
   },
   "cell_type": "code",
   "source": "agency_url = \"https://lenta.ru/news/2019/12/15/cluchaynost/\"",
   "id": "8f8c2d8658c01f45",
   "execution_count": 2,
   "outputs": []
  },
  {
   "metadata": {
    "ExecuteTime": {
     "end_time": "2024-04-26T11:48:04.747168Z",
     "start_time": "2024-04-26T11:48:04.744039Z"
    }
   },
   "cell_type": "code",
   "source": "user_agents = open('proxy/user-agents.txt').read().splitlines()",
   "id": "b05641b16cdb1e98",
   "execution_count": 3,
   "outputs": []
  },
  {
   "metadata": {
    "ExecuteTime": {
     "end_time": "2024-04-26T11:48:26.892019Z",
     "start_time": "2024-04-26T11:48:25.816253Z"
    }
   },
   "cell_type": "code",
   "source": [
    "random_user_agent = random.choice(user_agents)\n",
    "headers = {'User-Agent': random_user_agent}\n",
    "answer = requests.get(agency_url, headers=headers)"
   ],
   "id": "8f469cf87892a72a",
   "execution_count": 4,
   "outputs": []
  },
  {
   "metadata": {
    "ExecuteTime": {
     "end_time": "2024-04-26T11:49:26.067604Z",
     "start_time": "2024-04-26T11:49:26.051013Z"
    }
   },
   "cell_type": "code",
   "source": "soup = BeautifulSoup(answer.text, features=\"html.parser\")",
   "id": "b7ee88a9530aea7c",
   "execution_count": 5,
   "outputs": []
  },
  {
   "metadata": {
    "ExecuteTime": {
     "end_time": "2024-04-26T12:06:08.186123Z",
     "start_time": "2024-04-26T12:06:08.182035Z"
    }
   },
   "cell_type": "code",
   "source": "raw_time = soup.body.find(attrs={'class': 'topic-header__item topic-header__time'}).text",
   "id": "a6f77ab13f3e88e8",
   "execution_count": 29,
   "outputs": []
  },
  {
   "metadata": {
    "ExecuteTime": {
     "end_time": "2024-04-26T11:58:18.906166Z",
     "start_time": "2024-04-26T11:58:18.903268Z"
    }
   },
   "cell_type": "code",
   "source": "raw_time = dt.datetime.strptime(raw_time.split(', ')[0], '%H:%M')",
   "id": "df2aba24764de8b9",
   "execution_count": 19,
   "outputs": []
  },
  {
   "metadata": {
    "ExecuteTime": {
     "end_time": "2024-04-26T12:01:04.611368Z",
     "start_time": "2024-04-26T12:01:04.607967Z"
    }
   },
   "cell_type": "code",
   "source": "agency_url.split('news/')[1]",
   "id": "8ec6a8f120b108eb",
   "execution_count": 26,
   "outputs": []
  },
  {
   "metadata": {
    "ExecuteTime": {
     "end_time": "2024-04-26T11:53:57.111343Z",
     "start_time": "2024-04-26T11:53:57.108398Z"
    }
   },
   "cell_type": "code",
   "source": "import datetime as dt",
   "id": "229b355c9704da99",
   "execution_count": 12,
   "outputs": []
  },
  {
   "metadata": {},
   "cell_type": "code",
   "execution_count": 27,
   "source": [
    "import re\n",
    "\n",
    "regex = re.compile(r'\\d{4}/\\d{2}/\\d{2}')"
   ],
   "id": "1c98027ac60d7250",
   "outputs": []
  },
  {
   "metadata": {},
   "cell_type": "code",
   "execution_count": 31,
   "source": "raw_time",
   "id": "2f0a854ee66bfa4f",
   "outputs": []
  },
  {
   "metadata": {},
   "cell_type": "code",
   "execution_count": 34,
   "source": "str_date = regex.findall(agency_url)[0]",
   "id": "2fc76ce34dc4b53",
   "outputs": []
  },
  {
   "metadata": {},
   "cell_type": "code",
   "execution_count": 36,
   "source": "str_date",
   "id": "b5bc22aa81225452",
   "outputs": []
  },
  {
   "metadata": {},
   "cell_type": "code",
   "execution_count": 39,
   "source": "dt.datetime.fromisoformat(str_date.replace('/', '-') + ' ' + raw_time.split(',')[0])",
   "id": "b57231bef1492db5",
   "outputs": []
  },
  {
   "metadata": {},
   "cell_type": "code",
   "execution_count": 20,
   "source": "raw_time",
   "id": "226aadc038a7848",
   "outputs": []
  },
  {
   "metadata": {
    "ExecuteTime": {
     "end_time": "2024-04-26T18:27:13.085697Z",
     "start_time": "2024-04-26T18:27:13.080656Z"
    }
   },
   "cell_type": "code",
   "source": [
    "def parse_url(agency_url: str) -> tuple:\n",
    "    random_user_agent = random.choice(user_agents)\n",
    "    headers = {'User-Agent': random_user_agent}\n",
    "    answer = requests.get(agency_url, headers=headers)\n",
    "    soup = BeautifulSoup(answer.text, features=\"html.parser\")\n",
    "    raw_time = soup.body.find(attrs={'class': 'topic-header__item topic-header__time'}).text\n",
    "    raw_date = regex.findall(agency_url)[0]\n",
    "    news_date = dt.datetime.fromisoformat(raw_date.replace('/', '-') + ' ' + raw_time.split(',')[0])\n",
    "    try:\n",
    "        links = soup.body.find(attrs={'class': 'related-topics__list'}).find_all(attrs={'class': 'related-topics__link'})\n",
    "        links = ['https://lenta.ru/' + link.get('href') for link in links]\n",
    "    except Exception:\n",
    "        links = []\n",
    "    return news_date, links   "
   ],
   "id": "ed52d44f99e0d16c",
   "execution_count": 89,
   "outputs": []
  },
  {
   "metadata": {
    "ExecuteTime": {
     "end_time": "2024-04-26T15:56:45.673309Z",
     "start_time": "2024-04-26T15:56:45.555494Z"
    }
   },
   "cell_type": "code",
   "source": "df.drop(columns='date', inplace=True)",
   "id": "e14138f3cacb3006",
   "execution_count": 49,
   "outputs": []
  },
  {
   "metadata": {
    "ExecuteTime": {
     "end_time": "2024-04-26T16:08:03.910244Z",
     "start_time": "2024-04-26T16:08:03.903004Z"
    }
   },
   "cell_type": "code",
   "source": "df['agency'] = 'Lenta'",
   "id": "18ea93363ba48796",
   "execution_count": 50,
   "outputs": []
  },
  {
   "metadata": {
    "ExecuteTime": {
     "end_time": "2024-04-26T12:26:04.457731Z",
     "start_time": "2024-04-26T12:26:04.398048Z"
    }
   },
   "cell_type": "code",
   "source": "min(df.date), max(df.date)",
   "id": "a7b3063ea700c6d9",
   "execution_count": 48,
   "outputs": []
  },
  {
   "metadata": {
    "ExecuteTime": {
     "end_time": "2024-04-26T16:08:18.036581Z",
     "start_time": "2024-04-26T16:08:18.028416Z"
    }
   },
   "cell_type": "code",
   "source": "df.head()",
   "id": "2d6a1a349c667d23",
   "execution_count": 51,
   "outputs": []
  },
  {
   "metadata": {
    "ExecuteTime": {
     "end_time": "2024-04-26T16:20:22.076073Z",
     "start_time": "2024-04-26T16:20:22.071562Z"
    }
   },
   "cell_type": "code",
   "source": "links = soup.body.find(attrs={'class': 'related-topics__list'}).find_all(attrs={'class': 'related-topics__link'})",
   "id": "82d523cb22a518e",
   "execution_count": 58,
   "outputs": []
  },
  {
   "metadata": {
    "ExecuteTime": {
     "end_time": "2024-04-26T16:23:13.930530Z",
     "start_time": "2024-04-26T16:23:13.926427Z"
    }
   },
   "cell_type": "code",
   "source": "['https://lenta.ru/' + link.get('href') for link in links]",
   "id": "bbbca142a4db48f",
   "execution_count": 67,
   "outputs": []
  },
  {
   "metadata": {
    "ExecuteTime": {
     "end_time": "2024-04-26T16:33:13.233734Z",
     "start_time": "2024-04-26T16:33:13.230261Z"
    }
   },
   "cell_type": "code",
   "source": "df.rename(columns={'text': 'news'}, inplace=True)",
   "id": "923dbff6bfcc2104",
   "execution_count": 68,
   "outputs": []
  },
  {
   "metadata": {
    "ExecuteTime": {
     "end_time": "2024-04-26T16:33:19.327210Z",
     "start_time": "2024-04-26T16:33:19.319962Z"
    }
   },
   "cell_type": "code",
   "source": "df.head()",
   "id": "2fc660ad08180ce2",
   "execution_count": 69,
   "outputs": []
  },
  {
   "metadata": {
    "ExecuteTime": {
     "end_time": "2024-04-26T16:42:47.525164Z",
     "start_time": "2024-04-26T16:42:47.157671Z"
    }
   },
   "cell_type": "code",
   "source": "from sqlalchemy.ext.asyncio import AsyncSession, create_async_engine",
   "id": "a7ac92bd7620cec5",
   "execution_count": 74,
   "outputs": []
  },
  {
   "metadata": {
    "ExecuteTime": {
     "end_time": "2024-04-26T17:10:16.209474Z",
     "start_time": "2024-04-26T17:10:16.205962Z"
    }
   },
   "cell_type": "code",
   "source": "engine_str = f\"postgresql+psycopg2://{DB_USER}:{DB_PASS}@{DB_HOST}:{DB_PORT}/{DB_NAME}\"",
   "id": "8b584ae65896a289",
   "execution_count": 83,
   "outputs": []
  },
  {
   "metadata": {},
   "cell_type": "code",
   "execution_count": null,
   "source": "",
   "id": "e628610cfed0a6a2",
   "outputs": []
  },
  {
   "metadata": {
    "ExecuteTime": {
     "end_time": "2024-04-26T16:42:50.482480Z",
     "start_time": "2024-04-26T16:42:50.442799Z"
    }
   },
   "cell_type": "code",
   "source": "engine = create_async_engine(engine_str)",
   "id": "3edcedf9dd8fa020",
   "execution_count": 75,
   "outputs": []
  },
  {
   "metadata": {
    "ExecuteTime": {
     "end_time": "2024-04-26T17:12:41.140567Z",
     "start_time": "2024-04-26T17:12:41.121680Z"
    }
   },
   "cell_type": "code",
   "source": [
    "from sqlalchemy import create_engine\n",
    "\n",
    "conn = create_engine(engine_str, pool_pre_ping=True)"
   ],
   "id": "48852e856f4e3f80",
   "execution_count": 85,
   "outputs": []
  },
  {
   "metadata": {
    "ExecuteTime": {
     "end_time": "2024-04-26T17:13:57.206681Z",
     "start_time": "2024-04-26T17:12:53.414704Z"
    }
   },
   "cell_type": "code",
   "source": "df.to_sql('news', conn, if_exists='replace', index=False)",
   "id": "588bd04825580270",
   "execution_count": 87,
   "outputs": []
  },
  {
   "metadata": {
    "ExecuteTime": {
     "end_time": "2024-04-26T17:15:13.519043Z",
     "start_time": "2024-04-26T17:15:13.515364Z"
    }
   },
   "cell_type": "code",
   "source": "df.shape",
   "id": "79ccf99ff466857f",
   "execution_count": 88,
   "outputs": []
  },
  {
   "metadata": {
    "ExecuteTime": {
     "end_time": "2024-04-26T18:47:52.824760Z",
     "start_time": "2024-04-26T18:47:52.815008Z"
    }
   },
   "cell_type": "code",
   "source": "links = df.url.tolist()",
   "id": "2549fc8e55fc597e",
   "execution_count": 97,
   "outputs": []
  },
  {
   "metadata": {
    "ExecuteTime": {
     "end_time": "2024-04-26T19:53:36.512707Z",
     "start_time": "2024-04-26T19:53:36.386190Z"
    }
   },
   "cell_type": "code",
   "source": [
    "import pickle\n",
    "\n",
    "with open('links.pkl', 'wb') as file:\n",
    "    pickle.dump(links, file)"
   ],
   "id": "9d0ecc38aecaeb9b",
   "execution_count": 103,
   "outputs": []
  },
  {
   "metadata": {
    "ExecuteTime": {
     "end_time": "2024-04-26T18:43:21.994190Z",
     "start_time": "2024-04-26T18:43:21.989026Z"
    }
   },
   "cell_type": "code",
   "source": "from loguru import logger",
   "id": "7595d89bae5c2a6a",
   "execution_count": 95,
   "outputs": []
  },
  {
   "metadata": {
    "ExecuteTime": {
     "end_time": "2024-04-26T19:04:51.055006Z",
     "start_time": "2024-04-26T19:04:51.050766Z"
    }
   },
   "cell_type": "code",
   "source": [
    "async def write_to_db(url, date, links):\n",
    "    \"\"\"Writes the news to the database\"\"\"\n",
    "    conn = await asyncpg.connect(con)\n",
    "    await conn.fetch('UPDATE news SET date = $1, links=$2 WHERE url = $3', date, links, url)\n",
    "    await conn.close()\n",
    "    await asyncio.sleep(0.2)"
   ],
   "id": "bc03618c77c846b7",
   "execution_count": 98,
   "outputs": []
  },
  {
   "metadata": {},
   "cell_type": "code",
   "execution_count": null,
   "source": [
    "async def fetch_content(url, session):\n",
    "    user_agents = open('proxy/user-agents.txt').read().splitlines()\n",
    "    random_user_agent = random.choice(user_agents)\n",
    "    headers = {'User-Agent': random_user_agent}\n",
    "\n",
    "    async with session.get(url=url, headers=headers) as response:\n",
    "        if response and response.status != 204:\n",
    "            answer = await response.text()\n",
    "            try:\n",
    "                soup = BeautifulSoup(answer, features=\"html.parser\")\n",
    "                raw_time = soup.body.find(attrs={'class': 'topic-header__item topic-header__time'}).text\n",
    "                raw_date = regex.findall(agency_url)[0]\n",
    "                news_date = dt.datetime.fromisoformat(raw_date.replace('/', '-') + ' ' + raw_time.split(',')[0])\n",
    "                try:\n",
    "                    links = soup.body.find(attrs={'class': 'related-topics__list'}).find_all(attrs={'class': 'related-topics__link'})\n",
    "                    links = ['https://lenta.ru/' + link.get('href') for link in links]\n",
    "                except Exception:\n",
    "                    links = []\n",
    "                await write_to_db(url=url, date=news_date, links=links)\n",
    "            except AttributeError:\n",
    "                logger.info(f'{url} не был записан')           "
   ],
   "id": "408ccacc7f5a0b8b",
   "outputs": []
  },
  {
   "metadata": {},
   "cell_type": "code",
   "execution_count": null,
   "source": [
    "async def main():\n",
    "    \"\"\"Collecting news for a given time period: get a list of links to news for a date and pass the pages to parser\"\"\"\n",
    "    async with aiohttp.ClientSession(trust_env=True) as session:\n",
    "        tasks = []\n",
    "        chunk = 50\n",
    "        times = len(links) // chunk\n",
    "        start = 0\n",
    "        for el in range(times + 1):\n",
    "            for url in links[start:start + chunk]:\n",
    "                task = asyncio.create_task(fetch_content(url, session))\n",
    "                tasks.append(task)\n",
    "            start += chunk\n",
    "            await asyncio.gather(*tasks)\n",
    "            await asyncio.sleep(0.7)    "
   ],
   "id": "8d61ea6a674f8c25",
   "outputs": []
  },
  {
   "metadata": {
    "ExecuteTime": {
     "end_time": "2024-04-26T19:44:15.880246Z",
     "start_time": "2024-04-26T19:44:15.874916Z"
    }
   },
   "cell_type": "code",
   "source": [
    "    async def main():\n",
    "        chunk = 100\n",
    "        tasks = []\n",
    "        start = 0\n",
    "        \n",
    "        times = len(links) // chunk + 1\n",
    "    \n",
    "        for el in range(times):\n",
    "            logger.info(f'Обработка {el}/{times}')\n",
    "            try:\n",
    "                async with aiohttp.ClientSession() as session:\n",
    "                    for url in links[start:start + chunk]:\n",
    "                        task = asyncio.create_task(fetch_content(url, session))\n",
    "                        tasks.append(task)\n",
    "        \n",
    "                    await asyncio.gather(*tasks)\n",
    "                start += chunk\n",
    "                tasks = []\n",
    "            except Exception:\n",
    "                logger.error(f'Ошибка обработки {el}/{times}')"
   ],
   "id": "c2cf3a0cafd8d2eb",
   "execution_count": 99,
   "outputs": []
  },
  {
   "metadata": {
    "ExecuteTime": {
     "end_time": "2024-04-29T10:14:11.157243Z",
     "start_time": "2024-04-29T10:14:11.151713Z"
    }
   },
   "cell_type": "code",
   "source": [
    "DB_NAME='postgres'\n",
    "DB_PASS=\"00Goelro00!\"\n",
    "DB_USER=\"postgres\"\n",
    "DB_HOST=\"localhost\"\n",
    "DB_PORT=5432"
   ],
   "id": "4c2fe6a9402869be",
   "execution_count": 1,
   "outputs": []
  },
  {
   "metadata": {
    "ExecuteTime": {
     "end_time": "2024-04-29T10:14:14.078616Z",
     "start_time": "2024-04-29T10:14:14.073343Z"
    }
   },
   "cell_type": "code",
   "source": [
    "con = f\"postgresql://{DB_USER}:{DB_PASS}@{DB_HOST}:{DB_PORT}/{DB_NAME}\"\n",
    "con"
   ],
   "id": "d36615b4856e334b",
   "execution_count": 2,
   "outputs": []
  },
  {
   "metadata": {
    "ExecuteTime": {
     "end_time": "2024-04-29T10:15:58.877653Z",
     "start_time": "2024-04-29T10:15:58.066590Z"
    }
   },
   "cell_type": "code",
   "source": "import pandas as pd",
   "id": "53ff490ae8e606f9",
   "execution_count": 4,
   "outputs": []
  },
  {
   "metadata": {
    "ExecuteTime": {
     "end_time": "2024-04-29T10:16:13.599465Z",
     "start_time": "2024-04-29T10:16:00.688692Z"
    }
   },
   "cell_type": "code",
   "source": "df = pd.read_sql(f\"select * from news where date > '2019-12-14'\", con)",
   "id": "2f76515c73d032ad",
   "execution_count": 5,
   "outputs": []
  },
  {
   "metadata": {
    "ExecuteTime": {
     "end_time": "2024-04-29T10:16:29.761410Z",
     "start_time": "2024-04-29T10:16:29.744014Z"
    }
   },
   "cell_type": "code",
   "source": "df.sample(5)",
   "id": "c6264114fcfa53c0",
   "execution_count": 7,
   "outputs": []
  },
  {
   "metadata": {
    "ExecuteTime": {
     "end_time": "2024-04-29T10:17:11.637499Z",
     "start_time": "2024-04-29T10:17:11.430911Z"
    }
   },
   "cell_type": "code",
   "source": "df.drop(columns=['agency'], inplace=True)",
   "id": "4e42ab2ec1ed60a",
   "execution_count": 8,
   "outputs": []
  },
  {
   "metadata": {
    "ExecuteTime": {
     "end_time": "2024-04-29T10:17:21.793375Z",
     "start_time": "2024-04-29T10:17:21.775872Z"
    }
   },
   "cell_type": "code",
   "source": "df.sample(5)",
   "id": "f756b33f32763537",
   "execution_count": 9,
   "outputs": []
  },
  {
   "metadata": {
    "ExecuteTime": {
     "end_time": "2024-04-29T10:18:26.782347Z",
     "start_time": "2024-04-29T10:18:26.778678Z"
    }
   },
   "cell_type": "code",
   "source": "df.shape",
   "id": "62f59633b64e0f3f",
   "execution_count": 10,
   "outputs": []
  },
  {
   "metadata": {
    "ExecuteTime": {
     "end_time": "2024-04-29T10:24:10.227716Z",
     "start_time": "2024-04-29T10:20:31.768988Z"
    }
   },
   "cell_type": "code",
   "source": "df.to_csv('lenta_2.csv.gzip', compression='', index=False)",
   "id": "f6e07fc8e85b148d",
   "execution_count": 11,
   "outputs": []
  }
 ],
 "metadata": {
  "kernelspec": {
   "display_name": "Python 3",
   "language": "python",
   "name": "python3"
  },
  "language_info": {
   "codemirror_mode": {
    "name": "ipython",
    "version": 2
   },
   "file_extension": ".py",
   "mimetype": "text/x-python",
   "name": "python",
   "nbconvert_exporter": "python",
   "pygments_lexer": "ipython2",
   "version": "2.7.6"
  }
 },
 "nbformat": 4,
 "nbformat_minor": 5
}
